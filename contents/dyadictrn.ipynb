{
 "cells": [
  {
   "cell_type": "markdown",
   "metadata": {},
   "source": [
    "# Dyadic transpose: `A⍉B`\n",
    "\n",
    "> The development of mathematics toward greater precision has led, as is well known, to the formalization of large tracts of it, so that one can prove any theorem using nothing but a few mechanical rules... One might therefore conjecture that these axioms and rules of inference are sufficient to decide any mathematical question that can at all be formally expressed in these systems. It will be shown below that this is not the case, that on the contrary there are in the two systems mentioned relatively simple problems in the theory of integers that cannot be decided on the basis of the axioms. --_Kurt Gödel_"
   ]
  },
  {
   "cell_type": "code",
   "execution_count": 13,
   "metadata": {
    "tags": [
     "hide-output"
    ]
   },
   "outputs": [
    {
     "data": {
      "text/html": [
       "<span style=\"white-space:pre; font-family: monospace\">┌→─────────────────────────────────────┐\n",
       "│Was ON -style=max -trains=tree -fns=on│\n",
       "└──────────────────────────────────────┘\n",
       "</span>"
      ]
     },
     "execution_count": 13,
     "metadata": {},
     "output_type": "execute_result"
    },
    {
     "data": {
      "text/html": [
       "<span style=\"white-space:pre; font-family: monospace\">┌→─────┐\n",
       "│Was ON│\n",
       "└──────┘\n",
       "</span>"
      ]
     },
     "execution_count": 13,
     "metadata": {},
     "output_type": "execute_result"
    }
   ],
   "source": [
    "⎕IO ← 0\n",
    "]box on -s=max -t=tree -f=on\n",
    "]rows on\n",
    "assert←{⍺←'assertion failure' ⋄ 0∊⍵:⍺ ⎕signal 8 ⋄ shy←0}"
   ]
  },
  {
   "cell_type": "markdown",
   "metadata": {},
   "source": [
    "Mastery of the dyadic form of _transpose_, `A⍉B` is -- together with _rank_, `⍤` -- is considered the mark of the accomplished array programmer. Let's see if it's as hard to grasp as its reputation suggests. \n",
    "\n",
    "Some other resources on dyadic transpose:\n",
    "* [APLWiki](https://aplwiki.com/wiki/Transpose#Dyadic_usage)\n",
    "* Dyalog [docs](https://help.dyalog.com/latest/#Language/Primitive%20Functions/Transpose%20Dyadic.htm)\n",
    "* Webinar: [The Rank Operator and Dyadic Transpose](https://dyalog.tv/Webinar/?v=zBqdeDJPPRc)"
   ]
  },
  {
   "cell_type": "markdown",
   "metadata": {},
   "source": [
    "Most programmers have probably had at least some exposure to linear algebra, and so have internalised the concept of the transpose of a matrix: the x-axis becomes the y-axis, and vice-versa. We've alreay met the monadic form:"
   ]
  },
  {
   "cell_type": "code",
   "execution_count": 14,
   "metadata": {},
   "outputs": [
    {
     "data": {
      "text/html": [
       "<span style=\"white-space:pre; font-family: monospace\">┌→──────┐\n",
       "↓9 4 2 7│\n",
       "│2 5 4 7│\n",
       "│8 6 1 2│\n",
       "└~──────┘\n",
       "</span>"
      ]
     },
     "execution_count": 14,
     "metadata": {},
     "output_type": "execute_result"
    },
    {
     "data": {
      "text/html": [
       "<span style=\"white-space:pre; font-family: monospace\">┌→────┐\n",
       "↓9 2 8│\n",
       "│4 5 6│\n",
       "│2 4 1│\n",
       "│7 7 2│\n",
       "└~────┘\n",
       "</span>"
      ]
     },
     "execution_count": 14,
     "metadata": {},
     "output_type": "execute_result"
    }
   ],
   "source": [
    "⊢B ← 3 4⍴9 4 2 7 2 5 4 7 8 6 1 2 6 8 2 9\n",
    "⍉B"
   ]
  },
  {
   "cell_type": "markdown",
   "metadata": {},
   "source": [
    "We can see what was the x-axis is now the y-axis as we said. If we generalise this a bit, transpose is an operation that _reorders_ axes. It just happens to be the case that in the rank-2 case, there is only one other possible ordering.\n",
    "\n",
    "In the dyadic form of transpose, we are explicit about the new axis order:"
   ]
  },
  {
   "cell_type": "code",
   "execution_count": 15,
   "metadata": {},
   "outputs": [
    {
     "data": {
      "text/html": [
       "<span style=\"white-space:pre; font-family: monospace\">┌→────┐\n",
       "↓9 2 8│\n",
       "│4 5 6│\n",
       "│2 4 1│\n",
       "│7 7 2│\n",
       "└~────┘\n",
       "</span>"
      ]
     },
     "execution_count": 15,
     "metadata": {},
     "output_type": "execute_result"
    }
   ],
   "source": [
    "1 0⍉B ⍝ Same result as the monadic form: x-is-y"
   ]
  },
  {
   "cell_type": "markdown",
   "metadata": {},
   "source": [
    "So far, so obvious. However... once the rank increases, it becomes harder to visualise perhaps what's going on. One tip is to not think of the array itself having its axes pulled and moved, but to instead think of the _observer_ (you, or \"the camera\") moving around the array. \n",
    "\n",
    "Consider rank-3:"
   ]
  },
  {
   "cell_type": "code",
   "execution_count": 16,
   "metadata": {},
   "outputs": [],
   "source": [
    "m ← 3 3 3⍴1 1 1 1 1 1 1 1 1 2 2 2 2 2 2 2 2 2 3 3 3 3 3 3 3 3 3"
   ]
  },
  {
   "cell_type": "markdown",
   "metadata": {},
   "source": [
    "![dtr](dyadic.png)"
   ]
  },
  {
   "cell_type": "markdown",
   "metadata": {},
   "source": [
    "Imagine if we want to rearrange this array such that the new view is that indicated by the camera symbol, to see the array as three slices each of:"
   ]
  },
  {
   "cell_type": "code",
   "execution_count": 17,
   "metadata": {},
   "outputs": [
    {
     "data": {
      "text/html": [
       "<span style=\"white-space:pre; font-family: monospace\">┌→────┐\n",
       "↓1 2 3│\n",
       "│1 2 3│\n",
       "│1 2 3│\n",
       "└~────┘\n",
       "</span>"
      ]
     },
     "execution_count": 17,
     "metadata": {},
     "output_type": "execute_result"
    }
   ],
   "source": [
    "3 3⍴1 2 3"
   ]
  },
  {
   "cell_type": "markdown",
   "metadata": {},
   "source": [
    "We'd need to rotate the scene 90 degrees clockwise around the current axis 1. So axis 1 stays the same, but axes 0 and 2 changes position:"
   ]
  },
  {
   "cell_type": "code",
   "execution_count": 18,
   "metadata": {},
   "outputs": [
    {
     "data": {
      "text/html": [
       "<span style=\"white-space:pre; font-family: monospace\">┌┌→────┐\n",
       "↓↓1 2 3│\n",
       "││1 2 3│\n",
       "││1 2 3│\n",
       "││     │\n",
       "││1 2 3│\n",
       "││1 2 3│\n",
       "││1 2 3│\n",
       "││     │\n",
       "││1 2 3│\n",
       "││1 2 3│\n",
       "││1 2 3│\n",
       "└└~────┘\n",
       "</span>"
      ]
     },
     "execution_count": 18,
     "metadata": {},
     "output_type": "execute_result"
    }
   ],
   "source": [
    "2 1 0⍉m"
   ]
  },
  {
   "cell_type": "markdown",
   "metadata": {},
   "source": [
    "When rank goes above 3, it becomes tricker to visualise this way, but instead, think about what each resulting major cell should look like -- typically, when you need dyadic transpose, you have an idea what shape each cell should take, and you can usually work backwards from there to deduce the correct axis ordering.\n",
    "\n",
    "But perhaps the main question remains -- what is this all useful for? A lot, as it turns out. One helpful clue is that transpose, including its dyadic form, is one of the functions allowing for modified assignment. We talked about that in the section on indexing earlier. By assigning to the dyadic transpose of an array we can \"fill\" it from a data source that has the elements laid out in a different arrangement.\n",
    "\n",
    "We can use the same example data as above to illustrate this. Let's say that our data is a ravel of recurring 1, 2, 3 to give 27 elements, but we want it organised as our original matrix we used above, with the major cells being `3 3⍴9/1`, `3 3⍴9/2` and `3 3⍴9/3` respectively"
   ]
  },
  {
   "cell_type": "code",
   "execution_count": 19,
   "metadata": {},
   "outputs": [
    {
     "data": {
      "text/html": [
       "<span style=\"white-space:pre; font-family: monospace\">┌→────────────────────────────────────────────────────┐\n",
       "│1 2 3 1 2 3 1 2 3 1 2 3 1 2 3 1 2 3 1 2 3 1 2 3 1 2 3│\n",
       "└~────────────────────────────────────────────────────┘\n",
       "</span>"
      ]
     },
     "execution_count": 19,
     "metadata": {},
     "output_type": "execute_result"
    }
   ],
   "source": [
    "⊢data ← ∊9/⊂1 2 3\n",
    "mat ← 3 3 3⍴0             ⍝ Empty matrix"
   ]
  },
  {
   "cell_type": "markdown",
   "metadata": {},
   "source": [
    "We can now assign through the dyadic transpose to fill our empty matrix in a different axis order:"
   ]
  },
  {
   "cell_type": "code",
   "execution_count": 20,
   "metadata": {},
   "outputs": [
    {
     "data": {
      "text/html": [
       "<span style=\"white-space:pre; font-family: monospace\">┌┌→────┐\n",
       "↓↓1 1 1│\n",
       "││1 1 1│\n",
       "││1 1 1│\n",
       "││     │\n",
       "││2 2 2│\n",
       "││2 2 2│\n",
       "││2 2 2│\n",
       "││     │\n",
       "││3 3 3│\n",
       "││3 3 3│\n",
       "││3 3 3│\n",
       "└└~────┘\n",
       "</span>"
      ]
     },
     "execution_count": 20,
     "metadata": {},
     "output_type": "execute_result"
    }
   ],
   "source": [
    "(2 1 0⍉mat) ← 3 3 3⍴data  \n",
    "mat"
   ]
  },
  {
   "cell_type": "markdown",
   "metadata": {},
   "source": [
    "Let's look at a higher-rank example. Given a 6×6 matrix, partition it into four non-overlapping partitions of size 3×3. Can we achieve this using dyadic transpose? Here's our matrix:"
   ]
  },
  {
   "cell_type": "code",
   "execution_count": 21,
   "metadata": {},
   "outputs": [
    {
     "data": {
      "text/html": [
       "<span style=\"white-space:pre; font-family: monospace\">┌→────────────────┐\n",
       "↓ 0  1  2  3  4  5│\n",
       "│ 6  7  8  9 10 11│\n",
       "│12 13 14 15 16 17│\n",
       "│18 19 20 21 22 23│\n",
       "│24 25 26 27 28 29│\n",
       "│30 31 32 33 34 35│\n",
       "└~────────────────┘\n",
       "</span>"
      ]
     },
     "execution_count": 21,
     "metadata": {},
     "output_type": "execute_result"
    }
   ],
   "source": [
    "⊢mat ← 6 6⍴⍳36"
   ]
  },
  {
   "cell_type": "markdown",
   "metadata": {},
   "source": [
    "Let's reshape this into an array of shape 2 3 2 3 (rank 4), like so:"
   ]
  },
  {
   "cell_type": "code",
   "execution_count": 22,
   "metadata": {},
   "outputs": [
    {
     "data": {
      "text/html": [
       "<span style=\"white-space:pre; font-family: monospace\">┌┌┌→───────┐\n",
       "↓↓↓ 0  1  2│\n",
       "│││ 3  4  5│\n",
       "│││        │\n",
       "│││ 6  7  8│\n",
       "│││ 9 10 11│\n",
       "│││        │\n",
       "│││12 13 14│\n",
       "│││15 16 17│\n",
       "│││        │\n",
       "│││        │\n",
       "│││18 19 20│\n",
       "│││21 22 23│\n",
       "│││        │\n",
       "│││24 25 26│\n",
       "│││27 28 29│\n",
       "│││        │\n",
       "│││30 31 32│\n",
       "│││33 34 35│\n",
       "└└└~───────┘\n",
       "</span>"
      ]
     },
     "execution_count": 22,
     "metadata": {},
     "output_type": "execute_result"
    }
   ],
   "source": [
    "⊢r4 ← 2 3 2 3⍴mat"
   ]
  },
  {
   "cell_type": "markdown",
   "metadata": {},
   "source": [
    "The first cell has turned the first three rows of our original matrix into a rank-3 array where the cells are shape 2 3, essentially \"folding\" each row in half:"
   ]
  },
  {
   "cell_type": "code",
   "execution_count": 23,
   "metadata": {},
   "outputs": [
    {
     "data": {
      "text/html": [
       "<span style=\"white-space:pre; font-family: monospace\">┌┌→───────┐\n",
       "↓↓ 0  1  2│\n",
       "││ 3  4  5│\n",
       "││        │\n",
       "││ 6  7  8│\n",
       "││ 9 10 11│\n",
       "││        │\n",
       "││12 13 14│\n",
       "││15 16 17│\n",
       "└└~───────┘\n",
       "</span>"
      ]
     },
     "execution_count": 23,
     "metadata": {},
     "output_type": "execute_result"
    }
   ],
   "source": [
    "0⌷r4"
   ]
  },
  {
   "cell_type": "markdown",
   "metadata": {},
   "source": [
    "We can now look to reorder the axes. After a bit of thought we can say that we need the shape to be 2 2 3 3 before we have a go at partitioning. If we think of the 3×3 at the end as given by the task at hand (our partition sizes), we know that we'll ultimately need two \"rows\" and two \"cols\" of those. So we currently have a shape of 2 3 2 3, so we flip the middle two axes:"
   ]
  },
  {
   "cell_type": "code",
   "execution_count": 24,
   "metadata": {},
   "outputs": [
    {
     "data": {
      "text/html": [
       "<span style=\"white-space:pre; font-family: monospace\">┌┌┌→───────┐\n",
       "↓↓↓ 0  1  2│\n",
       "│││ 6  7  8│\n",
       "│││12 13 14│\n",
       "│││        │\n",
       "│││ 3  4  5│\n",
       "│││ 9 10 11│\n",
       "│││15 16 17│\n",
       "│││        │\n",
       "│││        │\n",
       "│││18 19 20│\n",
       "│││24 25 26│\n",
       "│││30 31 32│\n",
       "│││        │\n",
       "│││21 22 23│\n",
       "│││27 28 29│\n",
       "│││33 34 35│\n",
       "└└└~───────┘\n",
       "</span>"
      ]
     },
     "execution_count": 24,
     "metadata": {},
     "output_type": "execute_result"
    }
   ],
   "source": [
    "⊢reorder ← 0 2 1 3⍉r4"
   ]
  },
  {
   "cell_type": "markdown",
   "metadata": {},
   "source": [
    "That looks right: each 3×3 cell is correct. We just need to enclose each rank-2 cell:"
   ]
  },
  {
   "cell_type": "code",
   "execution_count": 25,
   "metadata": {},
   "outputs": [
    {
     "data": {
      "text/html": [
       "<span style=\"white-space:pre; font-family: monospace\">┌→──────────────────────┐\n",
       "↓ ┌→───────┐ ┌→───────┐ │\n",
       "│ ↓ 0  1  2│ ↓ 3  4  5│ │\n",
       "│ │ 6  7  8│ │ 9 10 11│ │\n",
       "│ │12 13 14│ │15 16 17│ │\n",
       "│ └~───────┘ └~───────┘ │\n",
       "│ ┌→───────┐ ┌→───────┐ │\n",
       "│ ↓18 19 20│ ↓21 22 23│ │\n",
       "│ │24 25 26│ │27 28 29│ │\n",
       "│ │30 31 32│ │33 34 35│ │\n",
       "│ └~───────┘ └~───────┘ │\n",
       "└∊──────────────────────┘\n",
       "</span>"
      ]
     },
     "execution_count": 25,
     "metadata": {},
     "output_type": "execute_result"
    }
   ],
   "source": [
    "⊂⍤2⊢reorder"
   ]
  },
  {
   "cell_type": "markdown",
   "metadata": {},
   "source": [
    "## Translating RNA into Protein\n",
    "\n",
    "Here's an example from [Project Rosalind](http://rosalind.info/problems/list-view/) -- a great problem collection in the field of bioinformatics: http://rosalind.info/problems/prot/\n",
    "\n",
    "The ask is to take an mRNA sequence and encode specific \"codons\" into the amino acid alphabet. No, I don't know what that means either, but it doesn't matter: we have a sequence of letters, which when grouped into triplets define a point in a 4×4×4 matrix.\n",
    "\n",
    "The \"codon table\" is given as:\n",
    "\n",
    "```\n",
    "UUU F      CUU L      AUU I      GUU V\n",
    "UUC F      CUC L      AUC I      GUC V\n",
    "UUA L      CUA L      AUA I      GUA V\n",
    "UUG L      CUG L      AUG M      GUG V\n",
    "UCU S      CCU P      ACU T      GCU A\n",
    "UCC S      CCC P      ACC T      GCC A\n",
    "UCA S      CCA P      ACA T      GCA A\n",
    "UCG S      CCG P      ACG T      GCG A\n",
    "UAU Y      CAU H      AAU N      GAU D\n",
    "UAC Y      CAC H      AAC N      GAC D\n",
    "UAA Stop   CAA Q      AAA K      GAA E\n",
    "UAG Stop   CAG Q      AAG K      GAG E\n",
    "UGU C      CGU R      AGU S      GGU G\n",
    "UGC C      CGC R      AGC S      GGC G\n",
    "UGA Stop   CGA R      AGA R      GGA G\n",
    "UGG W      CGG R      AGG R      GGG G\n",
    "```\n",
    "and you'd be excused for not seeing the 4×4×4 matrix immediately popping out at you. However, the question links to a Wikipedia page which has the following helpful illustration:\n",
    "\n",
    "![codons](./IMG/3D_Genetic_Code.jpg)"
   ]
  },
  {
   "cell_type": "markdown",
   "metadata": {},
   "source": [
    "So let's take the values from the table given and make the above 3D representation from it, and then solve this Rosalind problem. The \"Stop\" codons is basically just the \"EOL\" -- we can call that '.' for simplicity. Picking the values and reshaping those to 4×4×4:"
   ]
  },
  {
   "cell_type": "code",
   "execution_count": 9,
   "metadata": {},
   "outputs": [
    {
     "data": {
      "text/html": [
       "<span style=\"white-space:pre; font-family: monospace\">┌┌→───┐\n",
       "↓↓FLIV│\n",
       "││FLIV│\n",
       "││LLIV│\n",
       "││LLMV│\n",
       "││    │\n",
       "││SPTA│\n",
       "││SPTA│\n",
       "││SPTA│\n",
       "││SPTA│\n",
       "││    │\n",
       "││YHND│\n",
       "││YHND│\n",
       "││.QKE│\n",
       "││.QKE│\n",
       "││    │\n",
       "││CRSG│\n",
       "││CRSG│\n",
       "││.RRG│\n",
       "││WRRG│\n",
       "└└────┘\n",
       "</span>"
      ]
     },
     "execution_count": 9,
     "metadata": {},
     "output_type": "execute_result"
    }
   ],
   "source": [
    "4 4 4⍴'FLIVFLIVLLIVLLMVSPTASPTASPTASPTAYHNDYHND.QKE.QKECRSGCRSG.RRGWRRG'"
   ]
  },
  {
   "cell_type": "markdown",
   "metadata": {},
   "source": [
    "Now let's figure out the axis order. Looking at the table (and graph), the coordinate order is U, C, A, G. Let's look at the first few entries in the table again:\n",
    "\n",
    "```\n",
    "UUU F      CUU L      AUU I      GUU V\n",
    "UUC F      CUC L      AUC I      GUC V\n",
    "UUA L      CUA L      AUA I      GUA V\n",
    "UUG L      CUG L      AUG M      GUG V\n",
    "```\n",
    "We can see that when the leading coordinate changes we get `FFLL`, `LLLL`, `IIIM`, `VVVV`, so our current axis ordering isn't correct. Looking at the graph, we can see that this corresponds to placing the \"camera\" to the left, looking right -- our first axis is probably where it should be. Let's try to flip the other two:"
   ]
  },
  {
   "cell_type": "code",
   "execution_count": 10,
   "metadata": {},
   "outputs": [
    {
     "data": {
      "text/html": [
       "<span style=\"white-space:pre; font-family: monospace\">┌┌→───┐\n",
       "↓↓FFLL│\n",
       "││LLLL│\n",
       "││IIIM│\n",
       "││VVVV│\n",
       "││    │\n",
       "││SSSS│\n",
       "││PPPP│\n",
       "││TTTT│\n",
       "││AAAA│\n",
       "││    │\n",
       "││YY..│\n",
       "││HHQQ│\n",
       "││NNKK│\n",
       "││DDEE│\n",
       "││    │\n",
       "││CC.W│\n",
       "││RRRR│\n",
       "││SSRR│\n",
       "││GGGG│\n",
       "└└────┘\n",
       "</span>"
      ]
     },
     "execution_count": 10,
     "metadata": {},
     "output_type": "execute_result"
    }
   ],
   "source": [
    "0 2 1⍉4 4 4⍴'FLIVFLIVLLIVLLMVSPTASPTASPTASPTAYHNDYHND.QKE.QKECRSGCRSG.RRGWRRG'"
   ]
  },
  {
   "cell_type": "markdown",
   "metadata": {},
   "source": [
    "Hmm, the first row of the first cell _is_ correct, but not the rest, but if the first axis is correct we have no options left, right? Let's try a monadic transpose, too:"
   ]
  },
  {
   "cell_type": "code",
   "execution_count": 8,
   "metadata": {},
   "outputs": [
    {
     "data": {
      "text/html": [
       "<span style=\"white-space:pre; font-family: monospace\">┌┌→───┐\n",
       "↓↓FFLL│\n",
       "││SSSS│\n",
       "││YY..│\n",
       "││CC.W│\n",
       "││    │\n",
       "││LLLL│\n",
       "││PPPP│\n",
       "││HHQQ│\n",
       "││RRRR│\n",
       "││    │\n",
       "││IIIM│\n",
       "││TTTT│\n",
       "││NNKK│\n",
       "││SSRR│\n",
       "││    │\n",
       "││VVVV│\n",
       "││AAAA│\n",
       "││DDEE│\n",
       "││GGGG│\n",
       "└└────┘\n",
       "</span>"
      ]
     },
     "execution_count": 8,
     "metadata": {},
     "output_type": "execute_result"
    }
   ],
   "source": [
    "0 2 1⍉⍉4 4 4⍴'FLIVFLIVLLIVLLMVSPTASPTASPTASPTAYHNDYHND.QKE.QKECRSGCRSG.RRGWRRG'"
   ]
  },
  {
   "cell_type": "markdown",
   "metadata": {},
   "source": [
    "That looks correct. Now we can solve this problem:"
   ]
  },
  {
   "cell_type": "code",
   "execution_count": 11,
   "metadata": {},
   "outputs": [],
   "source": [
    "codon←0 2 1⍉⍉4 4 4⍴'FLIVFLIVLLIVLLMVSPTASPTASPTASPTAYHNDYHND.QKE.QKECRSGCRSG.RRGWRRG'"
   ]
  },
  {
   "cell_type": "code",
   "execution_count": 12,
   "metadata": {},
   "outputs": [],
   "source": [
    "]dinput\n",
    "prot ← {\n",
    "    enc ← 0 1 2 3['UCAG'⍳⍵]        ⍝ Convert RNA string from UCAG to 0123\n",
    "    ¯1↓codon[⊂⍤1⊢(3÷⍨≢enc) 3⍴enc]  ⍝ Group into triplets and index into codon table, and drop Stop.\n",
    "}"
   ]
  },
  {
   "cell_type": "markdown",
   "metadata": {},
   "source": [
    "We can try this on the example given in the question:"
   ]
  },
  {
   "cell_type": "code",
   "execution_count": 14,
   "metadata": {},
   "outputs": [
    {
     "data": {
      "text/html": [
       "<span style=\"white-space:pre; font-family: monospace\">┌→───────────────┐\n",
       "│MAMAPRTEINSTRING│\n",
       "└────────────────┘\n",
       "</span>"
      ]
     },
     "execution_count": 14,
     "metadata": {},
     "output_type": "execute_result"
    }
   ],
   "source": [
    "test ← 'AUGGCCAUGGCGCCCAGAACUGAGAUCAAUAGUACCCGUAUUAACGGGUGA'\n",
    "⊢r ← prot test\n",
    "assert 'MAMAPRTEINSTRING'≡r"
   ]
  },
  {
   "cell_type": "code",
   "execution_count": null,
   "metadata": {},
   "outputs": [],
   "source": []
  }
 ],
 "metadata": {
  "kernelspec": {
   "display_name": "Dyalog APL",
   "language": "apl",
   "name": "dyalog-kernel"
  },
  "language_info": {
   "file_extension": ".apl",
   "mimetype": "text/apl",
   "name": "APL"
  }
 },
 "nbformat": 4,
 "nbformat_minor": 4
}
