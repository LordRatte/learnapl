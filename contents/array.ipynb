{
 "cells": [
  {
   "cell_type": "markdown",
   "metadata": {},
   "source": [
    "# It's arrays all the way down\n",
    "\n",
    "> There are two ways of constructing a software design: One way is to make it so simple that there are obviously no deficiencies, and the other way is to make it so complicated that there are no obvious deficiencies. The first method is far more difficult. --_Tony Hoare_"
   ]
  },
  {
   "cell_type": "markdown",
   "metadata": {},
   "source": [
    "Dyalog APL is an _array language_. Chances are that you have not come across this programming language paradigm before. In APL, the array is the only data structure that's available to us. In terms of terminology, this can get a bit confusing. Both in mathematics and other programming languages there are many different words used to refer to what might ultimately end up implemented as an array in APL -- vector, matrix, list, string etc. We'll use some of these interchangeably where the problem domain makes this convenient: the APL character array 'hello world' is most likely intended to be a string."
   ]
  },
  {
   "cell_type": "markdown",
   "metadata": {},
   "source": [
    "## Let's get in shape"
   ]
  },
  {
   "cell_type": "markdown",
   "metadata": {},
   "source": [
    "The first concept we need to understand is that data is defined in terms of its _shape_. The shape defines the dimensionality of our data, and we can investigate that using the APL function `⍴` -- the Greek letter \"rho\":"
   ]
  },
  {
   "cell_type": "code",
   "execution_count": 1,
   "metadata": {},
   "outputs": [
    {
     "data": {
      "text/html": [
       "<span style=\"white-space:pre; font-family: monospace\">done\n",
       "\n",
       "Rebuilding user command cache... done\n",
       "</span>"
      ]
     },
     "execution_count": 1,
     "metadata": {},
     "output_type": "execute_result"
    },
    {
     "data": {
      "text/html": [
       "<span style=\"white-space:pre; font-family: monospace\">\n",
       "</span>"
      ]
     },
     "execution_count": 1,
     "metadata": {},
     "output_type": "execute_result"
    }
   ],
   "source": [
    "⍴5"
   ]
  },
  {
   "cell_type": "markdown",
   "metadata": {},
   "source": [
    "Oh, ok -- nothing? That was rather uninteresting, right? Let's ask Dyalog to give us a more verbose visualisation help first, and try that again:"
   ]
  },
  {
   "cell_type": "code",
   "execution_count": 2,
   "metadata": {},
   "outputs": [
    {
     "data": {
      "text/html": [
       "<span style=\"white-space:pre; font-family: monospace\">┌→─────────────────────────────────────┐\n",
       "│Was ON -style=min -trains=tree -fns=on│\n",
       "└──────────────────────────────────────┘\n",
       "</span>"
      ]
     },
     "execution_count": 2,
     "metadata": {},
     "output_type": "execute_result"
    },
    {
     "data": {
      "text/html": [
       "<span style=\"white-space:pre; font-family: monospace\">┌→──────┐\n",
       "│Was OFF│\n",
       "└───────┘\n",
       "</span>"
      ]
     },
     "execution_count": 2,
     "metadata": {},
     "output_type": "execute_result"
    }
   ],
   "source": [
    "⍝ Some visualisation help, please. We'll use these settings from now on in.\n",
    "⎕IO ← 0\n",
    "]box on -s=max -t=tree -f=on\n",
    "]rows on\n",
    "assert←{⍺←'assertion failure' ⋄ 0∊⍵:⍺ ⎕signal 8 ⋄ shy←0}"
   ]
  },
  {
   "cell_type": "code",
   "execution_count": 3,
   "metadata": {},
   "outputs": [
    {
     "data": {
      "text/html": [
       "<span style=\"white-space:pre; font-family: monospace\">┌⊖┐\n",
       "│0│\n",
       "└~┘\n",
       "</span>"
      ]
     },
     "execution_count": 3,
     "metadata": {},
     "output_type": "execute_result"
    }
   ],
   "source": [
    "⍴5"
   ]
  },
  {
   "cell_type": "markdown",
   "metadata": {},
   "source": [
    "Well, at least that's something to go on. That particular output is worth committing to memory. It's the empty vector, which actually has its own symbol called \"zilde\", from zero-tilde, a `0` overstruck by `~` -- `⍬`. "
   ]
  },
  {
   "cell_type": "markdown",
   "metadata": {},
   "source": [
    "Running with `-s=max` gets very noisy after a while, so let's dial that back a bit:"
   ]
  },
  {
   "cell_type": "code",
   "execution_count": 4,
   "metadata": {},
   "outputs": [
    {
     "data": {
      "text/html": [
       "<span style=\"white-space:pre; font-family: monospace\">Was ON -style=max -trains=tree -fns=on\n",
       "</span>"
      ]
     },
     "execution_count": 4,
     "metadata": {},
     "output_type": "execute_result"
    }
   ],
   "source": [
    "]box on -s=min -t=tree -f=on"
   ]
  },
  {
   "cell_type": "markdown",
   "metadata": {},
   "source": [
    "We can always get verbose boxing by using the command `]DISPLAY` before any expression.\n",
    "\n",
    "We can check that the shape of 5 is indeed zilde by saying:"
   ]
  },
  {
   "cell_type": "code",
   "execution_count": 5,
   "metadata": {},
   "outputs": [
    {
     "data": {
      "text/html": [
       "<span style=\"white-space:pre; font-family: monospace\">1\n",
       "</span>"
      ]
     },
     "execution_count": 5,
     "metadata": {},
     "output_type": "execute_result"
    }
   ],
   "source": [
    "⍬≡⍴5 ⍝ Does zilde match shape of 5?"
   ]
  },
  {
   "cell_type": "markdown",
   "metadata": {},
   "source": [
    "So it would seem. So what does _that_ mean, then? It means that the scalar 5 has \"no shape\" -- it has no dimensional extent. It is a point, which makes a degree of sense. \n",
    "\n",
    "Let's instead consider a vector -- in other words something that _has_ dimensional extent. Here's a vector:"
   ]
  },
  {
   "cell_type": "code",
   "execution_count": 6,
   "metadata": {},
   "outputs": [
    {
     "data": {
      "text/html": [
       "<span style=\"white-space:pre; font-family: monospace\">┌→──────┐\n",
       "│8 5 2 3│\n",
       "└~──────┘\n",
       "</span>"
      ]
     },
     "execution_count": 6,
     "metadata": {},
     "output_type": "execute_result"
    }
   ],
   "source": [
    "]DISPLAY 8 5 2 3 ⍝ A vector, yay"
   ]
  },
  {
   "cell_type": "markdown",
   "metadata": {},
   "source": [
    "A vector is simply a bunch of scalars with spaces between them. Our verbose visualisation shows the vector as a box with an arrow on top. Arrow on top is a notation borrowed from mathematics to denote vectors. So what shape does a vector have?"
   ]
  },
  {
   "cell_type": "code",
   "execution_count": 7,
   "metadata": {},
   "outputs": [
    {
     "data": {
      "text/html": [
       "<span style=\"white-space:pre; font-family: monospace\">┌→┐\n",
       "│4│\n",
       "└~┘\n",
       "</span>"
      ]
     },
     "execution_count": 7,
     "metadata": {},
     "output_type": "execute_result"
    }
   ],
   "source": [
    "]DISPLAY ⍴ 8 5 2 3 ⍝ What's the shape of my vector?"
   ]
  },
  {
   "cell_type": "markdown",
   "metadata": {},
   "source": [
    "The shape is a _vector_ with a single element, the integer 4. We suspected already that shape is a vector. A scalar's shape is an empty vector, and a vector's shape is a vector of 1 element which represents the number of elements.\n",
    "\n",
    "Ok, let's try a matrix -- or a 2-D array, disregarding for the moment the APL mechanics of its creation:"
   ]
  },
  {
   "cell_type": "code",
   "execution_count": 8,
   "metadata": {},
   "outputs": [
    {
     "data": {
      "text/html": [
       "<span style=\"white-space:pre; font-family: monospace\">1  2  3  4\n",
       "5  6  7  8\n",
       "9 10 11 12\n",
       "</span>"
      ]
     },
     "execution_count": 8,
     "metadata": {},
     "output_type": "execute_result"
    }
   ],
   "source": [
    "⊢m ← ↑(1 2 3 4)(5 6 7 8)(9 10 11 12)"
   ]
  },
  {
   "cell_type": "markdown",
   "metadata": {},
   "source": [
    "That gives us a 3×4 matrix called m, holding the integers 1-12. APL helps us by now showing two arrows on the surrounding box. What is its shape?"
   ]
  },
  {
   "cell_type": "code",
   "execution_count": 9,
   "metadata": {},
   "outputs": [
    {
     "data": {
      "text/html": [
       "<span style=\"white-space:pre; font-family: monospace\">3 4\n",
       "</span>"
      ]
     },
     "execution_count": 9,
     "metadata": {},
     "output_type": "execute_result"
    }
   ],
   "source": [
    "⍴m"
   ]
  },
  {
   "cell_type": "markdown",
   "metadata": {},
   "source": [
    "The shape vector now has two componens -- as our matrix has two axes -- the first axis, y, of length 3, and the second, x, of length 4. In other words, the _shape of the shape_ tells us something about our array: its dimensionality, or its number of axes. If we instead take the length of the shape vector, we have its _rank_:"
   ]
  },
  {
   "cell_type": "code",
   "execution_count": 10,
   "metadata": {},
   "outputs": [
    {
     "data": {
      "text/html": [
       "<span style=\"white-space:pre; font-family: monospace\">┌→┐\n",
       "│2│\n",
       "└~┘\n",
       "</span>"
      ]
     },
     "execution_count": 10,
     "metadata": {},
     "output_type": "execute_result"
    },
    {
     "data": {
      "text/html": [
       "<span style=\"white-space:pre; font-family: monospace\">2\n",
       "</span>"
      ]
     },
     "execution_count": 10,
     "metadata": {},
     "output_type": "execute_result"
    }
   ],
   "source": [
    "]DISPLAY ⍴⍴m\n",
    "≢⍴m ⍝ rank"
   ]
  },
  {
   "cell_type": "markdown",
   "metadata": {},
   "source": [
    "## Rank and reshape"
   ]
  },
  {
   "cell_type": "markdown",
   "metadata": {},
   "source": [
    "Rank is a central concept in APL. APL's functions are said to be rank-polymorphic, meaning that operations extend seamlessly to any-rank arguments where this is possible. \n",
    "\n",
    "For example:"
   ]
  },
  {
   "cell_type": "code",
   "execution_count": 11,
   "metadata": {},
   "outputs": [
    {
     "data": {
      "text/html": [
       "<span style=\"white-space:pre; font-family: monospace\">2\n",
       "</span>"
      ]
     },
     "execution_count": 11,
     "metadata": {},
     "output_type": "execute_result"
    },
    {
     "data": {
      "text/html": [
       "<span style=\"white-space:pre; font-family: monospace\">2 3 4\n",
       "</span>"
      ]
     },
     "execution_count": 11,
     "metadata": {},
     "output_type": "execute_result"
    },
    {
     "data": {
      "text/html": [
       "<span style=\"white-space:pre; font-family: monospace\">10 5 5\n",
       "</span>"
      ]
     },
     "execution_count": 11,
     "metadata": {},
     "output_type": "execute_result"
    }
   ],
   "source": [
    "1 + 1          ⍝ Scalar + scalar\n",
    "1 + 1 2 3      ⍝ Scalar + vector\n",
    "1 2 3 + 9 3 2  ⍝ Vector + vector"
   ]
  },
  {
   "cell_type": "markdown",
   "metadata": {},
   "source": [
    "This is an extraordinarily powerful concept, and one of the reasons why APL leads to such compact code. We'll return to this time and again."
   ]
  },
  {
   "cell_type": "markdown",
   "metadata": {},
   "source": [
    "The rho function can also be used to re-shape data. A typical use for this is to take data from some raw format and use rho to massage it into the shape we want. Here's an example:"
   ]
  },
  {
   "cell_type": "code",
   "execution_count": 12,
   "metadata": {},
   "outputs": [
    {
     "data": {
      "text/html": [
       "<span style=\"white-space:pre; font-family: monospace\">┌→──────┐\n",
       "↓0 1 2 3│\n",
       "│4 5 6 7│\n",
       "└~──────┘\n",
       "</span>"
      ]
     },
     "execution_count": 12,
     "metadata": {},
     "output_type": "execute_result"
    }
   ],
   "source": [
    "]DISPLAY 2 4⍴⍳8 ⍝ Reshape vector to 2×4 matrix"
   ]
  },
  {
   "cell_type": "markdown",
   "metadata": {},
   "source": [
    "A couple of things to note here. First, the \"iota\" function `⍳`. It's what might be called [range](https://docs.python.org/3/library/stdtypes.html?highlight=range#range) in other languages. It makes a sequence of consecutive integers. In the example above, it creates a vector 1 2 3 4 5 6 7 8. We then _reshape_ this into a 2×4 array. \n",
    "\n",
    "Here's another example:"
   ]
  },
  {
   "cell_type": "code",
   "execution_count": 13,
   "metadata": {},
   "outputs": [
    {
     "data": {
      "text/html": [
       "<span style=\"white-space:pre; font-family: monospace\">┌→──────┐\n",
       "│0 1 2 3│\n",
       "└~──────┘\n",
       "</span>"
      ]
     },
     "execution_count": 13,
     "metadata": {},
     "output_type": "execute_result"
    },
    {
     "data": {
      "text/html": [
       "<span style=\"white-space:pre; font-family: monospace\">┌→──────┐\n",
       "↓0 1 2 3│\n",
       "└~──────┘\n",
       "</span>"
      ]
     },
     "execution_count": 13,
     "metadata": {},
     "output_type": "execute_result"
    }
   ],
   "source": [
    "]DISPLAY ⊢v ← ⍳4     ⍝ Vector of length 4\n",
    "]DISPLAY ⊢m ← 1 4⍴⍳4 ⍝ Reshape vector to 1×4 matrix"
   ]
  },
  {
   "cell_type": "markdown",
   "metadata": {},
   "source": [
    "In case the difference isn't obvious, let's look at the ranks:"
   ]
  },
  {
   "cell_type": "code",
   "execution_count": 14,
   "metadata": {},
   "outputs": [
    {
     "data": {
      "text/html": [
       "<span style=\"white-space:pre; font-family: monospace\">1\n",
       "</span>"
      ]
     },
     "execution_count": 14,
     "metadata": {},
     "output_type": "execute_result"
    },
    {
     "data": {
      "text/html": [
       "<span style=\"white-space:pre; font-family: monospace\">2\n",
       "</span>"
      ]
     },
     "execution_count": 14,
     "metadata": {},
     "output_type": "execute_result"
    },
    {
     "data": {
      "text/html": [
       "<span style=\"white-space:pre; font-family: monospace\">0\n",
       "</span>"
      ]
     },
     "execution_count": 14,
     "metadata": {},
     "output_type": "execute_result"
    }
   ],
   "source": [
    "≢⍴v\n",
    "≢⍴m\n",
    "\n",
    "v≡m ⍝ Does v match m?"
   ]
  },
  {
   "cell_type": "markdown",
   "metadata": {},
   "source": [
    "This is an issue that bites everyone at some stage of their APL journey. We can see from the rank that v is a _vector_ -- rank 1, but m is a 1×4 matrix -- rank 2, even if they look the same. The visualisation shows this with two arrows on the box for m, but only one arrow on the box for v. If we switch off the verbose visualisation, it gets much trickier:"
   ]
  },
  {
   "cell_type": "code",
   "execution_count": 15,
   "metadata": {},
   "outputs": [
    {
     "data": {
      "text/html": [
       "<span style=\"white-space:pre; font-family: monospace\">0 1 2 3\n",
       "</span>"
      ]
     },
     "execution_count": 15,
     "metadata": {},
     "output_type": "execute_result"
    },
    {
     "data": {
      "text/html": [
       "<span style=\"white-space:pre; font-family: monospace\">0 1 2 3\n",
       "</span>"
      ]
     },
     "execution_count": 15,
     "metadata": {},
     "output_type": "execute_result"
    },
    {
     "data": {
      "text/html": [
       "<span style=\"white-space:pre; font-family: monospace\">0\n",
       "</span>"
      ]
     },
     "execution_count": 15,
     "metadata": {},
     "output_type": "execute_result"
    }
   ],
   "source": [
    "v \n",
    "m\n",
    "\n",
    "v≡m ⍝ ?????"
   ]
  },
  {
   "cell_type": "markdown",
   "metadata": {},
   "source": [
    "We can conclude that higher arrays is a first-order concept in APL. A 2-D array in APL is _not_ a list-of-lists, as it would be in for example Python.\n",
    "\n",
    "![rankdepth](./IMG/rankdepth.png)\n",
    "\n",
    "The other thing that it's worth re-highlighting is how the array axes are enumerated in APL. We saw from a previous example that the shape of a 2-D array lists y before x in the shape vector:"
   ]
  },
  {
   "cell_type": "code",
   "execution_count": 78,
   "metadata": {},
   "outputs": [
    {
     "data": {
      "text/html": [
       "<span style=\"white-space:pre; font-family: monospace\">1 2 3 4\n",
       "5 6 7 8\n",
       "</span>"
      ]
     },
     "execution_count": 78,
     "metadata": {},
     "output_type": "execute_result"
    },
    {
     "data": {
      "text/html": [
       "<span style=\"white-space:pre; font-family: monospace\">2 4\n",
       "</span>"
      ]
     },
     "execution_count": 78,
     "metadata": {},
     "output_type": "execute_result"
    }
   ],
   "source": [
    "⊢m ← 2 4⍴⍳8 ⍝ y=2, x=4\n",
    "⍴m"
   ]
  },
  {
   "cell_type": "markdown",
   "metadata": {},
   "source": [
    "This idea extends to higher dimensions, too. A 3-D matrix would have its shape vector represent z, y and x axes in that order. A 57-D matrix would.. you get the point."
   ]
  },
  {
   "cell_type": "markdown",
   "metadata": {},
   "source": [
    "## Enclose on, enclose off"
   ]
  },
  {
   "cell_type": "markdown",
   "metadata": {},
   "source": [
    "Arrays in Dyalog APL are always collections of scalars, regardless of rank. However, we can create arbitrarily complex scalars by a process known as _enclosing_. This means putting something in a \"box\". It looks like so:"
   ]
  },
  {
   "cell_type": "code",
   "execution_count": 79,
   "metadata": {},
   "outputs": [
    {
     "data": {
      "text/html": [
       "<span style=\"white-space:pre; font-family: monospace\">1 2 3\n",
       "</span>"
      ]
     },
     "execution_count": 79,
     "metadata": {},
     "output_type": "execute_result"
    },
    {
     "data": {
      "text/html": [
       "<span style=\"white-space:pre; font-family: monospace\">┌─────┐\n",
       "│1 2 3│\n",
       "└~───→┘\n",
       "</span>"
      ]
     },
     "execution_count": 79,
     "metadata": {},
     "output_type": "execute_result"
    },
    {
     "data": {
      "text/html": [
       "<span style=\"white-space:pre; font-family: monospace\">0\n",
       "</span>"
      ]
     },
     "execution_count": 79,
     "metadata": {},
     "output_type": "execute_result"
    }
   ],
   "source": [
    "⊢v ← 1 2 3\n",
    "⊂v         ⍝ Enclose the vector 1 2 3\n",
    "v≡⊂v       ⍝ Does the vector v match the enclosed v? Of course not!"
   ]
  },
  {
   "cell_type": "markdown",
   "metadata": {},
   "source": [
    "We can check that enclosing creates a scalar by inspecting the rank:"
   ]
  },
  {
   "cell_type": "code",
   "execution_count": 80,
   "metadata": {},
   "outputs": [
    {
     "data": {
      "text/html": [
       "<span style=\"white-space:pre; font-family: monospace\">1\n",
       "</span>"
      ]
     },
     "execution_count": 80,
     "metadata": {},
     "output_type": "execute_result"
    },
    {
     "data": {
      "text/html": [
       "<span style=\"white-space:pre; font-family: monospace\">0\n",
       "</span>"
      ]
     },
     "execution_count": 80,
     "metadata": {},
     "output_type": "execute_result"
    }
   ],
   "source": [
    "≢⍴v  ⍝ Rank of vector should be 1\n",
    "≢⍴⊂v ⍝ Rank of scalar should be 0"
   ]
  },
  {
   "cell_type": "markdown",
   "metadata": {},
   "source": [
    "This actually allows us to create a Python-style \"list of lists\" -- or in APL terms, a vector of enclosed vectors:"
   ]
  },
  {
   "cell_type": "code",
   "execution_count": 2,
   "metadata": {},
   "outputs": [
    {
     "data": {
      "text/html": [
       "<span style=\"white-space:pre; font-family: monospace\">┌→────────────────────────┐\n",
       "│ ┌→────┐ ┌→────┐ ┌→────┐ │\n",
       "│ │1 2 3│ │2 3 4│ │2 3 4│ │\n",
       "│ └~────┘ └~────┘ └~────┘ │\n",
       "└∊────────────────────────┘\n",
       "</span>"
      ]
     },
     "execution_count": 2,
     "metadata": {},
     "output_type": "execute_result"
    }
   ],
   "source": [
    "⊢v ← (1 2 3) (2 3 4) (2 3 4)"
   ]
  },
  {
   "cell_type": "markdown",
   "metadata": {},
   "source": [
    "See the little epsilon `∊` in the lower edge of the box? It indicates that the elements of the vector are enclosed. We'll discuss indexing in depth later on, but for now, let's get a cell out of that vector:"
   ]
  },
  {
   "cell_type": "code",
   "execution_count": 3,
   "metadata": {},
   "outputs": [
    {
     "data": {
      "text/html": [
       "<span style=\"white-space:pre; font-family: monospace\">┌─────────┐\n",
       "│ ┌→────┐ │\n",
       "│ │2 3 4│ │\n",
       "│ └~────┘ │\n",
       "└∊────────┘\n",
       "</span>"
      ]
     },
     "execution_count": 3,
     "metadata": {},
     "output_type": "execute_result"
    }
   ],
   "source": [
    "v[1] ⍝ Get position 1 -- we get back an enclosed vector"
   ]
  },
  {
   "cell_type": "markdown",
   "metadata": {},
   "source": [
    "We can create arbitrary levels of nesting:"
   ]
  },
  {
   "cell_type": "code",
   "execution_count": 4,
   "metadata": {},
   "outputs": [
    {
     "data": {
      "text/html": [
       "<span style=\"white-space:pre; font-family: monospace\">┌→────────────────────────────────────────┐\n",
       "│ ┌→────────────────┐ ┌→────────────────┐ │\n",
       "│ │   ┌→──────────┐ │ │   ┌→──────────┐ │ │\n",
       "│ │ 1 │ ┌→────┐   │ │ │ 3 │ ┌→────┐   │ │ │\n",
       "│ │   │ │hello│ 2 │ │ │   │ │world│ 4 │ │ │\n",
       "│ │   │ └─────┘   │ │ │   │ └─────┘   │ │ │\n",
       "│ │   └∊──────────┘ │ │   └∊──────────┘ │ │\n",
       "│ └∊────────────────┘ └∊────────────────┘ │\n",
       "└∊────────────────────────────────────────┘\n",
       "</span>"
      ]
     },
     "execution_count": 4,
     "metadata": {},
     "output_type": "execute_result"
    }
   ],
   "source": [
    "(1 ('hello' 2)) (3 ('world' 4))"
   ]
  },
  {
   "cell_type": "markdown",
   "metadata": {},
   "source": [
    "```{tip}\n",
    "Non-simple, a.k.a nested, arrays can be detrimental to APL performance!\n",
    "\n",
    "It's best to bear this in mind from the beginning: if you can, choose multiple simple vectors, rather than a single vector of complex scalars.\n",
    "```"
   ]
  },
  {
   "cell_type": "code",
   "execution_count": null,
   "metadata": {},
   "outputs": [],
   "source": []
  }
 ],
 "metadata": {
  "kernelspec": {
   "display_name": "Dyalog APL",
   "language": "apl",
   "name": "dyalog-kernel"
  },
  "language_info": {
   "file_extension": ".apl",
   "mimetype": "text/apl",
   "name": "APL"
  }
 },
 "nbformat": 4,
 "nbformat_minor": 4
}
