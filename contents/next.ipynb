{
 "cells": [
  {
   "cell_type": "markdown",
   "metadata": {},
   "source": [
    "# What now?\n",
    "\n",
    "> Beware of Methodologies. They are a great way to bring everyone up to a dismal, but passable, level of performance, but at the same time, they are aggravating to more talented people who chafe at the restrictions that are placed on them. --_Joel Spolsky_\n",
    "\n",
    "If you stayed with it to here, well done -- you're going to Top Gun.\n",
    "\n",
    "![tg](https://media.giphy.com/media/wrzf9P70YWLJK/giphy.gif)"
   ]
  },
  {
   "cell_type": "markdown",
   "metadata": {},
   "source": [
    "You should have enough skills to make a considerable dent in a problem collection such as [Advent of Code](https://adventofcode.com/), [Project Euler](https://projecteuler.net/), [Perl Weekly Challenge](https://perlweeklychallenge.org/challenges/) or [Project Rosalind](http://rosalind.info/problems/locations/). What you need now is practice. \n",
    "\n",
    "![owl](./IMG/owl.png)\n",
    "\n",
    "A good place to start is the [Dyalog Problem Solving Competition](https://www.dyalog.com/student-competition.htm), an annual event that's been running for a while. All the old problems are available and they are typically constructed to flatter APL's capabilities. \n",
    "\n",
    "Advent of Code is _great_ -- a nice ramp-up of difficulty and a Grand Tour of Computer Science 101. It's my benchmark -- I find that starting on Day01 knowing near nothing, by the time I get to Day25 I am reasonably proficient in a new language. So I thought we'd solve a couple of Advent of Code problems here. Obviously, if you don't want to spoil it for yourself, come back here once you've had a go yourself."
   ]
  },
  {
   "cell_type": "code",
   "execution_count": 1,
   "metadata": {
    "tags": [
     "hide-output"
    ]
   },
   "outputs": [
    {
     "data": {
      "text/html": [
       "<span style=\"white-space:pre; font-family: monospace\">\n",
       "Rebuilding user command cache... done\n",
       "\n",
       "Rebuilding user command cache... done\n",
       "</span>"
      ]
     },
     "execution_count": 1,
     "metadata": {},
     "output_type": "execute_result"
    },
    {
     "data": {
      "text/html": [
       "<span style=\"white-space:pre; font-family: monospace\">Was ON -style=min -trains=tree -fns=on\n",
       "</span>"
      ]
     },
     "execution_count": 1,
     "metadata": {},
     "output_type": "execute_result"
    },
    {
     "data": {
      "text/html": [
       "<span style=\"white-space:pre; font-family: monospace\">Was OFF\n",
       "</span>"
      ]
     },
     "execution_count": 1,
     "metadata": {},
     "output_type": "execute_result"
    }
   ],
   "source": [
    "⎕IO ← 0\n",
    "⎕PP ← 34\n",
    "]box on -s=min -t=tree -f=on\n",
    "]rows on\n",
    "assert←{⍺←'assertion failure' ⋄ 0∊⍵:⍺ ⎕signal 8 ⋄ shy←0}"
   ]
  },
  {
   "cell_type": "markdown",
   "metadata": {},
   "source": [
    "## 20/3 Toboggan Trajectory\n",
    "\n",
    "This one is [day 3](https://adventofcode.com/2020/day/3) from 2020. Note that my data will be different from yours - a feature of Advent of Code.\n",
    "\n",
    "We have a 2-D array of dots and hashes. The pattern is repeated indefinitely to the right. The example given is:"
   ]
  },
  {
   "cell_type": "code",
   "execution_count": 55,
   "metadata": {},
   "outputs": [
    {
     "data": {
      "text/html": [
       "<span style=\"white-space:pre; font-family: monospace\">..##.......\n",
       "#...#...#..\n",
       ".#....#..#.\n",
       "..#.#...#.#\n",
       ".#...##..#.\n",
       "..#.##.....\n",
       ".#.#.#....#\n",
       ".#........#\n",
       "#.##...#...\n",
       "#...##....#\n",
       ".#..#...#.#\n",
       "</span>"
      ]
     },
     "execution_count": 55,
     "metadata": {},
     "output_type": "execute_result"
    }
   ],
   "source": [
    "⊢data←11 11⍴'..##.......#...#...#...#....#..#...#.#...#.#.#...##..#...#.##......#.#.#....#.#........##.##...#...#...##....#.#..#...#.#'"
   ]
  },
  {
   "cell_type": "markdown",
   "metadata": {},
   "source": [
    "which is then assumed to repeat to the right indefinitely, the first few like so:"
   ]
  },
  {
   "cell_type": "code",
   "execution_count": 56,
   "metadata": {},
   "outputs": [
    {
     "data": {
      "text/html": [
       "<span style=\"white-space:pre; font-family: monospace\">..##.........##.........##.........##.......\n",
       "#...#...#..#...#...#..#...#...#..#...#...#..\n",
       ".#....#..#..#....#..#..#....#..#..#....#..#.\n",
       "..#.#...#.#..#.#...#.#..#.#...#.#..#.#...#.#\n",
       ".#...##..#..#...##..#..#...##..#..#...##..#.\n",
       "..#.##.......#.##.......#.##.......#.##.....\n",
       ".#.#.#....#.#.#.#....#.#.#.#....#.#.#.#....#\n",
       ".#........#.#........#.#........#.#........#\n",
       "#.##...#...#.##...#...#.##...#...#.##...#...\n",
       "#...##....##...##....##...##....##...##....#\n",
       ".#..#...#.#.#..#...#.#.#..#...#.#.#..#...#.#\n",
       "</span>"
      ]
     },
     "execution_count": 56,
     "metadata": {},
     "output_type": "execute_result"
    }
   ],
   "source": [
    "data,⍣3⊢data"
   ]
  },
  {
   "cell_type": "markdown",
   "metadata": {},
   "source": [
    "The task is to calculate how many `#` we'd encounter if, starting from the top-left corner, we follow a path which for each iteration moves three steps to the right, and one step down. In this test case, we'd encounter 7, here indicated by quads, `⎕`:"
   ]
  },
  {
   "cell_type": "code",
   "execution_count": 57,
   "metadata": {},
   "outputs": [
    {
     "data": {
      "text/html": [
       "<span style=\"white-space:pre; font-family: monospace\">0.##.........##.........##.........##.......\n",
       "#..0#...#..#...#...#..#...#...#..#...#...#..\n",
       ".#....⎕..#..#....#..#..#....#..#..#....#..#.\n",
       "..#.#...#0#..#.#...#.#..#.#...#.#..#.#...#.#\n",
       ".#...##..#..⎕...##..#..#...##..#..#...##..#.\n",
       "..#.##.......#.⎕#.......#.##.......#.##.....\n",
       ".#.#.#....#.#.#.#.0..#.#.#.#....#.#.#.#....#\n",
       ".#........#.#........⎕.#........#.#........#\n",
       "#.##...#...#.##...#...#.⎕#...#...#.##...#...\n",
       "#...##....##...##....##...#⎕....##...##....#\n",
       ".#..#...#.#.#..#...#.#.#..#...⎕.#.#..#...#.#\n",
       "</span>"
      ]
     },
     "execution_count": 57,
     "metadata": {},
     "output_type": "execute_result"
    }
   ],
   "source": [
    "11 44⍴'0.##.........##.........##.........##.......#..0#...#..#...#...#..#...#...#..#...#...#...#....⎕..#..#....#..#..#....#..#..#....#..#...#.#...#0#..#.#...#.#..#.#...#.#..#.#...#.#.#...##..#..⎕...##..#..#...##..#..#...##..#...#.##.......#.⎕#.......#.##.......#.##......#.#.#....#.#.#.#.0..#.#.#.#....#.#.#.#....#.#........#.#........⎕.#........#.#........##.##...#...#.##...#...#.⎕#...#...#.##...#...#...##....##...##....##...#⎕....##...##....#.#..#...#.#.#..#...#.#.#..#...⎕.#.#..#...#.#'"
   ]
  },
  {
   "cell_type": "markdown",
   "metadata": {},
   "source": [
    "We can generate the coordinates for the path directly. The y-coordinate just increases by 1. The x-coordinate increases by 3 until we \"fall off\" the end of the pattern, after which it resets back to zero. Let's look at this specific case.\n",
    "\n",
    "If we ignore the wrap-around in x, we can get our coordinates as (assuming the pattern is shape 11 11):"
   ]
  },
  {
   "cell_type": "code",
   "execution_count": 66,
   "metadata": {},
   "outputs": [
    {
     "data": {
      "text/html": [
       "<span style=\"white-space:pre; font-family: monospace\">┌───┬───┬───┬───┬────┬────┬────┬────┬────┬────┬─────┐\n",
       "│0 0│1 3│2 6│3 9│4 12│5 15│6 18│7 21│8 24│9 27│10 30│\n",
       "└───┴───┴───┴───┴────┴────┴────┴────┴────┴────┴─────┘\n",
       "</span>"
      ]
     },
     "execution_count": 66,
     "metadata": {},
     "output_type": "execute_result"
    }
   ],
   "source": [
    "↓⍉↑1 3×⊂⍳11 ⍝ Remix to create y x pairs"
   ]
  },
  {
   "cell_type": "markdown",
   "metadata": {},
   "source": [
    "The wrap-around is just a mod by the shape of the pattern, in our case 11 11:"
   ]
  },
  {
   "cell_type": "code",
   "execution_count": 59,
   "metadata": {},
   "outputs": [
    {
     "data": {
      "text/html": [
       "<span style=\"white-space:pre; font-family: monospace\">┌───┬───┬───┬───┬───┬───┬───┬────┬───┬───┬────┐\n",
       "│0 0│1 3│2 6│3 9│4 1│5 4│6 7│7 10│8 2│9 5│10 8│\n",
       "└───┴───┴───┴───┴───┴───┴───┴────┴───┴───┴────┘\n",
       "</span>"
      ]
     },
     "execution_count": 59,
     "metadata": {},
     "output_type": "execute_result"
    }
   ],
   "source": [
    "↓⍉↑11 11|1 3×⊂⍳11"
   ]
  },
  {
   "cell_type": "markdown",
   "metadata": {},
   "source": [
    "So we pick out the chars along this vector, look for `#` and sum:"
   ]
  },
  {
   "cell_type": "code",
   "execution_count": 60,
   "metadata": {},
   "outputs": [
    {
     "data": {
      "text/html": [
       "<span style=\"white-space:pre; font-family: monospace\">7\n",
       "</span>"
      ]
     },
     "execution_count": 60,
     "metadata": {},
     "output_type": "execute_result"
    }
   ],
   "source": [
    "+⌿'#'=data[↓⍉↑11 11|1 3×⊂⍳11]"
   ]
  },
  {
   "cell_type": "markdown",
   "metadata": {},
   "source": [
    "So that works on the test data at least; good. Let's make that generic in the pattern shape and the path offset:"
   ]
  },
  {
   "cell_type": "code",
   "execution_count": 61,
   "metadata": {},
   "outputs": [
    {
     "data": {
      "text/html": [
       "<span style=\"white-space:pre; font-family: monospace\">7\n",
       "</span>"
      ]
     },
     "execution_count": 61,
     "metadata": {},
     "output_type": "execute_result"
    }
   ],
   "source": [
    "data {+⌿'#'=⍺[↓⍉↑(⍴⍺)|⍵×⊂⍳⌈(≢⍺)÷⊃⍵]} 1 3"
   ]
  },
  {
   "cell_type": "markdown",
   "metadata": {},
   "source": [
    "At this point we're ready to try it on the real pattern."
   ]
  },
  {
   "cell_type": "code",
   "execution_count": 62,
   "metadata": {},
   "outputs": [],
   "source": [
    "data←↑⊃⎕NGET'../../AoCDyalog/data/2020/day03.txt'1"
   ]
  },
  {
   "cell_type": "markdown",
   "metadata": {},
   "source": [
    "The real pattern is considerably larger, but as we've made our solution independent of pattern shape and path offset, this should not present a problem:"
   ]
  },
  {
   "cell_type": "code",
   "execution_count": 63,
   "metadata": {},
   "outputs": [
    {
     "data": {
      "text/html": [
       "<span style=\"white-space:pre; font-family: monospace\">323 31\n",
       "</span>"
      ]
     },
     "execution_count": 63,
     "metadata": {},
     "output_type": "execute_result"
    }
   ],
   "source": [
    "⍴data"
   ]
  },
  {
   "cell_type": "code",
   "execution_count": 64,
   "metadata": {},
   "outputs": [
    {
     "data": {
      "text/html": [
       "<span style=\"white-space:pre; font-family: monospace\">203\n",
       "</span>"
      ]
     },
     "execution_count": 64,
     "metadata": {},
     "output_type": "execute_result"
    }
   ],
   "source": [
    "⊢part1 ← data {+⌿'#'=⍺[↓⍉↑(⍴⍺)|⍵×⊂⍳⌈(≢⍺)÷⊃⍵]} 1 3\n",
    "assert 203=part1"
   ]
  },
  {
   "cell_type": "markdown",
   "metadata": {},
   "source": [
    "That was the correct answer for part 1 (for me -- you will get a different number).\n",
    "\n",
    "For part 2, we're given five slopes, and we need to multiply all results together. Not much left to do:"
   ]
  },
  {
   "cell_type": "code",
   "execution_count": 65,
   "metadata": {},
   "outputs": [
    {
     "data": {
      "text/html": [
       "<span style=\"white-space:pre; font-family: monospace\">3316272960\n",
       "</span>"
      ]
     },
     "execution_count": 65,
     "metadata": {},
     "output_type": "execute_result"
    }
   ],
   "source": [
    "⊢part2 ← ×⌿data∘{+⌿'#'=⍺[↓⍉↑(⍴⍺)|⍵×⊂⍳⌈(≢⍺)÷⊃⍵]}¨(1 1)(1 3)(1 5)(1 7)(2 1)\n",
    "assert 3316272960=part2"
   ]
  },
  {
   "cell_type": "markdown",
   "metadata": {},
   "source": [
    "So that was kind of APL home-court advantage - a nice, array-oriented solution."
   ]
  },
  {
   "cell_type": "markdown",
   "metadata": {},
   "source": [
    "## 16/6 Signals and Noise\n",
    "\n",
    "This one is [day 6](https://adventofcode.com/2016/day/6) from 2016.\n",
    "\n",
    "Given a bunch of random-looking strings of letters of equal lengths, we're to find the most commonly occurring letter in each position. We're given the following test set:"
   ]
  },
  {
   "cell_type": "code",
   "execution_count": 112,
   "metadata": {},
   "outputs": [
    {
     "data": {
      "text/html": [
       "<span style=\"white-space:pre; font-family: monospace\">┌→─────┐\n",
       "↓eedadn│\n",
       "│drvtee│\n",
       "│eandsr│\n",
       "│raavrd│\n",
       "│atevrs│\n",
       "│tsrnev│\n",
       "│sdttsa│\n",
       "│rasrtv│\n",
       "│nssdts│\n",
       "│ntnada│\n",
       "│svetve│\n",
       "│tesnvt│\n",
       "│vntsnd│\n",
       "│vrdear│\n",
       "│dvrsen│\n",
       "│enarar│\n",
       "└──────┘\n",
       "</span>"
      ]
     },
     "execution_count": 112,
     "metadata": {},
     "output_type": "execute_result"
    }
   ],
   "source": [
    "data←'eedadn' 'drvtee' 'eandsr' 'raavrd' 'atevrs' 'tsrnev' 'sdttsa' 'rasrtv' 'nssdts' 'ntnada' 'svetve' 'tesnvt' 'vntsnd' 'vrdear' 'dvrsen' 'enarar'\n",
    "↑data"
   ]
  },
  {
   "cell_type": "markdown",
   "metadata": {},
   "source": [
    "Picking out the most commonly occurring letter in each column spells `easter`. \"Most commonly occurring\" should have us reach for _Key_, `⌸`. We remix the input data so that we get a vector of the columns, which we then _Key_:"
   ]
  },
  {
   "cell_type": "code",
   "execution_count": 113,
   "metadata": {},
   "outputs": [
    {
     "data": {
      "text/html": [
       "<span style=\"white-space:pre; font-family: monospace\">┌→────────────────────────────────────┐\n",
       "│ ┌→──┐ ┌→──┐ ┌→──┐ ┌→──┐ ┌→──┐ ┌→──┐ │\n",
       "│ ↓e 3│ ↓e 2│ ↓d 2│ ↓a 2│ ↓d 2│ ↓n 2│ │\n",
       "│ │d 2│ │r 2│ │v 1│ │t 3│ │e 3│ │e 2│ │\n",
       "│ │r 2│ │a 3│ │n 2│ │d 2│ │s 2│ │r 3│ │\n",
       "│ │a 1│ │t 2│ │a 2│ │v 2│ │r 2│ │d 2│ │\n",
       "│ │t 2│ │s 2│ │e 2│ │n 2│ │t 2│ │s 2│ │\n",
       "│ │s 2│ │d 1│ │r 2│ │r 2│ │v 2│ │v 2│ │\n",
       "│ │n 2│ │v 2│ │t 2│ │s 2│ │n 1│ │a 2│ │\n",
       "│ │v 2│ │n 2│ │s 3│ │e 1│ │a 2│ │t 1│ │\n",
       "│ └+──┘ └+──┘ └+──┘ └+──┘ └+──┘ └+──┘ │\n",
       "└∊────────────────────────────────────┘\n",
       "</span>"
      ]
     },
     "execution_count": 113,
     "metadata": {},
     "output_type": "execute_result"
    }
   ],
   "source": [
    "{⍺,≢⍵}⌸¨↓⍉↑data"
   ]
  },
  {
   "cell_type": "markdown",
   "metadata": {},
   "source": [
    "Now we sort each array based on the last column, and select the element at 0 0 in each, which should be the most frequent letter:"
   ]
  },
  {
   "cell_type": "code",
   "execution_count": 115,
   "metadata": {},
   "outputs": [
    {
     "data": {
      "text/html": [
       "<span style=\"white-space:pre; font-family: monospace\">┌→─────┐\n",
       "│easter│\n",
       "└──────┘\n",
       "</span>"
      ]
     },
     "execution_count": 115,
     "metadata": {},
     "output_type": "execute_result"
    }
   ],
   "source": [
    "∊{0 0⌷⍵[⍒⍵[;1];]}¨{⍺,≢⍵}⌸¨↓⍉↑data"
   ]
  },
  {
   "cell_type": "markdown",
   "metadata": {},
   "source": [
    "Looks promising. Let's try that on the real data:"
   ]
  },
  {
   "cell_type": "code",
   "execution_count": 117,
   "metadata": {},
   "outputs": [],
   "source": [
    "data←⊃⎕NGET'../../AoCDyalog/data/2016/06.txt'1"
   ]
  },
  {
   "cell_type": "code",
   "execution_count": 119,
   "metadata": {},
   "outputs": [
    {
     "data": {
      "text/html": [
       "<span style=\"white-space:pre; font-family: monospace\">┌→───────┐\n",
       "│qrqlznrl│\n",
       "└────────┘\n",
       "</span>"
      ]
     },
     "execution_count": 119,
     "metadata": {},
     "output_type": "execute_result"
    }
   ],
   "source": [
    "⊢part1←∊{0 0⌷⍵[⍒⍵[;1];]}¨{⍺,≢⍵}⌸¨↓⍉↑data\n",
    "assert 'qrqlznrl'≡part1"
   ]
  },
  {
   "cell_type": "markdown",
   "metadata": {},
   "source": [
    "Part 2 - the same, but now pick the _least_ frequent. All we need to do is to swap grade down for grade up:"
   ]
  },
  {
   "cell_type": "code",
   "execution_count": 121,
   "metadata": {},
   "outputs": [
    {
     "data": {
      "text/html": [
       "<span style=\"white-space:pre; font-family: monospace\">┌→───────┐\n",
       "│kgzdfaon│\n",
       "└────────┘\n",
       "</span>"
      ]
     },
     "execution_count": 121,
     "metadata": {},
     "output_type": "execute_result"
    }
   ],
   "source": [
    "⊢part2←∊{0 0⌷⍵[⍋⍵[;1];]}¨{⍺,≢⍵}⌸¨↓⍉↑data\n",
    "assert 'kgzdfaon'≡part2"
   ]
  },
  {
   "cell_type": "markdown",
   "metadata": {},
   "source": [
    "If we wanted to be clever, we could make that an operator:"
   ]
  },
  {
   "cell_type": "code",
   "execution_count": 127,
   "metadata": {},
   "outputs": [],
   "source": [
    "_day6←{∊⍺⍺{0 0⌷⍵[⍺⍺⍵[;1];]}¨{⍺,≢⍵}⌸¨↓⍉↑⍵}"
   ]
  },
  {
   "cell_type": "code",
   "execution_count": 128,
   "metadata": {},
   "outputs": [
    {
     "data": {
      "text/html": [
       "<span style=\"white-space:pre; font-family: monospace\">┌→───────┐\n",
       "│qrqlznrl│\n",
       "└────────┘\n",
       "</span>"
      ]
     },
     "execution_count": 128,
     "metadata": {},
     "output_type": "execute_result"
    },
    {
     "data": {
      "text/html": [
       "<span style=\"white-space:pre; font-family: monospace\">┌→───────┐\n",
       "│kgzdfaon│\n",
       "└────────┘\n",
       "</span>"
      ]
     },
     "execution_count": 128,
     "metadata": {},
     "output_type": "execute_result"
    }
   ],
   "source": [
    "⍒_day6 data\n",
    "⍋_day6 data"
   ]
  },
  {
   "cell_type": "markdown",
   "metadata": {},
   "source": [
    "## 18/10 The Stars Align\n",
    "\n",
    "Back in 2018, we were treated to this gem on [day 10](https://adventofcode.com/2018/day/10). We have a bunch of \"stars\" each having a position and a velocity. At some moment in time, these stars will align, forming a message.\n",
    "\n",
    "We can reasonably guess that the message forms when the bounding box of all the stars is at its smallest. If that _isn't_ the case, then this becomes much harder, so let's try this hypothesis first.\n",
    "\n",
    "Step one is to pick out four numbers, including negatives, from each line of the input data:"
   ]
  },
  {
   "cell_type": "code",
   "execution_count": 145,
   "metadata": {},
   "outputs": [],
   "source": [
    "data←↑'-?\\d+'⎕S{⍎⍵.Match}¨⊃⎕NGET'../../AoCDyalog/data/2018/10.txt'1"
   ]
  },
  {
   "cell_type": "markdown",
   "metadata": {},
   "source": [
    "The first two columns are the position, and the last two columns the velocity."
   ]
  },
  {
   "cell_type": "code",
   "execution_count": null,
   "metadata": {},
   "outputs": [],
   "source": [
    "pos ← ,/data[;0 1]\n",
    "vel ← ,/data[;2 3]"
   ]
  },
  {
   "cell_type": "markdown",
   "metadata": {},
   "source": [
    "We want to minimise the bounding box. We can use the sum of the width and height of the bounding box as a single number that we can compare. Here's a function to compute that:"
   ]
  },
  {
   "cell_type": "code",
   "execution_count": 152,
   "metadata": {},
   "outputs": [],
   "source": [
    "bbx ← {+/|-⌿2 2⍴(⌊⌿,⌈⌿)↑⍵} ⍝ Width + height of bounding box"
   ]
  },
  {
   "cell_type": "markdown",
   "metadata": {},
   "source": [
    "So we want to repeatedly apply a function (the adding of the velocity to the position) to the output of itself until we reach a defined stopping condition -- when the width plus the height of the bounding box no longer decreases. This sounds like a job for the power operator:"
   ]
  },
  {
   "cell_type": "code",
   "execution_count": 153,
   "metadata": {},
   "outputs": [],
   "source": [
    "msg ← vel-⍨{vel+⍵}⍣{⍺>⍥bbx⍵}⊢pos ⍝ Add velocity until bounding box no longer decreases."
   ]
  },
  {
   "cell_type": "markdown",
   "metadata": {},
   "source": [
    "That's actually it -- but in order to actually _see_ the message we need to prune it down to the bounding box, and for extra flair, use the `*` character, as shown in the question."
   ]
  },
  {
   "cell_type": "code",
   "execution_count": 167,
   "metadata": {},
   "outputs": [
    {
     "data": {
      "text/html": [
       "<span style=\"white-space:pre; font-family: monospace\">┌→─────────────────────────────────────────────────────────────┐\n",
       "↓******  *****   *****   *****   *****   *****   ******    **  │\n",
       "│*       *    *  *    *  *    *  *    *  *    *       *   *  * │\n",
       "│*       *    *  *    *  *    *  *    *  *    *       *  *    *│\n",
       "│*       *    *  *    *  *    *  *    *  *    *      *   *    *│\n",
       "│*****   *****   *****   *****   *****   *****      *    *    *│\n",
       "│*       *       *  *    *    *  *  *    *  *      *     ******│\n",
       "│*       *       *   *   *    *  *   *   *   *    *      *    *│\n",
       "│*       *       *   *   *    *  *   *   *   *   *       *    *│\n",
       "│*       *       *    *  *    *  *    *  *    *  *       *    *│\n",
       "│*       *       *    *  *****   *    *  *    *  ******  *    *│\n",
       "└──────────────────────────────────────────────────────────────┘\n",
       "</span>"
      ]
     },
     "execution_count": 167,
     "metadata": {},
     "output_type": "execute_result"
    }
   ],
   "source": [
    "(w h) ← |-⌿2 2⍴(⌊⌿,⌈⌿)↑msg           ⍝ Width and height of bounding box\n",
    "(-h+1)(-w+1)↑'*'@(⊖¨msg)⊢143 203⍴' ' ⍝ Prune our display, and make stars"
   ]
  },
  {
   "cell_type": "markdown",
   "metadata": {},
   "source": [
    "## 17/25 The Halting Problem\n",
    "\n",
    "The [Christmas Day](https://adventofcode.com/2017/day/25) problem from 2017. We're asked to solve the [Halting Problem](https://en.wikipedia.org/wiki/Halting_problem) for a Turing machine. We're given a description of the state transitions -- the program, basically. The description for state `A` is:\n",
    "\n",
    "```\n",
    "In state A:\n",
    "  If the current value is 0:\n",
    "    - Write the value 1.\n",
    "    - Move one slot to the right.\n",
    "    - Continue with state B.\n",
    "  If the current value is 1:\n",
    "    - Write the value 0.\n",
    "    - Move one slot to the left.\n",
    "    - Continue with state C.\n",
    "```\n",
    "\n",
    "Compiling the state descriptions into a table, we get to something along the lines of\n",
    "\n",
    "\n",
    "|   |   0   |   1   |\n",
    "|---|-------|-------|\n",
    "| A | 1 R B | 0 L C |\n",
    "| B | 1 L A | 1 R D |\n",
    "| C | 1 R A | 0 L E |\n",
    "| D | 1 R A | 0 R B |\n",
    "| E | 1 L F | 1 L C |\n",
    "| F | 1 R D | 1 R A |\n",
    "\n",
    "which we can translate to a neat APL 6×6 matrix:"
   ]
  },
  {
   "cell_type": "code",
   "execution_count": 170,
   "metadata": {},
   "outputs": [
    {
     "data": {
      "text/html": [
       "<span style=\"white-space:pre; font-family: monospace\">┌→────────────┐\n",
       "↓1  1 1 0 ¯1 2│\n",
       "│1 ¯1 0 1  1 3│\n",
       "│1  1 0 0 ¯1 4│\n",
       "│1  1 0 0  1 1│\n",
       "│1 ¯1 5 1 ¯1 2│\n",
       "│1  1 3 1  1 0│\n",
       "└~────────────┘\n",
       "</span>"
      ]
     },
     "execution_count": 170,
     "metadata": {},
     "output_type": "execute_result"
    }
   ],
   "source": [
    "⊢STATE←6 6⍴1 1 1 0 ¯1 2 1 ¯1 0 1 1 3 1 1 0 0 ¯1 4 1 1 0 0 1 1 1 ¯1 5 1 ¯1 2 1 1 3 1 1 0"
   ]
  },
  {
   "cell_type": "markdown",
   "metadata": {},
   "source": [
    "We'll need a honking loooong magnetic tape, initially set to all zeros. We don't know the exact length, but we know we are running 12919244 iterations, so let's make the tape that size to start with."
   ]
  },
  {
   "cell_type": "code",
   "execution_count": 172,
   "metadata": {},
   "outputs": [],
   "source": [
    "TAPE ← 12919244⍴0"
   ]
  },
  {
   "cell_type": "markdown",
   "metadata": {},
   "source": [
    "We also need a state transition function, applying the rules from the `STATE` table, reading from, and writing to `TAPE`:"
   ]
  },
  {
   "cell_type": "code",
   "execution_count": 173,
   "metadata": {},
   "outputs": [],
   "source": [
    "]dinput\n",
    "stf ← {\n",
    "    (pos state) ← ⍵\n",
    "    args ← (0 3[pos⊃TAPE])+⍳3\n",
    "    (nv m ns) ← STATE[state;args]\n",
    "    TAPE[pos] ← nv\n",
    "    (pos+m) ns\n",
    "}"
   ]
  },
  {
   "cell_type": "markdown",
   "metadata": {},
   "source": [
    "We need to run 12919244 iterations. We'll start in the middle of the tape, and hope that it is long enough:"
   ]
  },
  {
   "cell_type": "code",
   "execution_count": 174,
   "metadata": {},
   "outputs": [],
   "source": [
    "_←stf⍣12919244⊢6459622 0  ⍝ Takes ~20s"
   ]
  },
  {
   "cell_type": "code",
   "execution_count": 177,
   "metadata": {},
   "outputs": [
    {
     "data": {
      "text/html": [
       "<span style=\"white-space:pre; font-family: monospace\">    \n",
       "4287\n",
       "    \n",
       "</span>"
      ]
     },
     "execution_count": 177,
     "metadata": {},
     "output_type": "execute_result"
    }
   ],
   "source": [
    "assert 4287=⎕←+/TAPE"
   ]
  }
 ],
 "metadata": {
  "kernelspec": {
   "display_name": "Dyalog APL",
   "language": "apl",
   "name": "dyalog-kernel"
  },
  "language_info": {
   "file_extension": ".apl",
   "mimetype": "text/apl",
   "name": "APL"
  }
 },
 "nbformat": 4,
 "nbformat_minor": 4
}
