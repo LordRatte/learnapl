{
 "cells": [
  {
   "cell_type": "markdown",
   "metadata": {},
   "source": [
    "# What now?\n",
    "\n",
    "> Beware of Methodologies. They are a great way to bring everyone up to a dismal, but passable, level of performance, but at the same time, they are aggravating to more talented people who chafe at the restrictions that are placed on them. --_Joel Spolsky_\n",
    "\n",
    "If you stayed with it to here, well done -- you're going to Top Gun.\n",
    "\n",
    "![tg](https://media.giphy.com/media/wrzf9P70YWLJK/giphy.gif)"
   ]
  },
  {
   "cell_type": "markdown",
   "metadata": {},
   "source": [
    "You should have enough skills to make a considerable dent in a problem collection such as [Advent of Code](https://adventofcode.com/), [Project Euler](https://projecteuler.net/), [Perl Weekly Challenge](https://perlweeklychallenge.org/challenges/) or [Project Rosalind](http://rosalind.info/problems/locations/). What you need now is practice. \n",
    "\n",
    "![owl](./IMG/owl.png)\n",
    "\n",
    "A good place to start is the [Dyalog Problem Solving Competition](https://www.dyalog.com/student-competition.htm), an annual event that's been running for a while. All the old problems are available and they are typically constructed to flatter APL's capabilities. \n",
    "\n",
    "Advent of Code is _great_ -- a nice ramp-up of difficulty and a Grand Tour of Computer Science 101. It's my benchmark -- I find that starting on Day01 knowing near nothing, by the time I get to Day25 I am reasonably proficient in a new language. So I thought we'd solve a couple of Advent of Code problems here. Obviously, if you don't want to spoil it for yourself, come back here once you've had a go yourself."
   ]
  },
  {
   "cell_type": "code",
   "execution_count": 1,
   "metadata": {},
   "outputs": [
    {
     "data": {
      "text/html": [
       "<span style=\"white-space:pre; font-family: monospace\">done\n",
       "\n",
       "Rebuilding user command cache... done\n",
       "</span>"
      ]
     },
     "execution_count": 1,
     "metadata": {},
     "output_type": "execute_result"
    }
   ],
   "source": [
    "⎕IO ← 0\n",
    "⎕PP ← 34\n",
    "{}⎕SE.UCMD'box on -s=min -t=tree -f=on'\n",
    "{}⎕SE.UCMD'rows on'\n",
    "assert←{⍺←'assertion failure' ⋄ 0∊⍵:⍺ ⎕signal 8 ⋄ shy←0}"
   ]
  },
  {
   "cell_type": "markdown",
   "metadata": {},
   "source": [
    "## 20/3 Toboggan Trajectory\n",
    "\n",
    "This one is [day 3](https://adventofcode.com/2020/day/3) from 2020. Note that my data will be different from yours - a feature of Advent of Code.\n",
    "\n",
    "We have a 2-D array of dots and hashes. The pattern is repeated indefinitely to the right. The example given is:"
   ]
  },
  {
   "cell_type": "code",
   "execution_count": 55,
   "metadata": {},
   "outputs": [
    {
     "data": {
      "text/html": [
       "<span style=\"white-space:pre; font-family: monospace\">..##.......\n",
       "#...#...#..\n",
       ".#....#..#.\n",
       "..#.#...#.#\n",
       ".#...##..#.\n",
       "..#.##.....\n",
       ".#.#.#....#\n",
       ".#........#\n",
       "#.##...#...\n",
       "#...##....#\n",
       ".#..#...#.#\n",
       "</span>"
      ]
     },
     "execution_count": 55,
     "metadata": {},
     "output_type": "execute_result"
    }
   ],
   "source": [
    "⊢data←11 11⍴'..##.......#...#...#...#....#..#...#.#...#.#.#...##..#...#.##......#.#.#....#.#........##.##...#...#...##....#.#..#...#.#'"
   ]
  },
  {
   "cell_type": "markdown",
   "metadata": {},
   "source": [
    "which is then assumed to repeat to the right indefinitely, the first few like so:"
   ]
  },
  {
   "cell_type": "code",
   "execution_count": 56,
   "metadata": {},
   "outputs": [
    {
     "data": {
      "text/html": [
       "<span style=\"white-space:pre; font-family: monospace\">..##.........##.........##.........##.......\n",
       "#...#...#..#...#...#..#...#...#..#...#...#..\n",
       ".#....#..#..#....#..#..#....#..#..#....#..#.\n",
       "..#.#...#.#..#.#...#.#..#.#...#.#..#.#...#.#\n",
       ".#...##..#..#...##..#..#...##..#..#...##..#.\n",
       "..#.##.......#.##.......#.##.......#.##.....\n",
       ".#.#.#....#.#.#.#....#.#.#.#....#.#.#.#....#\n",
       ".#........#.#........#.#........#.#........#\n",
       "#.##...#...#.##...#...#.##...#...#.##...#...\n",
       "#...##....##...##....##...##....##...##....#\n",
       ".#..#...#.#.#..#...#.#.#..#...#.#.#..#...#.#\n",
       "</span>"
      ]
     },
     "execution_count": 56,
     "metadata": {},
     "output_type": "execute_result"
    }
   ],
   "source": [
    "data,⍣3⊢data"
   ]
  },
  {
   "cell_type": "markdown",
   "metadata": {},
   "source": [
    "The task is to calculate how many `#` we'd encounter if, starting from the top-left corner, we follow a path which for each iteration moves three steps to the right, and one step down. In this test case, we'd encounter 7, here indicated by quads, `⎕`:"
   ]
  },
  {
   "cell_type": "code",
   "execution_count": 57,
   "metadata": {},
   "outputs": [
    {
     "data": {
      "text/html": [
       "<span style=\"white-space:pre; font-family: monospace\">0.##.........##.........##.........##.......\n",
       "#..0#...#..#...#...#..#...#...#..#...#...#..\n",
       ".#....⎕..#..#....#..#..#....#..#..#....#..#.\n",
       "..#.#...#0#..#.#...#.#..#.#...#.#..#.#...#.#\n",
       ".#...##..#..⎕...##..#..#...##..#..#...##..#.\n",
       "..#.##.......#.⎕#.......#.##.......#.##.....\n",
       ".#.#.#....#.#.#.#.0..#.#.#.#....#.#.#.#....#\n",
       ".#........#.#........⎕.#........#.#........#\n",
       "#.##...#...#.##...#...#.⎕#...#...#.##...#...\n",
       "#...##....##...##....##...#⎕....##...##....#\n",
       ".#..#...#.#.#..#...#.#.#..#...⎕.#.#..#...#.#\n",
       "</span>"
      ]
     },
     "execution_count": 57,
     "metadata": {},
     "output_type": "execute_result"
    }
   ],
   "source": [
    "11 44⍴'0.##.........##.........##.........##.......#..0#...#..#...#...#..#...#...#..#...#...#...#....⎕..#..#....#..#..#....#..#..#....#..#...#.#...#0#..#.#...#.#..#.#...#.#..#.#...#.#.#...##..#..⎕...##..#..#...##..#..#...##..#...#.##.......#.⎕#.......#.##.......#.##......#.#.#....#.#.#.#.0..#.#.#.#....#.#.#.#....#.#........#.#........⎕.#........#.#........##.##...#...#.##...#...#.⎕#...#...#.##...#...#...##....##...##....##...#⎕....##...##....#.#..#...#.#.#..#...#.#.#..#...⎕.#.#..#...#.#'"
   ]
  },
  {
   "cell_type": "markdown",
   "metadata": {},
   "source": [
    "We can generate the coordinates for the path directly. The y-coordinate just increases by 1. The x-coordinate increases by 3 until we \"fall off\" the end of the pattern, after which it resets back to zero. Let's look at this specific case.\n",
    "\n",
    "If we ignore the wrap-around in x, we can get our coordinates as (assuming the pattern is shape 11 11):"
   ]
  },
  {
   "cell_type": "code",
   "execution_count": 66,
   "metadata": {},
   "outputs": [
    {
     "data": {
      "text/html": [
       "<span style=\"white-space:pre; font-family: monospace\">┌───┬───┬───┬───┬────┬────┬────┬────┬────┬────┬─────┐\n",
       "│0 0│1 3│2 6│3 9│4 12│5 15│6 18│7 21│8 24│9 27│10 30│\n",
       "└───┴───┴───┴───┴────┴────┴────┴────┴────┴────┴─────┘\n",
       "</span>"
      ]
     },
     "execution_count": 66,
     "metadata": {},
     "output_type": "execute_result"
    }
   ],
   "source": [
    "↓⍉↑1 3×⊂⍳11 ⍝ Remix to create y x pairs"
   ]
  },
  {
   "cell_type": "markdown",
   "metadata": {},
   "source": [
    "The wrap-around is just a mod by the shape of the pattern, in our case 11 11:"
   ]
  },
  {
   "cell_type": "code",
   "execution_count": 59,
   "metadata": {},
   "outputs": [
    {
     "data": {
      "text/html": [
       "<span style=\"white-space:pre; font-family: monospace\">┌───┬───┬───┬───┬───┬───┬───┬────┬───┬───┬────┐\n",
       "│0 0│1 3│2 6│3 9│4 1│5 4│6 7│7 10│8 2│9 5│10 8│\n",
       "└───┴───┴───┴───┴───┴───┴───┴────┴───┴───┴────┘\n",
       "</span>"
      ]
     },
     "execution_count": 59,
     "metadata": {},
     "output_type": "execute_result"
    }
   ],
   "source": [
    "↓⍉↑11 11|1 3×⊂⍳11"
   ]
  },
  {
   "cell_type": "markdown",
   "metadata": {},
   "source": [
    "So we pick out the chars along this vector, look for `#` and sum:"
   ]
  },
  {
   "cell_type": "code",
   "execution_count": 60,
   "metadata": {},
   "outputs": [
    {
     "data": {
      "text/html": [
       "<span style=\"white-space:pre; font-family: monospace\">7\n",
       "</span>"
      ]
     },
     "execution_count": 60,
     "metadata": {},
     "output_type": "execute_result"
    }
   ],
   "source": [
    "+⌿'#'=data[↓⍉↑11 11|1 3×⊂⍳11]"
   ]
  },
  {
   "cell_type": "markdown",
   "metadata": {},
   "source": [
    "So that works on the test data at least; good. Let's make that generic in the pattern shape and the path offset:"
   ]
  },
  {
   "cell_type": "code",
   "execution_count": 61,
   "metadata": {},
   "outputs": [
    {
     "data": {
      "text/html": [
       "<span style=\"white-space:pre; font-family: monospace\">7\n",
       "</span>"
      ]
     },
     "execution_count": 61,
     "metadata": {},
     "output_type": "execute_result"
    }
   ],
   "source": [
    "data {+⌿'#'=⍺[↓⍉↑(⍴⍺)|⍵×⊂⍳⌈(≢⍺)÷⊃⍵]} 1 3"
   ]
  },
  {
   "cell_type": "markdown",
   "metadata": {},
   "source": [
    "At this point we're ready to try it on the real pattern."
   ]
  },
  {
   "cell_type": "code",
   "execution_count": 62,
   "metadata": {},
   "outputs": [],
   "source": [
    "data←↑⊃⎕NGET'../../AoCDyalog/data/2020/day03.txt'1"
   ]
  },
  {
   "cell_type": "markdown",
   "metadata": {},
   "source": [
    "The real pattern is considerably larger, but as we've made our solution independent of pattern shape and path offset, this should not present a problem:"
   ]
  },
  {
   "cell_type": "code",
   "execution_count": 63,
   "metadata": {},
   "outputs": [
    {
     "data": {
      "text/html": [
       "<span style=\"white-space:pre; font-family: monospace\">323 31\n",
       "</span>"
      ]
     },
     "execution_count": 63,
     "metadata": {},
     "output_type": "execute_result"
    }
   ],
   "source": [
    "⍴data"
   ]
  },
  {
   "cell_type": "code",
   "execution_count": 64,
   "metadata": {},
   "outputs": [
    {
     "data": {
      "text/html": [
       "<span style=\"white-space:pre; font-family: monospace\">203\n",
       "</span>"
      ]
     },
     "execution_count": 64,
     "metadata": {},
     "output_type": "execute_result"
    }
   ],
   "source": [
    "⊢part1 ← data {+⌿'#'=⍺[↓⍉↑(⍴⍺)|⍵×⊂⍳⌈(≢⍺)÷⊃⍵]} 1 3\n",
    "assert 203=part1"
   ]
  },
  {
   "cell_type": "markdown",
   "metadata": {},
   "source": [
    "That was the correct answer for part 1 (for me -- you will get a different number).\n",
    "\n",
    "For part 2, we're given five slopes, and we need to multiply all results together. Not much left to do:"
   ]
  },
  {
   "cell_type": "code",
   "execution_count": 65,
   "metadata": {},
   "outputs": [
    {
     "data": {
      "text/html": [
       "<span style=\"white-space:pre; font-family: monospace\">3316272960\n",
       "</span>"
      ]
     },
     "execution_count": 65,
     "metadata": {},
     "output_type": "execute_result"
    }
   ],
   "source": [
    "⊢part2 ← ×⌿data∘{+⌿'#'=⍺[↓⍉↑(⍴⍺)|⍵×⊂⍳⌈(≢⍺)÷⊃⍵]}¨(1 1)(1 3)(1 5)(1 7)(2 1)\n",
    "assert 3316272960=part2"
   ]
  },
  {
   "cell_type": "markdown",
   "metadata": {},
   "source": [
    "So that was kind of APL home-court advantage - a nice, array-oriented solution."
   ]
  },
  {
   "cell_type": "markdown",
   "metadata": {},
   "source": [
    "## 16/6 Signals and Noise\n",
    "\n",
    "This one is [day 6](https://adventofcode.com/2016/day/6) from 2016.\n",
    "\n",
    "Given a bunch of random-looking strings of letters of equal lengths, we're to find the most commonly occurring letter in each position. We're given the following test set:"
   ]
  },
  {
   "cell_type": "code",
   "execution_count": 112,
   "metadata": {},
   "outputs": [
    {
     "data": {
      "text/html": [
       "<span style=\"white-space:pre; font-family: monospace\">┌→─────┐\n",
       "↓eedadn│\n",
       "│drvtee│\n",
       "│eandsr│\n",
       "│raavrd│\n",
       "│atevrs│\n",
       "│tsrnev│\n",
       "│sdttsa│\n",
       "│rasrtv│\n",
       "│nssdts│\n",
       "│ntnada│\n",
       "│svetve│\n",
       "│tesnvt│\n",
       "│vntsnd│\n",
       "│vrdear│\n",
       "│dvrsen│\n",
       "│enarar│\n",
       "└──────┘\n",
       "</span>"
      ]
     },
     "execution_count": 112,
     "metadata": {},
     "output_type": "execute_result"
    }
   ],
   "source": [
    "data←'eedadn' 'drvtee' 'eandsr' 'raavrd' 'atevrs' 'tsrnev' 'sdttsa' 'rasrtv' 'nssdts' 'ntnada' 'svetve' 'tesnvt' 'vntsnd' 'vrdear' 'dvrsen' 'enarar'\n",
    "↑data"
   ]
  },
  {
   "cell_type": "markdown",
   "metadata": {},
   "source": [
    "Picking out the most commonly occurring letter in each column spells `easter`. \"Most commonly occurring\" should have us reach for _Key_, `⌸`. We remix the input data so that we get a vector of the columns, which we then _Key_:"
   ]
  },
  {
   "cell_type": "code",
   "execution_count": 113,
   "metadata": {},
   "outputs": [
    {
     "data": {
      "text/html": [
       "<span style=\"white-space:pre; font-family: monospace\">┌→────────────────────────────────────┐\n",
       "│ ┌→──┐ ┌→──┐ ┌→──┐ ┌→──┐ ┌→──┐ ┌→──┐ │\n",
       "│ ↓e 3│ ↓e 2│ ↓d 2│ ↓a 2│ ↓d 2│ ↓n 2│ │\n",
       "│ │d 2│ │r 2│ │v 1│ │t 3│ │e 3│ │e 2│ │\n",
       "│ │r 2│ │a 3│ │n 2│ │d 2│ │s 2│ │r 3│ │\n",
       "│ │a 1│ │t 2│ │a 2│ │v 2│ │r 2│ │d 2│ │\n",
       "│ │t 2│ │s 2│ │e 2│ │n 2│ │t 2│ │s 2│ │\n",
       "│ │s 2│ │d 1│ │r 2│ │r 2│ │v 2│ │v 2│ │\n",
       "│ │n 2│ │v 2│ │t 2│ │s 2│ │n 1│ │a 2│ │\n",
       "│ │v 2│ │n 2│ │s 3│ │e 1│ │a 2│ │t 1│ │\n",
       "│ └+──┘ └+──┘ └+──┘ └+──┘ └+──┘ └+──┘ │\n",
       "└∊────────────────────────────────────┘\n",
       "</span>"
      ]
     },
     "execution_count": 113,
     "metadata": {},
     "output_type": "execute_result"
    }
   ],
   "source": [
    "{⍺,≢⍵}⌸¨↓⍉↑data"
   ]
  },
  {
   "cell_type": "markdown",
   "metadata": {},
   "source": [
    "Now we sort each array based on the last column, and select the element at 0 0 in each, which should be the most frequent letter:"
   ]
  },
  {
   "cell_type": "code",
   "execution_count": 115,
   "metadata": {},
   "outputs": [
    {
     "data": {
      "text/html": [
       "<span style=\"white-space:pre; font-family: monospace\">┌→─────┐\n",
       "│easter│\n",
       "└──────┘\n",
       "</span>"
      ]
     },
     "execution_count": 115,
     "metadata": {},
     "output_type": "execute_result"
    }
   ],
   "source": [
    "∊{0 0⌷⍵[⍒⍵[;1];]}¨{⍺,≢⍵}⌸¨↓⍉↑data"
   ]
  },
  {
   "cell_type": "markdown",
   "metadata": {},
   "source": [
    "Looks promising. Let's try that on the real data:"
   ]
  },
  {
   "cell_type": "code",
   "execution_count": 117,
   "metadata": {},
   "outputs": [],
   "source": [
    "data←⊃⎕NGET'../../AoCDyalog/data/2016/06.txt'1"
   ]
  },
  {
   "cell_type": "code",
   "execution_count": 119,
   "metadata": {},
   "outputs": [
    {
     "data": {
      "text/html": [
       "<span style=\"white-space:pre; font-family: monospace\">┌→───────┐\n",
       "│qrqlznrl│\n",
       "└────────┘\n",
       "</span>"
      ]
     },
     "execution_count": 119,
     "metadata": {},
     "output_type": "execute_result"
    }
   ],
   "source": [
    "⊢part1←∊{0 0⌷⍵[⍒⍵[;1];]}¨{⍺,≢⍵}⌸¨↓⍉↑data\n",
    "assert 'qrqlznrl'≡part1"
   ]
  },
  {
   "cell_type": "markdown",
   "metadata": {},
   "source": [
    "Part 2 - the same, but now pick the _least_ frequent. All we need to do is to swap grade down for grade up:"
   ]
  },
  {
   "cell_type": "code",
   "execution_count": 121,
   "metadata": {},
   "outputs": [
    {
     "data": {
      "text/html": [
       "<span style=\"white-space:pre; font-family: monospace\">┌→───────┐\n",
       "│kgzdfaon│\n",
       "└────────┘\n",
       "</span>"
      ]
     },
     "execution_count": 121,
     "metadata": {},
     "output_type": "execute_result"
    }
   ],
   "source": [
    "⊢part2←∊{0 0⌷⍵[⍋⍵[;1];]}¨{⍺,≢⍵}⌸¨↓⍉↑data\n",
    "assert 'kgzdfaon'≡part2"
   ]
  },
  {
   "cell_type": "markdown",
   "metadata": {},
   "source": [
    "If we wanted to be clever, we could make that an operator:"
   ]
  },
  {
   "cell_type": "code",
   "execution_count": 127,
   "metadata": {},
   "outputs": [],
   "source": [
    "_day6←{∊⍺⍺{0 0⌷⍵[⍺⍺⍵[;1];]}¨{⍺,≢⍵}⌸¨↓⍉↑⍵}"
   ]
  },
  {
   "cell_type": "code",
   "execution_count": 128,
   "metadata": {},
   "outputs": [
    {
     "data": {
      "text/html": [
       "<span style=\"white-space:pre; font-family: monospace\">┌→───────┐\n",
       "│qrqlznrl│\n",
       "└────────┘\n",
       "</span>"
      ]
     },
     "execution_count": 128,
     "metadata": {},
     "output_type": "execute_result"
    },
    {
     "data": {
      "text/html": [
       "<span style=\"white-space:pre; font-family: monospace\">┌→───────┐\n",
       "│kgzdfaon│\n",
       "└────────┘\n",
       "</span>"
      ]
     },
     "execution_count": 128,
     "metadata": {},
     "output_type": "execute_result"
    }
   ],
   "source": [
    "⍒_day6 data\n",
    "⍋_day6 data"
   ]
  },
  {
   "cell_type": "markdown",
   "metadata": {},
   "source": [
    "## 18/10 The Stars Align\n",
    "\n",
    "Back in 2018, we were treated to this gem on [day 10](https://adventofcode.com/2018/day/10). We have a bunch of \"stars\" each having a position and a velocity. At some moment in time, these stars will align, forming a message.\n",
    "\n",
    "We can reasonably guess that the message forms when the bounding box of all the stars is at its smallest. If that _isn't_ the case, then this becomes much harder, so let's try this hypothesis first.\n",
    "\n",
    "Step one is to pick out four numbers, including negatives, from each line of the input data:"
   ]
  },
  {
   "cell_type": "code",
   "execution_count": 145,
   "metadata": {},
   "outputs": [],
   "source": [
    "data←↑'-?\\d+'⎕S{⍎⍵.Match}¨⊃⎕NGET'../../AoCDyalog/data/2018/10.txt'1"
   ]
  },
  {
   "cell_type": "markdown",
   "metadata": {},
   "source": [
    "The first two columns are the position, and the last two columns the velocity."
   ]
  },
  {
   "cell_type": "code",
   "execution_count": null,
   "metadata": {},
   "outputs": [],
   "source": [
    "pos ← ,/data[;0 1]\n",
    "vel ← ,/data[;2 3]"
   ]
  },
  {
   "cell_type": "markdown",
   "metadata": {},
   "source": [
    "We want to minimise the bounding box. We can use the sum of the width and height of the bounding box as a single number that we can compare. Here's a function to compute that:"
   ]
  },
  {
   "cell_type": "code",
   "execution_count": 152,
   "metadata": {},
   "outputs": [],
   "source": [
    "bbx ← {+/|-⌿2 2⍴(⌊⌿,⌈⌿)↑⍵} ⍝ Width + height of bounding box"
   ]
  },
  {
   "cell_type": "markdown",
   "metadata": {},
   "source": [
    "So we want to repeatedly apply a function (the adding of the velocity to the position) to the output of itself until we reach a defined stopping condition -- when the width plus the height of the bounding box no longer decreases. This sounds like a job for the power operator:"
   ]
  },
  {
   "cell_type": "code",
   "execution_count": 153,
   "metadata": {},
   "outputs": [],
   "source": [
    "msg ← vel-⍨{vel+⍵}⍣{⍺>⍥bbx⍵}⊢pos ⍝ Add velocity until bounding box no longer decreases."
   ]
  },
  {
   "cell_type": "markdown",
   "metadata": {},
   "source": [
    "That's actually it -- but in order to actually _see_ the message we need to prune it down to the bounding box, and for extra flair, use the `*` character, as shown in the question."
   ]
  },
  {
   "cell_type": "code",
   "execution_count": 167,
   "metadata": {},
   "outputs": [
    {
     "data": {
      "text/html": [
       "<span style=\"white-space:pre; font-family: monospace\">┌→─────────────────────────────────────────────────────────────┐\n",
       "↓******  *****   *****   *****   *****   *****   ******    **  │\n",
       "│*       *    *  *    *  *    *  *    *  *    *       *   *  * │\n",
       "│*       *    *  *    *  *    *  *    *  *    *       *  *    *│\n",
       "│*       *    *  *    *  *    *  *    *  *    *      *   *    *│\n",
       "│*****   *****   *****   *****   *****   *****      *    *    *│\n",
       "│*       *       *  *    *    *  *  *    *  *      *     ******│\n",
       "│*       *       *   *   *    *  *   *   *   *    *      *    *│\n",
       "│*       *       *   *   *    *  *   *   *   *   *       *    *│\n",
       "│*       *       *    *  *    *  *    *  *    *  *       *    *│\n",
       "│*       *       *    *  *****   *    *  *    *  ******  *    *│\n",
       "└──────────────────────────────────────────────────────────────┘\n",
       "</span>"
      ]
     },
     "execution_count": 167,
     "metadata": {},
     "output_type": "execute_result"
    }
   ],
   "source": [
    "(w h) ← |-⌿2 2⍴(⌊⌿,⌈⌿)↑msg           ⍝ Width and height of bounding box\n",
    "(-h+1)(-w+1)↑'*'@(⊖¨msg)⊢143 203⍴' ' ⍝ Prune our display, and make stars"
   ]
  },
  {
   "cell_type": "markdown",
   "metadata": {},
   "source": [
    "## 17/25 The Halting Problem\n",
    "\n",
    "The [Christmas Day](https://adventofcode.com/2017/day/25) problem from 2017. We're asked to solve the [Halting Problem](https://en.wikipedia.org/wiki/Halting_problem) for a Turing machine. We're given a description of the state transitions -- the program, basically. The description for state `A` is:\n",
    "\n",
    "```\n",
    "In state A:\n",
    "  If the current value is 0:\n",
    "    - Write the value 1.\n",
    "    - Move one slot to the right.\n",
    "    - Continue with state B.\n",
    "  If the current value is 1:\n",
    "    - Write the value 0.\n",
    "    - Move one slot to the left.\n",
    "    - Continue with state C.\n",
    "```\n",
    "\n",
    "Compiling the state descriptions into a table, we get to something along the lines of\n",
    "\n",
    "\n",
    "|   |   0   |   1   |\n",
    "|---|-------|-------|\n",
    "| A | 1 R B | 0 L C |\n",
    "| B | 1 L A | 1 R D |\n",
    "| C | 1 R A | 0 L E |\n",
    "| D | 1 R A | 0 R B |\n",
    "| E | 1 L F | 1 L C |\n",
    "| F | 1 R D | 1 R A |\n",
    "\n",
    "which we can translate to a neat APL 6×6 matrix:"
   ]
  },
  {
   "cell_type": "code",
   "execution_count": 170,
   "metadata": {},
   "outputs": [
    {
     "data": {
      "text/html": [
       "<span style=\"white-space:pre; font-family: monospace\">┌→────────────┐\n",
       "↓1  1 1 0 ¯1 2│\n",
       "│1 ¯1 0 1  1 3│\n",
       "│1  1 0 0 ¯1 4│\n",
       "│1  1 0 0  1 1│\n",
       "│1 ¯1 5 1 ¯1 2│\n",
       "│1  1 3 1  1 0│\n",
       "└~────────────┘\n",
       "</span>"
      ]
     },
     "execution_count": 170,
     "metadata": {},
     "output_type": "execute_result"
    }
   ],
   "source": [
    "⊢STATE←6 6⍴1 1 1 0 ¯1 2 1 ¯1 0 1 1 3 1 1 0 0 ¯1 4 1 1 0 0 1 1 1 ¯1 5 1 ¯1 2 1 1 3 1 1 0"
   ]
  },
  {
   "cell_type": "markdown",
   "metadata": {},
   "source": [
    "We'll need a honking loooong magnetic tape, initially set to all zeros. We don't know the exact length, but we know we are running 12919244 iterations, so let's make the tape that size to start with."
   ]
  },
  {
   "cell_type": "code",
   "execution_count": 172,
   "metadata": {},
   "outputs": [],
   "source": [
    "TAPE ← 12919244⍴0"
   ]
  },
  {
   "cell_type": "markdown",
   "metadata": {},
   "source": [
    "We also need a state transition function, applying the rules from the `STATE` table, reading from, and writing to `TAPE`:"
   ]
  },
  {
   "cell_type": "code",
   "execution_count": 173,
   "metadata": {},
   "outputs": [],
   "source": [
    "]dinput\n",
    "stf ← {\n",
    "    (pos state) ← ⍵\n",
    "    args ← (0 3[pos⊃TAPE])+⍳3\n",
    "    (nv m ns) ← STATE[state;args]\n",
    "    TAPE[pos] ← nv\n",
    "    (pos+m) ns\n",
    "}"
   ]
  },
  {
   "cell_type": "markdown",
   "metadata": {},
   "source": [
    "We need to run 12919244 iterations. We'll start in the middle of the tape, and hope that it is long enough:"
   ]
  },
  {
   "cell_type": "code",
   "execution_count": 174,
   "metadata": {},
   "outputs": [],
   "source": [
    "_←stf⍣12919244⊢6459622 0  ⍝ Takes ~20s"
   ]
  },
  {
   "cell_type": "code",
   "execution_count": 177,
   "metadata": {},
   "outputs": [
    {
     "data": {
      "text/html": [
       "<span style=\"white-space:pre; font-family: monospace\">    \n",
       "4287\n",
       "    \n",
       "</span>"
      ]
     },
     "execution_count": 177,
     "metadata": {},
     "output_type": "execute_result"
    }
   ],
   "source": [
    "assert 4287=⎕←+/TAPE"
   ]
  },
  {
   "cell_type": "markdown",
   "metadata": {},
   "source": [
    "## Dijkstra's algorithm\n",
    "\n",
    "For something a bit bigger, let's try to implement [Dijkstra's](https://en.wikipedia.org/wiki/Dijkstra%27s_algorithm) algorithm. Dijkstra's is a \"best first\" shortest path algorithm for graphs. The algorithm itself is quite easy to understand intuitively, but implementation requires enough to make it challenging. It also perhaps doesn't quite lend itself naturally to an array formulation. \n",
    "\n",
    "### Pseudo-code\n",
    "\n",
    "Dijkstra's investigates neighboring nodes in the order of increasing cost-so-far. Here's the pseudo-code description according to Wikipedia:\n",
    "\n",
    "```python\n",
    "def Dijkstra(Graph, source):\n",
    "      create vertex set Q\n",
    "      for v in Graph:            \n",
    "          dist[v] = INFINITY                 \n",
    "          prev[v] = UNDEFINED                \n",
    "          Q.add(v)                     \n",
    "      dist[source] = 0                       \n",
    "      while Q is not empty:\n",
    "          u = vertex in Q with min dist[u]                                  \n",
    "          Q.remove(u)\n",
    "          for v in neighbor(u):           # only v that are still in Q\n",
    "              alt = dist[u] + length(u, v)\n",
    "              if alt < dist[v]:              \n",
    "                  dist[v] = alt\n",
    "                  prev[v] = u\n",
    "\n",
    "      return dist[], prev[]\n",
    "```\n",
    "\n",
    "An efficient Dijkstra's will require a _priority queue_ and some kind of dictionary construct (the `dist` and `prev` above), neither of which we have on tap in Dyalog. This version will calculate the cheapest path from `source` to all other vertices in the graph. In our version we'll terminate once we've found our target vertex.\n",
    "\n",
    "### Priority queue\n",
    "\n",
    "A priority queue is a queue where each item has a priority, and the queue is ordered in such a way that the first item is always the one with the highest priority. Note that this doesn't specify that the whole queue must be sorted. Indeed, most priority queues are _heaps_, a clever data structure that can be cheaply maintained. The workings of a heap is something that all programmers will have known at some stage, but now probably have forgotten. Wikipedia has a [refresher](https://en.wikipedia.org/wiki/Heap_(data_structure)). The classic heap is called a \"binary heap\", but there are many different types of heap. The binary heap is very \"loop & branch\", and so isn't the sweetest fit for APL. Instead, we'll be implementing the [Leftist Tree](https://en.wikipedia.org/wiki/Leftist_tree) version, which has a neat recursive formulation. Here's an excellent [deep-dive](http://typeocaml.com/2015/03/12/heap-leftist-tree/) on how it can be done in the functional language [ocaml](https://ocaml.org/) which we'll model our implementation on.\n",
    "\n",
    "Without further ado, here's our Leftist Tree heap queue, following the ocaml version closely:"
   ]
  },
  {
   "cell_type": "code",
   "execution_count": 2,
   "metadata": {},
   "outputs": [],
   "source": [
    "]dinput\n",
    ":Namespace heapq\n",
    "\n",
    "    ⍝ Implementation of a heapq using a Leftist Tree\n",
    "    ⍝ See:\n",
    "    ⍝    https://en.wikipedia.org/wiki/Leftist_tree\n",
    "    ⍝    http://typeocaml.com/2015/03/12/heap-leftist-tree/\n",
    "\n",
    "    Empty ← {0=≢⍵}\n",
    "\n",
    "    Merge ← { ⍝ Merge leftist trees ⍺ and ⍵\n",
    "        0=≢⍺:⍵ ⋄ 0=≢⍵:⍺                                  ⍝ If either is a leaf, return the other\n",
    "        (item left right) ← 1↓⍺\n",
    "        (⊃⊃item)>⊃⊃(⎕IO+1)⊃⍵: ⍵∇⍺                        ⍝ Flip to ensure smallest is root of merged\n",
    "        merged ← right∇⍵                                 ⍝ Merge rightwards\n",
    "        leftRank ← ⊃left\n",
    "        mergedRank ← ⊃merged\n",
    "        leftRank≥⊃merged: (1+mergedRank)item left merged ⍝ Right is shorter\n",
    "        (1+leftRank)item merged left                     ⍝ Left is shorter; make it the new right\n",
    "    }\n",
    "\n",
    "    Pop ← { ⍝ Pop off smallest element from a leftist tree ⍵\n",
    "        0=≢⍵:⍬\n",
    "        (value left right) ← 1↓⍵\n",
    "        (left Merge right) value\n",
    "    }\n",
    "\n",
    "    Push ← { ⍝ Push a new element ⍵ onto the leftist tree ⍺\n",
    "        ⍺←⍬\n",
    "        ⍺ {\n",
    "            0=≢⍵: ⍺\n",
    "            1(⊃⍵)⍬ ⍬ Merge ⍺∇1↓⍵\n",
    "        },⍵\n",
    "    }\n",
    "\n",
    ":EndNamespace"
   ]
  },
  {
   "cell_type": "markdown",
   "metadata": {},
   "source": [
    "Ok, that was a lot at once. How does that work then?"
   ]
  },
  {
   "cell_type": "code",
   "execution_count": 262,
   "metadata": {},
   "outputs": [],
   "source": [
    "q ← heapq.Push ⊂0 'zero'    ⍝ No left arg creates a new heap\n",
    "q ← q heapq.Push ⊂5 'five'\n",
    "q ← q heapq.Push ⊂2 'two'"
   ]
  },
  {
   "cell_type": "markdown",
   "metadata": {},
   "source": [
    "Popping the heap should now return the items in ascending order on the priority:"
   ]
  },
  {
   "cell_type": "code",
   "execution_count": 263,
   "metadata": {},
   "outputs": [
    {
     "data": {
      "text/html": [
       "<span style=\"white-space:pre; font-family: monospace\">┌─┬────┐\n",
       "│0│zero│\n",
       "└─┴────┘\n",
       "</span>"
      ]
     },
     "execution_count": 263,
     "metadata": {},
     "output_type": "execute_result"
    },
    {
     "data": {
      "text/html": [
       "<span style=\"white-space:pre; font-family: monospace\">┌─┬───┐\n",
       "│2│two│\n",
       "└─┴───┘\n",
       "</span>"
      ]
     },
     "execution_count": 263,
     "metadata": {},
     "output_type": "execute_result"
    },
    {
     "data": {
      "text/html": [
       "<span style=\"white-space:pre; font-family: monospace\">┌─┬────┐\n",
       "│5│five│\n",
       "└─┴────┘\n",
       "</span>"
      ]
     },
     "execution_count": 263,
     "metadata": {},
     "output_type": "execute_result"
    }
   ],
   "source": [
    "(q v) ← heapq.Pop q\n",
    "v\n",
    "(q v) ← heapq.Pop q\n",
    "v\n",
    "(q v) ← heapq.Pop q\n",
    "v"
   ]
  },
  {
   "cell_type": "markdown",
   "metadata": {},
   "source": [
    "The Leftist Tree can merge trees efficiently. Here's an example:"
   ]
  },
  {
   "cell_type": "code",
   "execution_count": 264,
   "metadata": {},
   "outputs": [
    {
     "data": {
      "text/html": [
       "<span style=\"white-space:pre; font-family: monospace\">┌─┬───────┬──────────────────────────────────────────┬──────────────┐\n",
       "│2│┌─┬───┐│┌─┬─────────┬─────────────┬──────────────┐│┌─┬────────┬┬┐│\n",
       "│ ││2│two│││2│┌─┬─────┐│┌─┬───────┬┬┐│┌─┬────────┬┬┐│││1│┌──┬───┐││││\n",
       "│ │└─┴───┘││ ││3│three│││1│┌─┬───┐│││││1│┌─┬────┐││││││ ││10│ten│││││\n",
       "│ │       ││ │└─┴─────┘││ ││6│six││││││ ││9│nine│││││││ │└──┴───┘││││\n",
       "│ │       ││ │         ││ │└─┴───┘│││││ │└─┴────┘│││││└─┴────────┴┴┘│\n",
       "│ │       ││ │         │└─┴───────┴┴┘│└─┴────────┴┴┘││              │\n",
       "│ │       │└─┴─────────┴─────────────┴──────────────┘│              │\n",
       "└─┴───────┴──────────────────────────────────────────┴──────────────┘\n",
       "</span>"
      ]
     },
     "execution_count": 264,
     "metadata": {},
     "output_type": "execute_result"
    },
    {
     "data": {
      "text/html": [
       "<span style=\"white-space:pre; font-family: monospace\">┌─┬───┐\n",
       "│2│two│\n",
       "└─┴───┘\n",
       "</span>"
      ]
     },
     "execution_count": 264,
     "metadata": {},
     "output_type": "execute_result"
    },
    {
     "data": {
      "text/html": [
       "<span style=\"white-space:pre; font-family: monospace\">┌─┬─────┐\n",
       "│3│three│\n",
       "└─┴─────┘\n",
       "</span>"
      ]
     },
     "execution_count": 264,
     "metadata": {},
     "output_type": "execute_result"
    },
    {
     "data": {
      "text/html": [
       "<span style=\"white-space:pre; font-family: monospace\">┌─┬───┐\n",
       "│6│six│\n",
       "└─┴───┘\n",
       "</span>"
      ]
     },
     "execution_count": 264,
     "metadata": {},
     "output_type": "execute_result"
    },
    {
     "data": {
      "text/html": [
       "<span style=\"white-space:pre; font-family: monospace\">┌─┬────┐\n",
       "│9│nine│\n",
       "└─┴────┘\n",
       "</span>"
      ]
     },
     "execution_count": 264,
     "metadata": {},
     "output_type": "execute_result"
    },
    {
     "data": {
      "text/html": [
       "<span style=\"white-space:pre; font-family: monospace\">┌──┬───┐\n",
       "│10│ten│\n",
       "└──┴───┘\n",
       "</span>"
      ]
     },
     "execution_count": 264,
     "metadata": {},
     "output_type": "execute_result"
    }
   ],
   "source": [
    "h ← heapq.Push ⊂2 'two'\n",
    "h heapq.Push← ⊂10 'ten'\n",
    "h heapq.Push← ⊂9 'nine'\n",
    "\n",
    "s ← heapq.Push ⊂3 'three'\n",
    "s heapq.Push← ⊂6 'six'\n",
    "\n",
    "q ← h heapq.Merge s\n",
    "q\n",
    "(q v)←heapq.Pop q\n",
    "v\n",
    "(q v)←heapq.Pop q\n",
    "v\n",
    "(q v)←heapq.Pop q\n",
    "v\n",
    "(q v)←heapq.Pop q\n",
    "v\n",
    "(q v)←heapq.Pop q\n",
    "v"
   ]
  },
  {
   "cell_type": "markdown",
   "metadata": {},
   "source": [
    "### A dict\n",
    "\n",
    "We've already made a dict, actually, in the chapter on [workflow](workflow.ipynb). Here is a slightly tweaked version of that:"
   ]
  },
  {
   "cell_type": "code",
   "execution_count": 3,
   "metadata": {},
   "outputs": [],
   "source": [
    "]dinput\n",
    ":Namespace dict\n",
    "\n",
    "    ⍝ Basic dictionary\n",
    "\n",
    "    Create ← {\n",
    "        keys ← (1500⌶),⍺\n",
    "        vals ← ,⍵\n",
    "        {⍵⊣⍵.(Vals Keys Default)←vals keys ⍬}⎕NS''\n",
    "    }\n",
    "\n",
    "    Get ← {\n",
    "        ~⍵ In ⍺: ⍺.Default\n",
    "        ⍺.Vals[⍺.Keys⍳⍵]\n",
    "    }\n",
    "\n",
    "    In ← {⍺∊⍵.Keys}\n",
    "\n",
    "    _Set ← {⎕IO←0\n",
    "        ⍝ Monadic operator to upsert dict ⍺⍺ given a \n",
    "        ⍝ vector (or scalar) of keys ⍺ and a vector \n",
    "        ⍝ (or scalar) of vals ⍵\n",
    "        ⍺⍺∘{\n",
    "            k ← 0⌷⍵ ⋄ v ← 1⌷⍵\n",
    "            i ← ⍺.Keys⍳k\n",
    "            i=≢⍺.Keys: 1⊣⍺.Keys,←k⊣⍺.Vals,←v ⍝ New key\n",
    "            ⍺.Vals[i] ← v                    ⍝ Replace existing\n",
    "            0\n",
    "        }¨↓⍉↑(,⍺)(,⍵)\n",
    "    }\n",
    "\n",
    ":EndNamespace"
   ]
  },
  {
   "cell_type": "markdown",
   "metadata": {},
   "source": [
    "It keeps two vectors in an anonymous namespace, one for the keys and one for the values. When we insert something, we first check if the key is already present, and if it is we replace the existing value. If it's not present, we append the key to the end of the _Keys_ array, and the value to the end of the _Vals_ array. By packaging up the keys and values as fields in a namespace we can update a dict regardless of scope, which is what we'll want for Dijkstra's. We also use the Dyalog _Hash Array_ I-beam function, [1500⌶](http://help.dyalog.com/18.0/index.htm#Language/I%20Beam%20Functions/Hash%20Array.htm), to let the interpreter know that we intend to do many lookups on the keys, so it can maintain a hash table for it.\n",
    "\n",
    "You may recall that we outlined how you could use a namespace on its own as a dictionary. Unfortunately, that won't do here as we want to be able to use arbitrary data as the keys, not just strings. \n",
    "\n",
    "Let's try it out:"
   ]
  },
  {
   "cell_type": "code",
   "execution_count": 266,
   "metadata": {},
   "outputs": [
    {
     "data": {
      "text/html": [
       "<span style=\"white-space:pre; font-family: monospace\">1 1 1\n",
       "</span>"
      ]
     },
     "execution_count": 266,
     "metadata": {},
     "output_type": "execute_result"
    }
   ],
   "source": [
    "d ← (⊂'bob') dict.Create 45\n",
    "'eric' 'frank' 'sue'(d dict._Set) 77 54 28"
   ]
  },
  {
   "cell_type": "code",
   "execution_count": 267,
   "metadata": {},
   "outputs": [
    {
     "data": {
      "text/html": [
       "<span style=\"white-space:pre; font-family: monospace\">┌───┬────┬─────┬───┐\n",
       "│bob│eric│frank│sue│\n",
       "├───┼────┼─────┼───┤\n",
       "│45 │77  │54   │28 │\n",
       "└───┴────┴─────┴───┘\n",
       "</span>"
      ]
     },
     "execution_count": 267,
     "metadata": {},
     "output_type": "execute_result"
    },
    {
     "data": {
      "text/html": [
       "<span style=\"white-space:pre; font-family: monospace\">54\n",
       "</span>"
      ]
     },
     "execution_count": 267,
     "metadata": {},
     "output_type": "execute_result"
    },
    {
     "data": {
      "text/html": [
       "<span style=\"white-space:pre; font-family: monospace\">99\n",
       "</span>"
      ]
     },
     "execution_count": 267,
     "metadata": {},
     "output_type": "execute_result"
    }
   ],
   "source": [
    "↑(d.Keys)(d.Vals)\n",
    "d dict.Get ⊂'frank'\n",
    "{}(⊂'frank') (d dict._Set) 99\n",
    "d dict.Get ⊂'frank'"
   ]
  },
  {
   "cell_type": "markdown",
   "metadata": {},
   "source": [
    "We can also set a custom default value to be returned if a key isn't present, similar to Python's `d.get(key, default)`:"
   ]
  },
  {
   "cell_type": "code",
   "execution_count": 268,
   "metadata": {},
   "outputs": [
    {
     "data": {
      "text/html": [
       "<span style=\"white-space:pre; font-family: monospace\">Key not found\n",
       "</span>"
      ]
     },
     "execution_count": 268,
     "metadata": {},
     "output_type": "execute_result"
    }
   ],
   "source": [
    "d.Default ← 'Key not found'\n",
    "d dict.Get ⊂'johnny'"
   ]
  },
  {
   "cell_type": "markdown",
   "metadata": {},
   "source": [
    "### Graphs\n",
    "\n",
    "Dijkstra's algorithm operates on a _graph_ which is a set of vertices connected by edges, potentially having a cost associated with them. How should we represent a graph in APL? If you said 'array', then well done clever clogs, but the question still stands. \n",
    "\n",
    "We'll try to make our Dijkstra implementation be invariant to any particular graph representation, instead making it an operator that takes a neighborhood function. Our version will assume that all edge costs are 1, but the below approach can be generalized to work with different edge costs. Following the Wikipedia pseudocode pretty closely, we get something like so:"
   ]
  },
  {
   "cell_type": "code",
   "execution_count": 4,
   "metadata": {},
   "outputs": [],
   "source": [
    "]dinput\n",
    ":Namespace path\n",
    "    ⍝ Basic implementation of uniform cost Dijkstra's shortest path\n",
    "    ⍝ See: https://en.wikipedia.org/wiki/Dijkstra%27s_algorithm\n",
    "    \n",
    "    ⎕IO←0\n",
    "    _Dijkstra ← {\n",
    "        (start target) ←⍺ ⍵\n",
    "        cost ← start ##.dict.Create 0 ⋄ cost.Default ← ⌊/⍬\n",
    "        cameFrom ← start ##.dict.Create start\n",
    "        Neigh ← ⍺⍺\n",
    "        Pick ← {oldCost←cost ##.dict.Get ⊂⍵ ⋄ ⍺<oldCost}                \n",
    "        _ ← {\n",
    "            (queue queueItem) ← ##.heapq.Pop ⍵                 ⍝ Next vertex, in increasing cost order\n",
    "            current ← 1⊃queueItem\n",
    "            current≡target: ⍬                                  ⍝ Are we there yet?\n",
    "            newCost ← 1+cost ##.dict.Get current               ⍝ Uniform cost\n",
    "            valid ← (newCost∘Pick¨n)/n ← Neigh current         ⍝ New, or better?\n",
    "            _ ← valid (cameFrom ##.dict._Set)(≢valid)⍴current  ⍝ All neighbours came from current\n",
    "            _ ← valid (cost ##.dict._Set)(≢valid)⍴newCost      ⍝ Any changed costs?\n",
    "            queue ##.heapq.Push ↓⍉↑((≢valid)⍴newCost)(⊂¨valid) ⍝ Enqueue connected nodes\n",
    "        }⍣{##.heapq.Empty ⍺} ##.heapq.Push ⊂0 start            ⍝ Repeat until the queue is empty\n",
    "        cameFrom\n",
    "    }\n",
    "    \n",
    "    _Unwind ← {\n",
    "        path ← ⍺⍺\n",
    "        start ← ⍺\n",
    "        ⍬ {\n",
    "            ⍵≡start: ⊖⍺\n",
    "            (⍺,⍵)∇path ##.dict.Get ⍵\n",
    "        } ⍵\n",
    "    }\n",
    "    \n",
    ":EndNamespace"
   ]
  },
  {
   "cell_type": "markdown",
   "metadata": {},
   "source": [
    "We can try this on a maze. Here's one of those:"
   ]
  },
  {
   "cell_type": "code",
   "execution_count": 6,
   "metadata": {},
   "outputs": [
    {
     "data": {
      "text/html": [
       "<span style=\"white-space:pre; font-family: monospace\">#A###################\n",
       "#...#...#...#.......#\n",
       "#.#####.#.#########.#\n",
       "#...#.....#.#.#.....#\n",
       "#.#####.#.#.#.###.#.#\n",
       "#.#.....#.#.......#.#\n",
       "#.#####.###.#####.#.#\n",
       "#.......#...#...#.#.#\n",
       "#.###.#.#.#.#.#####.#\n",
       "#...#.#...#.#.#.#...#\n",
       "###.#.#####.#.#.###.#\n",
       "#...#.#...#.#...#...#\n",
       "#######.#.#.###.#.###\n",
       "#.#.....#.....#.#...#\n",
       "#.###.#.#####.#.###.#\n",
       "#...#.#...#...#.#.#.#\n",
       "#.#######.#.#.#.#.#.#\n",
       "#...#.#.#.#.#...#...#\n",
       "###.#.#.#.#####.#.###\n",
       "#.............#.#...B\n",
       "#####################\n",
       "</span>"
      ]
     },
     "execution_count": 6,
     "metadata": {},
     "output_type": "execute_result"
    }
   ],
   "source": [
    "⊢maze ← ↑⊃⎕NGET'/Users/stefan/work/dyalog/learnapl/maze-small.txt'1"
   ]
  },
  {
   "cell_type": "markdown",
   "metadata": {},
   "source": [
    "Let's convert that to a boolean array:"
   ]
  },
  {
   "cell_type": "code",
   "execution_count": 7,
   "metadata": {},
   "outputs": [],
   "source": [
    "graph ← ~'#'=maze"
   ]
  },
  {
   "cell_type": "markdown",
   "metadata": {},
   "source": [
    "Now we can make a neighborhood function:"
   ]
  },
  {
   "cell_type": "code",
   "execution_count": 13,
   "metadata": {},
   "outputs": [],
   "source": [
    "N4 ← {(⍸⍺)∩⍵(+,-)(0 1)(1 0)} ⍝ 4-connected neighborhood"
   ]
  },
  {
   "cell_type": "code",
   "execution_count": 18,
   "metadata": {},
   "outputs": [
    {
     "data": {
      "text/html": [
       "<span style=\"white-space:pre; font-family: monospace\">┌───┬───┬───┐\n",
       "│4 7│5 6│6 7│\n",
       "└───┴───┴───┘\n",
       "</span>"
      ]
     },
     "execution_count": 18,
     "metadata": {},
     "output_type": "execute_result"
    }
   ],
   "source": [
    "graph N4 ⊂5 7"
   ]
  },
  {
   "cell_type": "code",
   "execution_count": 21,
   "metadata": {},
   "outputs": [],
   "source": [
    "camefrom ← (⊂0 1) (graph∘N4 path._Dijkstra) ⊂19 20\n",
    "solution ← (⊂0 1) (camefrom path._Unwind) ⊂19 20"
   ]
  },
  {
   "cell_type": "code",
   "execution_count": 22,
   "metadata": {},
   "outputs": [
    {
     "data": {
      "text/html": [
       "<span style=\"white-space:pre; font-family: monospace\">#A###################\n",
       "#⎕..#...#...#.......#\n",
       "#⎕#####.#.#########.#\n",
       "#⎕..#.....#.#.#..⎕⎕⎕#\n",
       "#⎕#####.#.#.#.###⎕#⎕#\n",
       "#⎕#.....#.#⎕⎕⎕⎕⎕⎕⎕#⎕#\n",
       "#⎕#####.###⎕#####.#⎕#\n",
       "#⎕⎕⎕⎕⎕⎕⎕#⎕⎕⎕#...#.#⎕#\n",
       "#.###.#⎕#⎕#.#.#####⎕#\n",
       "#...#.#⎕⎕⎕#.#.#.#..⎕#\n",
       "###.#.#####.#.#.###⎕#\n",
       "#...#.#...#.#...#⎕⎕⎕#\n",
       "#######.#.#.###.#⎕###\n",
       "#.#.....#.....#.#⎕⎕⎕#\n",
       "#.###.#.#####.#.###⎕#\n",
       "#...#.#...#...#.#.#⎕#\n",
       "#.#######.#.#.#.#.#⎕#\n",
       "#...#.#.#.#.#...#⎕⎕⎕#\n",
       "###.#.#.#.#####.#⎕###\n",
       "#.............#.#⎕⎕⎕⎕\n",
       "#####################\n",
       "</span>"
      ]
     },
     "execution_count": 22,
     "metadata": {},
     "output_type": "execute_result"
    }
   ],
   "source": [
    "'⎕'@solution⊢maze"
   ]
  },
  {
   "cell_type": "code",
   "execution_count": null,
   "metadata": {},
   "outputs": [],
   "source": []
  }
 ],
 "metadata": {
  "kernelspec": {
   "display_name": "Dyalog APL",
   "language": "apl",
   "name": "dyalog-kernel"
  },
  "language_info": {
   "file_extension": ".apl",
   "mimetype": "text/apl",
   "name": "APL"
  }
 },
 "nbformat": 4,
 "nbformat_minor": 4
}
