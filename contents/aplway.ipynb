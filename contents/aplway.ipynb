{
 "cells": [
  {
   "cell_type": "markdown",
   "metadata": {},
   "source": [
    "# The APL Way\n",
    "\n",
    "> Every reader should ask himself periodically “Toward what end, toward what end?”—but do not ask it too often lest you pass up the fun of programming for the constipation of bittersweet philosophy. --_Alan Perlis_\n",
    "\n",
    "Up until now, we've skirted around one of the main advantages of APL -- array-oriented, or _data-parallel_ programming. This feels awkward and unnatural at first, but finding data-parallel approaches to problems is a skill that makes for efficient solutions in other languages, too, not just APL, and libraries such as Python's [NumPy](https://numpy.org/) encourages such solutions (it was inspired by APL, by the way).\n",
    "\n",
    "```{note}\n",
    "In this chapter, we'll be making some comparisons between data-parallel APL and \"loop & branch\" implementations in Python. We chose Python because its syntax is clean and understandable by a large proportion of programmers from other languages, too. In case it's not immediately obvious, no effort has been made to find optimal Python solutions here; indeed, quite the opposite. View the Python examples as pseudocode illustrations of the algorithms, and yes, we're fully aware that one can string together elegant, efficient Python solutions using iterator algebra and comprehensions.\n",
    "\n",
    "This isn't about the Python!\n",
    "```\n",
    "\n",
    "A few pointers -- Richard Park gave a series of webinars on [Thinking in APL](https://dyalog.tv/Webinar/?v=myoK22rq1jk) that you should check out, and Adám Brudzewski gave several interactive Cultivations dedicated to the topic, [Lesson 39 - Array programming techniques](https://chat.stackexchange.com/rooms/52405/conversation/lesson-39-array-programming-techniques) and [Lesson 42 - Array coding style in depth](https://chat.stackexchange.com/rooms/52405/conversation/lesson-42-array-coding-style-in-depth), too."
   ]
  },
  {
   "cell_type": "code",
   "execution_count": 1,
   "metadata": {},
   "outputs": [
    {
     "data": {
      "text/html": [
       "<span style=\"white-space:pre; font-family: monospace\">done\n",
       "\n",
       "Rebuilding user command cache... done\n",
       "</span>"
      ]
     },
     "execution_count": 1,
     "metadata": {},
     "output_type": "execute_result"
    }
   ],
   "source": [
    "⎕IO ← 0\n",
    "{}⎕SE.UCMD'box on -s=max -t=tree -f=on'\n",
    "{}⎕SE.UCMD'rows on'\n",
    "assert←{⍺←'assertion failure' ⋄ 0∊⍵:⍺ ⎕signal 8 ⋄ shy←0}"
   ]
  },
  {
   "cell_type": "markdown",
   "metadata": {},
   "source": [
    "## The power of the Array\n",
    "\n",
    "Several factors super-charge array-oriented programming in APL:\n",
    "\n",
    "1. Many operations on non-nested arrays are fast; _really_ fast, taking advantage of data parallelism in the processor (SIMD).\n",
    "2. By operating on whole arrays, we can -- with a bit of practice -- avoid branches, thus avoiding processor branch-prediction misses.\n",
    "3. Arrays in APL are implemented frugally when it comes to memory, especially boolean arrays.\n",
    "\n",
    "The helicopter pitch for the simplest case might go something like this. Here's a naive \"loop and branch\" way to pick all elemens matching some predicate in Python:\n",
    "\n",
    "```python\n",
    "def select(f, array): \n",
    "    \"\"\"Loop & branch\"\"\"\n",
    "    result = []\n",
    "    for element in array:\n",
    "        if f(element):\n",
    "            result.append(element)\n",
    "    return result\n",
    "```\n",
    "\n",
    "and here's a data-parallel version:\n",
    "```apl\n",
    "elems ← f array ⍝ Boolean mask\n",
    "elems/array     ⍝ Compress; i.e. pick elemets at 1s\n",
    "```\n",
    "\n",
    "Let's say we want to find the odd numbers in a sequence:"
   ]
  },
  {
   "cell_type": "code",
   "execution_count": 6,
   "metadata": {},
   "outputs": [
    {
     "data": {
      "text/html": [
       "<span style=\"white-space:pre; font-family: monospace\">1 3 5 7 9 11 13 15 17 19\n",
       "</span>"
      ]
     },
     "execution_count": 6,
     "metadata": {},
     "output_type": "execute_result"
    }
   ],
   "source": [
    "where ← 2|data ← ⍳20 ⍝ mod-2 for the whole array at once\n",
    "where/data"
   ]
  },
  {
   "cell_type": "markdown",
   "metadata": {},
   "source": [
    "In the APL version, there is no loop, and no branch. The data is simple, and most likely allocated contiguosly, and the CPU will be able to process several items in parallel for every cycle without any branch-prediction misses. Of course, with only 20 elements, algorithmic performance is a largely academic concern.\n",
    "\n",
    "We can think of many problems that can be solved using the pattern of a scalar selection function applied to an array. One example, given by Richard Park in his webinar mentioned above, is to pick out all vowels from a string:"
   ]
  },
  {
   "cell_type": "code",
   "execution_count": 7,
   "metadata": {},
   "outputs": [
    {
     "data": {
      "text/html": [
       "<span style=\"white-space:pre; font-family: monospace\">iouaoeoai\n",
       "</span>"
      ]
     },
     "execution_count": 7,
     "metadata": {},
     "output_type": "execute_result"
    }
   ],
   "source": [
    "'aeiou' {(⍵∊⍺)/⍵} 'pick out all vowels from a string'"
   ]
  },
  {
   "cell_type": "markdown",
   "metadata": {},
   "source": [
    "It's the same idea as the 'odd numbers' above: create a boolean mask using set membership (dyadic `∊`) and compress.\n",
    "\n",
    "## Luhn's Algorithm"
   ]
  },
  {
   "cell_type": "markdown",
   "metadata": {},
   "source": [
    "For something meatier, let's look at implementing [Luhn's](https://en.wikipedia.org/wiki/Luhn_algorithm) algorithm, an error-detecting code used for validating credit card numbers. This was used to illustrate array-oriented concepts by Dyalog CTO, [Morten Kromberg](https://aplwiki.com/wiki/Morten_Kromberg), at a [presentation](https://jiotalks.com/watch/204/home/Morten_Kromberg_&_Aaron_Hsu/Pragmatic_Array_Oriented_Functional_Programming) given at JIO. We'll follow Morten's clear explanation of this algorithm:\n",
    "\n",
    "1. Split the credit card number into a _body_ and the last digit, a _checksum_\n",
    "\n",
    "       Card number: 7 9 9 2 7 3 9 8 7 1 3\n",
    "       Body:        7 9 9 2 7 3 9 8 7 1    Checksum: 3\n",
    "       \n",
    "2. Multiply every other digit in the body by 2, starting from the last digit with a 2\n",
    "\n",
    "       Body:        7  9 9 2 7 3 9  8 7 1\n",
    "       Weights:     1  2 1 2 1 2 1  2 1 2\n",
    "                  ×______________________\n",
    "       Products:    7 18 9 4 7 6 9 16 7 2\n",
    "       \n",
    "3. Separate any numbers greater than 9 into their individual digits, and sum columns\n",
    "\n",
    "       Tens:        0 1 0 0 0 0 0 1 0 0\n",
    "       Units:       7 8 9 4 7 6 9 6 7 2\n",
    "                  +____________________\n",
    "       Sum:         7 9 9 4 7 6 9 7 7 2\n",
    "\n",
    "4. Sum the sums\n",
    "\n",
    "       Sum:         7+9+9+4+7+6+9+7+7+2 = 67\n",
    "       \n",
    "5. Sum the _digits_ of this, modulo 10:\n",
    "\n",
    "       Result:      (6+7)%10 = 3\n",
    "\n",
    "If the result equals the checksum, the card number is valid.\n",
    "\n",
    "Here's one way this could be implemented in Python:\n",
    "\n",
    "```python\n",
    "def luhn(cardnum):\n",
    "    checksum = 0\n",
    "    parity = len(cardnum) % 2\n",
    "    for index in range(len(cardnum)-1, -1, -1):\n",
    "        digit = cardnum[index]\n",
    "        if (index + 1) % 2 != parity:\n",
    "            digit *= 2\n",
    "            if digit > 9:\n",
    "                digit -= 9\n",
    "        checksum += digit\n",
    "\n",
    "    return checksum % 10 == 0\n",
    "```\n",
    "\n",
    "It may or may not be clear that the Python implementation follows the algorithm description. We step through the card number backwards making it easier to ensure that we get the factors right, regardless of the number of digits.\n",
    "\n",
    "Now let's implement this in APL. We can follow the algorithm description very closely.\n",
    "\n",
    "**1: Split the credit card number into a _body_ and the last digit, a _checksum_**"
   ]
  },
  {
   "cell_type": "code",
   "execution_count": 65,
   "metadata": {},
   "outputs": [
    {
     "data": {
      "text/html": [
       "<span style=\"white-space:pre; font-family: monospace\">┌→──────────────────┐\n",
       "│7 9 9 2 7 3 9 8 7 1│\n",
       "└~──────────────────┘\n",
       "</span>"
      ]
     },
     "execution_count": 65,
     "metadata": {},
     "output_type": "execute_result"
    },
    {
     "data": {
      "text/html": [
       "<span style=\"white-space:pre; font-family: monospace\"> \n",
       "3\n",
       " \n",
       "</span>"
      ]
     },
     "execution_count": 65,
     "metadata": {},
     "output_type": "execute_result"
    }
   ],
   "source": [
    "card ← 7 9 9 2 7 3 9 8 7 1 3\n",
    "\n",
    "⊢body ← (count←¯1+≢card)↑card\n",
    "⊢check ← ⊢/card"
   ]
  },
  {
   "cell_type": "markdown",
   "metadata": {},
   "source": [
    "**2: Multiply every other digit in the body by 2, starting from the last digit with a 2**"
   ]
  },
  {
   "cell_type": "code",
   "execution_count": 67,
   "metadata": {},
   "outputs": [
    {
     "data": {
      "text/html": [
       "<span style=\"white-space:pre; font-family: monospace\">┌→──────────────────┐\n",
       "│1 2 1 2 1 2 1 2 1 2│\n",
       "└~──────────────────┘\n",
       "</span>"
      ]
     },
     "execution_count": 67,
     "metadata": {},
     "output_type": "execute_result"
    },
    {
     "data": {
      "text/html": [
       "<span style=\"white-space:pre; font-family: monospace\">┌→────────────────────┐\n",
       "│7 18 9 4 7 6 9 16 7 2│\n",
       "└~────────────────────┘\n",
       "</span>"
      ]
     },
     "execution_count": 67,
     "metadata": {},
     "output_type": "execute_result"
    }
   ],
   "source": [
    "⊢weights ← count⍴(2|count)⌽1 2\n",
    "⊢products ← body×weights"
   ]
  },
  {
   "cell_type": "markdown",
   "metadata": {},
   "source": [
    "**3, 4. Separate any numbers greater than 9 into their individual digits, and sum**"
   ]
  },
  {
   "cell_type": "code",
   "execution_count": 79,
   "metadata": {},
   "outputs": [
    {
     "data": {
      "text/html": [
       "<span style=\"white-space:pre; font-family: monospace\">┌→──────────────────┐\n",
       "↓0 1 0 0 0 0 0 1 0 0│\n",
       "│7 8 9 4 7 6 9 6 7 2│\n",
       "└~──────────────────┘\n",
       "</span>"
      ]
     },
     "execution_count": 79,
     "metadata": {},
     "output_type": "execute_result"
    },
    {
     "data": {
      "text/html": [
       "<span style=\"white-space:pre; font-family: monospace\">  \n",
       "67\n",
       "  \n",
       "</span>"
      ]
     },
     "execution_count": 79,
     "metadata": {},
     "output_type": "execute_result"
    }
   ],
   "source": [
    "⊢digits ← 0 10⊤products ⍝ We can think of `0 10⊤` as divmod\n",
    "⊢sum ← +⌿,digits        ⍝ By raveling, we save doing sum the sum of cols"
   ]
  },
  {
   "cell_type": "markdown",
   "metadata": {},
   "source": [
    "**5. Digit sum, mod 10**"
   ]
  },
  {
   "cell_type": "code",
   "execution_count": 81,
   "metadata": {},
   "outputs": [
    {
     "data": {
      "text/html": [
       "<span style=\"white-space:pre; font-family: monospace\"> \n",
       "3\n",
       " \n",
       "</span>"
      ]
     },
     "execution_count": 81,
     "metadata": {},
     "output_type": "execute_result"
    }
   ],
   "source": [
    "10|-sum ⍝ Magic"
   ]
  },
  {
   "cell_type": "markdown",
   "metadata": {},
   "source": [
    "If we put all that together, we arrive at Morten's solution:"
   ]
  },
  {
   "cell_type": "code",
   "execution_count": 82,
   "metadata": {},
   "outputs": [],
   "source": [
    "]dinput\n",
    "luhn ← {\n",
    "    check ← ⊢/⍵\n",
    "    body ← (count←¯1+≢⍵)↑⍵\n",
    "    weights ← count⍴(2|count)⌽1 2\n",
    "    digits ← 0 10⊤body×weights\n",
    "    check=10|-+/,digits\n",
    "}"
   ]
  },
  {
   "cell_type": "code",
   "execution_count": 83,
   "metadata": {},
   "outputs": [],
   "source": [
    "assert luhn 7 9 9 2 7 3 9 8 7 1 3"
   ]
  },
  {
   "cell_type": "markdown",
   "metadata": {},
   "source": [
    "The Luhn algorithm was obviously chosen as an ideal fit for a data-parallel implementation. A few things stand out: firstly, the APL implementation follows the algorithm definition very closely, much closer than the Python version. Granted -- and this is an interesting experiment -- you can take the APL approach and implement a Python version following a similar pattern, albeit without array operations. Secondly, the solution is completely free or loops and branches. As Morten also observes, over 10 digits, there is no meaningful performance implication here, but it's not hard to imagine what would happen over a million or more digits."
   ]
  },
  {
   "cell_type": "markdown",
   "metadata": {},
   "source": [
    "## Right-align a block of text"
   ]
  },
  {
   "cell_type": "markdown",
   "metadata": {},
   "source": [
    "Let's work through a more comprehensive problem. Here's one of the Phase 1 tasks from the [Dyalog Problem Solving Competition](https://www.dyalog.com/student-competition.htm), 2021:\n",
    "\n",
    "Write a function that:\n",
    "\n",
    "* has a right argument `T` which is a character scalar, vector or a vector of character vectors\n",
    "* has a left argument `W` which is a positive integer specifying the width of the result\n",
    "* returns a right-aligned character array of shape `((2=≡T)/≢T),W`.\n",
    "* if an element of T has length greater than `W`, truncate it after `W` characters.\n",
    "\n",
    "The challenge here is not resorting to 'eaching' the rows, or employing some creative regexing. So let's treat this as an exercise in array-oriented problem solving.\n",
    "\n",
    "We're given a couple of examples of how the solution should behave for arrays of different ranks:"
   ]
  },
  {
   "cell_type": "code",
   "execution_count": 56,
   "metadata": {},
   "outputs": [
    {
     "data": {
      "text/html": [
       "<span style=\"white-space:pre; font-family: monospace\">┌→─────┐\n",
       "│     ⍒│\n",
       "└──────┘\n",
       "</span>"
      ]
     },
     "execution_count": 56,
     "metadata": {},
     "output_type": "execute_result"
    },
    {
     "data": {
      "text/html": [
       "<span style=\"white-space:pre; font-family: monospace\">┌→─────────┐\n",
       "│    Parade│\n",
       "└──────────┘\n",
       "</span>"
      ]
     },
     "execution_count": 56,
     "metadata": {},
     "output_type": "execute_result"
    },
    {
     "data": {
      "text/html": [
       "<span style=\"white-space:pre; font-family: monospace\">┌→───────┐\n",
       "↓Longer P│\n",
       "│     APL│\n",
       "│  Parade│\n",
       "└────────┘\n",
       "</span>"
      ]
     },
     "execution_count": 56,
     "metadata": {},
     "output_type": "execute_result"
    }
   ],
   "source": [
    "⍝ 6 Align '⍒'\n",
    "'     ⍒'\n",
    "\n",
    "⍝ 10 Align 'Parade'\n",
    "'    Parade'\n",
    "\n",
    "⍝ 8 Align 'Longer Phrase' 'APL' 'Parade'\n",
    "3 8⍴'Longer P     APL  Parade'"
   ]
  },
  {
   "cell_type": "markdown",
   "metadata": {},
   "source": [
    "A hint is given in the problem statement on where we could start: we're told what the shape should be of the resulting array: `((2=≡T)/≢T),W`. Given the result shape, we can try the following approach:\n",
    "\n",
    "Figure out the result shape, and squeeze the data into this shape, truncating if we need to. Locate trailling spaces. Prepend a space on each line, and then replicate by the number of trailling spaces.\n",
    "\n",
    "We're given the shape. In order for this to work for character scalars, a character vector, or vector of character vectors, we need to operate on the ravel of the right argument when finding the shape:"
   ]
  },
  {
   "cell_type": "code",
   "execution_count": 57,
   "metadata": {},
   "outputs": [
    {
     "data": {
      "text/html": [
       "<span style=\"white-space:pre; font-family: monospace\">┌→┐\n",
       "│6│\n",
       "└~┘\n",
       "</span>"
      ]
     },
     "execution_count": 57,
     "metadata": {},
     "output_type": "execute_result"
    },
    {
     "data": {
      "text/html": [
       "<span style=\"white-space:pre; font-family: monospace\">┌→─┐\n",
       "│10│\n",
       "└~─┘\n",
       "</span>"
      ]
     },
     "execution_count": 57,
     "metadata": {},
     "output_type": "execute_result"
    },
    {
     "data": {
      "text/html": [
       "<span style=\"white-space:pre; font-family: monospace\">┌→──┐\n",
       "│3 8│\n",
       "└~──┘\n",
       "</span>"
      ]
     },
     "execution_count": 57,
     "metadata": {},
     "output_type": "execute_result"
    }
   ],
   "source": [
    "6 {⍺,⍨(2=≡,⍵)/≢,⍵} '⍋'\n",
    "10 {⍺,⍨(2=≡,⍵)/≢,⍵} 'Parade'\n",
    "8 {⍺,⍨(2=≡,⍵)/≢,⍵} 'Longer Phrase' 'APL' 'Parade'"
   ]
  },
  {
   "cell_type": "markdown",
   "metadata": {},
   "source": [
    "To fit the data into that shape, we need to _mix_ the ravel (`↑,⍵`) to increase the rank and then _take_ `⍺` elements, rank 1 (along vectors), and then reshape. Let's explore what this means:"
   ]
  },
  {
   "cell_type": "code",
   "execution_count": 58,
   "metadata": {},
   "outputs": [
    {
     "data": {
      "text/html": [
       "<span style=\"white-space:pre; font-family: monospace\">┌→─┐\n",
       "│10│\n",
       "└~─┘\n",
       "</span>"
      ]
     },
     "execution_count": 58,
     "metadata": {},
     "output_type": "execute_result"
    },
    {
     "data": {
      "text/html": [
       "<span style=\"white-space:pre; font-family: monospace\">┌→─────┐\n",
       "│Parade│\n",
       "└──────┘\n",
       "</span>"
      ]
     },
     "execution_count": 58,
     "metadata": {},
     "output_type": "execute_result"
    },
    {
     "data": {
      "text/html": [
       "<span style=\"white-space:pre; font-family: monospace\">┌→─────────┐\n",
       "│Parade    │\n",
       "└──────────┘\n",
       "</span>"
      ]
     },
     "execution_count": 58,
     "metadata": {},
     "output_type": "execute_result"
    }
   ],
   "source": [
    "data ← 'Parade'\n",
    "⊢sh ← 10 {⍺,⍨(2=≡,⍵)/≢,⍵} data ⍝ Shape\n",
    "↑,data                         ⍝ Mix ravel (no change for a char vector)\n",
    "10↑⍤1⊢↑,data                   ⍝ (over)take, rank-1"
   ]
  },
  {
   "cell_type": "markdown",
   "metadata": {},
   "source": [
    "More interesting to consider is the nested vector case:"
   ]
  },
  {
   "cell_type": "code",
   "execution_count": 59,
   "metadata": {},
   "outputs": [
    {
     "data": {
      "text/html": [
       "<span style=\"white-space:pre; font-family: monospace\">┌→──┐\n",
       "│3 8│\n",
       "└~──┘\n",
       "</span>"
      ]
     },
     "execution_count": 59,
     "metadata": {},
     "output_type": "execute_result"
    },
    {
     "data": {
      "text/html": [
       "<span style=\"white-space:pre; font-family: monospace\">┌→────────────┐\n",
       "↓Longer Phrase│\n",
       "│APL          │\n",
       "│Parade       │\n",
       "└─────────────┘\n",
       "</span>"
      ]
     },
     "execution_count": 59,
     "metadata": {},
     "output_type": "execute_result"
    },
    {
     "data": {
      "text/html": [
       "<span style=\"white-space:pre; font-family: monospace\">┌→───────┐\n",
       "↓Longer P│\n",
       "│APL     │\n",
       "│Parade  │\n",
       "└────────┘\n",
       "</span>"
      ]
     },
     "execution_count": 59,
     "metadata": {},
     "output_type": "execute_result"
    }
   ],
   "source": [
    "data ← 'Longer Phrase' 'APL' 'Parade'\n",
    "⊢sh ← 8 {⍺,⍨(2=≡,⍵)/≢,⍵} data ⍝ Shape\n",
    "↑,data                        ⍝ Mix ravel\n",
    "⊢mat ← 8↑⍤1⊢↑,data            ⍝ (over)take, rank 1"
   ]
  },
  {
   "cell_type": "markdown",
   "metadata": {},
   "source": [
    "So far, so array-oriented! Now we need to find trailling spaces. The equal sign makes for an excellent search function! Where are the spaces?"
   ]
  },
  {
   "cell_type": "code",
   "execution_count": 60,
   "metadata": {},
   "outputs": [
    {
     "data": {
      "text/html": [
       "<span style=\"white-space:pre; font-family: monospace\">┌→──────────────┐\n",
       "↓0 0 0 0 0 0 1 0│\n",
       "│0 0 0 1 1 1 1 1│\n",
       "│0 0 0 0 0 0 1 1│\n",
       "└~──────────────┘\n",
       "</span>"
      ]
     },
     "execution_count": 60,
     "metadata": {},
     "output_type": "execute_result"
    }
   ],
   "source": [
    "' '=mat"
   ]
  },
  {
   "cell_type": "markdown",
   "metadata": {},
   "source": [
    "All well and good, but we need the _trailling_ spaces. A handy technique here is to _and-scan_, which is one of those APLisms that is so obvious (once someone pointed it out to you, you found it on APLCart, or you're a genius). It keeps all 1s from the beginning, and zeroes everything  after the first zero:"
   ]
  },
  {
   "cell_type": "code",
   "execution_count": 61,
   "metadata": {},
   "outputs": [
    {
     "data": {
      "text/html": [
       "<span style=\"white-space:pre; font-family: monospace\">┌→──────────────────┐\n",
       "│1 1 1 0 0 0 0 0 0 0│\n",
       "└~──────────────────┘\n",
       "</span>"
      ]
     },
     "execution_count": 61,
     "metadata": {},
     "output_type": "execute_result"
    }
   ],
   "source": [
    "∧\\1 1 1 0 0 0 1 0 1 0"
   ]
  },
  {
   "cell_type": "markdown",
   "metadata": {},
   "source": [
    "but that looks at _leading_ not trailling spaces, so we need to flip, and-scan, flip back:"
   ]
  },
  {
   "cell_type": "code",
   "execution_count": 62,
   "metadata": {},
   "outputs": [
    {
     "data": {
      "text/html": [
       "<span style=\"white-space:pre; font-family: monospace\">┌→──────────────┐\n",
       "↓0 0 0 0 0 0 0 0│\n",
       "│0 0 0 1 1 1 1 1│\n",
       "│0 0 0 0 0 0 1 1│\n",
       "└~──────────────┘\n",
       "</span>"
      ]
     },
     "execution_count": 62,
     "metadata": {},
     "output_type": "execute_result"
    }
   ],
   "source": [
    "⌽∧\\⌽' '=mat   ⍝ We're keeping on arraying"
   ]
  },
  {
   "cell_type": "markdown",
   "metadata": {},
   "source": [
    "Conceptually, we'll add extra spaces at the beginning of each line, the same number as any trailling spaces. In practice, we'll add a single space, and then use a replication vector to clone it the relevant number of times. Recall:"
   ]
  },
  {
   "cell_type": "code",
   "execution_count": 63,
   "metadata": {},
   "outputs": [
    {
     "data": {
      "text/html": [
       "<span style=\"white-space:pre; font-family: monospace\">┌→──────────┐\n",
       "│ ABCDEFGHIK│\n",
       "└───────────┘\n",
       "</span>"
      ]
     },
     "execution_count": 63,
     "metadata": {},
     "output_type": "execute_result"
    },
    {
     "data": {
      "text/html": [
       "<span style=\"white-space:pre; font-family: monospace\">┌→────────────────────┐\n",
       "│5 1 1 1 1 1 1 1 1 1 1│\n",
       "└~────────────────────┘\n",
       "</span>"
      ]
     },
     "execution_count": 63,
     "metadata": {},
     "output_type": "execute_result"
    },
    {
     "data": {
      "text/html": [
       "<span style=\"white-space:pre; font-family: monospace\">┌→──────────────┐\n",
       "│     ABCDEFGHIK│\n",
       "└───────────────┘\n",
       "</span>"
      ]
     },
     "execution_count": 63,
     "metadata": {},
     "output_type": "execute_result"
    }
   ],
   "source": [
    "⊢data ← ' ABCDEFGHIK'         ⍝ Note: leading space\n",
    "⊢repl ← 5 1 1 1 1 1 1 1 1 1 1 ⍝ Five spaces, one of everything else\n",
    "repl/data"
   ]
  },
  {
   "cell_type": "code",
   "execution_count": 52,
   "metadata": {},
   "outputs": [
    {
     "data": {
      "text/html": [
       "<span style=\"white-space:pre; font-family: monospace\">┌→────────┐\n",
       "↓ Longer P│\n",
       "│ APL     │\n",
       "│ Parade  │\n",
       "└─────────┘\n",
       "</span>"
      ]
     },
     "execution_count": 52,
     "metadata": {},
     "output_type": "execute_result"
    },
    {
     "data": {
      "text/html": [
       "<span style=\"white-space:pre; font-family: monospace\">┌→──────────────┐\n",
       "↓1 1 1 1 1 1 1 1│\n",
       "│1 1 1 0 0 0 0 0│\n",
       "│1 1 1 1 1 1 0 0│\n",
       "└~──────────────┘\n",
       "</span>"
      ]
     },
     "execution_count": 52,
     "metadata": {},
     "output_type": "execute_result"
    },
    {
     "data": {
      "text/html": [
       "<span style=\"white-space:pre; font-family: monospace\">┌→────┐\n",
       "│0 5 2│\n",
       "└~────┘\n",
       "</span>"
      ]
     },
     "execution_count": 52,
     "metadata": {},
     "output_type": "execute_result"
    },
    {
     "data": {
      "text/html": [
       "<span style=\"white-space:pre; font-family: monospace\">┌→────────────────┐\n",
       "↓0 1 1 1 1 1 1 1 1│\n",
       "│5 1 1 1 0 0 0 0 0│\n",
       "│2 1 1 1 1 1 1 0 0│\n",
       "└~────────────────┘\n",
       "</span>"
      ]
     },
     "execution_count": 52,
     "metadata": {},
     "output_type": "execute_result"
    }
   ],
   "source": [
    "trailling ← ⌽∧\\⌽' '=mat ⍝ Find trailling spaces, as per above\n",
    "⊢spaced ← ' ',mat       ⍝ Add a space as the first char of each row\n",
    "⊢keepers ← ~trailling   ⍝ Everything not a trailling space\n",
    "⊢padding ← +/trailling  ⍝ Amount of leading padding to be inserted per row\n",
    "⊢repl ← padding,keepers ⍝ Number of replications per character"
   ]
  },
  {
   "cell_type": "markdown",
   "metadata": {},
   "source": [
    "Now what remains is to do the replication and ensure that everything gets the shape it should have. "
   ]
  },
  {
   "cell_type": "code",
   "execution_count": 53,
   "metadata": {},
   "outputs": [
    {
     "data": {
      "text/html": [
       "<span style=\"white-space:pre; font-family: monospace\">┌→───────┐\n",
       "↓Longer P│\n",
       "│     APL│\n",
       "│  Parade│\n",
       "└────────┘\n",
       "</span>"
      ]
     },
     "execution_count": 53,
     "metadata": {},
     "output_type": "execute_result"
    }
   ],
   "source": [
    "repl/⍤1⊢spaced ⍝ Replicate along vectors"
   ]
  },
  {
   "cell_type": "markdown",
   "metadata": {},
   "source": [
    "That's it! Putting it all together, we get the following:"
   ]
  },
  {
   "cell_type": "code",
   "execution_count": 54,
   "metadata": {},
   "outputs": [],
   "source": [
    "]dinput\n",
    "Align ← {\n",
    "    shape ← ⍺,⍨(2=≡,⍵)/≢,⍵  ⍝ Shape, as specified\n",
    "    mat ← ⍺↑⍤1⊢↑,⍵          ⍝ Truncate rank 1\n",
    "    trailling ← ⌽∧\\⌽' '=mat ⍝ Find trailling spaces\n",
    "    spaced ← ' ',mat        ⍝ Add a space as the first char of each row\n",
    "    keepers ← ~trailling    ⍝ Everything not a trailling space\n",
    "    padding ← +/trailling   ⍝ Amount of leading padding to be inserted per row\n",
    "    repl ← padding,keepers  ⍝ Number of replications per character\n",
    "    repl/⍤1⊢spaced          ⍝ Replicate rank 1\n",
    "}"
   ]
  },
  {
   "cell_type": "code",
   "execution_count": 55,
   "metadata": {},
   "outputs": [
    {
     "data": {
      "text/html": [
       "<span style=\"white-space:pre; font-family: monospace\">┌→─────┐\n",
       "│     ⍋│\n",
       "└──────┘\n",
       "</span>"
      ]
     },
     "execution_count": 55,
     "metadata": {},
     "output_type": "execute_result"
    },
    {
     "data": {
      "text/html": [
       "<span style=\"white-space:pre; font-family: monospace\">┌→─────────┐\n",
       "│    Parade│\n",
       "└──────────┘\n",
       "</span>"
      ]
     },
     "execution_count": 55,
     "metadata": {},
     "output_type": "execute_result"
    },
    {
     "data": {
      "text/html": [
       "<span style=\"white-space:pre; font-family: monospace\">┌→───────┐\n",
       "↓Longer P│\n",
       "│     APL│\n",
       "│  Parade│\n",
       "└────────┘\n",
       "</span>"
      ]
     },
     "execution_count": 55,
     "metadata": {},
     "output_type": "execute_result"
    }
   ],
   "source": [
    "6 Align '⍋'\n",
    "10 Align 'Parade'\n",
    "8 Align 'Longer Phrase' 'APL' 'Parade'"
   ]
  },
  {
   "cell_type": "markdown",
   "metadata": {},
   "source": [
    "Pretty cool, eh? As an exercise, now shrink that to a one-liner suitable for submitting as a competition entry."
   ]
  },
  {
   "cell_type": "markdown",
   "metadata": {},
   "source": [
    "Shall we do one more?\n",
    "\n",
    "## FizzBuzz\n",
    "\n",
    "Adám Brudzewski used the classic FizzBuzz problem -- the darling of technical interviewers everywhere -- as an illustration in one of his Cultivation lessions, [Lesson 39 - Array programming techniques](https://chat.stackexchange.com/rooms/52405/conversation/lesson-39-array-programming-techniques).\n",
    "\n",
    "Wikipedia has the following to say about [FizzBuzz](https://en.wikipedia.org/wiki/Fizz_buzz):\n",
    "\n",
    "> Fizz buzz is a group word game for children to teach them about division. Players take turns to count incrementally, replacing any number divisible by three with the word \"fizz\", and any number divisible by five with the word \"buzz\". \n",
    "\n",
    "but most programmers will be familiar with it as a task frequently set as a technical challenge in job interviews. In fact, we've seen an APL version of this already. Right at the beginning it was used as an illustration of a _trad function_.\n",
    "\n",
    "Here's a \"loopy\" version as an APL dfn, for context:"
   ]
  },
  {
   "cell_type": "code",
   "execution_count": 89,
   "metadata": {},
   "outputs": [
    {
     "data": {
      "text/html": [
       "<span style=\"white-space:pre; font-family: monospace\">┌→───────────────────────────────────────────────────────────────────────────┐\n",
       "│     ┌→───┐   ┌→───┐ ┌→───┐     ┌→───┐ ┌→───┐    ┌→───┐       ┌→───────┐    │\n",
       "│ 1 2 │Fizz│ 4 │Buzz│ │Fizz│ 7 8 │Fizz│ │Buzz│ 11 │Fizz│ 13 14 │FizzBuzz│ 16 │\n",
       "│     └────┘   └────┘ └────┘     └────┘ └────┘    └────┘       └────────┘    │\n",
       "└∊───────────────────────────────────────────────────────────────────────────┘\n",
       "</span>"
      ]
     },
     "execution_count": 89,
     "metadata": {},
     "output_type": "execute_result"
    }
   ],
   "source": [
    "{⊃⍵ 'Fizz' 'Buzz' 'FizzBuzz'[+/1 2×0=3 5|⍵]}¨1+⍳16 ⍝ Requires ⎕IO←0"
   ]
  },
  {
   "cell_type": "markdown",
   "metadata": {},
   "source": [
    "Can we do better, given what we've already learnt? Let's ponder what an array solution might look like. "
   ]
  },
  {
   "cell_type": "markdown",
   "metadata": {},
   "source": [
    "Let's begin by creating a boolean mask showing the positions of the numbers which are divisible by 3 (the \"fizzes\") and those divisible by 5 (the \"buzzes\"). We can do that as an outer product:"
   ]
  },
  {
   "cell_type": "code",
   "execution_count": 186,
   "metadata": {},
   "outputs": [
    {
     "data": {
      "text/html": [
       "<span style=\"white-space:pre; font-family: monospace\">┌→──────────────────────────────┐\n",
       "↓0 0 1 0 0 1 0 0 1 0 0 1 0 0 1 0│\n",
       "│0 0 0 0 1 0 0 0 0 1 0 0 0 0 1 0│\n",
       "└~──────────────────────────────┘\n",
       "</span>"
      ]
     },
     "execution_count": 186,
     "metadata": {},
     "output_type": "execute_result"
    }
   ],
   "source": [
    "data ← 1+⍳16\n",
    "⊢fizzbuzz ← 0=3 5∘.|data"
   ]
  },
  {
   "cell_type": "markdown",
   "metadata": {},
   "source": [
    "So the columns that have only zeros in them represent the \"numbers\" - the \"non-fizzbuzzy\" bits. Let's add a new row to our matrix to make this clear:"
   ]
  },
  {
   "cell_type": "code",
   "execution_count": 187,
   "metadata": {},
   "outputs": [
    {
     "data": {
      "text/html": [
       "<span style=\"white-space:pre; font-family: monospace\">┌→──────────────────────────────┐\n",
       "↓1 1 0 1 0 0 1 1 0 0 1 0 1 1 0 1│\n",
       "│0 0 1 0 0 1 0 0 1 0 0 1 0 0 1 0│\n",
       "│0 0 0 0 1 0 0 0 0 1 0 0 0 0 1 0│\n",
       "└~──────────────────────────────┘\n",
       "</span>"
      ]
     },
     "execution_count": 187,
     "metadata": {},
     "output_type": "execute_result"
    }
   ],
   "source": [
    "⊢mat ← (⍱⌿⍪⊢)fizzbuzz  ⍝ Tacit for {(⍱⌿⍵)⍪⍵} -- column-wise logical NOR as the new first row"
   ]
  },
  {
   "cell_type": "markdown",
   "metadata": {},
   "source": [
    "If we now multiply the first row by our input numbers, we have the numbers that aren't \"fizzbuzzy\""
   ]
  },
  {
   "cell_type": "code",
   "execution_count": 192,
   "metadata": {},
   "outputs": [
    {
     "data": {
      "text/html": [
       "<span style=\"white-space:pre; font-family: monospace\">┌→────────────────────────────────────────────────────────────────────────────────────┐\n",
       "↓                                                                                     │\n",
       "│ 1 8 0      64 0      0      343 512 0      0      1331 0      2197 2744 0      4096 │\n",
       "│                                                                                     │\n",
       "│     ┌→───┐           ┌→───┐         ┌→───┐             ┌→───┐           ┌→───┐      │\n",
       "│ 0 0 │fizz│ 0  0      │fizz│ 0   0   │fizz│ 0      0    │fizz│ 0    0    │fizz│ 0    │\n",
       "│     └────┘           └────┘         └────┘             └────┘           └────┘      │\n",
       "│               ┌→───┐                       ┌→───┐                       ┌→───┐      │\n",
       "│ 0 0 0      0  │buzz│ 0      0   0   0      │buzz│ 0    0      0    0    │buzz│ 0    │\n",
       "│               └────┘                       └────┘                       └────┘      │\n",
       "└∊────────────────────────────────────────────────────────────────────────────────────┘\n",
       "</span>"
      ]
     },
     "execution_count": 192,
     "metadata": {},
     "output_type": "execute_result"
    }
   ],
   "source": [
    "mat×@0⍨←data ⍝ Check that out! Modified assignment\n",
    "mat"
   ]
  },
  {
   "cell_type": "markdown",
   "metadata": {},
   "source": [
    "Now we substitute all 1s for \"fizz\" in the second row, and for \"buzz\" in the third row:"
   ]
  },
  {
   "cell_type": "code",
   "execution_count": 189,
   "metadata": {},
   "outputs": [
    {
     "data": {
      "text/html": [
       "<span style=\"white-space:pre; font-family: monospace\">┌→───────────────────────────────────────────────────────────────────────┐\n",
       "↓                                                                        │\n",
       "│ 1 2 0      4 0      0      7 8 0      0      11 0      13 14 0      16 │\n",
       "│                                                                        │\n",
       "│     ┌→───┐          ┌→───┐     ┌→───┐           ┌→───┐       ┌→───┐    │\n",
       "│ 0 0 │fizz│ 0 0      │fizz│ 0 0 │fizz│ 0      0  │fizz│ 0  0  │fizz│ 0  │\n",
       "│     └────┘          └────┘     └────┘           └────┘       └────┘    │\n",
       "│              ┌→───┐                   ┌→───┐                 ┌→───┐    │\n",
       "│ 0 0 0      0 │buzz│ 0      0 0 0      │buzz│ 0  0      0  0  │buzz│ 0  │\n",
       "│              └────┘                   └────┘                 └────┘    │\n",
       "└∊───────────────────────────────────────────────────────────────────────┘\n",
       "</span>"
      ]
     },
     "execution_count": 189,
     "metadata": {},
     "output_type": "execute_result"
    }
   ],
   "source": [
    "mat[↓1,⍤0 0⊢⍸1⌷mat]←⊂'fizz'\n",
    "mat[↓2,⍤0 0⊢⍸2⌷mat]←⊂'buzz'\n",
    "mat"
   ]
  },
  {
   "cell_type": "markdown",
   "metadata": {},
   "source": [
    "Merge columns, remove zeros:"
   ]
  },
  {
   "cell_type": "code",
   "execution_count": 190,
   "metadata": {},
   "outputs": [
    {
     "data": {
      "text/html": [
       "<span style=\"white-space:pre; font-family: monospace\">┌→─────────────────────────────────────────────────────────────────────────────────────────────┐\n",
       "│ ┌→┐ ┌→┐ ┌→───┐ ┌→┐ ┌→───┐ ┌→───┐ ┌→┐ ┌→┐ ┌→───┐ ┌→───┐ ┌→─┐ ┌→───┐ ┌→─┐ ┌→─┐ ┌→───────┐ ┌→─┐ │\n",
       "│ │1│ │2│ │fizz│ │4│ │buzz│ │fizz│ │7│ │8│ │fizz│ │buzz│ │11│ │fizz│ │13│ │14│ │fizzbuzz│ │16│ │\n",
       "│ └~┘ └~┘ └────┘ └~┘ └────┘ └────┘ └~┘ └~┘ └────┘ └────┘ └~─┘ └────┘ └~─┘ └~─┘ └────────┘ └~─┘ │\n",
       "└∊─────────────────────────────────────────────────────────────────────────────────────────────┘\n",
       "</span>"
      ]
     },
     "execution_count": 190,
     "metadata": {},
     "output_type": "execute_result"
    }
   ],
   "source": [
    "0~⍨¨,⌿mat"
   ]
  },
  {
   "cell_type": "markdown",
   "metadata": {},
   "source": [
    "Nice. One unavoidable \"each\", right at the end."
   ]
  },
  {
   "cell_type": "code",
   "execution_count": null,
   "metadata": {},
   "outputs": [],
   "source": []
  }
 ],
 "metadata": {
  "kernelspec": {
   "display_name": "Dyalog APL",
   "language": "apl",
   "name": "dyalog-kernel"
  },
  "language_info": {
   "file_extension": ".apl",
   "mimetype": "text/apl",
   "name": "APL"
  }
 },
 "nbformat": 4,
 "nbformat_minor": 4
}
