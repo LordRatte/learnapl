{
 "cells": [
  {
   "cell_type": "markdown",
   "metadata": {},
   "source": [
    "# The APL Way\n",
    "\n",
    "> Every reader should ask himself periodically “Toward what end, toward what end?”—but do not ask it too often lest you pass up the fun of programming for the constipation of bittersweet philosophy. --_Alan Perlis_\n",
    "\n",
    "Up until now, we've skirted around one of the main advantages of APL -- array-oriented, or _data-parallel_ programming. This feels awkward and unnatural at first, but finding data-parallel approaches to problems is a skill that makes for efficient solutions in other languages, too, not just APL, and libraries such as Python's [NumPy](https://numpy.org/) encourages such solutions (it was inspired by APL, by the way).\n",
    "\n",
    "```{note}\n",
    "In this chapter, we'll be making some comparisons between data-parallel APL and \"loop & branch\" implementations in Python. We chose Python because its syntax is clean and understandable by a large proportion of programmers from other languages, too. In case it's not immediately obvious, no effort has been made to find optimal Python solutions here; indeed, quite the opposite. View the Python examples as pseudocode illustrations of the algorithms, and yes, we're fully aware that one can string together elegant, efficient Python solutions using iterator algebra and comprehensions.\n",
    "\n",
    "This isn't about the Python!\n",
    "```\n",
    "\n",
    "A few pointers -- Richard Park gave a series of webinars on [Thinking in APL](https://dyalog.tv/Webinar/?v=myoK22rq1jk) that you should check out, and Adám Brudzewski gave several interactive Cultivations dedicated to the topic, [Lesson 39 - Array programming techniques](https://chat.stackexchange.com/rooms/52405/conversation/lesson-39-array-programming-techniques) and [Lesson 42 - Array coding style in depth](https://chat.stackexchange.com/rooms/52405/conversation/lesson-42-array-coding-style-in-depth), too."
   ]
  },
  {
   "cell_type": "code",
   "execution_count": 29,
   "metadata": {
    "tags": [
     "hide-output"
    ]
   },
   "outputs": [
    {
     "data": {
      "text/html": [
       "<span style=\"white-space:pre; font-family: monospace\">Was ON -style=max -trains=tree -fns=on\n",
       "</span>"
      ]
     },
     "execution_count": 29,
     "metadata": {},
     "output_type": "execute_result"
    },
    {
     "data": {
      "text/html": [
       "<span style=\"white-space:pre; font-family: monospace\">Was ON\n",
       "</span>"
      ]
     },
     "execution_count": 29,
     "metadata": {},
     "output_type": "execute_result"
    }
   ],
   "source": [
    "⎕IO ← 0\n",
    "]box on -s=min -t=tree -f=on\n",
    "]rows on\n",
    "assert←{⍺←'assertion failure' ⋄ 0∊⍵:⍺ ⎕signal 8 ⋄ shy←0}"
   ]
  },
  {
   "cell_type": "markdown",
   "metadata": {},
   "source": [
    "## The power of the Array\n",
    "\n",
    "Several factors super-charge array-oriented programming in APL:\n",
    "\n",
    "1. Many operations on non-nested arrays are fast; _really_ fast, taking advantage of data parallelism in the processor (SIMD).\n",
    "2. By operating on whole arrays, we can -- with a bit of practice -- avoid branches, thus avoiding processor branch-prediction misses.\n",
    "3. Arrays in APL are implemented frugally when it comes to memory, especially boolean arrays.\n",
    "\n",
    "The helicopter pitch for the simplest case might go something like this. Here's a naive \"loop and branch\" way to pick all elemens matching some predicate in Python:\n",
    "\n",
    "```python\n",
    "def select(f, array): \n",
    "    \"\"\"Loop & branch\"\"\"\n",
    "    result = []\n",
    "    for element in array:\n",
    "        if f(element):\n",
    "            result.append(element)\n",
    "    return result\n",
    "```\n",
    "\n",
    "and here's a data-parallel version:\n",
    "```apl\n",
    "elems ← f array ⍝ Boolean mask\n",
    "elems/array     ⍝ Compress; i.e. pick elemets at 1s\n",
    "```\n",
    "\n",
    "Let's say we want to find the odd numbers in a sequence:"
   ]
  },
  {
   "cell_type": "code",
   "execution_count": 6,
   "metadata": {},
   "outputs": [
    {
     "data": {
      "text/html": [
       "<span style=\"white-space:pre; font-family: monospace\">1 3 5 7 9 11 13 15 17 19\n",
       "</span>"
      ]
     },
     "execution_count": 6,
     "metadata": {},
     "output_type": "execute_result"
    }
   ],
   "source": [
    "where ← 2|data ← ⍳20 ⍝ mod-2 for the whole array at once\n",
    "where/data"
   ]
  },
  {
   "cell_type": "markdown",
   "metadata": {},
   "source": [
    "In the APL version, there is no loop, and no branch. The data is simple, and most likely allocated contiguosly, and the CPU will be able to process several items in parallel for every cycle without any branch-prediction misses. Of course, with only 20 elements, algorithmic performance is a largely academic concern.\n",
    "\n",
    "We can think of many problems that can be solved using the pattern of a scalar selection function applied to an array. One example, given by Richard Park in his webinar mentioned above, is to pick out all vowels from a string:"
   ]
  },
  {
   "cell_type": "code",
   "execution_count": 7,
   "metadata": {},
   "outputs": [
    {
     "data": {
      "text/html": [
       "<span style=\"white-space:pre; font-family: monospace\">iouaoeoai\n",
       "</span>"
      ]
     },
     "execution_count": 7,
     "metadata": {},
     "output_type": "execute_result"
    }
   ],
   "source": [
    "'aeiou' {(⍵∊⍺)/⍵} 'pick out all vowels from a string'"
   ]
  },
  {
   "cell_type": "markdown",
   "metadata": {},
   "source": [
    "It's the same idea as the 'odd numbers' above: create a boolean mask using set membership (dyadic `∊`) and compress.\n",
    "\n",
    "## Luhn's Algorithm"
   ]
  },
  {
   "cell_type": "markdown",
   "metadata": {},
   "source": [
    "For something meatier, let's look at implementing [Luhn's](https://en.wikipedia.org/wiki/Luhn_algorithm) algorithm, an error-detecting code used for validating credit card numbers. This was used to illustrate array-oriented concepts by Dyalog CTO, [Morten Kromberg](https://aplwiki.com/wiki/Morten_Kromberg), at a [presentation](https://jiotalks.com/watch/204/home/Morten_Kromberg_&_Aaron_Hsu/Pragmatic_Array_Oriented_Functional_Programming) given at JIO. We'll follow Morten's clear explanation of this algorithm:\n",
    "\n",
    "1. Split the credit card number into a _body_ and the last digit, a _checksum_\n",
    "\n",
    "       Card number: 7 9 9 2 7 3 9 8 7 1 3\n",
    "       Body:        7 9 9 2 7 3 9 8 7 1    Checksum: 3\n",
    "       \n",
    "2. Multiply every other digit in the body by 2, starting from the last digit with a 2\n",
    "\n",
    "       Body:        7  9 9 2 7 3 9  8 7 1\n",
    "       Weights:     1  2 1 2 1 2 1  2 1 2\n",
    "                  ×______________________\n",
    "       Products:    7 18 9 4 7 6 9 16 7 2\n",
    "       \n",
    "3. Separate any numbers greater than 9 into their individual digits, and sum columns\n",
    "\n",
    "       Tens:        0 1 0 0 0 0 0 1 0 0\n",
    "       Units:       7 8 9 4 7 6 9 6 7 2\n",
    "                  +____________________\n",
    "       Sum:         7 9 9 4 7 6 9 7 7 2\n",
    "\n",
    "4. Sum the sums\n",
    "\n",
    "       Sum:         7+9+9+4+7+6+9+7+7+2 = 67\n",
    "       \n",
    "5. Sum the _digits_ of this, modulo 10:\n",
    "\n",
    "       Result:      (6+7)%10 = 3\n",
    "\n",
    "If the result equals the checksum, the card number is valid.\n",
    "\n",
    "Here's one way this could be implemented in Python:\n",
    "\n",
    "```python\n",
    "def luhn(cardnum):\n",
    "    checksum = 0\n",
    "    parity = len(cardnum) % 2\n",
    "    for index in range(len(cardnum)-1, -1, -1):\n",
    "        digit = cardnum[index]\n",
    "        if (index + 1) % 2 != parity:\n",
    "            digit *= 2\n",
    "            if digit > 9:\n",
    "                digit -= 9\n",
    "        checksum += digit\n",
    "\n",
    "    return checksum % 10 == 0\n",
    "```\n",
    "\n",
    "It may or may not be clear that the Python implementation follows the algorithm description. We step through the card number backwards making it easier to ensure that we get the factors right, regardless of the number of digits.\n",
    "\n",
    "Now let's implement this in APL. We can follow the algorithm description very closely.\n",
    "\n",
    "**1: Split the credit card number into a _body_ and the last digit, a _checksum_**"
   ]
  },
  {
   "cell_type": "code",
   "execution_count": 65,
   "metadata": {},
   "outputs": [
    {
     "data": {
      "text/html": [
       "<span style=\"white-space:pre; font-family: monospace\">┌→──────────────────┐\n",
       "│7 9 9 2 7 3 9 8 7 1│\n",
       "└~──────────────────┘\n",
       "</span>"
      ]
     },
     "execution_count": 65,
     "metadata": {},
     "output_type": "execute_result"
    },
    {
     "data": {
      "text/html": [
       "<span style=\"white-space:pre; font-family: monospace\"> \n",
       "3\n",
       " \n",
       "</span>"
      ]
     },
     "execution_count": 65,
     "metadata": {},
     "output_type": "execute_result"
    }
   ],
   "source": [
    "card ← 7 9 9 2 7 3 9 8 7 1 3\n",
    "\n",
    "⊢body ← (count←¯1+≢card)↑card\n",
    "⊢check ← ⊢/card"
   ]
  },
  {
   "cell_type": "markdown",
   "metadata": {},
   "source": [
    "**2: Multiply every other digit in the body by 2, starting from the last digit with a 2**"
   ]
  },
  {
   "cell_type": "code",
   "execution_count": 67,
   "metadata": {},
   "outputs": [
    {
     "data": {
      "text/html": [
       "<span style=\"white-space:pre; font-family: monospace\">┌→──────────────────┐\n",
       "│1 2 1 2 1 2 1 2 1 2│\n",
       "└~──────────────────┘\n",
       "</span>"
      ]
     },
     "execution_count": 67,
     "metadata": {},
     "output_type": "execute_result"
    },
    {
     "data": {
      "text/html": [
       "<span style=\"white-space:pre; font-family: monospace\">┌→────────────────────┐\n",
       "│7 18 9 4 7 6 9 16 7 2│\n",
       "└~────────────────────┘\n",
       "</span>"
      ]
     },
     "execution_count": 67,
     "metadata": {},
     "output_type": "execute_result"
    }
   ],
   "source": [
    "⊢weights ← count⍴(2|count)⌽1 2\n",
    "⊢products ← body×weights"
   ]
  },
  {
   "cell_type": "markdown",
   "metadata": {},
   "source": [
    "**3, 4. Separate any numbers greater than 9 into their individual digits, and sum**"
   ]
  },
  {
   "cell_type": "code",
   "execution_count": 79,
   "metadata": {},
   "outputs": [
    {
     "data": {
      "text/html": [
       "<span style=\"white-space:pre; font-family: monospace\">┌→──────────────────┐\n",
       "↓0 1 0 0 0 0 0 1 0 0│\n",
       "│7 8 9 4 7 6 9 6 7 2│\n",
       "└~──────────────────┘\n",
       "</span>"
      ]
     },
     "execution_count": 79,
     "metadata": {},
     "output_type": "execute_result"
    },
    {
     "data": {
      "text/html": [
       "<span style=\"white-space:pre; font-family: monospace\">  \n",
       "67\n",
       "  \n",
       "</span>"
      ]
     },
     "execution_count": 79,
     "metadata": {},
     "output_type": "execute_result"
    }
   ],
   "source": [
    "⊢digits ← 0 10⊤products ⍝ We can think of `0 10⊤` as divmod\n",
    "⊢sum ← +⌿,digits        ⍝ By raveling, we save doing sum the sum of cols"
   ]
  },
  {
   "cell_type": "markdown",
   "metadata": {},
   "source": [
    "**5. Digit sum, mod 10**"
   ]
  },
  {
   "cell_type": "code",
   "execution_count": 81,
   "metadata": {},
   "outputs": [
    {
     "data": {
      "text/html": [
       "<span style=\"white-space:pre; font-family: monospace\"> \n",
       "3\n",
       " \n",
       "</span>"
      ]
     },
     "execution_count": 81,
     "metadata": {},
     "output_type": "execute_result"
    }
   ],
   "source": [
    "10|-sum ⍝ Magic"
   ]
  },
  {
   "cell_type": "markdown",
   "metadata": {},
   "source": [
    "If we put all that together, we arrive at Morten's solution:"
   ]
  },
  {
   "cell_type": "code",
   "execution_count": 82,
   "metadata": {},
   "outputs": [],
   "source": [
    "]dinput\n",
    "luhn ← {\n",
    "    check ← ⊢/⍵\n",
    "    body ← (count←¯1+≢⍵)↑⍵\n",
    "    weights ← count⍴(2|count)⌽1 2\n",
    "    digits ← 0 10⊤body×weights\n",
    "    check=10|-+/,digits\n",
    "}"
   ]
  },
  {
   "cell_type": "code",
   "execution_count": 83,
   "metadata": {},
   "outputs": [],
   "source": [
    "assert luhn 7 9 9 2 7 3 9 8 7 1 3"
   ]
  },
  {
   "cell_type": "markdown",
   "metadata": {},
   "source": [
    "The Luhn algorithm was obviously chosen as an ideal fit for a data-parallel implementation. A few things stand out: firstly, the APL implementation follows the algorithm definition very closely, much closer than the Python version. Granted -- and this is an interesting experiment -- you can take the APL approach and implement a Python version following a similar pattern, albeit without array operations. Secondly, the solution is completely free or loops and branches. As Morten also observes, over 10 digits, there is no meaningful performance implication here, but it's not hard to imagine what would happen over a million or more digits."
   ]
  },
  {
   "cell_type": "markdown",
   "metadata": {},
   "source": [
    "## Balancing the Scales\n",
    "\n",
    "This is Problem 8, Phase II from the 2020 Dyalog problem solving competition. You can see the problem statement [here](https://www.dyalog.com/uploads/files/student_competition/2020_problems_phase2.pdf). Obviously, there are spoilers to follow -- if you want to have a crack at it yourself, stop reading here.\n",
    "\n",
    "Our task is to partition a set of numbers into two groups of equal sum if this is possible, or return `⍬` if not. This is a well-known NP-hard problem, called [The Partition Problem](https://en.wikipedia.org/wiki/Partition_problem), and as such has no fast, always correct solutions for the general case. The problem statement indicates that we only need to consider a set of 20 numbers or fewer, which is a bit of a hint on what kind of solution is expected.\n",
    "\n",
    "This problem, in common with many other NP problems, also has a plethora of interesting heuristic solutions: faster algorithms that whilst not guaranteed to always find the optimal solution will either get close, or be correct for a significant subset of the problem domain in a fraction of the time the exhaustive search would take. We'll look at one of these approaches, too, although it probably wasn't what Dyalog wanted in terms of the competition (I might be wrong; I didn't take part at the time).\n",
    "\n",
    "So given that we have a defined upper bound, and that Dyalog wants the solution to be optimal for all inputs up to this bound, and we know this problem to be NP-hard, we're looking at an exhaustive search of some sort. We can also guess that given this is a Dyalog competition problem, whilst the algorithm might be crude, we should be able to exploit APL's fast array processing to implement it efficiently.\n",
    "\n",
    "The algorithm (if we can call it that) is simply to try every possible combination in which the numbers can be put into two separate piles and check if the sums of the two subsets are equal. If we have `n` items in our set, that corresponds to considering all numbers up to `¯1+2*n` in binary (recall  that `*` is exponentiation, not multiplication), and the two sets correspond to those matching the 0 bits and 1 bits respectively. For example, if we have the numbers 1, 1 and 2 we need to consider the following partitions (although we can skip the first and last):\n",
    "\n",
    "    (0: 0 0 0)\n",
    "     1: 0 0 1\n",
    "     2: 0 1 0\n",
    "     3: 0 1 1\n",
    "     4: 1 0 0\n",
    "     5: 1 0 1\n",
    "     6: 1 1 0\n",
    "    (7: 1 1 1)\n",
    "    \n",
    "In this case, the solution would be 1 1 0, corresponding to the partitioning `(1 1)(,2)`.\n",
    "\n",
    "So what are we dealing with here, in terms of the search space? "
   ]
  },
  {
   "cell_type": "code",
   "execution_count": 3,
   "metadata": {},
   "outputs": [
    {
     "data": {
      "text/html": [
       "<span style=\"white-space:pre; font-family: monospace\">1048575\n",
       "</span>"
      ]
     },
     "execution_count": 3,
     "metadata": {},
     "output_type": "execute_result"
    }
   ],
   "source": [
    "¯1+2*20"
   ]
  },
  {
   "cell_type": "markdown",
   "metadata": {},
   "source": [
    "A million or so different partitions to check, which should be manageable. The search space doubles in size for each additional item, which is something alluded to in the [old fable](https://en.wikipedia.org/wiki/Wheat_and_chessboard_problem) about the inventor of Chess:"
   ]
  },
  {
   "cell_type": "code",
   "execution_count": 30,
   "metadata": {},
   "outputs": [
    {
     "data": {
      "text/html": [
       "<span style=\"white-space:pre; font-family: monospace\">2097151 4194303 8388607 16777215 33554431 67108863 134217727 268435455 536870911\n",
       "</span>"
      ]
     },
     "execution_count": 30,
     "metadata": {},
     "output_type": "execute_result"
    }
   ],
   "source": [
    "e←¯1+2∘*⋄e¨21+⍳9"
   ]
  },
  {
   "cell_type": "markdown",
   "metadata": {},
   "source": [
    "To generate all binary combinations for `n` bits, we can use the following incantation:"
   ]
  },
  {
   "cell_type": "code",
   "execution_count": 31,
   "metadata": {},
   "outputs": [
    {
     "data": {
      "text/html": [
       "<span style=\"white-space:pre; font-family: monospace\">0 0 0\n",
       "0 0 1\n",
       "0 1 0\n",
       "0 1 1\n",
       "1 0 0\n",
       "1 0 1\n",
       "1 1 0\n",
       "1 1 1\n",
       "</span>"
      ]
     },
     "execution_count": 31,
     "metadata": {},
     "output_type": "execute_result"
    }
   ],
   "source": [
    "{⍉(⍵⍴2)⊤⍳2*⍵} 3"
   ]
  },
  {
   "cell_type": "markdown",
   "metadata": {},
   "source": [
    "Given a Boolean vector, how do we turn that into two sets of numbers? There are several ways you can try, for example compress:"
   ]
  },
  {
   "cell_type": "code",
   "execution_count": 32,
   "metadata": {},
   "outputs": [
    {
     "data": {
      "text/html": [
       "<span style=\"white-space:pre; font-family: monospace\">┌───┬─┐\n",
       "│1 1│2│\n",
       "└───┴─┘\n",
       "</span>"
      ]
     },
     "execution_count": 32,
     "metadata": {},
     "output_type": "execute_result"
    },
    {
     "data": {
      "text/html": [
       "<span style=\"white-space:pre; font-family: monospace\">┌─┬───┐\n",
       "│2│1 1│\n",
       "└─┴───┘\n",
       "</span>"
      ]
     },
     "execution_count": 32,
     "metadata": {},
     "output_type": "execute_result"
    }
   ],
   "source": [
    "1 1 0 {(⍺/⍵)(⍵/⍨~⍺)} 1 1 2 ⍝ compress and compress ~\n",
    "1 1 0 {(⍵~v)(v←⍺/⍵)} 1 1 2 ⍝ compress and set difference"
   ]
  },
  {
   "cell_type": "markdown",
   "metadata": {},
   "source": [
    "but we can exploit the fact that we're really interested in the _sums_ of the sets. The sum of the items corresponding to the set bits is really just the bit pattern times the input set, summed:"
   ]
  },
  {
   "cell_type": "code",
   "execution_count": 33,
   "metadata": {},
   "outputs": [
    {
     "data": {
      "text/html": [
       "<span style=\"white-space:pre; font-family: monospace\">2\n",
       "</span>"
      ]
     },
     "execution_count": 33,
     "metadata": {},
     "output_type": "execute_result"
    }
   ],
   "source": [
    "+/1 1 0×1 1 2"
   ]
  },
  {
   "cell_type": "markdown",
   "metadata": {},
   "source": [
    "which we now recognize as an inner product:"
   ]
  },
  {
   "cell_type": "code",
   "execution_count": 34,
   "metadata": {},
   "outputs": [
    {
     "data": {
      "text/html": [
       "<span style=\"white-space:pre; font-family: monospace\">2\n",
       "</span>"
      ]
     },
     "execution_count": 34,
     "metadata": {},
     "output_type": "execute_result"
    }
   ],
   "source": [
    "1 1 0 +.× 1 1 2"
   ]
  },
  {
   "cell_type": "markdown",
   "metadata": {},
   "source": [
    "And of course, inner product can be applied to an array, too:"
   ]
  },
  {
   "cell_type": "code",
   "execution_count": 35,
   "metadata": {},
   "outputs": [
    {
     "data": {
      "text/html": [
       "<span style=\"white-space:pre; font-family: monospace\">0 2 1 3 1 3 2 4\n",
       "</span>"
      ]
     },
     "execution_count": 35,
     "metadata": {},
     "output_type": "execute_result"
    }
   ],
   "source": [
    "patterns ← {⍉(⍵⍴2)⊤⍳2*⍵} 3\n",
    "patterns +.× 1 1 2"
   ]
  },
  {
   "cell_type": "markdown",
   "metadata": {},
   "source": [
    "We can now draw up a plan for this.\n",
    "\n",
    "1. Generate the bit patterns up to `≢⍵`.\n",
    "2. Calculate the sums of the numbers corresponding to the set bits in each pattern and its inverse\n",
    "3. Compare the two vectors of sums\n",
    "4. Find the first point where the sums are equal, if any\n",
    "5. Return the corresponding partition"
   ]
  },
  {
   "cell_type": "code",
   "execution_count": 44,
   "metadata": {},
   "outputs": [],
   "source": [
    "]dinput\n",
    "Balance ← {\n",
    "    0≠2|+/⍵: ⍬\n",
    "    bitp ← {⍉(⍵⍴2)⊤⍳2*⍵}≢⍵\n",
    "    partitions ← ↑(bitp+.×⍵)((~bitp)+.×⍵)\n",
    "    solutions ← =⌿partitions\n",
    "    first ← ⍸<\\solutions\n",
    "    ⍬≡first: ⍬\n",
    "    result ← bitp⌷⍨first\n",
    "    (result/⍵)(⍵/⍨~result)\n",
    "}"
   ]
  },
  {
   "cell_type": "code",
   "execution_count": 45,
   "metadata": {},
   "outputs": [
    {
     "data": {
      "text/html": [
       "<span style=\"white-space:pre; font-family: monospace\">┌─┬───┐\n",
       "│2│1 1│\n",
       "└─┴───┘\n",
       "</span>"
      ]
     },
     "execution_count": 45,
     "metadata": {},
     "output_type": "execute_result"
    }
   ],
   "source": [
    "Balance 1 1 2"
   ]
  },
  {
   "cell_type": "markdown",
   "metadata": {},
   "source": [
    "and on the full 20-bits:"
   ]
  },
  {
   "cell_type": "code",
   "execution_count": 46,
   "metadata": {},
   "outputs": [
    {
     "data": {
      "text/html": [
       "<span style=\"white-space:pre; font-family: monospace\">┌────────────────────┬────────────────────────────────────┐\n",
       "│99 84 87 76 85 41 93│10 81 98 27 28 5 1 46 63 25 39 78 64│\n",
       "└────────────────────┴────────────────────────────────────┘\n",
       "</span>"
      ]
     },
     "execution_count": 46,
     "metadata": {},
     "output_type": "execute_result"
    }
   ],
   "source": [
    "Balance 10 81 98 27 28 5 1 46 63 99 25 39 84 87 76 85 78 64 41 93"
   ]
  },
  {
   "cell_type": "markdown",
   "metadata": {},
   "source": [
    "To a Python programmer, that approach must seem _incredibly_ counter-intuitive, borderline criminally wasteful. Despite the fact that we only want the first solution (which occurs around bit pattern 1,500ish), we cover the full search space. In a \"loop and branch\" language, we'd try each candidate pattern in turn, and break once we find the first solution.\n",
    "\n",
    "But the seemingly naive APL solution is quick, even though it will process 2-3 orders of magnitude more patterns than would a scalar solution:"
   ]
  },
  {
   "cell_type": "code",
   "execution_count": 47,
   "metadata": {},
   "outputs": [
    {
     "data": {
      "text/html": [
       "<span style=\"white-space:pre; font-family: monospace\">\n",
       "* Benchmarking \"Balance 10 81 98 27 28 5 1 46 63 99 25 39 84 87 76 85 78 64 41 93\"\n",
       "┌──────────┬────┐\n",
       "│          │(ms)│\n",
       "├──────────┼────┤\n",
       "│CPU (avg):│45  │\n",
       "├──────────┼────┤\n",
       "│Elapsed:  │46  │\n",
       "└──────────┴────┘\n",
       "</span>"
      ]
     },
     "execution_count": 47,
     "metadata": {},
     "output_type": "execute_result"
    }
   ],
   "source": [
    "]runtime \"Balance 10 81 98 27 28 5 1 46 63 99 25 39 84 87 76 85 78 64 41 93\""
   ]
  },
  {
   "cell_type": "markdown",
   "metadata": {},
   "source": [
    "So what's going on here? Well, two things. Firstly, we're hitting the most optimal core of APL, it's handling of boolean vectors using only primitive functions. Secondly, APL is able to vectorize our operations, taking advantage of SIMD operations in the processor. \n",
    "\n",
    "For completeness, let's see how a scalar solution would perform. We can, for example, take a tail-call Scheme-like approach:"
   ]
  },
  {
   "cell_type": "code",
   "execution_count": 58,
   "metadata": {},
   "outputs": [],
   "source": [
    "]dinput\n",
    "BalanceScalar ← { ⍝ Warning: this is not the APL Way, as we shall see.\n",
    "    0≠2|+/⍵: ⍬\n",
    "    data ← ⍵\n",
    "    {\n",
    "        0=≢⍵: ⍬\n",
    "        patt ← ⊃⍵\n",
    "        =/(patt+.×data)((~patt)+.×data): (patt/data)(data/⍨~patt)\n",
    "        ∇1↓⍵\n",
    "    } ↓{⍉(⍵⍴2)⊤⍳2*⍵}≢⍵\n",
    "}"
   ]
  },
  {
   "cell_type": "code",
   "execution_count": 59,
   "metadata": {},
   "outputs": [
    {
     "data": {
      "text/html": [
       "<span style=\"white-space:pre; font-family: monospace\">┌─┬───┐\n",
       "│2│1 1│\n",
       "└─┴───┘\n",
       "</span>"
      ]
     },
     "execution_count": 59,
     "metadata": {},
     "output_type": "execute_result"
    }
   ],
   "source": [
    "BalanceScalar 1 1 2"
   ]
  },
  {
   "cell_type": "markdown",
   "metadata": {},
   "source": [
    "Ok, let's compare:"
   ]
  },
  {
   "cell_type": "code",
   "execution_count": 61,
   "metadata": {},
   "outputs": [],
   "source": [
    "'cmpx'⎕CY'dfns'"
   ]
  },
  {
   "cell_type": "code",
   "execution_count": 63,
   "metadata": {},
   "outputs": [
    {
     "data": {
      "text/html": [
       "<span style=\"white-space:pre; font-family: monospace\">  Balance d       → 8.0E¯2 |      0%                                         \n",
       "  BalanceScalar d → 8.8E0  | +10911% ⎕⎕⎕⎕⎕⎕⎕⎕⎕⎕⎕⎕⎕⎕⎕⎕⎕⎕⎕⎕⎕⎕⎕⎕⎕⎕⎕⎕⎕⎕⎕⎕⎕⎕⎕⎕⎕⎕⎕⎕\n",
       "</span>"
      ]
     },
     "execution_count": 63,
     "metadata": {},
     "output_type": "execute_result"
    }
   ],
   "source": [
    "d←10 81 98 27 28 5 1 46 63 99 25 39 84 87 76 85 78 64 41 93\n",
    "cmpx 'Balance d' 'BalanceScalar d'"
   ]
  },
  {
   "cell_type": "markdown",
   "metadata": {},
   "source": [
    "Ouch. Dyalog can no longer vectorize, and performance slips from milliseconds to _nearly 10 seconds_. If you take home anything from this chapter, this is the thing to remember."
   ]
  },
  {
   "cell_type": "markdown",
   "metadata": {},
   "source": [
    "However, the brute-force algorithm is of course still crude, even if APL can be quick about it at the specified scale. Add a few more elements, and the unforgiving `O(2^N)` complexity would soon crush us. \n",
    "\n",
    "As I mentioned earlier, there are a number of heuristic algorithms that have a much more benign complexity, at the cost of not being able to guarantee optimal solutions in all cases. One such algorithm is called the [Karmarkar-Karp](https://en.wikipedia.org/wiki/Largest_differencing_method), after its inventors, and has a complexity of `O(N log N)`, but is not guaranteed to find the optimal solution, even if such a solution does exist.\n",
    "\n",
    "In short, the KK algorithm maintains a priority queue of the remaining numbers, and picks the two largest numbers in each iteration, replacing them with their difference until a single number remains -- this represents the final difference between the two partitions. We can construct the corresponding partitions via backtracking. A thorough analysis of this algorithm can be found [here](https://core.ac.uk/download/pdf/82710454.pdf). "
   ]
  },
  {
   "cell_type": "code",
   "execution_count": 64,
   "metadata": {},
   "outputs": [],
   "source": [
    "]dinput\n",
    "KaramarkarKarp ← {\n",
    "    sort ← {⍵[;⍋⍵[0;]]}\n",
    "    (pairs last) ← ⍬ {\n",
    "        2>≢⍉⍵:⍺ (1 0⌷⍵)\n",
    "        (i x)(j y) ← ↓⍉⍵[;0 1]\n",
    "        (⍺,⊂x y)∇sort (2↓⍤1⊢⍵),(i-j) x\n",
    "    } sort ↑(-⍵)(⍵)\n",
    "        \n",
    "    last ⍬ {\n",
    "        (a b) ← ⍺\n",
    "        0=≢⍵: ⍺\n",
    "        pair ← ⊃¯1↑⍵\n",
    "        a∊⍨⊃pair: (a (b,1⊃pair))∇¯1↓⍵\n",
    "        ((a,1⊃pair) b)∇¯1↓⍵\n",
    "    } pairs\n",
    "}"
   ]
  },
  {
   "cell_type": "markdown",
   "metadata": {},
   "source": [
    "In our test case, the KK does return an optimal solution:"
   ]
  },
  {
   "cell_type": "code",
   "execution_count": 68,
   "metadata": {},
   "outputs": [
    {
     "data": {
      "text/html": [
       "<span style=\"white-space:pre; font-family: monospace\">┌────────────────────────────┬────────────────────────────┐\n",
       "│41 85 99 5 93 10 63 27 64 78│1 25 28 76 81 39 46 84 87 98│\n",
       "└────────────────────────────┴────────────────────────────┘\n",
       "</span>"
      ]
     },
     "execution_count": 68,
     "metadata": {},
     "output_type": "execute_result"
    }
   ],
   "source": [
    "KaramarkarKarp 10 81 98 27 28 5 1 46 63 99 25 39 84 87 76 85 78 64 41 93"
   ]
  },
  {
   "cell_type": "code",
   "execution_count": 69,
   "metadata": {},
   "outputs": [
    {
     "data": {
      "text/html": [
       "<span style=\"white-space:pre; font-family: monospace\">  Balance d        → 4.2E¯2 |    0% ⎕⎕⎕⎕⎕⎕⎕⎕⎕⎕⎕⎕⎕⎕⎕⎕⎕⎕⎕⎕⎕⎕⎕⎕⎕⎕⎕⎕⎕⎕⎕⎕⎕⎕⎕⎕⎕⎕⎕⎕\n",
       "* KaramarkarKarp d → 1.4E¯4 | -100%                                         \n",
       "</span>"
      ]
     },
     "execution_count": 69,
     "metadata": {},
     "output_type": "execute_result"
    }
   ],
   "source": [
    "cmpx 'Balance d' 'KaramarkarKarp d'"
   ]
  },
  {
   "cell_type": "markdown",
   "metadata": {},
   "source": [
    "and, unsurprisingly, although completely scalar, it wins hands down. However, it's still a heuristic:"
   ]
  },
  {
   "cell_type": "code",
   "execution_count": 70,
   "metadata": {},
   "outputs": [
    {
     "data": {
      "text/html": [
       "<span style=\"white-space:pre; font-family: monospace\">┌───┬─────┐\n",
       "│7 8│4 5 6│\n",
       "└───┴─────┘\n",
       "</span>"
      ]
     },
     "execution_count": 70,
     "metadata": {},
     "output_type": "execute_result"
    },
    {
     "data": {
      "text/html": [
       "<span style=\"white-space:pre; font-family: monospace\">┌─────┬───┐\n",
       "│4 5 7│6 8│\n",
       "└─────┴───┘\n",
       "</span>"
      ]
     },
     "execution_count": 70,
     "metadata": {},
     "output_type": "execute_result"
    }
   ],
   "source": [
    "Balance 4 5 6 7 8\n",
    "KaramarkarKarp 4 5 6 7 8"
   ]
  },
  {
   "cell_type": "markdown",
   "metadata": {},
   "source": [
    "A thing to note in the KK implementation above: it simply sorts the array at each iteration, instead of using a heap queue. As an exercise for the interested reader, try re-implementing it using a heap (there is a heap queue elsewhere in this book). However, and for similar reasons as we saw earlier, you will probably find that APL is likely faster at sorting a simple array than the complexity cost of maintaining a more nested data structure. "
   ]
  },
  {
   "cell_type": "markdown",
   "metadata": {},
   "source": [
    "## Right-align a block of text"
   ]
  },
  {
   "cell_type": "markdown",
   "metadata": {},
   "source": [
    "Let's work through a more comprehensive problem. Here's one of the Phase 1 tasks from the [Dyalog Problem Solving Competition](https://www.dyalog.com/student-competition.htm), 2021:\n",
    "\n",
    "Write a function that:\n",
    "\n",
    "* has a right argument `T` which is a character scalar, vector or a vector of character vectors\n",
    "* has a left argument `W` which is a positive integer specifying the width of the result\n",
    "* returns a right-aligned character array of shape `((2=≡T)/≢T),W`.\n",
    "* if an element of T has length greater than `W`, truncate it after `W` characters.\n",
    "\n",
    "The challenge here is not resorting to 'eaching' the rows, or employing some creative regexing. So let's treat this as an exercise in array-oriented problem solving.\n",
    "\n",
    "We're given a couple of examples of how the solution should behave for arrays of different ranks:"
   ]
  },
  {
   "cell_type": "code",
   "execution_count": 56,
   "metadata": {},
   "outputs": [
    {
     "data": {
      "text/html": [
       "<span style=\"white-space:pre; font-family: monospace\">┌→─────┐\n",
       "│     ⍒│\n",
       "└──────┘\n",
       "</span>"
      ]
     },
     "execution_count": 56,
     "metadata": {},
     "output_type": "execute_result"
    },
    {
     "data": {
      "text/html": [
       "<span style=\"white-space:pre; font-family: monospace\">┌→─────────┐\n",
       "│    Parade│\n",
       "└──────────┘\n",
       "</span>"
      ]
     },
     "execution_count": 56,
     "metadata": {},
     "output_type": "execute_result"
    },
    {
     "data": {
      "text/html": [
       "<span style=\"white-space:pre; font-family: monospace\">┌→───────┐\n",
       "↓Longer P│\n",
       "│     APL│\n",
       "│  Parade│\n",
       "└────────┘\n",
       "</span>"
      ]
     },
     "execution_count": 56,
     "metadata": {},
     "output_type": "execute_result"
    }
   ],
   "source": [
    "⍝ 6 Align '⍒'\n",
    "'     ⍒'\n",
    "\n",
    "⍝ 10 Align 'Parade'\n",
    "'    Parade'\n",
    "\n",
    "⍝ 8 Align 'Longer Phrase' 'APL' 'Parade'\n",
    "3 8⍴'Longer P     APL  Parade'"
   ]
  },
  {
   "cell_type": "markdown",
   "metadata": {},
   "source": [
    "A hint is given in the problem statement on where we could start: we're told what the shape should be of the resulting array: `((2=≡T)/≢T),W`. Given the result shape, we can try the following approach:\n",
    "\n",
    "Figure out the result shape, and squeeze the data into this shape, truncating if we need to. Locate trailling spaces. Prepend a space on each line, and then replicate by the number of trailling spaces.\n",
    "\n",
    "We're given the shape. In order for this to work for character scalars, a character vector, or vector of character vectors, we need to operate on the ravel of the right argument when finding the shape:"
   ]
  },
  {
   "cell_type": "code",
   "execution_count": 57,
   "metadata": {},
   "outputs": [
    {
     "data": {
      "text/html": [
       "<span style=\"white-space:pre; font-family: monospace\">┌→┐\n",
       "│6│\n",
       "└~┘\n",
       "</span>"
      ]
     },
     "execution_count": 57,
     "metadata": {},
     "output_type": "execute_result"
    },
    {
     "data": {
      "text/html": [
       "<span style=\"white-space:pre; font-family: monospace\">┌→─┐\n",
       "│10│\n",
       "└~─┘\n",
       "</span>"
      ]
     },
     "execution_count": 57,
     "metadata": {},
     "output_type": "execute_result"
    },
    {
     "data": {
      "text/html": [
       "<span style=\"white-space:pre; font-family: monospace\">┌→──┐\n",
       "│3 8│\n",
       "└~──┘\n",
       "</span>"
      ]
     },
     "execution_count": 57,
     "metadata": {},
     "output_type": "execute_result"
    }
   ],
   "source": [
    "6 {⍺,⍨(2=≡,⍵)/≢,⍵} '⍋'\n",
    "10 {⍺,⍨(2=≡,⍵)/≢,⍵} 'Parade'\n",
    "8 {⍺,⍨(2=≡,⍵)/≢,⍵} 'Longer Phrase' 'APL' 'Parade'"
   ]
  },
  {
   "cell_type": "markdown",
   "metadata": {},
   "source": [
    "To fit the data into that shape, we need to _mix_ the ravel (`↑,⍵`) to increase the rank and then _take_ `⍺` elements, rank 1 (along vectors), and then reshape. Let's explore what this means:"
   ]
  },
  {
   "cell_type": "code",
   "execution_count": 58,
   "metadata": {},
   "outputs": [
    {
     "data": {
      "text/html": [
       "<span style=\"white-space:pre; font-family: monospace\">┌→─┐\n",
       "│10│\n",
       "└~─┘\n",
       "</span>"
      ]
     },
     "execution_count": 58,
     "metadata": {},
     "output_type": "execute_result"
    },
    {
     "data": {
      "text/html": [
       "<span style=\"white-space:pre; font-family: monospace\">┌→─────┐\n",
       "│Parade│\n",
       "└──────┘\n",
       "</span>"
      ]
     },
     "execution_count": 58,
     "metadata": {},
     "output_type": "execute_result"
    },
    {
     "data": {
      "text/html": [
       "<span style=\"white-space:pre; font-family: monospace\">┌→─────────┐\n",
       "│Parade    │\n",
       "└──────────┘\n",
       "</span>"
      ]
     },
     "execution_count": 58,
     "metadata": {},
     "output_type": "execute_result"
    }
   ],
   "source": [
    "data ← 'Parade'\n",
    "⊢sh ← 10 {⍺,⍨(2=≡,⍵)/≢,⍵} data ⍝ Shape\n",
    "↑,data                         ⍝ Mix ravel (no change for a char vector)\n",
    "10↑⍤1⊢↑,data                   ⍝ (over)take, rank-1"
   ]
  },
  {
   "cell_type": "markdown",
   "metadata": {},
   "source": [
    "More interesting to consider is the nested vector case:"
   ]
  },
  {
   "cell_type": "code",
   "execution_count": 59,
   "metadata": {},
   "outputs": [
    {
     "data": {
      "text/html": [
       "<span style=\"white-space:pre; font-family: monospace\">┌→──┐\n",
       "│3 8│\n",
       "└~──┘\n",
       "</span>"
      ]
     },
     "execution_count": 59,
     "metadata": {},
     "output_type": "execute_result"
    },
    {
     "data": {
      "text/html": [
       "<span style=\"white-space:pre; font-family: monospace\">┌→────────────┐\n",
       "↓Longer Phrase│\n",
       "│APL          │\n",
       "│Parade       │\n",
       "└─────────────┘\n",
       "</span>"
      ]
     },
     "execution_count": 59,
     "metadata": {},
     "output_type": "execute_result"
    },
    {
     "data": {
      "text/html": [
       "<span style=\"white-space:pre; font-family: monospace\">┌→───────┐\n",
       "↓Longer P│\n",
       "│APL     │\n",
       "│Parade  │\n",
       "└────────┘\n",
       "</span>"
      ]
     },
     "execution_count": 59,
     "metadata": {},
     "output_type": "execute_result"
    }
   ],
   "source": [
    "data ← 'Longer Phrase' 'APL' 'Parade'\n",
    "⊢sh ← 8 {⍺,⍨(2=≡,⍵)/≢,⍵} data ⍝ Shape\n",
    "↑,data                        ⍝ Mix ravel\n",
    "⊢mat ← 8↑⍤1⊢↑,data            ⍝ (over)take, rank 1"
   ]
  },
  {
   "cell_type": "markdown",
   "metadata": {},
   "source": [
    "So far, so array-oriented! Now we need to find trailling spaces. The equal sign makes for an excellent search function! Where are the spaces?"
   ]
  },
  {
   "cell_type": "code",
   "execution_count": 60,
   "metadata": {},
   "outputs": [
    {
     "data": {
      "text/html": [
       "<span style=\"white-space:pre; font-family: monospace\">┌→──────────────┐\n",
       "↓0 0 0 0 0 0 1 0│\n",
       "│0 0 0 1 1 1 1 1│\n",
       "│0 0 0 0 0 0 1 1│\n",
       "└~──────────────┘\n",
       "</span>"
      ]
     },
     "execution_count": 60,
     "metadata": {},
     "output_type": "execute_result"
    }
   ],
   "source": [
    "' '=mat"
   ]
  },
  {
   "cell_type": "markdown",
   "metadata": {},
   "source": [
    "All well and good, but we need the _trailling_ spaces. A handy technique here is to _and-scan_, which is one of those APLisms that is so obvious (once someone pointed it out to you, you found it on APLCart, or you're a genius). It keeps all 1s from the beginning, and zeroes everything  after the first zero:"
   ]
  },
  {
   "cell_type": "code",
   "execution_count": 61,
   "metadata": {},
   "outputs": [
    {
     "data": {
      "text/html": [
       "<span style=\"white-space:pre; font-family: monospace\">┌→──────────────────┐\n",
       "│1 1 1 0 0 0 0 0 0 0│\n",
       "└~──────────────────┘\n",
       "</span>"
      ]
     },
     "execution_count": 61,
     "metadata": {},
     "output_type": "execute_result"
    }
   ],
   "source": [
    "∧\\1 1 1 0 0 0 1 0 1 0"
   ]
  },
  {
   "cell_type": "markdown",
   "metadata": {},
   "source": [
    "but that looks at _leading_ not trailling spaces, so we need to flip, and-scan, flip back:"
   ]
  },
  {
   "cell_type": "code",
   "execution_count": 62,
   "metadata": {},
   "outputs": [
    {
     "data": {
      "text/html": [
       "<span style=\"white-space:pre; font-family: monospace\">┌→──────────────┐\n",
       "↓0 0 0 0 0 0 0 0│\n",
       "│0 0 0 1 1 1 1 1│\n",
       "│0 0 0 0 0 0 1 1│\n",
       "└~──────────────┘\n",
       "</span>"
      ]
     },
     "execution_count": 62,
     "metadata": {},
     "output_type": "execute_result"
    }
   ],
   "source": [
    "⌽∧\\⌽' '=mat   ⍝ We're keeping on arraying"
   ]
  },
  {
   "cell_type": "markdown",
   "metadata": {},
   "source": [
    "Conceptually, we'll add extra spaces at the beginning of each line, the same number as any trailling spaces. In practice, we'll add a single space, and then use a replication vector to clone it the relevant number of times. Recall:"
   ]
  },
  {
   "cell_type": "code",
   "execution_count": 63,
   "metadata": {},
   "outputs": [
    {
     "data": {
      "text/html": [
       "<span style=\"white-space:pre; font-family: monospace\">┌→──────────┐\n",
       "│ ABCDEFGHIK│\n",
       "└───────────┘\n",
       "</span>"
      ]
     },
     "execution_count": 63,
     "metadata": {},
     "output_type": "execute_result"
    },
    {
     "data": {
      "text/html": [
       "<span style=\"white-space:pre; font-family: monospace\">┌→────────────────────┐\n",
       "│5 1 1 1 1 1 1 1 1 1 1│\n",
       "└~────────────────────┘\n",
       "</span>"
      ]
     },
     "execution_count": 63,
     "metadata": {},
     "output_type": "execute_result"
    },
    {
     "data": {
      "text/html": [
       "<span style=\"white-space:pre; font-family: monospace\">┌→──────────────┐\n",
       "│     ABCDEFGHIK│\n",
       "└───────────────┘\n",
       "</span>"
      ]
     },
     "execution_count": 63,
     "metadata": {},
     "output_type": "execute_result"
    }
   ],
   "source": [
    "⊢data ← ' ABCDEFGHIK'         ⍝ Note: leading space\n",
    "⊢repl ← 5 1 1 1 1 1 1 1 1 1 1 ⍝ Five spaces, one of everything else\n",
    "repl/data"
   ]
  },
  {
   "cell_type": "code",
   "execution_count": 52,
   "metadata": {},
   "outputs": [
    {
     "data": {
      "text/html": [
       "<span style=\"white-space:pre; font-family: monospace\">┌→────────┐\n",
       "↓ Longer P│\n",
       "│ APL     │\n",
       "│ Parade  │\n",
       "└─────────┘\n",
       "</span>"
      ]
     },
     "execution_count": 52,
     "metadata": {},
     "output_type": "execute_result"
    },
    {
     "data": {
      "text/html": [
       "<span style=\"white-space:pre; font-family: monospace\">┌→──────────────┐\n",
       "↓1 1 1 1 1 1 1 1│\n",
       "│1 1 1 0 0 0 0 0│\n",
       "│1 1 1 1 1 1 0 0│\n",
       "└~──────────────┘\n",
       "</span>"
      ]
     },
     "execution_count": 52,
     "metadata": {},
     "output_type": "execute_result"
    },
    {
     "data": {
      "text/html": [
       "<span style=\"white-space:pre; font-family: monospace\">┌→────┐\n",
       "│0 5 2│\n",
       "└~────┘\n",
       "</span>"
      ]
     },
     "execution_count": 52,
     "metadata": {},
     "output_type": "execute_result"
    },
    {
     "data": {
      "text/html": [
       "<span style=\"white-space:pre; font-family: monospace\">┌→────────────────┐\n",
       "↓0 1 1 1 1 1 1 1 1│\n",
       "│5 1 1 1 0 0 0 0 0│\n",
       "│2 1 1 1 1 1 1 0 0│\n",
       "└~────────────────┘\n",
       "</span>"
      ]
     },
     "execution_count": 52,
     "metadata": {},
     "output_type": "execute_result"
    }
   ],
   "source": [
    "trailling ← ⌽∧\\⌽' '=mat ⍝ Find trailling spaces, as per above\n",
    "⊢spaced ← ' ',mat       ⍝ Add a space as the first char of each row\n",
    "⊢keepers ← ~trailling   ⍝ Everything not a trailling space\n",
    "⊢padding ← +/trailling  ⍝ Amount of leading padding to be inserted per row\n",
    "⊢repl ← padding,keepers ⍝ Number of replications per character"
   ]
  },
  {
   "cell_type": "markdown",
   "metadata": {},
   "source": [
    "Now what remains is to do the replication and ensure that everything gets the shape it should have. "
   ]
  },
  {
   "cell_type": "code",
   "execution_count": 53,
   "metadata": {},
   "outputs": [
    {
     "data": {
      "text/html": [
       "<span style=\"white-space:pre; font-family: monospace\">┌→───────┐\n",
       "↓Longer P│\n",
       "│     APL│\n",
       "│  Parade│\n",
       "└────────┘\n",
       "</span>"
      ]
     },
     "execution_count": 53,
     "metadata": {},
     "output_type": "execute_result"
    }
   ],
   "source": [
    "repl/⍤1⊢spaced ⍝ Replicate along vectors"
   ]
  },
  {
   "cell_type": "markdown",
   "metadata": {},
   "source": [
    "That's it! Putting it all together, we get the following:"
   ]
  },
  {
   "cell_type": "code",
   "execution_count": 3,
   "metadata": {},
   "outputs": [],
   "source": [
    "]dinput\n",
    "Align ← {\n",
    "    shape ← ⍺,⍨(2=≡,⍵)/≢,⍵  ⍝ Shape, as specified\n",
    "    mat ← ⍺↑⍤1⊢↑,⍵          ⍝ Truncate rank 1\n",
    "    trailling ← ⌽∧\\⌽' '=mat ⍝ Find trailling spaces\n",
    "    spaced ← ' ',mat        ⍝ Add a space as the first char of each row\n",
    "    keepers ← ~trailling    ⍝ Everything not a trailling space\n",
    "    padding ← +/trailling   ⍝ Amount of leading padding to be inserted per row\n",
    "    repl ← padding,keepers  ⍝ Number of replications per character\n",
    "    repl/⍤1⊢spaced          ⍝ Replicate rank 1\n",
    "}"
   ]
  },
  {
   "cell_type": "code",
   "execution_count": 4,
   "metadata": {},
   "outputs": [
    {
     "data": {
      "text/html": [
       "<span style=\"white-space:pre; font-family: monospace\">┌→─────┐\n",
       "│     ⍋│\n",
       "└──────┘\n",
       "</span>"
      ]
     },
     "execution_count": 4,
     "metadata": {},
     "output_type": "execute_result"
    },
    {
     "data": {
      "text/html": [
       "<span style=\"white-space:pre; font-family: monospace\">┌→─────────┐\n",
       "│    Parade│\n",
       "└──────────┘\n",
       "</span>"
      ]
     },
     "execution_count": 4,
     "metadata": {},
     "output_type": "execute_result"
    },
    {
     "data": {
      "text/html": [
       "<span style=\"white-space:pre; font-family: monospace\">┌→───────┐\n",
       "↓Longer P│\n",
       "│     APL│\n",
       "│  Parade│\n",
       "└────────┘\n",
       "</span>"
      ]
     },
     "execution_count": 4,
     "metadata": {},
     "output_type": "execute_result"
    },
    {
     "data": {
      "text/html": [
       "<span style=\"white-space:pre; font-family: monospace\">┌→───────┐\n",
       "↓       K│\n",
       "│       E│\n",
       "│ Iverson│\n",
       "└────────┘\n",
       "</span>"
      ]
     },
     "execution_count": 4,
     "metadata": {},
     "output_type": "execute_result"
    }
   ],
   "source": [
    "6 Align '⍋'\n",
    "10 Align 'Parade'\n",
    "8 Align 'Longer Phrase' 'APL' 'Parade'\n",
    "8 Align 'K' 'E' 'Iverson'"
   ]
  },
  {
   "cell_type": "markdown",
   "metadata": {},
   "source": [
    "Pretty cool, eh? As an exercise, now shrink that to a one-liner suitable for submitting as a competition entry.\n",
    "\n",
    "Shall we do one more?\n",
    "\n",
    "## FizzBuzz\n",
    "\n",
    "Adám Brudzewski used the classic FizzBuzz problem -- the darling of technical interviewers everywhere -- as an illustration in one of his Cultivation lessions, [Lesson 39 - Array programming techniques](https://chat.stackexchange.com/rooms/52405/conversation/lesson-39-array-programming-techniques).\n",
    "\n",
    "Wikipedia has the following to say about [FizzBuzz](https://en.wikipedia.org/wiki/Fizz_buzz):\n",
    "\n",
    "> Fizz buzz is a group word game for children to teach them about division. Players take turns to count incrementally, replacing any number divisible by three with the word \"fizz\", and any number divisible by five with the word \"buzz\". \n",
    "\n",
    "but most programmers will be familiar with it as a task frequently set as a technical challenge in job interviews. In fact, we've seen an APL version of this already. Right at the beginning it was used as an illustration of a _trad function_.\n",
    "\n",
    "Here's a \"loopy\" version as an APL dfn, for context:"
   ]
  },
  {
   "cell_type": "code",
   "execution_count": 5,
   "metadata": {},
   "outputs": [
    {
     "data": {
      "text/html": [
       "<span style=\"white-space:pre; font-family: monospace\">┌→─────────────────────────────────────────────────────────────────────────────────────────────┐\n",
       "│ ┌→┐ ┌→┐ ┌→───┐ ┌→┐ ┌→───┐ ┌→───┐ ┌→┐ ┌→┐ ┌→───┐ ┌→───┐ ┌→─┐ ┌→───┐ ┌→─┐ ┌→─┐ ┌→───────┐ ┌→─┐ │\n",
       "│ │1│ │2│ │Fizz│ │4│ │Buzz│ │Fizz│ │7│ │8│ │Fizz│ │Buzz│ │11│ │Fizz│ │13│ │14│ │FizzBuzz│ │16│ │\n",
       "│ └~┘ └~┘ └────┘ └~┘ └────┘ └────┘ └~┘ └~┘ └────┘ └────┘ └~─┘ └────┘ └~─┘ └~─┘ └────────┘ └~─┘ │\n",
       "└∊─────────────────────────────────────────────────────────────────────────────────────────────┘\n",
       "</span>"
      ]
     },
     "execution_count": 5,
     "metadata": {},
     "output_type": "execute_result"
    }
   ],
   "source": [
    "{∊(3↑(0=3 5|⍵)∪1)/'Fizz' 'Buzz'⍵}¨1+⍳16"
   ]
  },
  {
   "cell_type": "markdown",
   "metadata": {},
   "source": [
    "Can we do without the `each`, given what we've already learnt? Let's ponder what an array solution might look like. \n",
    "\n",
    "Let's begin by creating a boolean mask showing the positions of the numbers which are divisible by 3 (the \"fizzes\") and those divisible by 5 (the \"buzzes\"). We can do that as an outer product:"
   ]
  },
  {
   "cell_type": "code",
   "execution_count": 186,
   "metadata": {},
   "outputs": [
    {
     "data": {
      "text/html": [
       "<span style=\"white-space:pre; font-family: monospace\">┌→──────────────────────────────┐\n",
       "↓0 0 1 0 0 1 0 0 1 0 0 1 0 0 1 0│\n",
       "│0 0 0 0 1 0 0 0 0 1 0 0 0 0 1 0│\n",
       "└~──────────────────────────────┘\n",
       "</span>"
      ]
     },
     "execution_count": 186,
     "metadata": {},
     "output_type": "execute_result"
    }
   ],
   "source": [
    "data ← 1+⍳16\n",
    "⊢fizzbuzz ← 0=3 5∘.|data"
   ]
  },
  {
   "cell_type": "markdown",
   "metadata": {},
   "source": [
    "So the columns that have only zeros in them represent the \"numbers\" - the \"non-fizzbuzzy\" bits. Let's add a new row to our matrix to make this clear:"
   ]
  },
  {
   "cell_type": "code",
   "execution_count": 187,
   "metadata": {},
   "outputs": [
    {
     "data": {
      "text/html": [
       "<span style=\"white-space:pre; font-family: monospace\">┌→──────────────────────────────┐\n",
       "↓1 1 0 1 0 0 1 1 0 0 1 0 1 1 0 1│\n",
       "│0 0 1 0 0 1 0 0 1 0 0 1 0 0 1 0│\n",
       "│0 0 0 0 1 0 0 0 0 1 0 0 0 0 1 0│\n",
       "└~──────────────────────────────┘\n",
       "</span>"
      ]
     },
     "execution_count": 187,
     "metadata": {},
     "output_type": "execute_result"
    }
   ],
   "source": [
    "⊢mat ← (⍱⌿⍪⊢)fizzbuzz  ⍝ Tacit for {(⍱⌿⍵)⍪⍵} -- column-wise logical NOR as the new first row"
   ]
  },
  {
   "cell_type": "markdown",
   "metadata": {},
   "source": [
    "If we now multiply the first row by our input numbers, we have the numbers that aren't \"fizzbuzzy\""
   ]
  },
  {
   "cell_type": "code",
   "execution_count": 192,
   "metadata": {},
   "outputs": [
    {
     "data": {
      "text/html": [
       "<span style=\"white-space:pre; font-family: monospace\">┌→────────────────────────────────────────────────────────────────────────────────────┐\n",
       "↓                                                                                     │\n",
       "│ 1 8 0      64 0      0      343 512 0      0      1331 0      2197 2744 0      4096 │\n",
       "│                                                                                     │\n",
       "│     ┌→───┐           ┌→───┐         ┌→───┐             ┌→───┐           ┌→───┐      │\n",
       "│ 0 0 │fizz│ 0  0      │fizz│ 0   0   │fizz│ 0      0    │fizz│ 0    0    │fizz│ 0    │\n",
       "│     └────┘           └────┘         └────┘             └────┘           └────┘      │\n",
       "│               ┌→───┐                       ┌→───┐                       ┌→───┐      │\n",
       "│ 0 0 0      0  │buzz│ 0      0   0   0      │buzz│ 0    0      0    0    │buzz│ 0    │\n",
       "│               └────┘                       └────┘                       └────┘      │\n",
       "└∊────────────────────────────────────────────────────────────────────────────────────┘\n",
       "</span>"
      ]
     },
     "execution_count": 192,
     "metadata": {},
     "output_type": "execute_result"
    }
   ],
   "source": [
    "mat×@0⍨←data ⍝ Check that out! Modified assignment\n",
    "mat"
   ]
  },
  {
   "cell_type": "markdown",
   "metadata": {},
   "source": [
    "Now we substitute all 1s for \"fizz\" in the second row, and for \"buzz\" in the third row:"
   ]
  },
  {
   "cell_type": "code",
   "execution_count": 189,
   "metadata": {},
   "outputs": [
    {
     "data": {
      "text/html": [
       "<span style=\"white-space:pre; font-family: monospace\">┌→───────────────────────────────────────────────────────────────────────┐\n",
       "↓                                                                        │\n",
       "│ 1 2 0      4 0      0      7 8 0      0      11 0      13 14 0      16 │\n",
       "│                                                                        │\n",
       "│     ┌→───┐          ┌→───┐     ┌→───┐           ┌→───┐       ┌→───┐    │\n",
       "│ 0 0 │fizz│ 0 0      │fizz│ 0 0 │fizz│ 0      0  │fizz│ 0  0  │fizz│ 0  │\n",
       "│     └────┘          └────┘     └────┘           └────┘       └────┘    │\n",
       "│              ┌→───┐                   ┌→───┐                 ┌→───┐    │\n",
       "│ 0 0 0      0 │buzz│ 0      0 0 0      │buzz│ 0  0      0  0  │buzz│ 0  │\n",
       "│              └────┘                   └────┘                 └────┘    │\n",
       "└∊───────────────────────────────────────────────────────────────────────┘\n",
       "</span>"
      ]
     },
     "execution_count": 189,
     "metadata": {},
     "output_type": "execute_result"
    }
   ],
   "source": [
    "mat[↓1,⍤0 0⊢⍸1⌷mat]←⊂'fizz'\n",
    "mat[↓2,⍤0 0⊢⍸2⌷mat]←⊂'buzz'\n",
    "mat"
   ]
  },
  {
   "cell_type": "markdown",
   "metadata": {},
   "source": [
    "Merge columns, remove zeros:"
   ]
  },
  {
   "cell_type": "code",
   "execution_count": 190,
   "metadata": {},
   "outputs": [
    {
     "data": {
      "text/html": [
       "<span style=\"white-space:pre; font-family: monospace\">┌→─────────────────────────────────────────────────────────────────────────────────────────────┐\n",
       "│ ┌→┐ ┌→┐ ┌→───┐ ┌→┐ ┌→───┐ ┌→───┐ ┌→┐ ┌→┐ ┌→───┐ ┌→───┐ ┌→─┐ ┌→───┐ ┌→─┐ ┌→─┐ ┌→───────┐ ┌→─┐ │\n",
       "│ │1│ │2│ │fizz│ │4│ │buzz│ │fizz│ │7│ │8│ │fizz│ │buzz│ │11│ │fizz│ │13│ │14│ │fizzbuzz│ │16│ │\n",
       "│ └~┘ └~┘ └────┘ └~┘ └────┘ └────┘ └~┘ └~┘ └────┘ └────┘ └~─┘ └────┘ └~─┘ └~─┘ └────────┘ └~─┘ │\n",
       "└∊─────────────────────────────────────────────────────────────────────────────────────────────┘\n",
       "</span>"
      ]
     },
     "execution_count": 190,
     "metadata": {},
     "output_type": "execute_result"
    }
   ],
   "source": [
    "0~⍨¨,⌿mat"
   ]
  },
  {
   "cell_type": "markdown",
   "metadata": {},
   "source": [
    "Nice. So in this case, is the longer array solution better than the clever loopy one we showed in the beginning? Well, the intention was to demonstrate how to approach solutions in a data-parallel way, but the problem was of a magnitude that probably made this unnecessary. But practice makes perfect."
   ]
  },
  {
   "cell_type": "code",
   "execution_count": null,
   "metadata": {},
   "outputs": [],
   "source": []
  }
 ],
 "metadata": {
  "kernelspec": {
   "display_name": "Dyalog APL",
   "language": "apl",
   "name": "dyalog-kernel"
  },
  "language_info": {
   "file_extension": ".apl",
   "mimetype": "text/apl",
   "name": "APL"
  }
 },
 "nbformat": 4,
 "nbformat_minor": 4
}
