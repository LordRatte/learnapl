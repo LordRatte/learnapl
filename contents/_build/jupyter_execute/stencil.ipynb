{
 "cells": [
  {
   "cell_type": "markdown",
   "metadata": {},
   "source": [
    "# The Stencil operator: `⌺`"
   ]
  },
  {
   "cell_type": "markdown",
   "metadata": {},
   "source": [
    "> Every time I see some piece of medical research saying that caffeine is good for you, I high-five myself. Because I'm going to live forever.\n",
    "\\--_Linus Torvalds_"
   ]
  },
  {
   "cell_type": "markdown",
   "metadata": {},
   "source": [
    "Are you familiar with Conway's [Game of Life](https://en.wikipedia.org/wiki/Conway%27s_Game_of_Life)? If not, it's a cellular automata with a deceptively simple set of rules:\n",
    "\n",
    "1. Any live cell with two or three live neighbours survives.\n",
    "2. Any dead cell with three live neighbours becomes a live cell.\n",
    "3. All other live cells die in the next generation.\n",
    "\n",
    "yet G-of-L gives rise to extraordinary complex patterns. It's fun to implement -- try it in your favourite language! Some good ones can be found on [Rosettacode](https://rosettacode.org/wiki/Conway's_Game_of_Life)."
   ]
  },
  {
   "cell_type": "code",
   "execution_count": 1,
   "metadata": {},
   "outputs": [
    {
     "data": {
      "text/html": [
       "<span style=\"white-space:pre; font-family: monospace\">done\n",
       "</span>"
      ]
     },
     "execution_count": 1,
     "metadata": {},
     "output_type": "execute_result"
    }
   ],
   "source": [
    "⎕IO ← 0\n",
    "{}⎕SE.UCMD'box on -s=min -t=tree -f=on'\n",
    "{}⎕SE.UCMD'rows on'"
   ]
  },
  {
   "cell_type": "markdown",
   "metadata": {},
   "source": [
    "Game of Life is a bit of an APL party trick. Here's the current champion, all 17 symbols of it:"
   ]
  },
  {
   "cell_type": "code",
   "execution_count": 2,
   "metadata": {},
   "outputs": [],
   "source": [
    "gol←{≢⍸⍵}⌺3 3∊¨3+0,¨⊢ ⍝ Generate the next generation"
   ]
  },
  {
   "cell_type": "markdown",
   "metadata": {},
   "source": [
    "To run it, we first need an array with some live cells in it. Here's an 8×8 petri dish containing a \"glider\":"
   ]
  },
  {
   "cell_type": "code",
   "execution_count": 3,
   "metadata": {},
   "outputs": [
    {
     "data": {
      "text/html": [
       "<span style=\"white-space:pre; font-family: monospace\">0 0 0 0 0 0 0 0\n",
       "0 0 0 0 0 0 0 0\n",
       "0 0 0 0 0 0 0 0\n",
       "0 0 0 0 0 0 0 0\n",
       "0 0 0 0 0 1 0 0\n",
       "0 0 0 1 0 1 0 0\n",
       "0 0 0 0 1 1 0 0\n",
       "0 0 0 0 0 0 0 0\n",
       "</span>"
      ]
     },
     "execution_count": 3,
     "metadata": {},
     "output_type": "execute_result"
    }
   ],
   "source": [
    "glider ← 3 3⍴0 0 1 1 0 1 0 1 1\n",
    "dish ← 8 8⍴0\n",
    "dish[(⊂4 3)+⍸glider]←1\n",
    "dish"
   ]
  },
  {
   "cell_type": "markdown",
   "metadata": {},
   "source": [
    "The glider pattern is called that because it glides across the dish. Here's a full cycle:"
   ]
  },
  {
   "cell_type": "code",
   "execution_count": 4,
   "metadata": {},
   "outputs": [
    {
     "data": {
      "text/html": [
       "<span style=\"white-space:pre; font-family: monospace\">┌───────────────┬───────────────┬───────────────┬───────────────┐\n",
       "│0 0 0 0 0 0 0 0│0 0 0 0 0 0 0 0│0 0 0 0 0 0 0 0│0 0 0 0 0 0 0 0│\n",
       "│0 0 0 0 0 0 0 0│0 0 0 0 0 0 0 0│0 0 0 0 0 0 0 0│0 0 0 0 0 0 0 0│\n",
       "│0 0 0 0 0 0 0 0│0 0 0 0 0 0 0 0│0 0 0 0 0 0 0 0│0 0 0 0 0 0 0 0│\n",
       "│0 0 0 0 0 0 0 0│0 0 0 0 0 0 0 0│0 0 0 0 0 0 0 0│0 0 0 0 0 0 0 0│\n",
       "│0 0 0 0 1 0 0 0│0 0 0 0 0 1 0 0│0 0 0 0 0 0 0 0│0 0 0 0 0 0 0 0│\n",
       "│0 0 0 0 0 1 1 0│0 0 0 0 0 0 1 0│0 0 0 0 1 0 1 0│0 0 0 0 0 0 1 0│\n",
       "│0 0 0 0 1 1 0 0│0 0 0 0 1 1 1 0│0 0 0 0 0 1 1 0│0 0 0 0 1 0 1 0│\n",
       "│0 0 0 0 0 0 0 0│0 0 0 0 0 0 0 0│0 0 0 0 0 1 0 0│0 0 0 0 0 1 1 0│\n",
       "└───────────────┴───────────────┴───────────────┴───────────────┘\n",
       "</span>"
      ]
     },
     "execution_count": 4,
     "metadata": {},
     "output_type": "execute_result"
    }
   ],
   "source": [
    "1 4⍴(gol⍣1⊢dish)(gol⍣2⊢dish)(gol⍣3⊢dish)(gol⍣4⊢dish)"
   ]
  },
  {
   "cell_type": "markdown",
   "metadata": {},
   "source": [
    "Anyway -- this APL G-of-L implementation is primarily a demonstration of the power and versatility of the [Stencil](http://help.dyalog.com/18.0/index.htm#Language/Primitive%20Operators/Stencil.htm) operator, `⌺`. In simple terms, the dyadic stencil operator lets you specify a sliding window of a rank of your choice to the right and a function operating over this sliding window to the left. It makes it trivial to implement image processing filters, or convolution. In essence, for the 2-D case, it's four nested for-loops, the outermost two moving the window, and the innermost two visiting every data point within the window.\n",
    "\n",
    "This is obviously a good fit for Game of Life: the rules are defined within a 3×3 neighbourhood, so all we need to do is count the 1s in the windows that stencil delivers:"
   ]
  },
  {
   "cell_type": "code",
   "execution_count": 5,
   "metadata": {},
   "outputs": [
    {
     "data": {
      "text/html": [
       "<span style=\"white-space:pre; font-family: monospace\">5\n",
       "</span>"
      ]
     },
     "execution_count": 5,
     "metadata": {},
     "output_type": "execute_result"
    }
   ],
   "source": [
    "{≢⍸⍵} glider"
   ]
  },
  {
   "cell_type": "markdown",
   "metadata": {},
   "source": [
    "Let's look at stencil in a bit more detail. We can illustrate the sliding window using enclose as the left operand and a size-2 window over a vector:"
   ]
  },
  {
   "cell_type": "code",
   "execution_count": 6,
   "metadata": {},
   "outputs": [
    {
     "data": {
      "text/html": [
       "<span style=\"white-space:pre; font-family: monospace\">┌───┬───┬───┬───┬───┬───┬───┬───┬───┐\n",
       "│0 1│1 2│2 3│3 4│4 5│5 6│6 7│7 8│8 9│\n",
       "└───┴───┴───┴───┴───┴───┴───┴───┴───┘\n",
       "</span>"
      ]
     },
     "execution_count": 6,
     "metadata": {},
     "output_type": "execute_result"
    }
   ],
   "source": [
    "{⊂⍵}⌺2⊢⍳10"
   ]
  },
  {
   "cell_type": "markdown",
   "metadata": {},
   "source": [
    "But now look what happens if we increase the window size to 3, which does not divide cleanly the operand array:"
   ]
  },
  {
   "cell_type": "code",
   "execution_count": 7,
   "metadata": {},
   "outputs": [
    {
     "data": {
      "text/html": [
       "<span style=\"white-space:pre; font-family: monospace\">┌─────┬─────┬─────┬─────┬─────┬─────┬─────┬─────┬─────┬─────┐\n",
       "│0 0 1│0 1 2│1 2 3│2 3 4│3 4 5│4 5 6│5 6 7│6 7 8│7 8 9│8 9 0│\n",
       "└─────┴─────┴─────┴─────┴─────┴─────┴─────┴─────┴─────┴─────┘\n",
       "</span>"
      ]
     },
     "execution_count": 7,
     "metadata": {},
     "output_type": "execute_result"
    }
   ],
   "source": [
    "{⊂⍵}⌺3⊢⍳10"
   ]
  },
  {
   "cell_type": "markdown",
   "metadata": {},
   "source": [
    "The first and last windows now \"overhang\" the edge, filling the overhang with zeros. The way to think of it is that given an odd-size window, each data point in the argument array must line up with the _centre_ of the window. With even-sized windows, we have no choice, as we can't have fractional indexing.\n",
    "\n",
    "Stencil has a few more tricks up its sleeve. The right operand can be an array, where the first row defines the shape of the window, and the second row defines the _step size_. Again, using the vector above, we can say that we want a size 3 window, but instead of moving it 1 step (the default) we want to shift it 3 steps each time:"
   ]
  },
  {
   "cell_type": "code",
   "execution_count": 8,
   "metadata": {},
   "outputs": [
    {
     "data": {
      "text/html": [
       "<span style=\"white-space:pre; font-family: monospace\">┌─────┬─────┬─────┬─────┐\n",
       "│0 0 1│2 3 4│5 6 7│8 9 0│\n",
       "└─────┴─────┴─────┴─────┘\n",
       "</span>"
      ]
     },
     "execution_count": 8,
     "metadata": {},
     "output_type": "execute_result"
    }
   ],
   "source": [
    "{⊂⍵}⌺(2 1⍴3 3)⊢⍳10"
   ]
  },
  {
   "cell_type": "markdown",
   "metadata": {},
   "source": [
    "We still have an odd-size window, and the first is centered over the first item as before. The step size, 3, dictates how far the center of the window moves, so the next window is centered over item 3 etc.\n",
    "\n",
    "With an even size we can create non-overlapping windows that don't \"overhang\":"
   ]
  },
  {
   "cell_type": "code",
   "execution_count": 9,
   "metadata": {},
   "outputs": [
    {
     "data": {
      "text/html": [
       "<span style=\"white-space:pre; font-family: monospace\">┌───┬───┬───┬───┬───┐\n",
       "│0 1│2 3│4 5│6 7│8 9│\n",
       "└───┴───┴───┴───┴───┘\n",
       "</span>"
      ]
     },
     "execution_count": 9,
     "metadata": {},
     "output_type": "execute_result"
    }
   ],
   "source": [
    "{⊂⍵}⌺(2 1⍴2 2)⊢⍳10"
   ]
  }
 ],
 "metadata": {
  "kernelspec": {
   "display_name": "Dyalog APL",
   "language": "apl",
   "name": "dyalog-kernel"
  },
  "language_info": {
   "file_extension": ".apl",
   "mimetype": "text/apl",
   "name": "APL"
  }
 },
 "nbformat": 4,
 "nbformat_minor": 4
}