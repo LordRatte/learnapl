{
 "cells": [
  {
   "cell_type": "markdown",
   "metadata": {},
   "source": [
    "# Namespaces `⎕NS`\n",
    "\n",
    "> The utility of a language as a tool of thought increases with the range of topics it can treat, but decreases with the amount of vocabulary and the complexity of grammatical rules which the user must keep in mind. Economy of notation is therefore important. --_Kenneth E. Iverson_"
   ]
  },
  {
   "cell_type": "markdown",
   "metadata": {},
   "source": [
    "A [namespace](http://help.dyalog.com/18.0/index.htm#Language/Introduction/Namespaces/Namespaces.htm) is a way to group data and code into a hierarchy. Dyalog describes namespaces like so:\n",
    "\n",
    "> Namespace is a (class 9) object in Dyalog APL. Namespaces are analogous to nested workspaces.\n",
    "\n",
    "No, that doesn't mean anything to me either. In fact, APL namespaces are similar in spirit to those found in [C++](https://en.cppreference.com/w/cpp/language/namespace):\n",
    "\n",
    "> Namespaces provide a method for preventing name conflicts in large projects. Symbols declared inside a namespace block are placed in a named scope that prevents them from being mistaken for identically-named symbols in other scopes. \n",
    "\n",
    "Here's an anonymous namespace:"
   ]
  },
  {
   "cell_type": "code",
   "execution_count": 1,
   "metadata": {},
   "outputs": [
    {
     "data": {
      "text/html": [
       "<span style=\"white-space:pre; font-family: monospace\">done\n",
       "\n",
       "Rebuilding user command cache... done\n",
       "</span>"
      ]
     },
     "execution_count": 1,
     "metadata": {},
     "output_type": "execute_result"
    }
   ],
   "source": [
    "obj ← ⎕NS⍬"
   ]
  },
  {
   "cell_type": "markdown",
   "metadata": {},
   "source": [
    "We can assign values to variables inside this namespace:"
   ]
  },
  {
   "cell_type": "code",
   "execution_count": 2,
   "metadata": {},
   "outputs": [],
   "source": [
    "obj.(name cost id)  ← 'widget' 55.0 'widg443'"
   ]
  },
  {
   "cell_type": "code",
   "execution_count": 3,
   "metadata": {},
   "outputs": [
    {
     "data": {
      "text/html": [
       "<span style=\"white-space:pre; font-family: monospace\">┌──────┬──┬───────┐\n",
       "│widget│55│widg443│\n",
       "└──────┴──┴───────┘\n",
       "</span>"
      ]
     },
     "execution_count": 3,
     "metadata": {},
     "output_type": "execute_result"
    }
   ],
   "source": [
    "obj.(name cost id)"
   ]
  },
  {
   "cell_type": "markdown",
   "metadata": {},
   "source": [
    "Names inside a namespace can hold any value that names can hold _outside_ a namespace, including functions:"
   ]
  },
  {
   "cell_type": "code",
   "execution_count": 4,
   "metadata": {},
   "outputs": [],
   "source": [
    "obj.sum←+/"
   ]
  },
  {
   "cell_type": "code",
   "execution_count": 5,
   "metadata": {},
   "outputs": [
    {
     "data": {
      "text/html": [
       "<span style=\"white-space:pre; font-family: monospace\">15\n",
       "</span>"
      ]
     },
     "execution_count": 5,
     "metadata": {},
     "output_type": "execute_result"
    }
   ],
   "source": [
    "obj.sum 1 2 3 4 5"
   ]
  },
  {
   "cell_type": "markdown",
   "metadata": {},
   "source": [
    "## Scripted namespaces"
   ]
  },
  {
   "cell_type": "markdown",
   "metadata": {},
   "source": [
    "A nify feature is that we can compose a namespace as a _script_. In RIDE, you need to say `)ed ⍟ mynamespace` in order to work with a scripted namespace. Yes, of course that's a good use for the _logarithm_ glyph. It looks like so:\n",
    "\n",
    "![ns1](./IMG/ns1.png)"
   ]
  },
  {
   "cell_type": "markdown",
   "metadata": {},
   "source": [
    "In this way, the namespace can be a convenient way to organise your code. And in case it wasn't obvious, it's actually a way in which you can have many multi-line dfns in the same editing window -- or even text file. It even works as intended in the Jupyter notebook:"
   ]
  },
  {
   "cell_type": "code",
   "execution_count": 6,
   "metadata": {},
   "outputs": [],
   "source": [
    "]dinput\n",
    ":Namespace myns\n",
    "    f ← {\n",
    "        ⍺+⍵\n",
    "    }\n",
    "\n",
    "    g ← {\n",
    "        ⍝ g fun\n",
    "        ⍺⍵\n",
    "    }\n",
    "\n",
    "    h ← {\n",
    "        s ← '\\d+'⎕R'D'⊢⍵\n",
    "        ⍺ g s\n",
    "    }\n",
    ":EndNamespace"
   ]
  },
  {
   "cell_type": "code",
   "execution_count": 7,
   "metadata": {},
   "outputs": [
    {
     "data": {
      "text/html": [
       "<span style=\"white-space:pre; font-family: monospace\">┌────────┬───────────┐\n",
       "│nodigits│abdDjashgdD│\n",
       "└────────┴───────────┘\n",
       "</span>"
      ]
     },
     "execution_count": 7,
     "metadata": {},
     "output_type": "execute_result"
    }
   ],
   "source": [
    "'nodigits' myns.h 'abd556jashgd8879'"
   ]
  },
  {
   "cell_type": "markdown",
   "metadata": {},
   "source": [
    "## Wait, this is starting to look like a dict!\n",
    "\n",
    "We can get tantalisingly close to having a namespace function as a dict. In order to list the names of variables contained in a namespace, we have the [namelist](http://help.dyalog.com/18.0/index.htm#Language/System%20Functions/nl.htm), `⎕NL`, system function."
   ]
  },
  {
   "cell_type": "code",
   "execution_count": 8,
   "metadata": {},
   "outputs": [
    {
     "data": {
      "text/html": [
       "<span style=\"white-space:pre; font-family: monospace\">cost\n",
       "id  \n",
       "name\n",
       "</span>"
      ]
     },
     "execution_count": 8,
     "metadata": {},
     "output_type": "execute_result"
    }
   ],
   "source": [
    "⊢names ← obj.⎕NL 2"
   ]
  },
  {
   "cell_type": "markdown",
   "metadata": {},
   "source": [
    "The `2` there lets `⎕NL` know that we want an array back."
   ]
  },
  {
   "cell_type": "code",
   "execution_count": 9,
   "metadata": {},
   "outputs": [
    {
     "data": {
      "text/html": [
       "<span style=\"white-space:pre; font-family: monospace\">3 4\n",
       "</span>"
      ]
     },
     "execution_count": 9,
     "metadata": {},
     "output_type": "execute_result"
    }
   ],
   "source": [
    "⍴names"
   ]
  },
  {
   "cell_type": "markdown",
   "metadata": {},
   "source": [
    "If we feed it `¯2` instead we get a nested vector instead:"
   ]
  },
  {
   "cell_type": "code",
   "execution_count": 10,
   "metadata": {},
   "outputs": [
    {
     "data": {
      "text/html": [
       "<span style=\"white-space:pre; font-family: monospace\">┌────┬──┬────┐\n",
       "│cost│id│name│\n",
       "└────┴──┴────┘\n",
       "</span>"
      ]
     },
     "execution_count": 10,
     "metadata": {},
     "output_type": "execute_result"
    }
   ],
   "source": [
    "obj.⎕NL ¯2"
   ]
  },
  {
   "cell_type": "markdown",
   "metadata": {},
   "source": [
    "The right argument to `⎕NL` is a [name class](http://help.dyalog.com/18.0/index.htm#Language/System%20Functions/nc.htm), allowing us to select based on what kind something contained in the namespace is. Many of the name classes are concerned with bits of Dyalog that are out of scope for this book.\n",
    "\n",
    "We can get the _values_ of variables by evaluating their names:"
   ]
  },
  {
   "cell_type": "code",
   "execution_count": 11,
   "metadata": {},
   "outputs": [
    {
     "data": {
      "text/html": [
       "<span style=\"white-space:pre; font-family: monospace\">55\n",
       "</span>"
      ]
     },
     "execution_count": 11,
     "metadata": {},
     "output_type": "execute_result"
    },
    {
     "data": {
      "text/html": [
       "<span style=\"white-space:pre; font-family: monospace\">┌──┬───────┬──────┐\n",
       "│55│widg443│widget│\n",
       "└──┴───────┴──────┘\n",
       "</span>"
      ]
     },
     "execution_count": 11,
     "metadata": {},
     "output_type": "execute_result"
    }
   ],
   "source": [
    "obj⍎'cost'\n",
    "obj.(⍎¨⎕NL ¯2)"
   ]
  },
  {
   "cell_type": "markdown",
   "metadata": {},
   "source": [
    "We can get tantalisingly close to having a namespace function as a dict:"
   ]
  },
  {
   "cell_type": "code",
   "execution_count": 12,
   "metadata": {},
   "outputs": [],
   "source": [
    "_set←{⍎'⍺⍺.',⍺,'←⍵'⊣⍺⍺}\n",
    "keyz←{⍵.⎕NL ¯2}\n",
    "vals←{⍵.(⍎¨⎕NL ¯2)}"
   ]
  },
  {
   "cell_type": "code",
   "execution_count": 13,
   "metadata": {},
   "outputs": [],
   "source": [
    "'hello' (obj _set) 'world'"
   ]
  },
  {
   "cell_type": "code",
   "execution_count": 14,
   "metadata": {},
   "outputs": [
    {
     "data": {
      "text/html": [
       "<span style=\"white-space:pre; font-family: monospace\">world\n",
       "</span>"
      ]
     },
     "execution_count": 14,
     "metadata": {},
     "output_type": "execute_result"
    },
    {
     "data": {
      "text/html": [
       "<span style=\"white-space:pre; font-family: monospace\">┌────┬─────┬──┬────┐\n",
       "│cost│hello│id│name│\n",
       "└────┴─────┴──┴────┘\n",
       "</span>"
      ]
     },
     "execution_count": 14,
     "metadata": {},
     "output_type": "execute_result"
    },
    {
     "data": {
      "text/html": [
       "<span style=\"white-space:pre; font-family: monospace\">┌──┬─────┬───────┬──────┐\n",
       "│55│world│widg443│widget│\n",
       "└──┴─────┴───────┴──────┘\n",
       "</span>"
      ]
     },
     "execution_count": 14,
     "metadata": {},
     "output_type": "execute_result"
    }
   ],
   "source": [
    "obj⍎'hello'\n",
    "keyz obj\n",
    "vals obj"
   ]
  },
  {
   "cell_type": "markdown",
   "metadata": {},
   "source": [
    "but this approach won't let you use anything but character vectors as keys. There are also some performance constraints if the number of items in a namespace grow large. "
   ]
  },
  {
   "cell_type": "markdown",
   "metadata": {},
   "source": [
    "## A note on mutability"
   ]
  },
  {
   "cell_type": "markdown",
   "metadata": {},
   "source": [
    "Namespaces in Dyalog are reference types, and mutable. This allows you to bypass some scope-related barriers that may have been erected for very good reasons, so _caveat emptor_. For example, we can mutate a namespace even if it's passed as the _left_ argument, which is an error for normal arrays:"
   ]
  },
  {
   "cell_type": "code",
   "execution_count": 15,
   "metadata": {},
   "outputs": [
    {
     "data": {
      "text/html": [
       "<span style=\"white-space:pre; font-family: monospace\">hello\n",
       "</span>"
      ]
     },
     "execution_count": 15,
     "metadata": {},
     "output_type": "execute_result"
    },
    {
     "data": {
      "text/html": [
       "<span style=\"white-space:pre; font-family: monospace\">99\n",
       "</span>"
      ]
     },
     "execution_count": 15,
     "metadata": {},
     "output_type": "execute_result"
    }
   ],
   "source": [
    "ns ← ⎕NS⍬\n",
    "ns.key ← 45\n",
    "ns {⍺.key ← 99 ⋄ ⍵} 'hello' ⍝ Mutation through ⍺...\n",
    "ns.key"
   ]
  },
  {
   "cell_type": "markdown",
   "metadata": {},
   "source": [
    "It also means that there is no need for modified assignment through a tack, `⊢←` if we want to set a value in a namespace not in our immediate scope. All of this is either very useful, or very dangerous, depending on your particular view point. The reality is that it's both useful, but also increases the risk of fot-gun incidents."
   ]
  },
  {
   "cell_type": "code",
   "execution_count": null,
   "metadata": {},
   "outputs": [],
   "source": []
  }
 ],
 "metadata": {
  "kernelspec": {
   "display_name": "Dyalog APL",
   "language": "apl",
   "name": "dyalog-kernel"
  },
  "language_info": {
   "file_extension": ".apl",
   "mimetype": "text/apl",
   "name": "APL"
  }
 },
 "nbformat": 4,
 "nbformat_minor": 4
}