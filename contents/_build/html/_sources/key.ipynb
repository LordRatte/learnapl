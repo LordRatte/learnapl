{
 "cells": [
  {
   "cell_type": "markdown",
   "metadata": {},
   "source": [
    "# The Key operator: `⌸`"
   ]
  },
  {
   "cell_type": "markdown",
   "metadata": {},
   "source": [
    "> Overemphasis of efficiency leads to an unfortunate circularity in design: for reasons of efficiency early programming languages reflected the characteristics of the early computers, and each generation of computers reflects the needs of the programming languages of the preceding generation. --_Kenneth E. Iverson_"
   ]
  },
  {
   "cell_type": "code",
   "execution_count": 40,
   "metadata": {},
   "outputs": [],
   "source": [
    "⎕IO ← 0\n",
    "{}⎕SE.UCMD'box on -s=min -t=tree -f=on'\n",
    "{}⎕SE.UCMD'rows on'"
   ]
  },
  {
   "cell_type": "markdown",
   "metadata": {},
   "source": [
    "The monadic operator Key, `⌸`, groups things. It can, for example, be used to generate histograms, or if you are so inclined, you can think of it as similar to SQL's [GROUP BY](https://en.wikipedia.org/wiki/Group_by_(SQL)) clause. \n",
    "\n",
    "Other resources on Key:\n",
    "\n",
    "* Dyalog [docs](http://help.dyalog.com/18.0/index.htm#Language/Primitive%20Operators/Key.htm)\n",
    "* APL Orchard [cultivation](https://chat.stackexchange.com/rooms/52405/conversation/lesson-5-even-more-apl-operators--) (also covering _Stencil_)\n",
    "\n",
    "The function derived by Key is ambivalent (can be called either monadically or dyadically). The operand function can be any dyadic function returning a value. Let's start with the monadic case."
   ]
  },
  {
   "cell_type": "code",
   "execution_count": 54,
   "metadata": {},
   "outputs": [
    {
     "data": {
      "text/html": [
       "<span style=\"white-space:pre; font-family: monospace\">┌──────┬─────┐\n",
       "│┌────┐│0 2 4│\n",
       "││bill││     │\n",
       "│└────┘│     │\n",
       "├──────┼─────┤\n",
       "│┌───┐ │1 5  │\n",
       "││bob│ │     │\n",
       "│└───┘ │     │\n",
       "├──────┼─────┤\n",
       "│┌────┐│3 6  │\n",
       "││eric││     │\n",
       "│└────┘│     │\n",
       "├──────┼─────┤\n",
       "│┌───┐ │7    │\n",
       "││sue│ │     │\n",
       "│└───┘ │     │\n",
       "└──────┴─────┘\n",
       "</span>"
      ]
     },
     "execution_count": 54,
     "metadata": {},
     "output_type": "execute_result"
    }
   ],
   "source": [
    "{⍺⍵}⌸'bill' 'bob' 'bill' 'eric' 'bill' 'bob' 'eric' 'sue'"
   ]
  },
  {
   "cell_type": "markdown",
   "metadata": {},
   "source": [
    "In this case, the operator function is called with each unique element from the argument array in turn as the left argument, and a vector of indices where they occur. If we wanted this to be a histogram, all we need to to is:"
   ]
  },
  {
   "cell_type": "code",
   "execution_count": 42,
   "metadata": {},
   "outputs": [
    {
     "data": {
      "text/html": [
       "<span style=\"white-space:pre; font-family: monospace\">┌──────┬─┐\n",
       "│┌────┐│3│\n",
       "││bill││ │\n",
       "│└────┘│ │\n",
       "├──────┼─┤\n",
       "│┌───┐ │2│\n",
       "││bob│ │ │\n",
       "│└───┘ │ │\n",
       "├──────┼─┤\n",
       "│┌────┐│2│\n",
       "││eric││ │\n",
       "│└────┘│ │\n",
       "├──────┼─┤\n",
       "│┌───┐ │1│\n",
       "││sue│ │ │\n",
       "│└───┘ │ │\n",
       "└──────┴─┘\n",
       "</span>"
      ]
     },
     "execution_count": 42,
     "metadata": {},
     "output_type": "execute_result"
    }
   ],
   "source": [
    "{⍺ (≢⍵)}⌸'bill' 'bob' 'bill' 'eric' 'bill' 'bob' 'eric' 'sue'"
   ]
  },
  {
   "cell_type": "markdown",
   "metadata": {},
   "source": [
    "In its dyadic form, Key takes each unique element to the left, and groups the corresponding elements from the right. In other words, the following two formulations do the same thing:"
   ]
  },
  {
   "cell_type": "code",
   "execution_count": 68,
   "metadata": {},
   "outputs": [
    {
     "data": {
      "text/html": [
       "<span style=\"white-space:pre; font-family: monospace\">┌──────┬─────┐\n",
       "│┌────┐│0 2 4│\n",
       "││bill││     │\n",
       "│└────┘│     │\n",
       "├──────┼─────┤\n",
       "│┌───┐ │1 5  │\n",
       "││bob│ │     │\n",
       "│└───┘ │     │\n",
       "├──────┼─────┤\n",
       "│┌────┐│3 6  │\n",
       "││eric││     │\n",
       "│└────┘│     │\n",
       "├──────┼─────┤\n",
       "│┌───┐ │7    │\n",
       "││sue│ │     │\n",
       "│└───┘ │     │\n",
       "└──────┴─────┘\n",
       "</span>"
      ]
     },
     "execution_count": 68,
     "metadata": {},
     "output_type": "execute_result"
    },
    {
     "data": {
      "text/html": [
       "<span style=\"white-space:pre; font-family: monospace\">┌──────┬─────┐\n",
       "│┌────┐│0 2 4│\n",
       "││bill││     │\n",
       "│└────┘│     │\n",
       "├──────┼─────┤\n",
       "│┌───┐ │1 5  │\n",
       "││bob│ │     │\n",
       "│└───┘ │     │\n",
       "├──────┼─────┤\n",
       "│┌────┐│3 6  │\n",
       "││eric││     │\n",
       "│└────┘│     │\n",
       "├──────┼─────┤\n",
       "│┌───┐ │7    │\n",
       "││sue│ │     │\n",
       "│└───┘ │     │\n",
       "└──────┴─────┘\n",
       "</span>"
      ]
     },
     "execution_count": 68,
     "metadata": {},
     "output_type": "execute_result"
    }
   ],
   "source": [
    "names ← 'bill' 'bob' 'bill' 'eric' 'bill' 'bob' 'eric' 'sue'\n",
    "{⍺⍵}⌸names\n",
    "names{⍺⍵}⌸⍳≢names"
   ]
  },
  {
   "cell_type": "markdown",
   "metadata": {},
   "source": [
    "Let's look at a slightly more involved example. Here are the Rugby Union Gallagher English Premiership results for Jan, 2021, home fixtures only. The 0-0 games were COVID cancellations. "
   ]
  },
  {
   "cell_type": "code",
   "execution_count": 69,
   "metadata": {},
   "outputs": [],
   "source": [
    "scores←'London Irish,31-22' 'Wasps,17-49' 'Gloucester,26-31' 'Worcester Warriors,17-21' 'Bristol,48-3' 'Leicester Tigers,15-25' 'Harlequins,27-27' 'Newcastle Falcons,22-10' 'Exeter Chiefs,7-20' 'Northampton Saints,0-0' 'Bath,44-52' 'Sale,20-13' 'London Irish,0-0' 'Leicester Tigers,36-31' 'Wasps,34-5' 'Gloucester,19-22' 'Bristol,29-17' 'Worcester Warriors,0-0'"
   ]
  },
  {
   "cell_type": "markdown",
   "metadata": {},
   "source": [
    "We'll do some quick and dirty slicing and dicing to separate team names from results."
   ]
  },
  {
   "cell_type": "code",
   "execution_count": 70,
   "metadata": {},
   "outputs": [],
   "source": [
    "table←⎕CSV ('-'⎕R','⊢scores)''4\n",
    "teams←⊣/table\n",
    "scores←table[;1 2]"
   ]
  },
  {
   "cell_type": "markdown",
   "metadata": {},
   "source": [
    "To illustrate the similarity with SQL's GROUP BY, by using dyadic Key we can group the scores under each team:"
   ]
  },
  {
   "cell_type": "code",
   "execution_count": 72,
   "metadata": {},
   "outputs": [
    {
     "data": {
      "text/html": [
       "<span style=\"white-space:pre; font-family: monospace\">┌────────────────────┬─────┐\n",
       "│┌────────────┐      │31 22│\n",
       "││London Irish│      │ 0  0│\n",
       "│└────────────┘      │     │\n",
       "├────────────────────┼─────┤\n",
       "│┌─────┐             │17 49│\n",
       "││Wasps│             │34  5│\n",
       "│└─────┘             │     │\n",
       "├────────────────────┼─────┤\n",
       "│┌──────────┐        │26 31│\n",
       "││Gloucester│        │19 22│\n",
       "│└──────────┘        │     │\n",
       "├────────────────────┼─────┤\n",
       "│┌──────────────────┐│17 21│\n",
       "││Worcester Warriors││ 0  0│\n",
       "│└──────────────────┘│     │\n",
       "├────────────────────┼─────┤\n",
       "│┌───────┐           │48  3│\n",
       "││Bristol│           │29 17│\n",
       "│└───────┘           │     │\n",
       "├────────────────────┼─────┤\n",
       "│┌────────────────┐  │15 25│\n",
       "││Leicester Tigers│  │36 31│\n",
       "│└────────────────┘  │     │\n",
       "├────────────────────┼─────┤\n",
       "│┌──────────┐        │27 27│\n",
       "││Harlequins│        │     │\n",
       "│└──────────┘        │     │\n",
       "├────────────────────┼─────┤\n",
       "│┌─────────────────┐ │22 10│\n",
       "││Newcastle Falcons│ │     │\n",
       "│└─────────────────┘ │     │\n",
       "├────────────────────┼─────┤\n",
       "│┌─────────────┐     │7 20 │\n",
       "││Exeter Chiefs│     │     │\n",
       "│└─────────────┘     │     │\n",
       "├────────────────────┼─────┤\n",
       "│┌──────────────────┐│0 0  │\n",
       "││Northampton Saints││     │\n",
       "│└──────────────────┘│     │\n",
       "├────────────────────┼─────┤\n",
       "│┌────┐              │44 52│\n",
       "││Bath│              │     │\n",
       "│└────┘              │     │\n",
       "├────────────────────┼─────┤\n",
       "│┌────┐              │20 13│\n",
       "││Sale│              │     │\n",
       "│└────┘              │     │\n",
       "└────────────────────┴─────┘\n",
       "</span>"
      ]
     },
     "execution_count": 72,
     "metadata": {},
     "output_type": "execute_result"
    }
   ],
   "source": [
    "teams{⍺⍵}⌸scores"
   ]
  },
  {
   "cell_type": "markdown",
   "metadata": {},
   "source": []
  },
  {
   "cell_type": "code",
   "execution_count": null,
   "metadata": {},
   "outputs": [],
   "source": []
  }
 ],
 "metadata": {
  "kernelspec": {
   "display_name": "Dyalog APL",
   "language": "apl",
   "name": "dyalog-kernel"
  },
  "language_info": {
   "file_extension": ".apl",
   "mimetype": "text/apl",
   "name": "APL"
  }
 },
 "nbformat": 4,
 "nbformat_minor": 4
}
