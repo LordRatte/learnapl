{
 "cells": [
  {
   "cell_type": "code",
   "execution_count": 1,
   "metadata": {},
   "outputs": [
    {
     "data": {
      "text/html": [
       "<span style=\"white-space:pre; font-family: monospace\">done\n",
       "\n",
       "Rebuilding user command cache... done\n",
       "</span>"
      ]
     },
     "execution_count": 1,
     "metadata": {},
     "output_type": "execute_result"
    },
    {
     "name": "stderr",
     "output_type": "stream",
     "text": [
      "INDEX ERROR\n",
      "      50⊃vec      ⍝ INDEX ERROR\n",
      "        ∧\n"
     ]
    }
   ],
   "source": [
    "vec ← ⍳10\n",
    "50⊃vec      ⍝ INDEX ERROR"
   ]
  },
  {
   "cell_type": "code",
   "execution_count": 2,
   "metadata": {},
   "outputs": [],
   "source": [
    "]dinput\n",
    "pick50 ← {\n",
    "    3::'out of range' ⍝ Error guard, catching INDEX ERROR\n",
    "    50⊃⍵\n",
    "}"
   ]
  },
  {
   "cell_type": "code",
   "execution_count": 3,
   "metadata": {},
   "outputs": [
    {
     "data": {
      "text/html": [
       "<span style=\"white-space:pre; font-family: monospace\">out of range\n",
       "</span>"
      ]
     },
     "execution_count": 3,
     "metadata": {},
     "output_type": "execute_result"
    }
   ],
   "source": [
    "pick50 ⍳10"
   ]
  },
  {
   "cell_type": "code",
   "execution_count": 4,
   "metadata": {},
   "outputs": [],
   "source": [
    "]dinput\n",
    "f←{\n",
    "    nums←1 ⍺\n",
    "    0=⍵:nums\n",
    "    nums×÷⍵\n",
    "}"
   ]
  },
  {
   "cell_type": "code",
   "execution_count": 5,
   "metadata": {},
   "outputs": [
    {
     "data": {
      "text/html": [
       "<span style=\"white-space:pre; font-family: monospace\">1 4\n",
       "</span>"
      ]
     },
     "execution_count": 5,
     "metadata": {},
     "output_type": "execute_result"
    },
    {
     "data": {
      "text/html": [
       "<span style=\"white-space:pre; font-family: monospace\">0.5 2\n",
       "</span>"
      ]
     },
     "execution_count": 5,
     "metadata": {},
     "output_type": "execute_result"
    }
   ],
   "source": [
    "4 f 0\n",
    "4 f 2"
   ]
  },
  {
   "cell_type": "code",
   "execution_count": 6,
   "metadata": {},
   "outputs": [],
   "source": [
    "]dinput\n",
    "fbug←{ ⍝ Can you spot the bug?\n",
    "    11::nums\n",
    "    nums←1 ⍺\n",
    "    nums×÷⍵\n",
    "}"
   ]
  },
  {
   "cell_type": "code",
   "execution_count": 7,
   "metadata": {
    "tags": [
     "hide-output"
    ]
   },
   "outputs": [
    {
     "name": "stderr",
     "output_type": "stream",
     "text": [
      "VALUE ERROR: Undefined name: nums\n",
      "fbug[1] 11::nums\n",
      "            ∧\n"
     ]
    }
   ],
   "source": [
    "4 fbug 0"
   ]
  },
  {
   "cell_type": "code",
   "execution_count": 8,
   "metadata": {},
   "outputs": [],
   "source": [
    "]dinput\n",
    "fnew←{ ⍝ Now correct\n",
    "    nums←1 ⍺\n",
    "    11::nums\n",
    "    nums×÷⍵\n",
    "}"
   ]
  },
  {
   "cell_type": "code",
   "execution_count": 9,
   "metadata": {},
   "outputs": [
    {
     "data": {
      "text/html": [
       "<span style=\"white-space:pre; font-family: monospace\">1 4\n",
       "</span>"
      ]
     },
     "execution_count": 9,
     "metadata": {},
     "output_type": "execute_result"
    }
   ],
   "source": [
    "4 fnew 0"
   ]
  },
  {
   "cell_type": "code",
   "execution_count": 10,
   "metadata": {},
   "outputs": [],
   "source": [
    "]dinput\n",
    "g←{ \n",
    "    3::'out of range' ⍝ Error guard, catching INDEX ERROR\n",
    "    h ⍺⊃⍵ ⍝ No longer a tail call, due to precense of error guard\n",
    "}"
   ]
  },
  {
   "cell_type": "code",
   "execution_count": 11,
   "metadata": {},
   "outputs": [],
   "source": [
    "]dinput\n",
    "g←{ \n",
    "    val ← ⍺ {3::'out of range' ⋄ ⍺⊃⍵} ⍵\n",
    "    h val ⍝ Tail call\n",
    "}"
   ]
  },
  {
   "cell_type": "code",
   "execution_count": 12,
   "metadata": {},
   "outputs": [
    {
     "data": {
      "text/html": [
       "<span style=\"white-space:pre; font-family: monospace\">┌───────┬────────────┬───────────┬──────────┬────────────┬───────────┬─────────\n",
       "│WS FULL│SYNTAX ERROR│INDEX ERROR│RANK ERROR│LENGTH ERROR│VALUE ERROR│FORMAT ER\n",
       "└───────┴────────────┴───────────┴──────────┴────────────┴───────────┴─────────\n",
       "\n",
       "      ───┬───────┬───────┬───────────┐\n",
       "      ROR│ERROR 8│ERROR 9│LIMIT ERROR│\n",
       "      ───┴───────┴───────┴───────────┘\n",
       "</span>"
      ]
     },
     "execution_count": 12,
     "metadata": {},
     "output_type": "execute_result"
    }
   ],
   "source": [
    "⎕EM⍳10 ⍝ ...and the rest"
   ]
  },
  {
   "cell_type": "code",
   "execution_count": 13,
   "metadata": {},
   "outputs": [],
   "source": [
    "]dinput\n",
    "g←{ \n",
    "    3::'handle index error'\n",
    "    4::'handle rank error'\n",
    "    11::'handle domain error'\n",
    "    ⍝ error-prone function body here\n",
    "}"
   ]
  },
  {
   "cell_type": "code",
   "execution_count": 14,
   "metadata": {},
   "outputs": [],
   "source": [
    "]dinput\n",
    "g←{ \n",
    "    3 4 11::'it all went pear-shaped in some way'\n",
    "    ⍝ error-prone function body here\n",
    "}"
   ]
  },
  {
   "cell_type": "code",
   "execution_count": 15,
   "metadata": {},
   "outputs": [],
   "source": [
    "assert←{⍺←'assertion failure' ⋄ 0∊⍵:⍺ ⎕SIGNAL 8 ⋄ shy←0}"
   ]
  },
  {
   "cell_type": "code",
   "execution_count": 16,
   "metadata": {},
   "outputs": [
    {
     "name": "stderr",
     "output_type": "stream",
     "text": [
      "assertion failure\n",
      "      assert 0=1\n",
      "      ∧\n"
     ]
    }
   ],
   "source": [
    "assert 0=1"
   ]
  },
  {
   "cell_type": "code",
   "execution_count": 17,
   "metadata": {},
   "outputs": [
    {
     "name": "stderr",
     "output_type": "stream",
     "text": [
      "WS FULL\n",
      "      ⎕SIGNAL 1\n",
      "      ∧\n"
     ]
    }
   ],
   "source": [
    "⎕SIGNAL 1"
   ]
  },
  {
   "cell_type": "code",
   "execution_count": 18,
   "metadata": {},
   "outputs": [
    {
     "name": "stderr",
     "output_type": "stream",
     "text": [
      "ERROR 8\n",
      "      ⎕SIGNAL 8\n",
      "      ∧\n"
     ]
    }
   ],
   "source": [
    "⎕SIGNAL 8"
   ]
  },
  {
   "cell_type": "code",
   "execution_count": null,
   "metadata": {},
   "outputs": [],
   "source": []
  }
 ],
 "metadata": {
  "celltoolbar": "Tags",
  "kernelspec": {
   "display_name": "Dyalog APL",
   "language": "apl",
   "name": "dyalog-kernel"
  },
  "language_info": {
   "file_extension": ".apl",
   "mimetype": "text/apl",
   "name": "APL"
  }
 },
 "nbformat": 4,
 "nbformat_minor": 4
}