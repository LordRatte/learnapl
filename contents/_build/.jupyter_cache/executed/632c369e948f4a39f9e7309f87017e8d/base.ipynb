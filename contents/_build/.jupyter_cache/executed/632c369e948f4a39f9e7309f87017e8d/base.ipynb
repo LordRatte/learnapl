{
 "cells": [
  {
   "cell_type": "code",
   "execution_count": 1,
   "metadata": {},
   "outputs": [
    {
     "data": {
      "text/html": [
       "<span style=\"white-space:pre; font-family: monospace\">done\n",
       "</span>"
      ]
     },
     "execution_count": 1,
     "metadata": {},
     "output_type": "execute_result"
    }
   ],
   "source": [
    "⎕IO ← 0\n",
    "{}⎕SE.UCMD'box on -s=max -t=tree -f=on'\n",
    "{}⎕SE.UCMD'rows on'\n",
    "assert←{⍺←'assertion failure' ⋄ 0∊⍵:⍺ ⎕signal 8 ⋄ shy←0}"
   ]
  },
  {
   "cell_type": "code",
   "execution_count": 2,
   "metadata": {},
   "outputs": [],
   "source": [
    "gol←{≢⍸⍵}⌺3 3∊¨3+0,¨⊢ ⍝ Generate the next generation"
   ]
  },
  {
   "cell_type": "code",
   "execution_count": 3,
   "metadata": {},
   "outputs": [
    {
     "data": {
      "text/html": [
       "<span style=\"white-space:pre; font-family: monospace\">┌→──────────────────┐\n",
       "↓0 0 0 0 0 0 0 0 0 0│\n",
       "│0 0 0 0 0 0 0 0 0 0│\n",
       "│0 0 0 0 0 0 0 0 0 0│\n",
       "│0 0 0 0 0 0 0 0 0 0│\n",
       "│0 0 0 0 0 1 0 0 0 0│\n",
       "│0 0 0 1 0 1 0 0 0 0│\n",
       "│0 0 0 0 1 1 0 0 0 0│\n",
       "│0 0 0 0 0 0 0 0 0 0│\n",
       "│0 0 0 0 0 0 0 0 0 0│\n",
       "│0 0 0 0 0 0 0 0 0 0│\n",
       "└~──────────────────┘\n",
       "</span>"
      ]
     },
     "execution_count": 3,
     "metadata": {},
     "output_type": "execute_result"
    }
   ],
   "source": [
    "glider ← 3 3⍴0 0 1 1 0 1 0 1 1\n",
    "dish ← 10 10⍴0\n",
    "dish[(⊂4 3)+⍸glider]←1\n",
    "dish"
   ]
  },
  {
   "cell_type": "code",
   "execution_count": 4,
   "metadata": {},
   "outputs": [
    {
     "data": {
      "text/html": [
       "<span style=\"white-space:pre; font-family: monospace\">┌→────────────────────────────────────────────────────────────────────────────────────────┐\n",
       "↓ ┌→──────────────────┐ ┌→──────────────────┐ ┌→──────────────────┐ ┌→──────────────────┐ │\n",
       "│ ↓0 0 0 0 0 0 0 0 0 0│ ↓0 0 0 0 0 0 0 0 0 0│ ↓0 0 0 0 0 0 0 0 0 0│ ↓0 0 0 0 0 0 0 0 0 0│ │\n",
       "│ │0 0 0 0 0 0 0 0 0 0│ │0 0 0 0 0 0 0 0 0 0│ │0 0 0 0 0 0 0 0 0 0│ │0 0 0 0 0 0 0 0 0 0│ │\n",
       "│ │0 0 0 0 0 0 0 0 0 0│ │0 0 0 0 0 0 0 0 0 0│ │0 0 0 0 0 0 0 0 0 0│ │0 0 0 0 0 0 0 0 0 0│ │\n",
       "│ │0 0 0 0 0 0 0 0 0 0│ │0 0 0 0 0 0 0 0 0 0│ │0 0 0 0 0 0 0 0 0 0│ │0 0 0 0 0 0 0 0 0 0│ │\n",
       "│ │0 0 0 0 1 0 0 0 0 0│ │0 0 0 0 0 1 0 0 0 0│ │0 0 0 0 0 0 0 0 0 0│ │0 0 0 0 0 0 0 0 0 0│ │\n",
       "│ │0 0 0 0 0 1 1 0 0 0│ │0 0 0 0 0 0 1 0 0 0│ │0 0 0 0 1 0 1 0 0 0│ │0 0 0 0 0 0 1 0 0 0│ │\n",
       "│ │0 0 0 0 1 1 0 0 0 0│ │0 0 0 0 1 1 1 0 0 0│ │0 0 0 0 0 1 1 0 0 0│ │0 0 0 0 1 0 1 0 0 0│ │\n",
       "│ │0 0 0 0 0 0 0 0 0 0│ │0 0 0 0 0 0 0 0 0 0│ │0 0 0 0 0 1 0 0 0 0│ │0 0 0 0 0 1 1 0 0 0│ │\n",
       "│ │0 0 0 0 0 0 0 0 0 0│ │0 0 0 0 0 0 0 0 0 0│ │0 0 0 0 0 0 0 0 0 0│ │0 0 0 0 0 0 0 0 0 0│ │\n",
       "│ │0 0 0 0 0 0 0 0 0 0│ │0 0 0 0 0 0 0 0 0 0│ │0 0 0 0 0 0 0 0 0 0│ │0 0 0 0 0 0 0 0 0 0│ │\n",
       "│ └~──────────────────┘ └~──────────────────┘ └~──────────────────┘ └~──────────────────┘ │\n",
       "└∊────────────────────────────────────────────────────────────────────────────────────────┘\n",
       "</span>"
      ]
     },
     "execution_count": 4,
     "metadata": {},
     "output_type": "execute_result"
    }
   ],
   "source": [
    "1 4⍴(gol⍣1⊢dish)(gol⍣2⊢dish)(gol⍣3⊢dish)(gol⍣4⊢dish)"
   ]
  },
  {
   "cell_type": "code",
   "execution_count": 5,
   "metadata": {},
   "outputs": [
    {
     "data": {
      "text/html": [
       "<span style=\"white-space:pre; font-family: monospace\"> \n",
       "5\n",
       " \n",
       "</span>"
      ]
     },
     "execution_count": 5,
     "metadata": {},
     "output_type": "execute_result"
    }
   ],
   "source": [
    "{≢⍸⍵} glider"
   ]
  },
  {
   "cell_type": "code",
   "execution_count": 6,
   "metadata": {},
   "outputs": [
    {
     "data": {
      "text/html": [
       "<span style=\"white-space:pre; font-family: monospace\">┌→──────────────────────────────────────────────────────┐\n",
       "│ ┌→──┐ ┌→──┐ ┌→──┐ ┌→──┐ ┌→──┐ ┌→──┐ ┌→──┐ ┌→──┐ ┌→──┐ │\n",
       "│ │0 1│ │1 2│ │2 3│ │3 4│ │4 5│ │5 6│ │6 7│ │7 8│ │8 9│ │\n",
       "│ └~──┘ └~──┘ └~──┘ └~──┘ └~──┘ └~──┘ └~──┘ └~──┘ └~──┘ │\n",
       "└∊──────────────────────────────────────────────────────┘\n",
       "</span>"
      ]
     },
     "execution_count": 6,
     "metadata": {},
     "output_type": "execute_result"
    }
   ],
   "source": [
    "{⊂⍵}⌺2⊢⍳10"
   ]
  },
  {
   "cell_type": "code",
   "execution_count": 7,
   "metadata": {},
   "outputs": [
    {
     "data": {
      "text/html": [
       "<span style=\"white-space:pre; font-family: monospace\">┌→────────────────────────────────────────────────────────────────────────────────┐\n",
       "│ ┌→────┐ ┌→────┐ ┌→────┐ ┌→────┐ ┌→────┐ ┌→────┐ ┌→────┐ ┌→────┐ ┌→────┐ ┌→────┐ │\n",
       "│ │0 0 1│ │0 1 2│ │1 2 3│ │2 3 4│ │3 4 5│ │4 5 6│ │5 6 7│ │6 7 8│ │7 8 9│ │8 9 0│ │\n",
       "│ └~────┘ └~────┘ └~────┘ └~────┘ └~────┘ └~────┘ └~────┘ └~────┘ └~────┘ └~────┘ │\n",
       "└∊────────────────────────────────────────────────────────────────────────────────┘\n",
       "</span>"
      ]
     },
     "execution_count": 7,
     "metadata": {},
     "output_type": "execute_result"
    }
   ],
   "source": [
    "{⊂⍵}⌺3⊢⍳10"
   ]
  },
  {
   "cell_type": "code",
   "execution_count": 8,
   "metadata": {},
   "outputs": [
    {
     "data": {
      "text/html": [
       "<span style=\"white-space:pre; font-family: monospace\">┌→────────────────────────────────┐\n",
       "│ ┌→────┐ ┌→────┐ ┌→────┐ ┌→────┐ │\n",
       "│ │0 0 1│ │2 3 4│ │5 6 7│ │8 9 0│ │\n",
       "│ └~────┘ └~────┘ └~────┘ └~────┘ │\n",
       "└∊────────────────────────────────┘\n",
       "</span>"
      ]
     },
     "execution_count": 8,
     "metadata": {},
     "output_type": "execute_result"
    }
   ],
   "source": [
    "{⊂⍵}⌺(2 1⍴3 3)⊢⍳10"
   ]
  },
  {
   "cell_type": "code",
   "execution_count": 9,
   "metadata": {},
   "outputs": [
    {
     "data": {
      "text/html": [
       "<span style=\"white-space:pre; font-family: monospace\">┌→──────────────────────────────┐\n",
       "│ ┌→──┐ ┌→──┐ ┌→──┐ ┌→──┐ ┌→──┐ │\n",
       "│ │0 1│ │2 3│ │4 5│ │6 7│ │8 9│ │\n",
       "│ └~──┘ └~──┘ └~──┘ └~──┘ └~──┘ │\n",
       "└∊──────────────────────────────┘\n",
       "</span>"
      ]
     },
     "execution_count": 9,
     "metadata": {},
     "output_type": "execute_result"
    }
   ],
   "source": [
    "{⊂⍵}⌺(2 1⍴2 2)⊢⍳10"
   ]
  },
  {
   "cell_type": "code",
   "execution_count": null,
   "metadata": {},
   "outputs": [],
   "source": []
  }
 ],
 "metadata": {
  "kernelspec": {
   "display_name": "Dyalog APL",
   "language": "apl",
   "name": "dyalog-kernel"
  },
  "language_info": {
   "file_extension": ".apl",
   "mimetype": "text/apl",
   "name": "APL"
  }
 },
 "nbformat": 4,
 "nbformat_minor": 4
}