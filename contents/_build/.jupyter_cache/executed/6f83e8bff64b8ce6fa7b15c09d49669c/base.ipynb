{
 "cells": [
  {
   "cell_type": "code",
   "execution_count": 1,
   "metadata": {},
   "outputs": [],
   "source": [
    "]dinput\n",
    "Append←{⎕IO←0\n",
    "    ⍝ Given a vector of keys and a vector of vals append vals\n",
    "    ⍺∘{\n",
    "        k←0⌷⍵ ⋄ v←1⌷⍵\n",
    "        i←⍺.Keys⍳k\n",
    "        i=≢⍺.Keys:1⊣⍺.Keys,←k⊣⍺.Vals,←v  ⍝ New key\n",
    "        ⍺.Vals[i],←v                     ⍝ Append to existing\n",
    "        0\n",
    "    }¨↓⍉↑⍵\n",
    "}"
   ]
  },
  {
   "cell_type": "code",
   "execution_count": 2,
   "metadata": {},
   "outputs": [],
   "source": [
    "]dinput\n",
    "Create←{\n",
    "    keys←(1500⌶),⍺\n",
    "    vals←,⍵\n",
    "    {⍵⊣⍵.(Vals Keys Default)←vals keys ⍬}⎕NS''\n",
    "}"
   ]
  },
  {
   "cell_type": "code",
   "execution_count": 3,
   "metadata": {},
   "outputs": [],
   "source": [
    "]dinput\n",
    "Get←{\n",
    "    ~⍵ In ⍺:⍺.Default\n",
    "    ⍺.Vals[⍺.Keys⍳⍵]\n",
    "}"
   ]
  },
  {
   "cell_type": "code",
   "execution_count": 4,
   "metadata": {},
   "outputs": [],
   "source": [
    "In←{⍺∊⍵.Keys}"
   ]
  },
  {
   "cell_type": "code",
   "execution_count": 5,
   "metadata": {},
   "outputs": [],
   "source": [
    "]dinput\n",
    "Set←{⎕IO←0\n",
    "    ⍝ Upsert ht ⍺ given a vector of keys and a vector of vals\n",
    "    ⍺∘{\n",
    "        k←0⌷⍵ ⋄ v←1⌷⍵\n",
    "        i←⍺.Keys⍳k\n",
    "        i=≢⍺.Keys:1⊣⍺.Keys,←k⊣⍺.Vals,←v ⍝ New key\n",
    "        ⍺.Vals[i]←v                     ⍝ Replace existing\n",
    "        0\n",
    "    }¨↓⍉↑⍵\n",
    "}"
   ]
  },
  {
   "cell_type": "code",
   "execution_count": null,
   "metadata": {},
   "outputs": [],
   "source": []
  }
 ],
 "metadata": {
  "kernelspec": {
   "display_name": "Dyalog APL",
   "language": "apl",
   "name": "dyalog-kernel"
  },
  "language_info": {
   "file_extension": ".apl",
   "mimetype": "text/apl",
   "name": "APL"
  }
 },
 "nbformat": 4,
 "nbformat_minor": 4
}