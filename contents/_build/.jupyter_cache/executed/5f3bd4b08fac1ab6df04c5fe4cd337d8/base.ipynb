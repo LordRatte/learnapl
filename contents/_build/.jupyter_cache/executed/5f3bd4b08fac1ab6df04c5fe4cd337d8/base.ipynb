{
 "cells": [
  {
   "cell_type": "code",
   "execution_count": 1,
   "metadata": {
    "tags": [
     "hide-output"
    ]
   },
   "outputs": [
    {
     "data": {
      "text/html": [
       "<span style=\"white-space:pre; font-family: monospace\">done\n",
       "\n",
       "Rebuilding user command cache... done\n",
       "</span>"
      ]
     },
     "execution_count": 1,
     "metadata": {},
     "output_type": "execute_result"
    },
    {
     "data": {
      "text/html": [
       "<span style=\"white-space:pre; font-family: monospace\">Was ON -style=min -trains=tree -fns=on\n",
       "</span>"
      ]
     },
     "execution_count": 1,
     "metadata": {},
     "output_type": "execute_result"
    },
    {
     "data": {
      "text/html": [
       "<span style=\"white-space:pre; font-family: monospace\">Was OFF\n",
       "</span>"
      ]
     },
     "execution_count": 1,
     "metadata": {},
     "output_type": "execute_result"
    }
   ],
   "source": [
    "⎕IO ← 0\n",
    "]box on -s=min -t=tree -f=on\n",
    "]rows on"
   ]
  },
  {
   "cell_type": "code",
   "execution_count": 2,
   "metadata": {},
   "outputs": [
    {
     "data": {
      "text/html": [
       "<span style=\"white-space:pre; font-family: monospace\">───────────────────────────────────────────────────────────────────────────────\n",
       "                                                                               \n",
       "]UCMD.UNew                                                                     \n",
       "                                                                               \n",
       "Create one or more new user commands                                           \n",
       "    ]UNew [[&lt;group&gt;.]&lt;name&gt;]                                                   \n",
       "                                                                               \n",
       "[&lt;group&gt;.]&lt;name&gt;  name, optionally with group name, for new user command       \n",
       "                                                                               \n",
       "NOTE:  this command will open an Edit window comprising skeleton code for      \n",
       "       development                                                             \n",
       "                                                                               \n",
       "Example:                                                                       \n",
       "    To create a new command named \"Spiffy\":                                    \n",
       "        ]UNew Spiffy                                                           \n",
       "                                                                               \n",
       "</span>"
      ]
     },
     "execution_count": 2,
     "metadata": {},
     "output_type": "execute_result"
    }
   ],
   "source": [
    "]UNew -??"
   ]
  },
  {
   "cell_type": "code",
   "execution_count": 3,
   "metadata": {},
   "outputs": [],
   "source": [
    "]UNew Quote"
   ]
  },
  {
   "cell_type": "code",
   "execution_count": 4,
   "metadata": {},
   "outputs": [],
   "source": [
    "]dinput\n",
    ":Namespace MyCmd\n",
    "⍝ Custom user command\n",
    "\n",
    "    ⎕IO←1 ⋄ ⎕ML←1\n",
    "\n",
    "    ∇ r←List\n",
    "      r←⎕NS¨1⍴⊂⍬\n",
    "    ⍝ Name, group, short description and parsing rules\n",
    "      r.Name←⊂'Quote'\n",
    "      r.Group←⊂'MyCmds'\n",
    "      r[1].Desc←'Help text to appear for ] -?? and ]MYCMDS -?'\n",
    "      r.Parse←⊂'' ⍝ ENTER NUMBER OF ARGS AND OPTIONALLY -modifiers HERE\n",
    "    ∇\n",
    "\n",
    "    ∇ r←Run(cmd input)\n",
    "      :Select cmd\n",
    "      :Case 'Quote'\n",
    "          r←'command Quote in construction' ⍝ ENTER COMMAND CODE HERE\n",
    "      :EndSelect\n",
    "    ∇\n",
    "\n",
    "    ∇ r←level Help cmd\n",
    "      :Select cmd\n",
    "      :Case 'Quote'\n",
    "          r←'Help text to appear for ]MYCMDS.Quote -?'\n",
    "      :EndSelect\n",
    "    ∇\n",
    "\n",
    ":EndNamespace"
   ]
  },
  {
   "cell_type": "code",
   "execution_count": 5,
   "metadata": {},
   "outputs": [
    {
     "data": {
      "text/html": [
       "<span style=\"white-space:pre; font-family: monospace\">\n",
       "Rebuilding user command cache... done\n",
       "98 commands reloaded\n",
       "</span>"
      ]
     },
     "execution_count": 5,
     "metadata": {},
     "output_type": "execute_result"
    }
   ],
   "source": [
    "]UReset"
   ]
  },
  {
   "cell_type": "code",
   "execution_count": 6,
   "metadata": {},
   "outputs": [
    {
     "data": {
      "text/html": [
       "<span style=\"white-space:pre; font-family: monospace\">Distraction is the enemy of vision\n",
       "</span>"
      ]
     },
     "execution_count": 6,
     "metadata": {},
     "output_type": "execute_result"
    }
   ],
   "source": [
    "]Quote"
   ]
  },
  {
   "cell_type": "code",
   "execution_count": 7,
   "metadata": {},
   "outputs": [],
   "source": [
    "∇ r←Run(cmd input);hc\n",
    "  hc←⎕SE.SALT.Load'HttpCommand'\n",
    "  :Select cmd\n",
    "  :Case 'Quote'\n",
    "      r←(_←hc.GetJSON 'GET' 'https://api.kanye.rest/').Data.quote\n",
    "  :EndSelect\n",
    "∇"
   ]
  },
  {
   "cell_type": "code",
   "execution_count": 8,
   "metadata": {},
   "outputs": [
    {
     "data": {
      "text/html": [
       "<span style=\"white-space:pre; font-family: monospace\">\n",
       "Rebuilding user command cache... done\n",
       "98 commands reloaded\n",
       "</span>"
      ]
     },
     "execution_count": 8,
     "metadata": {},
     "output_type": "execute_result"
    }
   ],
   "source": [
    "]UReset"
   ]
  },
  {
   "cell_type": "code",
   "execution_count": 9,
   "metadata": {},
   "outputs": [
    {
     "data": {
      "text/html": [
       "<span style=\"white-space:pre; font-family: monospace\">* Command Execution Failed: SYNTAX ERROR\n",
       "</span>"
      ]
     },
     "execution_count": 9,
     "metadata": {},
     "output_type": "execute_result"
    }
   ],
   "source": [
    "]Quote"
   ]
  },
  {
   "cell_type": "code",
   "execution_count": null,
   "metadata": {},
   "outputs": [],
   "source": []
  }
 ],
 "metadata": {
  "kernelspec": {
   "display_name": "Dyalog APL",
   "language": "apl",
   "name": "dyalog-kernel"
  },
  "language_info": {
   "file_extension": ".apl",
   "mimetype": "text/apl",
   "name": "APL"
  }
 },
 "nbformat": 4,
 "nbformat_minor": 4
}