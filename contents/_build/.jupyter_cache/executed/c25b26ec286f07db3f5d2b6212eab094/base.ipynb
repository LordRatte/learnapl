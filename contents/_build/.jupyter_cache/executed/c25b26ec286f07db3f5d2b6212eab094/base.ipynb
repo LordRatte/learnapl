{
 "cells": [
  {
   "cell_type": "code",
   "execution_count": 1,
   "metadata": {},
   "outputs": [
    {
     "data": {
      "text/html": [
       "<span style=\"white-space:pre; font-family: monospace\">done\n",
       "\n",
       "Rebuilding user command cache... done\n",
       "</span>"
      ]
     },
     "execution_count": 1,
     "metadata": {},
     "output_type": "execute_result"
    }
   ],
   "source": [
    "⎕IO ← 0\n",
    "⎕PP ← 34\n",
    "{}⎕SE.UCMD'box on -s=min -t=tree -f=on'\n",
    "{}⎕SE.UCMD'rows on'\n",
    "assert←{⍺←'assertion failure' ⋄ 0∊⍵:⍺ ⎕signal 8 ⋄ shy←0}"
   ]
  },
  {
   "cell_type": "code",
   "execution_count": 2,
   "metadata": {},
   "outputs": [
    {
     "data": {
      "text/html": [
       "<span style=\"white-space:pre; font-family: monospace\">..##.......\n",
       "#...#...#..\n",
       ".#....#..#.\n",
       "..#.#...#.#\n",
       ".#...##..#.\n",
       "..#.##.....\n",
       ".#.#.#....#\n",
       ".#........#\n",
       "#.##...#...\n",
       "#...##....#\n",
       ".#..#...#.#\n",
       "</span>"
      ]
     },
     "execution_count": 2,
     "metadata": {},
     "output_type": "execute_result"
    }
   ],
   "source": [
    "⊢data←11 11⍴'..##.......#...#...#...#....#..#...#.#...#.#.#...##..#...#.##......#.#.#....#.#........##.##...#...#...##....#.#..#...#.#'"
   ]
  },
  {
   "cell_type": "code",
   "execution_count": 3,
   "metadata": {},
   "outputs": [
    {
     "data": {
      "text/html": [
       "<span style=\"white-space:pre; font-family: monospace\">..##.........##.........##.........##.......\n",
       "#...#...#..#...#...#..#...#...#..#...#...#..\n",
       ".#....#..#..#....#..#..#....#..#..#....#..#.\n",
       "..#.#...#.#..#.#...#.#..#.#...#.#..#.#...#.#\n",
       ".#...##..#..#...##..#..#...##..#..#...##..#.\n",
       "..#.##.......#.##.......#.##.......#.##.....\n",
       ".#.#.#....#.#.#.#....#.#.#.#....#.#.#.#....#\n",
       ".#........#.#........#.#........#.#........#\n",
       "#.##...#...#.##...#...#.##...#...#.##...#...\n",
       "#...##....##...##....##...##....##...##....#\n",
       ".#..#...#.#.#..#...#.#.#..#...#.#.#..#...#.#\n",
       "</span>"
      ]
     },
     "execution_count": 3,
     "metadata": {},
     "output_type": "execute_result"
    }
   ],
   "source": [
    "data,⍣3⊢data"
   ]
  },
  {
   "cell_type": "code",
   "execution_count": 4,
   "metadata": {},
   "outputs": [
    {
     "data": {
      "text/html": [
       "<span style=\"white-space:pre; font-family: monospace\">0.##.........##.........##.........##.......\n",
       "#..0#...#..#...#...#..#...#...#..#...#...#..\n",
       ".#....⎕..#..#....#..#..#....#..#..#....#..#.\n",
       "..#.#...#0#..#.#...#.#..#.#...#.#..#.#...#.#\n",
       ".#...##..#..⎕...##..#..#...##..#..#...##..#.\n",
       "..#.##.......#.⎕#.......#.##.......#.##.....\n",
       ".#.#.#....#.#.#.#.0..#.#.#.#....#.#.#.#....#\n",
       ".#........#.#........⎕.#........#.#........#\n",
       "#.##...#...#.##...#...#.⎕#...#...#.##...#...\n",
       "#...##....##...##....##...#⎕....##...##....#\n",
       ".#..#...#.#.#..#...#.#.#..#...⎕.#.#..#...#.#\n",
       "</span>"
      ]
     },
     "execution_count": 4,
     "metadata": {},
     "output_type": "execute_result"
    }
   ],
   "source": [
    "11 44⍴'0.##.........##.........##.........##.......#..0#...#..#...#...#..#...#...#..#...#...#...#....⎕..#..#....#..#..#....#..#..#....#..#...#.#...#0#..#.#...#.#..#.#...#.#..#.#...#.#.#...##..#..⎕...##..#..#...##..#..#...##..#...#.##.......#.⎕#.......#.##.......#.##......#.#.#....#.#.#.#.0..#.#.#.#....#.#.#.#....#.#........#.#........⎕.#........#.#........##.##...#...#.##...#...#.⎕#...#...#.##...#...#...##....##...##....##...#⎕....##...##....#.#..#...#.#.#..#...#.#.#..#...⎕.#.#..#...#.#'"
   ]
  },
  {
   "cell_type": "code",
   "execution_count": 5,
   "metadata": {},
   "outputs": [
    {
     "data": {
      "text/html": [
       "<span style=\"white-space:pre; font-family: monospace\">┌───┬───┬───┬───┬────┬────┬────┬────┬────┬────┬─────┐\n",
       "│0 0│1 3│2 6│3 9│4 12│5 15│6 18│7 21│8 24│9 27│10 30│\n",
       "└───┴───┴───┴───┴────┴────┴────┴────┴────┴────┴─────┘\n",
       "</span>"
      ]
     },
     "execution_count": 5,
     "metadata": {},
     "output_type": "execute_result"
    }
   ],
   "source": [
    "↓⍉↑1 3×⊂⍳11 ⍝ Remix to create y x pairs"
   ]
  },
  {
   "cell_type": "code",
   "execution_count": 6,
   "metadata": {},
   "outputs": [
    {
     "data": {
      "text/html": [
       "<span style=\"white-space:pre; font-family: monospace\">┌───┬───┬───┬───┬───┬───┬───┬────┬───┬───┬────┐\n",
       "│0 0│1 3│2 6│3 9│4 1│5 4│6 7│7 10│8 2│9 5│10 8│\n",
       "└───┴───┴───┴───┴───┴───┴───┴────┴───┴───┴────┘\n",
       "</span>"
      ]
     },
     "execution_count": 6,
     "metadata": {},
     "output_type": "execute_result"
    }
   ],
   "source": [
    "↓⍉↑11 11|1 3×⊂⍳11"
   ]
  },
  {
   "cell_type": "code",
   "execution_count": 7,
   "metadata": {},
   "outputs": [
    {
     "data": {
      "text/html": [
       "<span style=\"white-space:pre; font-family: monospace\">7\n",
       "</span>"
      ]
     },
     "execution_count": 7,
     "metadata": {},
     "output_type": "execute_result"
    }
   ],
   "source": [
    "+⌿'#'=data[↓⍉↑11 11|1 3×⊂⍳11]"
   ]
  },
  {
   "cell_type": "code",
   "execution_count": 8,
   "metadata": {},
   "outputs": [
    {
     "data": {
      "text/html": [
       "<span style=\"white-space:pre; font-family: monospace\">7\n",
       "</span>"
      ]
     },
     "execution_count": 8,
     "metadata": {},
     "output_type": "execute_result"
    }
   ],
   "source": [
    "data {+⌿'#'=⍺[↓⍉↑(⍴⍺)|⍵×⊂⍳⌈(≢⍺)÷⊃⍵]} 1 3"
   ]
  },
  {
   "cell_type": "code",
   "execution_count": 9,
   "metadata": {},
   "outputs": [],
   "source": [
    "data←↑⊃⎕NGET'../../AoCDyalog/data/2020/day03.txt'1"
   ]
  },
  {
   "cell_type": "code",
   "execution_count": 10,
   "metadata": {},
   "outputs": [
    {
     "data": {
      "text/html": [
       "<span style=\"white-space:pre; font-family: monospace\">323 31\n",
       "</span>"
      ]
     },
     "execution_count": 10,
     "metadata": {},
     "output_type": "execute_result"
    }
   ],
   "source": [
    "⍴data"
   ]
  },
  {
   "cell_type": "code",
   "execution_count": 11,
   "metadata": {},
   "outputs": [
    {
     "data": {
      "text/html": [
       "<span style=\"white-space:pre; font-family: monospace\">203\n",
       "</span>"
      ]
     },
     "execution_count": 11,
     "metadata": {},
     "output_type": "execute_result"
    }
   ],
   "source": [
    "⊢part1 ← data {+⌿'#'=⍺[↓⍉↑(⍴⍺)|⍵×⊂⍳⌈(≢⍺)÷⊃⍵]} 1 3\n",
    "assert 203=part1"
   ]
  },
  {
   "cell_type": "code",
   "execution_count": 12,
   "metadata": {},
   "outputs": [
    {
     "data": {
      "text/html": [
       "<span style=\"white-space:pre; font-family: monospace\">3316272960\n",
       "</span>"
      ]
     },
     "execution_count": 12,
     "metadata": {},
     "output_type": "execute_result"
    }
   ],
   "source": [
    "⊢part2 ← ×⌿data∘{+⌿'#'=⍺[↓⍉↑(⍴⍺)|⍵×⊂⍳⌈(≢⍺)÷⊃⍵]}¨(1 1)(1 3)(1 5)(1 7)(2 1)\n",
    "assert 3316272960=part2"
   ]
  },
  {
   "cell_type": "code",
   "execution_count": null,
   "metadata": {},
   "outputs": [],
   "source": []
  }
 ],
 "metadata": {
  "kernelspec": {
   "display_name": "Dyalog APL",
   "language": "apl",
   "name": "dyalog-kernel"
  },
  "language_info": {
   "file_extension": ".apl",
   "mimetype": "text/apl",
   "name": "APL"
  }
 },
 "nbformat": 4,
 "nbformat_minor": 4
}