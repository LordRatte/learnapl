{
 "cells": [
  {
   "cell_type": "code",
   "execution_count": 1,
   "metadata": {},
   "outputs": [
    {
     "data": {
      "text/html": [
       "<span style=\"white-space:pre; font-family: monospace\">Rebuilding user command cache... done\n",
       "\n",
       "Rebuilding user command cache... done\n",
       "</span>"
      ]
     },
     "execution_count": 1,
     "metadata": {},
     "output_type": "execute_result"
    }
   ],
   "source": [
    "⎕IO ← 0\n",
    "⎕PP ← 34\n",
    "{}⎕SE.UCMD'box on -s=min -t=tree -f=on'\n",
    "{}⎕SE.UCMD'rows on'\n",
    "assert←{⍺←'assertion failure' ⋄ 0∊⍵:⍺ ⎕signal 8 ⋄ shy←0}"
   ]
  },
  {
   "cell_type": "code",
   "execution_count": 2,
   "metadata": {},
   "outputs": [
    {
     "data": {
      "text/html": [
       "<span style=\"white-space:pre; font-family: monospace\">..##.......\n",
       "#...#...#..\n",
       ".#....#..#.\n",
       "..#.#...#.#\n",
       ".#...##..#.\n",
       "..#.##.....\n",
       ".#.#.#....#\n",
       ".#........#\n",
       "#.##...#...\n",
       "#...##....#\n",
       ".#..#...#.#\n",
       "</span>"
      ]
     },
     "execution_count": 2,
     "metadata": {},
     "output_type": "execute_result"
    }
   ],
   "source": [
    "⊢data←11 11⍴'..##.......#...#...#...#....#..#...#.#...#.#.#...##..#...#.##......#.#.#....#.#........##.##...#...#...##....#.#..#...#.#'"
   ]
  },
  {
   "cell_type": "code",
   "execution_count": 3,
   "metadata": {},
   "outputs": [
    {
     "data": {
      "text/html": [
       "<span style=\"white-space:pre; font-family: monospace\">..##.........##.........##.........##.......\n",
       "#...#...#..#...#...#..#...#...#..#...#...#..\n",
       ".#....#..#..#....#..#..#....#..#..#....#..#.\n",
       "..#.#...#.#..#.#...#.#..#.#...#.#..#.#...#.#\n",
       ".#...##..#..#...##..#..#...##..#..#...##..#.\n",
       "..#.##.......#.##.......#.##.......#.##.....\n",
       ".#.#.#....#.#.#.#....#.#.#.#....#.#.#.#....#\n",
       ".#........#.#........#.#........#.#........#\n",
       "#.##...#...#.##...#...#.##...#...#.##...#...\n",
       "#...##....##...##....##...##....##...##....#\n",
       ".#..#...#.#.#..#...#.#.#..#...#.#.#..#...#.#\n",
       "</span>"
      ]
     },
     "execution_count": 3,
     "metadata": {},
     "output_type": "execute_result"
    }
   ],
   "source": [
    "data,⍣3⊢data"
   ]
  },
  {
   "cell_type": "code",
   "execution_count": 4,
   "metadata": {},
   "outputs": [
    {
     "data": {
      "text/html": [
       "<span style=\"white-space:pre; font-family: monospace\">0.##.........##.........##.........##.......\n",
       "#..0#...#..#...#...#..#...#...#..#...#...#..\n",
       ".#....⎕..#..#....#..#..#....#..#..#....#..#.\n",
       "..#.#...#0#..#.#...#.#..#.#...#.#..#.#...#.#\n",
       ".#...##..#..⎕...##..#..#...##..#..#...##..#.\n",
       "..#.##.......#.⎕#.......#.##.......#.##.....\n",
       ".#.#.#....#.#.#.#.0..#.#.#.#....#.#.#.#....#\n",
       ".#........#.#........⎕.#........#.#........#\n",
       "#.##...#...#.##...#...#.⎕#...#...#.##...#...\n",
       "#...##....##...##....##...#⎕....##...##....#\n",
       ".#..#...#.#.#..#...#.#.#..#...⎕.#.#..#...#.#\n",
       "</span>"
      ]
     },
     "execution_count": 4,
     "metadata": {},
     "output_type": "execute_result"
    }
   ],
   "source": [
    "11 44⍴'0.##.........##.........##.........##.......#..0#...#..#...#...#..#...#...#..#...#...#...#....⎕..#..#....#..#..#....#..#..#....#..#...#.#...#0#..#.#...#.#..#.#...#.#..#.#...#.#.#...##..#..⎕...##..#..#...##..#..#...##..#...#.##.......#.⎕#.......#.##.......#.##......#.#.#....#.#.#.#.0..#.#.#.#....#.#.#.#....#.#........#.#........⎕.#........#.#........##.##...#...#.##...#...#.⎕#...#...#.##...#...#...##....##...##....##...#⎕....##...##....#.#..#...#.#.#..#...#.#.#..#...⎕.#.#..#...#.#'"
   ]
  },
  {
   "cell_type": "code",
   "execution_count": 5,
   "metadata": {},
   "outputs": [
    {
     "data": {
      "text/html": [
       "<span style=\"white-space:pre; font-family: monospace\">┌───┬───┬───┬───┬────┬────┬────┬────┬────┬────┬─────┐\n",
       "│0 0│1 3│2 6│3 9│4 12│5 15│6 18│7 21│8 24│9 27│10 30│\n",
       "└───┴───┴───┴───┴────┴────┴────┴────┴────┴────┴─────┘\n",
       "</span>"
      ]
     },
     "execution_count": 5,
     "metadata": {},
     "output_type": "execute_result"
    }
   ],
   "source": [
    "↓⍉↑1 3×⊂⍳11 ⍝ Remix to create y x pairs"
   ]
  },
  {
   "cell_type": "code",
   "execution_count": 6,
   "metadata": {},
   "outputs": [
    {
     "data": {
      "text/html": [
       "<span style=\"white-space:pre; font-family: monospace\">┌───┬───┬───┬───┬───┬───┬───┬────┬───┬───┬────┐\n",
       "│0 0│1 3│2 6│3 9│4 1│5 4│6 7│7 10│8 2│9 5│10 8│\n",
       "└───┴───┴───┴───┴───┴───┴───┴────┴───┴───┴────┘\n",
       "</span>"
      ]
     },
     "execution_count": 6,
     "metadata": {},
     "output_type": "execute_result"
    }
   ],
   "source": [
    "↓⍉↑11 11|1 3×⊂⍳11"
   ]
  },
  {
   "cell_type": "code",
   "execution_count": 7,
   "metadata": {},
   "outputs": [
    {
     "data": {
      "text/html": [
       "<span style=\"white-space:pre; font-family: monospace\">7\n",
       "</span>"
      ]
     },
     "execution_count": 7,
     "metadata": {},
     "output_type": "execute_result"
    }
   ],
   "source": [
    "+⌿'#'=data[↓⍉↑11 11|1 3×⊂⍳11]"
   ]
  },
  {
   "cell_type": "code",
   "execution_count": 8,
   "metadata": {},
   "outputs": [
    {
     "data": {
      "text/html": [
       "<span style=\"white-space:pre; font-family: monospace\">7\n",
       "</span>"
      ]
     },
     "execution_count": 8,
     "metadata": {},
     "output_type": "execute_result"
    }
   ],
   "source": [
    "data {+⌿'#'=⍺[↓⍉↑(⍴⍺)|⍵×⊂⍳⌈(≢⍺)÷⊃⍵]} 1 3"
   ]
  },
  {
   "cell_type": "code",
   "execution_count": 9,
   "metadata": {},
   "outputs": [],
   "source": [
    "data←↑⊃⎕NGET'../../AoCDyalog/data/2020/day03.txt'1"
   ]
  },
  {
   "cell_type": "code",
   "execution_count": 10,
   "metadata": {},
   "outputs": [
    {
     "data": {
      "text/html": [
       "<span style=\"white-space:pre; font-family: monospace\">323 31\n",
       "</span>"
      ]
     },
     "execution_count": 10,
     "metadata": {},
     "output_type": "execute_result"
    }
   ],
   "source": [
    "⍴data"
   ]
  },
  {
   "cell_type": "code",
   "execution_count": 11,
   "metadata": {},
   "outputs": [
    {
     "data": {
      "text/html": [
       "<span style=\"white-space:pre; font-family: monospace\">203\n",
       "</span>"
      ]
     },
     "execution_count": 11,
     "metadata": {},
     "output_type": "execute_result"
    }
   ],
   "source": [
    "⊢part1 ← data {+⌿'#'=⍺[↓⍉↑(⍴⍺)|⍵×⊂⍳⌈(≢⍺)÷⊃⍵]} 1 3\n",
    "assert 203=part1"
   ]
  },
  {
   "cell_type": "code",
   "execution_count": 12,
   "metadata": {},
   "outputs": [
    {
     "data": {
      "text/html": [
       "<span style=\"white-space:pre; font-family: monospace\">3316272960\n",
       "</span>"
      ]
     },
     "execution_count": 12,
     "metadata": {},
     "output_type": "execute_result"
    }
   ],
   "source": [
    "⊢part2 ← ×⌿data∘{+⌿'#'=⍺[↓⍉↑(⍴⍺)|⍵×⊂⍳⌈(≢⍺)÷⊃⍵]}¨(1 1)(1 3)(1 5)(1 7)(2 1)\n",
    "assert 3316272960=part2"
   ]
  },
  {
   "cell_type": "code",
   "execution_count": 13,
   "metadata": {},
   "outputs": [
    {
     "data": {
      "text/html": [
       "<span style=\"white-space:pre; font-family: monospace\">eedadn\n",
       "drvtee\n",
       "eandsr\n",
       "raavrd\n",
       "atevrs\n",
       "tsrnev\n",
       "sdttsa\n",
       "rasrtv\n",
       "nssdts\n",
       "ntnada\n",
       "svetve\n",
       "tesnvt\n",
       "vntsnd\n",
       "vrdear\n",
       "dvrsen\n",
       "enarar\n",
       "</span>"
      ]
     },
     "execution_count": 13,
     "metadata": {},
     "output_type": "execute_result"
    }
   ],
   "source": [
    "data←'eedadn' 'drvtee' 'eandsr' 'raavrd' 'atevrs' 'tsrnev' 'sdttsa' 'rasrtv' 'nssdts' 'ntnada' 'svetve' 'tesnvt' 'vntsnd' 'vrdear' 'dvrsen' 'enarar'\n",
    "↑data"
   ]
  },
  {
   "cell_type": "code",
   "execution_count": 14,
   "metadata": {},
   "outputs": [
    {
     "data": {
      "text/html": [
       "<span style=\"white-space:pre; font-family: monospace\">┌───┬───┬───┬───┬───┬───┐\n",
       "│e 3│e 2│d 2│a 2│d 2│n 2│\n",
       "│d 2│r 2│v 1│t 3│e 3│e 2│\n",
       "│r 2│a 3│n 2│d 2│s 2│r 3│\n",
       "│a 1│t 2│a 2│v 2│r 2│d 2│\n",
       "│t 2│s 2│e 2│n 2│t 2│s 2│\n",
       "│s 2│d 1│r 2│r 2│v 2│v 2│\n",
       "│n 2│v 2│t 2│s 2│n 1│a 2│\n",
       "│v 2│n 2│s 3│e 1│a 2│t 1│\n",
       "└───┴───┴───┴───┴───┴───┘\n",
       "</span>"
      ]
     },
     "execution_count": 14,
     "metadata": {},
     "output_type": "execute_result"
    }
   ],
   "source": [
    "{⍺,≢⍵}⌸¨↓⍉↑data"
   ]
  },
  {
   "cell_type": "code",
   "execution_count": 15,
   "metadata": {},
   "outputs": [
    {
     "data": {
      "text/html": [
       "<span style=\"white-space:pre; font-family: monospace\">easter\n",
       "</span>"
      ]
     },
     "execution_count": 15,
     "metadata": {},
     "output_type": "execute_result"
    }
   ],
   "source": [
    "∊{0 0⌷⍵[⍒⍵[;1];]}¨{⍺,≢⍵}⌸¨↓⍉↑data"
   ]
  },
  {
   "cell_type": "code",
   "execution_count": 16,
   "metadata": {},
   "outputs": [],
   "source": [
    "data←⊃⎕NGET'../../AoCDyalog/data/2016/06.txt'1"
   ]
  },
  {
   "cell_type": "code",
   "execution_count": 17,
   "metadata": {},
   "outputs": [
    {
     "data": {
      "text/html": [
       "<span style=\"white-space:pre; font-family: monospace\">qrqlznrl\n",
       "</span>"
      ]
     },
     "execution_count": 17,
     "metadata": {},
     "output_type": "execute_result"
    }
   ],
   "source": [
    "⊢part1←∊{0 0⌷⍵[⍒⍵[;1];]}¨{⍺,≢⍵}⌸¨↓⍉↑data\n",
    "assert 'qrqlznrl'≡part1"
   ]
  },
  {
   "cell_type": "code",
   "execution_count": 18,
   "metadata": {},
   "outputs": [
    {
     "data": {
      "text/html": [
       "<span style=\"white-space:pre; font-family: monospace\">kgzdfaon\n",
       "</span>"
      ]
     },
     "execution_count": 18,
     "metadata": {},
     "output_type": "execute_result"
    }
   ],
   "source": [
    "⊢part2←∊{0 0⌷⍵[⍋⍵[;1];]}¨{⍺,≢⍵}⌸¨↓⍉↑data\n",
    "assert 'kgzdfaon'≡part2"
   ]
  },
  {
   "cell_type": "code",
   "execution_count": 19,
   "metadata": {},
   "outputs": [],
   "source": [
    "_day6←{∊⍺⍺{0 0⌷⍵[⍺⍺⍵[;1];]}¨{⍺,≢⍵}⌸¨↓⍉↑⍵}"
   ]
  },
  {
   "cell_type": "code",
   "execution_count": 20,
   "metadata": {},
   "outputs": [
    {
     "data": {
      "text/html": [
       "<span style=\"white-space:pre; font-family: monospace\">qrqlznrl\n",
       "</span>"
      ]
     },
     "execution_count": 20,
     "metadata": {},
     "output_type": "execute_result"
    },
    {
     "data": {
      "text/html": [
       "<span style=\"white-space:pre; font-family: monospace\">kgzdfaon\n",
       "</span>"
      ]
     },
     "execution_count": 20,
     "metadata": {},
     "output_type": "execute_result"
    }
   ],
   "source": [
    "⍒_day6 data\n",
    "⍋_day6 data"
   ]
  },
  {
   "cell_type": "code",
   "execution_count": 21,
   "metadata": {},
   "outputs": [],
   "source": [
    "data←↑'-?\\d+'⎕S{⍎⍵.Match}¨⊃⎕NGET'../../AoCDyalog/data/2018/10.txt'1"
   ]
  },
  {
   "cell_type": "code",
   "execution_count": 22,
   "metadata": {},
   "outputs": [],
   "source": [
    "pos ← ,/data[;0 1]\n",
    "vel ← ,/data[;2 3]"
   ]
  },
  {
   "cell_type": "code",
   "execution_count": 23,
   "metadata": {},
   "outputs": [],
   "source": [
    "bbx ← {+/|-⌿2 2⍴(⌊⌿,⌈⌿)↑⍵} ⍝ Width + height of bounding box"
   ]
  },
  {
   "cell_type": "code",
   "execution_count": 24,
   "metadata": {},
   "outputs": [],
   "source": [
    "msg ← vel-⍨{vel+⍵}⍣{⍺>⍥bbx⍵}⊢pos ⍝ Add velocity until bounding box no longer decreases."
   ]
  },
  {
   "cell_type": "code",
   "execution_count": 25,
   "metadata": {},
   "outputs": [
    {
     "data": {
      "text/html": [
       "<span style=\"white-space:pre; font-family: monospace\">******  *****   *****   *****   *****   *****   ******    **  \n",
       "*       *    *  *    *  *    *  *    *  *    *       *   *  * \n",
       "*       *    *  *    *  *    *  *    *  *    *       *  *    *\n",
       "*       *    *  *    *  *    *  *    *  *    *      *   *    *\n",
       "*****   *****   *****   *****   *****   *****      *    *    *\n",
       "*       *       *  *    *    *  *  *    *  *      *     ******\n",
       "*       *       *   *   *    *  *   *   *   *    *      *    *\n",
       "*       *       *   *   *    *  *   *   *   *   *       *    *\n",
       "*       *       *    *  *    *  *    *  *    *  *       *    *\n",
       "*       *       *    *  *****   *    *  *    *  ******  *    *\n",
       "</span>"
      ]
     },
     "execution_count": 25,
     "metadata": {},
     "output_type": "execute_result"
    }
   ],
   "source": [
    "(w h) ← |-⌿2 2⍴(⌊⌿,⌈⌿)↑msg           ⍝ Width and height of bounding box\n",
    "(-h+1)(-w+1)↑'*'@(⊖¨msg)⊢143 203⍴' ' ⍝ Prune our display, and make stars"
   ]
  },
  {
   "cell_type": "code",
   "execution_count": 26,
   "metadata": {},
   "outputs": [
    {
     "data": {
      "text/html": [
       "<span style=\"white-space:pre; font-family: monospace\">1  1 1 0 ¯1 2\n",
       "1 ¯1 0 1  1 3\n",
       "1  1 0 0 ¯1 4\n",
       "1  1 0 0  1 1\n",
       "1 ¯1 5 1 ¯1 2\n",
       "1  1 3 1  1 0\n",
       "</span>"
      ]
     },
     "execution_count": 26,
     "metadata": {},
     "output_type": "execute_result"
    }
   ],
   "source": [
    "⊢STATE←6 6⍴1 1 1 0 ¯1 2 1 ¯1 0 1 1 3 1 1 0 0 ¯1 4 1 1 0 0 1 1 1 ¯1 5 1 ¯1 2 1 1 3 1 1 0"
   ]
  },
  {
   "cell_type": "code",
   "execution_count": 27,
   "metadata": {},
   "outputs": [],
   "source": [
    "TAPE ← 12919244⍴0"
   ]
  },
  {
   "cell_type": "code",
   "execution_count": 28,
   "metadata": {},
   "outputs": [],
   "source": [
    "]dinput\n",
    "stf ← {\n",
    "    (pos state) ← ⍵\n",
    "    args ← (0 3[pos⊃TAPE])+⍳3\n",
    "    (nv m ns) ← STATE[state;args]\n",
    "    TAPE[pos] ← nv\n",
    "    (pos+m) ns\n",
    "}"
   ]
  },
  {
   "cell_type": "code",
   "execution_count": 29,
   "metadata": {},
   "outputs": [],
   "source": [
    "_←stf⍣12919244⊢6459622 0  ⍝ Takes ~20s"
   ]
  },
  {
   "cell_type": "code",
   "execution_count": 30,
   "metadata": {},
   "outputs": [
    {
     "data": {
      "text/html": [
       "<span style=\"white-space:pre; font-family: monospace\">4287\n",
       "</span>"
      ]
     },
     "execution_count": 30,
     "metadata": {},
     "output_type": "execute_result"
    }
   ],
   "source": [
    "assert 4287=⎕←+/TAPE"
   ]
  },
  {
   "cell_type": "code",
   "execution_count": 31,
   "metadata": {},
   "outputs": [],
   "source": [
    "]dinput\n",
    ":Namespace heapq\n",
    "\n",
    "    ⍝ Implementation of a heapq using a Leftist Tree\n",
    "    ⍝ See:\n",
    "    ⍝    https://en.wikipedia.org/wiki/Leftist_tree\n",
    "    ⍝    http://typeocaml.com/2015/03/12/heap-leftist-tree/\n",
    "\n",
    "    Empty ← {0=≢⍵}\n",
    "\n",
    "    Merge ← { ⍝ Merge leftist trees ⍺ and ⍵\n",
    "        0=≢⍺:⍵ ⋄ 0=≢⍵:⍺                                  ⍝ If either is a leaf, return the other\n",
    "        (item left right) ← 1↓⍺\n",
    "        (⊃⊃item)>⊃⊃(⎕IO+1)⊃⍵: ⍵∇⍺                        ⍝ Flip to ensure smallest is root of merged\n",
    "        merged ← right∇⍵                                 ⍝ Merge rightwards\n",
    "        leftRank ← ⊃left\n",
    "        mergedRank ← ⊃merged\n",
    "        leftRank≥⊃merged: (1+mergedRank)item left merged ⍝ Right is shorter\n",
    "        (1+leftRank)item merged left                     ⍝ Left is shorter; make it the new right\n",
    "    }\n",
    "\n",
    "    Pop ← { ⍝ Pop off smallest element from a leftist tree ⍵\n",
    "        0=≢⍵:⍬\n",
    "        (value left right) ← 1↓⍵\n",
    "        (left Merge right) value\n",
    "    }\n",
    "\n",
    "    Push ← { ⍝ Push a new element ⍵ onto the leftist tree ⍺\n",
    "        ⍺←⍬\n",
    "        ⍺ {\n",
    "            0=≢⍵: ⍺\n",
    "            1(⊃⍵)⍬ ⍬ Merge ⍺∇1↓⍵\n",
    "        },⍵\n",
    "    }\n",
    "\n",
    ":EndNamespace"
   ]
  },
  {
   "cell_type": "code",
   "execution_count": 32,
   "metadata": {},
   "outputs": [],
   "source": [
    "q ← heapq.Push ⊂0 'zero'    ⍝ No left arg creates a new heap\n",
    "q ← q heapq.Push ⊂5 'five'\n",
    "q ← q heapq.Push ⊂2 'two'"
   ]
  },
  {
   "cell_type": "code",
   "execution_count": 33,
   "metadata": {},
   "outputs": [
    {
     "data": {
      "text/html": [
       "<span style=\"white-space:pre; font-family: monospace\">┌─┬────┐\n",
       "│0│zero│\n",
       "└─┴────┘\n",
       "</span>"
      ]
     },
     "execution_count": 33,
     "metadata": {},
     "output_type": "execute_result"
    },
    {
     "data": {
      "text/html": [
       "<span style=\"white-space:pre; font-family: monospace\">┌─┬───┐\n",
       "│2│two│\n",
       "└─┴───┘\n",
       "</span>"
      ]
     },
     "execution_count": 33,
     "metadata": {},
     "output_type": "execute_result"
    },
    {
     "data": {
      "text/html": [
       "<span style=\"white-space:pre; font-family: monospace\">┌─┬────┐\n",
       "│5│five│\n",
       "└─┴────┘\n",
       "</span>"
      ]
     },
     "execution_count": 33,
     "metadata": {},
     "output_type": "execute_result"
    }
   ],
   "source": [
    "(q v) ← heapq.Pop q\n",
    "v\n",
    "(q v) ← heapq.Pop q\n",
    "v\n",
    "(q v) ← heapq.Pop q\n",
    "v"
   ]
  },
  {
   "cell_type": "code",
   "execution_count": 34,
   "metadata": {},
   "outputs": [
    {
     "data": {
      "text/html": [
       "<span style=\"white-space:pre; font-family: monospace\">┌─┬───────┬──────────────────────────────────────────┬──────────────┐\n",
       "│2│┌─┬───┐│┌─┬─────────┬─────────────┬──────────────┐│┌─┬────────┬┬┐│\n",
       "│ ││2│two│││2│┌─┬─────┐│┌─┬───────┬┬┐│┌─┬────────┬┬┐│││1│┌──┬───┐││││\n",
       "│ │└─┴───┘││ ││3│three│││1│┌─┬───┐│││││1│┌─┬────┐││││││ ││10│ten│││││\n",
       "│ │       ││ │└─┴─────┘││ ││6│six││││││ ││9│nine│││││││ │└──┴───┘││││\n",
       "│ │       ││ │         ││ │└─┴───┘│││││ │└─┴────┘│││││└─┴────────┴┴┘│\n",
       "│ │       ││ │         │└─┴───────┴┴┘│└─┴────────┴┴┘││              │\n",
       "│ │       │└─┴─────────┴─────────────┴──────────────┘│              │\n",
       "└─┴───────┴──────────────────────────────────────────┴──────────────┘\n",
       "</span>"
      ]
     },
     "execution_count": 34,
     "metadata": {},
     "output_type": "execute_result"
    },
    {
     "data": {
      "text/html": [
       "<span style=\"white-space:pre; font-family: monospace\">┌─┬───┐\n",
       "│2│two│\n",
       "└─┴───┘\n",
       "</span>"
      ]
     },
     "execution_count": 34,
     "metadata": {},
     "output_type": "execute_result"
    },
    {
     "data": {
      "text/html": [
       "<span style=\"white-space:pre; font-family: monospace\">┌─┬─────┐\n",
       "│3│three│\n",
       "└─┴─────┘\n",
       "</span>"
      ]
     },
     "execution_count": 34,
     "metadata": {},
     "output_type": "execute_result"
    },
    {
     "data": {
      "text/html": [
       "<span style=\"white-space:pre; font-family: monospace\">┌─┬───┐\n",
       "│6│six│\n",
       "└─┴───┘\n",
       "</span>"
      ]
     },
     "execution_count": 34,
     "metadata": {},
     "output_type": "execute_result"
    },
    {
     "data": {
      "text/html": [
       "<span style=\"white-space:pre; font-family: monospace\">┌─┬────┐\n",
       "│9│nine│\n",
       "└─┴────┘\n",
       "</span>"
      ]
     },
     "execution_count": 34,
     "metadata": {},
     "output_type": "execute_result"
    },
    {
     "data": {
      "text/html": [
       "<span style=\"white-space:pre; font-family: monospace\">┌──┬───┐\n",
       "│10│ten│\n",
       "└──┴───┘\n",
       "</span>"
      ]
     },
     "execution_count": 34,
     "metadata": {},
     "output_type": "execute_result"
    }
   ],
   "source": [
    "h ← heapq.Push ⊂2 'two'\n",
    "h heapq.Push← ⊂10 'ten'\n",
    "h heapq.Push← ⊂9 'nine'\n",
    "\n",
    "s ← heapq.Push ⊂3 'three'\n",
    "s heapq.Push← ⊂6 'six'\n",
    "\n",
    "q ← h heapq.Merge s\n",
    "q\n",
    "(q v)←heapq.Pop q\n",
    "v\n",
    "(q v)←heapq.Pop q\n",
    "v\n",
    "(q v)←heapq.Pop q\n",
    "v\n",
    "(q v)←heapq.Pop q\n",
    "v\n",
    "(q v)←heapq.Pop q\n",
    "v"
   ]
  },
  {
   "cell_type": "code",
   "execution_count": 35,
   "metadata": {},
   "outputs": [],
   "source": [
    "]dinput\n",
    ":Namespace dict\n",
    "\n",
    "    ⍝ Basic dictionary\n",
    "\n",
    "    Create ← {\n",
    "        keys ← (1500⌶),⍺\n",
    "        vals ← ,⍵\n",
    "        {⍵⊣⍵.(Vals Keys Default)←vals keys ⍬}⎕NS''\n",
    "    }\n",
    "\n",
    "    Get ← {\n",
    "        ~⍵ In ⍺: ⍺.Default\n",
    "        ⍺.Vals[⍺.Keys⍳⍵]\n",
    "    }\n",
    "\n",
    "    In ← {⍺∊⍵.Keys}\n",
    "\n",
    "    _Set ← {⎕IO←0\n",
    "        ⍝ Monadic operator to upsert dict ⍺⍺ given a \n",
    "        ⍝ vector (or scalar) of keys ⍺ and a vector \n",
    "        ⍝ (or scalar) of vals ⍵\n",
    "        ⍺⍺∘{\n",
    "            k ← 0⌷⍵ ⋄ v ← 1⌷⍵\n",
    "            i ← ⍺.Keys⍳k\n",
    "            i=≢⍺.Keys: 1⊣⍺.Keys,←k⊣⍺.Vals,←v ⍝ New key\n",
    "            ⍺.Vals[i] ← v                    ⍝ Replace existing\n",
    "            0\n",
    "        }¨↓⍉↑(,⍺)(,⍵)\n",
    "    }\n",
    "\n",
    ":EndNamespace"
   ]
  },
  {
   "cell_type": "code",
   "execution_count": 36,
   "metadata": {},
   "outputs": [
    {
     "data": {
      "text/html": [
       "<span style=\"white-space:pre; font-family: monospace\">1 1 1\n",
       "</span>"
      ]
     },
     "execution_count": 36,
     "metadata": {},
     "output_type": "execute_result"
    }
   ],
   "source": [
    "d ← (⊂'bob') dict.Create 45\n",
    "'eric' 'frank' 'sue'(d dict._Set) 77 54 28"
   ]
  },
  {
   "cell_type": "code",
   "execution_count": 37,
   "metadata": {},
   "outputs": [
    {
     "data": {
      "text/html": [
       "<span style=\"white-space:pre; font-family: monospace\">┌───┬────┬─────┬───┐\n",
       "│bob│eric│frank│sue│\n",
       "├───┼────┼─────┼───┤\n",
       "│45 │77  │54   │28 │\n",
       "└───┴────┴─────┴───┘\n",
       "</span>"
      ]
     },
     "execution_count": 37,
     "metadata": {},
     "output_type": "execute_result"
    },
    {
     "data": {
      "text/html": [
       "<span style=\"white-space:pre; font-family: monospace\">54\n",
       "</span>"
      ]
     },
     "execution_count": 37,
     "metadata": {},
     "output_type": "execute_result"
    },
    {
     "data": {
      "text/html": [
       "<span style=\"white-space:pre; font-family: monospace\">99\n",
       "</span>"
      ]
     },
     "execution_count": 37,
     "metadata": {},
     "output_type": "execute_result"
    }
   ],
   "source": [
    "↑(d.Keys)(d.Vals)\n",
    "d dict.Get ⊂'frank'\n",
    "{}(⊂'frank') (d dict._Set) 99\n",
    "d dict.Get ⊂'frank'"
   ]
  },
  {
   "cell_type": "code",
   "execution_count": 38,
   "metadata": {},
   "outputs": [
    {
     "data": {
      "text/html": [
       "<span style=\"white-space:pre; font-family: monospace\">Key not found\n",
       "</span>"
      ]
     },
     "execution_count": 38,
     "metadata": {},
     "output_type": "execute_result"
    }
   ],
   "source": [
    "d.Default ← 'Key not found'\n",
    "d dict.Get ⊂'johnny'"
   ]
  },
  {
   "cell_type": "code",
   "execution_count": 39,
   "metadata": {},
   "outputs": [],
   "source": [
    "]dinput\n",
    ":Namespace path\n",
    "    ⍝ Basic implementation of uniform cost Dijkstra's shortest path\n",
    "    ⍝ See: https://en.wikipedia.org/wiki/Dijkstra%27s_algorithm\n",
    "    \n",
    "    ⎕IO←0\n",
    "    _Dijkstra ← {\n",
    "        (start target) ←⍺ ⍵\n",
    "        cost ← start ##.dict.Create 0 ⋄ cost.Default ← ⌊/⍬\n",
    "        cameFrom ← start ##.dict.Create start\n",
    "        Neigh ← ⍺⍺\n",
    "        Pick ← {oldCost←cost ##.dict.Get ⊂⍵ ⋄ ⍺<oldCost}                \n",
    "        _ ← {\n",
    "            (queue queueItem) ← ##.heapq.Pop ⍵                 ⍝ Next vertex, in increasing cost order\n",
    "            current ← 1⊃queueItem\n",
    "            current≡target: ⍬                                  ⍝ Are we there yet?\n",
    "            newCost ← 1+cost ##.dict.Get current               ⍝ Uniform cost\n",
    "            valid ← (newCost∘Pick¨n)/n ← Neigh current         ⍝ New, or better?\n",
    "            _ ← valid (cameFrom ##.dict._Set)(≢valid)⍴current  ⍝ All neighbours came from current\n",
    "            _ ← valid (cost ##.dict._Set)(≢valid)⍴newCost      ⍝ Any changed costs?\n",
    "            queue ##.heapq.Push ↓⍉↑((≢valid)⍴newCost)(⊂¨valid) ⍝ Enqueue connected nodes\n",
    "        }⍣{##.heapq.Empty ⍺} ##.heapq.Push ⊂0 start            ⍝ Repeat until the queue is empty\n",
    "        cameFrom\n",
    "    }\n",
    "    \n",
    "    _Unwind ← {\n",
    "        path ← ⍺⍺\n",
    "        start ← ⍺\n",
    "        ⍬ {\n",
    "            ⍵≡start: ⊖⍺\n",
    "            (⍺,⍵)∇path ##.dict.Get ⍵\n",
    "        } ⍵\n",
    "    }\n",
    "    \n",
    ":EndNamespace"
   ]
  },
  {
   "cell_type": "code",
   "execution_count": 40,
   "metadata": {},
   "outputs": [
    {
     "data": {
      "text/html": [
       "<span style=\"white-space:pre; font-family: monospace\">#A###################\n",
       "#...#...#...#.......#\n",
       "#.#####.#.#########.#\n",
       "#...#.....#.#.#.....#\n",
       "#.#####.#.#.#.###.#.#\n",
       "#.#.....#.#.......#.#\n",
       "#.#####.###.#####.#.#\n",
       "#.......#...#...#.#.#\n",
       "#.###.#.#.#.#.#####.#\n",
       "#...#.#...#.#.#.#...#\n",
       "###.#.#####.#.#.###.#\n",
       "#...#.#...#.#...#...#\n",
       "#######.#.#.###.#.###\n",
       "#.#.....#.....#.#...#\n",
       "#.###.#.#####.#.###.#\n",
       "#...#.#...#...#.#.#.#\n",
       "#.#######.#.#.#.#.#.#\n",
       "#...#.#.#.#.#...#...#\n",
       "###.#.#.#.#####.#.###\n",
       "#.............#.#...B\n",
       "#####################\n",
       "</span>"
      ]
     },
     "execution_count": 40,
     "metadata": {},
     "output_type": "execute_result"
    }
   ],
   "source": [
    "⊢maze ← ↑⊃⎕NGET'/Users/stefan/work/dyalog/learnapl/maze-small.txt'1"
   ]
  },
  {
   "cell_type": "code",
   "execution_count": 41,
   "metadata": {},
   "outputs": [],
   "source": [
    "graph ← ~'#'=maze"
   ]
  },
  {
   "cell_type": "code",
   "execution_count": 42,
   "metadata": {},
   "outputs": [],
   "source": [
    "N4 ← {(⍸⍺)∩⍵(+,-)(0 1)(1 0)} ⍝ 4-connected neighborhood"
   ]
  },
  {
   "cell_type": "code",
   "execution_count": 43,
   "metadata": {},
   "outputs": [
    {
     "data": {
      "text/html": [
       "<span style=\"white-space:pre; font-family: monospace\">┌───┬───┬───┐\n",
       "│4 7│5 6│6 7│\n",
       "└───┴───┴───┘\n",
       "</span>"
      ]
     },
     "execution_count": 43,
     "metadata": {},
     "output_type": "execute_result"
    }
   ],
   "source": [
    "graph N4 ⊂5 7"
   ]
  },
  {
   "cell_type": "code",
   "execution_count": 44,
   "metadata": {},
   "outputs": [],
   "source": [
    "camefrom ← (⊂0 1) (graph∘N4 path._Dijkstra) ⊂19 20\n",
    "solution ← (⊂0 1) (camefrom path._Unwind) ⊂19 20"
   ]
  },
  {
   "cell_type": "code",
   "execution_count": 45,
   "metadata": {},
   "outputs": [
    {
     "data": {
      "text/html": [
       "<span style=\"white-space:pre; font-family: monospace\">#A###################\n",
       "#⎕..#...#...#.......#\n",
       "#⎕#####.#.#########.#\n",
       "#⎕..#.....#.#.#..⎕⎕⎕#\n",
       "#⎕#####.#.#.#.###⎕#⎕#\n",
       "#⎕#.....#.#⎕⎕⎕⎕⎕⎕⎕#⎕#\n",
       "#⎕#####.###⎕#####.#⎕#\n",
       "#⎕⎕⎕⎕⎕⎕⎕#⎕⎕⎕#...#.#⎕#\n",
       "#.###.#⎕#⎕#.#.#####⎕#\n",
       "#...#.#⎕⎕⎕#.#.#.#..⎕#\n",
       "###.#.#####.#.#.###⎕#\n",
       "#...#.#...#.#...#⎕⎕⎕#\n",
       "#######.#.#.###.#⎕###\n",
       "#.#.....#.....#.#⎕⎕⎕#\n",
       "#.###.#.#####.#.###⎕#\n",
       "#...#.#...#...#.#.#⎕#\n",
       "#.#######.#.#.#.#.#⎕#\n",
       "#...#.#.#.#.#...#⎕⎕⎕#\n",
       "###.#.#.#.#####.#⎕###\n",
       "#.............#.#⎕⎕⎕⎕\n",
       "#####################\n",
       "</span>"
      ]
     },
     "execution_count": 45,
     "metadata": {},
     "output_type": "execute_result"
    }
   ],
   "source": [
    "'⎕'@solution⊢maze"
   ]
  },
  {
   "cell_type": "code",
   "execution_count": null,
   "metadata": {},
   "outputs": [],
   "source": []
  }
 ],
 "metadata": {
  "kernelspec": {
   "display_name": "Dyalog APL",
   "language": "apl",
   "name": "dyalog-kernel"
  },
  "language_info": {
   "file_extension": ".apl",
   "mimetype": "text/apl",
   "name": "APL"
  }
 },
 "nbformat": 4,
 "nbformat_minor": 4
}