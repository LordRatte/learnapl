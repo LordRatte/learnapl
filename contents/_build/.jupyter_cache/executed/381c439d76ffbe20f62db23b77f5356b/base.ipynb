{
 "cells": [
  {
   "cell_type": "code",
   "execution_count": 1,
   "metadata": {
    "tags": [
     "hide-output"
    ]
   },
   "outputs": [
    {
     "data": {
      "text/html": [
       "<span style=\"white-space:pre; font-family: monospace\">Was ON\n",
       "</span>"
      ]
     },
     "execution_count": 1,
     "metadata": {},
     "output_type": "execute_result"
    },
    {
     "data": {
      "text/html": [
       "<span style=\"white-space:pre; font-family: monospace\">Was OFF\n",
       "</span>"
      ]
     },
     "execution_count": 1,
     "metadata": {},
     "output_type": "execute_result"
    }
   ],
   "source": [
    "⎕IO ← 0\n",
    "]box on\n",
    "]rows on"
   ]
  },
  {
   "cell_type": "code",
   "execution_count": 2,
   "metadata": {},
   "outputs": [
    {
     "data": {
      "text/html": [
       "<span style=\"white-space:pre; font-family: monospace\">┌┌→───────┐\n",
       "↓↓ 3  0 21│\n",
       "││19 15  9│\n",
       "││24  6 17│\n",
       "││        │\n",
       "││26  8 20│\n",
       "││ 4 14 12│\n",
       "││11 23  5│\n",
       "││        │\n",
       "││18  7  2│\n",
       "││13 16  1│\n",
       "││22 25 10│\n",
       "└└~───────┘\n",
       "</span>"
      ]
     },
     "execution_count": 2,
     "metadata": {},
     "output_type": "execute_result"
    },
    {
     "data": {
      "text/html": [
       "<span style=\"white-space:pre; font-family: monospace\">3\n",
       "</span>"
      ]
     },
     "execution_count": 2,
     "metadata": {},
     "output_type": "execute_result"
    }
   ],
   "source": [
    "]DISPLAY m ← 3 3 3⍴27?27\n",
    "≢⍴m"
   ]
  },
  {
   "cell_type": "code",
   "execution_count": 3,
   "metadata": {},
   "outputs": [
    {
     "data": {
      "text/html": [
       "<span style=\"white-space:pre; font-family: monospace\">19 15  9\n",
       "24  6 17\n",
       "\n",
       " 4 14 12\n",
       "11 23  5\n",
       "\n",
       "13 16  1\n",
       "22 25 10\n",
       "</span>"
      ]
     },
     "execution_count": 3,
     "metadata": {},
     "output_type": "execute_result"
    }
   ],
   "source": [
    "1↓[1]m ⍝ Apply drop ↓ to axis 1, i.e. the y-axis, with ⎕IO←0"
   ]
  },
  {
   "cell_type": "code",
   "execution_count": 4,
   "metadata": {},
   "outputs": [
    {
     "data": {
      "text/html": [
       "<span style=\"white-space:pre; font-family: monospace\">19 15  9\n",
       "24  6 17\n",
       "\n",
       " 4 14 12\n",
       "11 23  5\n",
       "\n",
       "13 16  1\n",
       "22 25 10\n",
       "</span>"
      ]
     },
     "execution_count": 4,
     "metadata": {},
     "output_type": "execute_result"
    }
   ],
   "source": [
    "1↓⍤2⊢m"
   ]
  },
  {
   "cell_type": "code",
   "execution_count": 5,
   "metadata": {},
   "outputs": [
    {
     "data": {
      "text/html": [
       "<span style=\"white-space:pre; font-family: monospace\">┌─────┬───┬─┐\n",
       "│1 2 3│1 1│1│\n",
       "│     │1 1│ │\n",
       "└─────┴───┴─┘\n",
       "</span>"
      ]
     },
     "execution_count": 5,
     "metadata": {},
     "output_type": "execute_result"
    }
   ],
   "source": [
    "⎕ ← V ← (1 2 3)(2 2⍴1 1 1 1)(1)"
   ]
  },
  {
   "cell_type": "code",
   "execution_count": 6,
   "metadata": {},
   "outputs": [
    {
     "data": {
      "text/html": [
       "<span style=\"white-space:pre; font-family: monospace\">3\n",
       "</span>"
      ]
     },
     "execution_count": 6,
     "metadata": {},
     "output_type": "execute_result"
    }
   ],
   "source": [
    "≢⍤1⊢V ⍝ NOTE: this is wrong!"
   ]
  },
  {
   "cell_type": "code",
   "execution_count": 7,
   "metadata": {},
   "outputs": [
    {
     "data": {
      "text/html": [
       "<span style=\"white-space:pre; font-family: monospace\">1 hello\n",
       "2 hello\n",
       "3 hello\n",
       "</span>"
      ]
     },
     "execution_count": 7,
     "metadata": {},
     "output_type": "execute_result"
    }
   ],
   "source": [
    "1 2 3,⍤0 1 ⊢ 'hello'"
   ]
  },
  {
   "cell_type": "code",
   "execution_count": 8,
   "metadata": {},
   "outputs": [],
   "source": [
    "rankpairs ← ⊂⍤,⍥⊂"
   ]
  },
  {
   "cell_type": "code",
   "execution_count": 9,
   "metadata": {},
   "outputs": [
    {
     "data": {
      "text/html": [
       "<span style=\"white-space:pre; font-family: monospace\">┌─────────┬─────────┬─────────┐\n",
       "│┌─┬─────┐│┌─┬─────┐│┌─┬─────┐│\n",
       "││1│hello│││2│hello│││3│hello││\n",
       "│└─┴─────┘│└─┴─────┘│└─┴─────┘│\n",
       "└─────────┴─────────┴─────────┘\n",
       "</span>"
      ]
     },
     "execution_count": 9,
     "metadata": {},
     "output_type": "execute_result"
    }
   ],
   "source": [
    "\n",
    "1 2 3 rankpairs⍤0 1 ⊢ 'hello'"
   ]
  },
  {
   "cell_type": "code",
   "execution_count": 10,
   "metadata": {},
   "outputs": [],
   "source": [
    "I←⌷⍨∘⊃⍨⍤0 99 ⍝ Sane indexing, a.k.a select"
   ]
  },
  {
   "cell_type": "code",
   "execution_count": 11,
   "metadata": {},
   "outputs": [
    {
     "data": {
      "text/html": [
       "<span style=\"white-space:pre; font-family: monospace\">Was ON -trains=tree\n",
       "</span>"
      ]
     },
     "execution_count": 11,
     "metadata": {},
     "output_type": "execute_result"
    }
   ],
   "source": [
    "]box on -trains=tree ⍝ Visualise tacit functions as a parse tree"
   ]
  },
  {
   "cell_type": "code",
   "execution_count": 12,
   "metadata": {},
   "outputs": [
    {
     "data": {
      "text/html": [
       "<span style=\"white-space:pre; font-family: monospace\">      ⍤\n",
       "     ┌┴┐\n",
       "     ⍨ 0 99\n",
       "   ┌─┘\n",
       "   ∘\n",
       "  ┌┴┐\n",
       "  ⍨ ⊃\n",
       "┌─┘\n",
       "⌷\n",
       "</span>"
      ]
     },
     "execution_count": 12,
     "metadata": {},
     "output_type": "execute_result"
    }
   ],
   "source": [
    "⌷⍨∘⊃⍨⍤0 99"
   ]
  },
  {
   "cell_type": "code",
   "execution_count": 13,
   "metadata": {},
   "outputs": [],
   "source": [
    "sane←{(⊃⍺)⌷⍵}"
   ]
  },
  {
   "cell_type": "code",
   "execution_count": 14,
   "metadata": {},
   "outputs": [
    {
     "data": {
      "text/html": [
       "<span style=\"white-space:pre; font-family: monospace\">d\n",
       "</span>"
      ]
     },
     "execution_count": 14,
     "metadata": {},
     "output_type": "execute_result"
    }
   ],
   "source": [
    "3 sane 'abcdefg'"
   ]
  },
  {
   "cell_type": "code",
   "execution_count": 15,
   "metadata": {},
   "outputs": [
    {
     "data": {
      "text/html": [
       "<span style=\"white-space:pre; font-family: monospace\">bcd\n",
       "</span>"
      ]
     },
     "execution_count": 15,
     "metadata": {},
     "output_type": "execute_result"
    }
   ],
   "source": [
    "1 2 3 sane⍤0 99⊢'abcdefg'"
   ]
  },
  {
   "cell_type": "code",
   "execution_count": 16,
   "metadata": {},
   "outputs": [
    {
     "data": {
      "text/html": [
       "<span style=\"white-space:pre; font-family: monospace\">┌→──────┐\n",
       "↓2 1 1 1│\n",
       "│1 2 1 1│\n",
       "│1 1 2 1│\n",
       "└~──────┘\n",
       "</span>"
      ]
     },
     "execution_count": 16,
     "metadata": {},
     "output_type": "execute_result"
    },
    {
     "data": {
      "text/html": [
       "<span style=\"white-space:pre; font-family: monospace\">┌→──────┐\n",
       "↓1 2 3 4│\n",
       "│1 2 3 4│\n",
       "│1 2 3 4│\n",
       "└~──────┘\n",
       "</span>"
      ]
     },
     "execution_count": 16,
     "metadata": {},
     "output_type": "execute_result"
    }
   ],
   "source": [
    "]DISPLAY A ← 3 4⍴2 1 1 1 1 2 1 1 1 1 2 1\n",
    "]DISPLAY B ← 3 4⍴1 2 3 4 1 2 3 4 1 2 3 4"
   ]
  },
  {
   "cell_type": "code",
   "execution_count": 17,
   "metadata": {},
   "outputs": [
    {
     "name": "stderr",
     "output_type": "stream",
     "text": [
      "SYNTAX ERROR: The function does not take a left argument\n",
      "      A∘//B     ⍝ Nope... SYNTAX ERROR\n",
      "        ∧\n"
     ]
    },
    {
     "name": "stderr",
     "output_type": "stream",
     "text": [
      "RANK ERROR\n",
      "      {A/⍵}/B   ⍝ Nope... RANK ERROR\n",
      "        ∧\n"
     ]
    },
    {
     "name": "stderr",
     "output_type": "stream",
     "text": [
      "SYNTAX ERROR: The function does not take a left argument\n",
      "      A∘{⍺/⍵}/B ⍝ Nope... SYNTAX ERROR\n",
      "            ∧\n"
     ]
    }
   ],
   "source": [
    "A∘//B     ⍝ Nope... SYNTAX ERROR\n",
    "{A/⍵}/B   ⍝ Nope... RANK ERROR\n",
    "A∘{⍺/⍵}/B ⍝ Nope... SYNTAX ERROR"
   ]
  },
  {
   "cell_type": "code",
   "execution_count": 18,
   "metadata": {},
   "outputs": [
    {
     "data": {
      "text/html": [
       "<span style=\"white-space:pre; font-family: monospace\">1 1 2 3 4\n",
       "1 2 2 3 4\n",
       "1 2 3 3 4\n",
       "</span>"
      ]
     },
     "execution_count": 18,
     "metadata": {},
     "output_type": "execute_result"
    }
   ],
   "source": [
    "A/⍤1⊢B"
   ]
  },
  {
   "cell_type": "code",
   "execution_count": 19,
   "metadata": {},
   "outputs": [
    {
     "data": {
      "text/html": [
       "<span style=\"white-space:pre; font-family: monospace\">0 1 2 3 4 5 6 7 8 9 10 11 12 13 14 15 16 17 18 19 20 21 22 23\n",
       "</span>"
      ]
     },
     "execution_count": 19,
     "metadata": {},
     "output_type": "execute_result"
    }
   ],
   "source": [
    ",t←2 3 4⍴⍳24"
   ]
  },
  {
   "cell_type": "code",
   "execution_count": 20,
   "metadata": {
    "tags": [
     "hide-output"
    ]
   },
   "outputs": [
    {
     "data": {
      "text/html": [
       "<span style=\"white-space:pre; font-family: monospace\">0 1 2 3 4 5 6 7 8 9 10 11 12 13 14 15 16 17 18 19 20 21 22 23\n",
       "</span>"
      ]
     },
     "execution_count": 20,
     "metadata": {},
     "output_type": "execute_result"
    },
    {
     "data": {
      "text/html": [
       "<span style=\"white-space:pre; font-family: monospace\">┌→──────────────────────────────────┐\n",
       "↓ 0  1  2  3  4  5  6  7  8  9 10 11│\n",
       "│12 13 14 15 16 17 18 19 20 21 22 23│\n",
       "└~──────────────────────────────────┘\n",
       "</span>"
      ]
     },
     "execution_count": 20,
     "metadata": {},
     "output_type": "execute_result"
    },
    {
     "data": {
      "text/html": [
       "<span style=\"white-space:pre; font-family: monospace\">┌┌→──────────┐\n",
       "↓↓ 0  1  2  3│\n",
       "││ 4  5  6  7│\n",
       "││ 8  9 10 11│\n",
       "││           │\n",
       "││12 13 14 15│\n",
       "││16 17 18 19│\n",
       "││20 21 22 23│\n",
       "└└~──────────┘\n",
       "</span>"
      ]
     },
     "execution_count": 20,
     "metadata": {},
     "output_type": "execute_result"
    }
   ],
   "source": [
    ",⍤3⊢t\n",
    "]DISPLAY ,⍤2⊢t\n",
    "]DISPLAY ,⍤1⊢t"
   ]
  },
  {
   "cell_type": "code",
   "execution_count": 21,
   "metadata": {
    "tags": [
     "hide-output"
    ]
   },
   "outputs": [
    {
     "data": {
      "text/html": [
       "<span style=\"white-space:pre; font-family: monospace\">┌───────────┐\n",
       "│ 0  1  2  3│\n",
       "│ 4  5  6  7│\n",
       "│ 8  9 10 11│\n",
       "│           │\n",
       "│12 13 14 15│\n",
       "│16 17 18 19│\n",
       "│20 21 22 23│\n",
       "└───────────┘\n",
       "</span>"
      ]
     },
     "execution_count": 21,
     "metadata": {},
     "output_type": "execute_result"
    },
    {
     "data": {
      "text/html": [
       "<span style=\"white-space:pre; font-family: monospace\">┌─────────┬───────────┐\n",
       "│0 1  2  3│12 13 14 15│\n",
       "│4 5  6  7│16 17 18 19│\n",
       "│8 9 10 11│20 21 22 23│\n",
       "└─────────┴───────────┘\n",
       "</span>"
      ]
     },
     "execution_count": 21,
     "metadata": {},
     "output_type": "execute_result"
    },
    {
     "data": {
      "text/html": [
       "<span style=\"white-space:pre; font-family: monospace\">┌───────────┬───────────┬───────────┐\n",
       "│0 1 2 3    │4 5 6 7    │8 9 10 11  │\n",
       "├───────────┼───────────┼───────────┤\n",
       "│12 13 14 15│16 17 18 19│20 21 22 23│\n",
       "└───────────┴───────────┴───────────┘\n",
       "</span>"
      ]
     },
     "execution_count": 21,
     "metadata": {},
     "output_type": "execute_result"
    }
   ],
   "source": [
    "⊂⍤3⊢t\n",
    "⊂⍤2⊢t\n",
    "⊂⍤1⊢t"
   ]
  },
  {
   "cell_type": "code",
   "execution_count": 22,
   "metadata": {
    "tags": [
     "hide-output"
    ]
   },
   "outputs": [
    {
     "data": {
      "text/html": [
       "<span style=\"white-space:pre; font-family: monospace\">0 1 2 3 4 5 6 7 8 9 10 11 12 13 14 15 16 17 18 19 20 21 22 23\n",
       "</span>"
      ]
     },
     "execution_count": 22,
     "metadata": {},
     "output_type": "execute_result"
    },
    {
     "data": {
      "text/html": [
       "<span style=\"white-space:pre; font-family: monospace\">┌→──────────────────────────────────┐\n",
       "↓ 0  1  2  3  4  5  6  7  8  9 10 11│\n",
       "│12 13 14 15 16 17 18 19 20 21 22 23│\n",
       "└~──────────────────────────────────┘\n",
       "</span>"
      ]
     },
     "execution_count": 22,
     "metadata": {},
     "output_type": "execute_result"
    },
    {
     "data": {
      "text/html": [
       "<span style=\"white-space:pre; font-family: monospace\">┌┌→──────────┐\n",
       "↓↓ 0  1  2  3│\n",
       "││ 4  5  6  7│\n",
       "││ 8  9 10 11│\n",
       "││           │\n",
       "││12 13 14 15│\n",
       "││16 17 18 19│\n",
       "││20 21 22 23│\n",
       "└└~──────────┘\n",
       "</span>"
      ]
     },
     "execution_count": 22,
     "metadata": {},
     "output_type": "execute_result"
    }
   ],
   "source": [
    "↑ ,¨ ⊂⍤3⊢t\n",
    "]DISPLAY ↑ ,¨ ⊂⍤2⊢t\n",
    "]DISPLAY ↑ ,¨ ⊂⍤1⊢t"
   ]
  },
  {
   "cell_type": "code",
   "execution_count": 23,
   "metadata": {
    "tags": [
     "hide-output"
    ]
   },
   "outputs": [
    {
     "data": {
      "text/html": [
       "<span style=\"white-space:pre; font-family: monospace\">┌→──────────┐\n",
       "↓12 14 16 18│\n",
       "│20 22 24 26│\n",
       "│28 30 32 34│\n",
       "└~──────────┘\n",
       "</span>"
      ]
     },
     "execution_count": 23,
     "metadata": {},
     "output_type": "execute_result"
    },
    {
     "data": {
      "text/html": [
       "<span style=\"white-space:pre; font-family: monospace\">┌→──────────┐\n",
       "↓12 15 18 21│\n",
       "│48 51 54 57│\n",
       "└~──────────┘\n",
       "</span>"
      ]
     },
     "execution_count": 23,
     "metadata": {},
     "output_type": "execute_result"
    },
    {
     "data": {
      "text/html": [
       "<span style=\"white-space:pre; font-family: monospace\">┌→───────┐\n",
       "↓ 6 22 38│\n",
       "│54 70 86│\n",
       "└~───────┘\n",
       "</span>"
      ]
     },
     "execution_count": 23,
     "metadata": {},
     "output_type": "execute_result"
    }
   ],
   "source": [
    "]DISPLAY +⌿⍤3⊢t\n",
    "]DISPLAY +⌿⍤2⊢t\n",
    "]DISPLAY +⌿⍤1⊢t"
   ]
  },
  {
   "cell_type": "code",
   "execution_count": 24,
   "metadata": {
    "tags": [
     "hide-output"
    ]
   },
   "outputs": [
    {
     "data": {
      "text/html": [
       "<span style=\"white-space:pre; font-family: monospace\">┌┌→──────────┐\n",
       "↓↓12 13 14 15│\n",
       "││16 17 18 19│\n",
       "││20 21 22 23│\n",
       "││           │\n",
       "││ 0  1  2  3│\n",
       "││ 4  5  6  7│\n",
       "││ 8  9 10 11│\n",
       "└└~──────────┘\n",
       "</span>"
      ]
     },
     "execution_count": 24,
     "metadata": {},
     "output_type": "execute_result"
    },
    {
     "data": {
      "text/html": [
       "<span style=\"white-space:pre; font-family: monospace\">┌┌→──────────┐\n",
       "↓↓ 8  9 10 11│\n",
       "││ 4  5  6  7│\n",
       "││ 0  1  2  3│\n",
       "││           │\n",
       "││20 21 22 23│\n",
       "││16 17 18 19│\n",
       "││12 13 14 15│\n",
       "└└~──────────┘\n",
       "</span>"
      ]
     },
     "execution_count": 24,
     "metadata": {},
     "output_type": "execute_result"
    },
    {
     "data": {
      "text/html": [
       "<span style=\"white-space:pre; font-family: monospace\">┌┌→──────────┐\n",
       "↓↓ 3  2  1  0│\n",
       "││ 7  6  5  4│\n",
       "││11 10  9  8│\n",
       "││           │\n",
       "││15 14 13 12│\n",
       "││19 18 17 16│\n",
       "││23 22 21 20│\n",
       "└└~──────────┘\n",
       "</span>"
      ]
     },
     "execution_count": 24,
     "metadata": {},
     "output_type": "execute_result"
    }
   ],
   "source": [
    "]DISPLAY ⊖⍤3⊢t\n",
    "]DISPLAY ⊖⍤2⊢t\n",
    "]DISPLAY ⊖⍤1⊢t"
   ]
  },
  {
   "cell_type": "code",
   "execution_count": null,
   "metadata": {},
   "outputs": [],
   "source": []
  }
 ],
 "metadata": {
  "kernelspec": {
   "display_name": "Dyalog APL",
   "language": "apl",
   "name": "dyalog-kernel"
  },
  "language_info": {
   "file_extension": ".apl",
   "mimetype": "text/apl",
   "name": "APL"
  }
 },
 "nbformat": 4,
 "nbformat_minor": 4
}