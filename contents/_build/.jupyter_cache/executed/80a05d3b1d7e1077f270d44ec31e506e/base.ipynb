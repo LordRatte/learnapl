{
 "cells": [
  {
   "cell_type": "code",
   "execution_count": 1,
   "metadata": {},
   "outputs": [
    {
     "data": {
      "text/html": [
       "<span style=\"white-space:pre; font-family: monospace\">done\n",
       "\n",
       "Rebuilding user command cache... done\n",
       "</span>"
      ]
     },
     "execution_count": 1,
     "metadata": {},
     "output_type": "execute_result"
    },
    {
     "data": {
      "text/html": [
       "<span style=\"white-space:pre; font-family: monospace\">#.HttpCommand\n",
       "</span>"
      ]
     },
     "execution_count": 1,
     "metadata": {},
     "output_type": "execute_result"
    }
   ],
   "source": [
    "]load HttpCommand\n",
    "⎕IO ← 0\n",
    "{}⎕SE.UCMD'box on -s=min -t=tree -f=on'\n",
    "{}⎕SE.UCMD'rows on'"
   ]
  },
  {
   "cell_type": "code",
   "execution_count": 2,
   "metadata": {},
   "outputs": [
    {
     "data": {
      "text/html": [
       "<span style=\"white-space:pre; font-family: monospace\">[rc: 0 | msg: \"\" | HTTP Status: 200 \"OK\" | ⍴Data: 92]\n",
       "</span>"
      ]
     },
     "execution_count": 2,
     "metadata": {},
     "output_type": "execute_result"
    }
   ],
   "source": [
    "url ← 'https://api.kanye.rest/'\n",
    "⎕←z←HttpCommand.Get url"
   ]
  },
  {
   "cell_type": "code",
   "execution_count": 3,
   "metadata": {},
   "outputs": [
    {
     "data": {
      "text/html": [
       "<span style=\"white-space:pre; font-family: monospace\">┌────────────┬────────────────┐\n",
       "│Content-Type│application/json│\n",
       "└────────────┴────────────────┘\n",
       "</span>"
      ]
     },
     "execution_count": 3,
     "metadata": {},
     "output_type": "execute_result"
    }
   ],
   "source": [
    "{(⍵[;0]∊⊂'Content-Type')⌿⍵} z.Headers"
   ]
  },
  {
   "cell_type": "code",
   "execution_count": 4,
   "metadata": {},
   "outputs": [],
   "source": [
    "j←⎕JSON z.Data"
   ]
  },
  {
   "cell_type": "code",
   "execution_count": 5,
   "metadata": {},
   "outputs": [
    {
     "data": {
      "text/html": [
       "<span style=\"white-space:pre; font-family: monospace\">#.[JSON object]\n",
       "·   ~ quote    \n",
       "</span>"
      ]
     },
     "execution_count": 5,
     "metadata": {},
     "output_type": "execute_result"
    }
   ],
   "source": [
    "]map j  ⍝ list the fields"
   ]
  },
  {
   "cell_type": "code",
   "execution_count": 6,
   "metadata": {},
   "outputs": [
    {
     "data": {
      "text/html": [
       "<span style=\"white-space:pre; font-family: monospace\">I care. I care about everything. Sometimes not giving a f#%k is caring the most.\n",
       "</span>"
      ]
     },
     "execution_count": 6,
     "metadata": {},
     "output_type": "execute_result"
    }
   ],
   "source": [
    "j.quote"
   ]
  },
  {
   "cell_type": "code",
   "execution_count": 7,
   "metadata": {},
   "outputs": [],
   "source": [
    "url←'https://skruger.cloudant.com/airaccidents/_all_docs'\n",
    "(params←⎕NS'').(include_docs limit)←'true' 1"
   ]
  },
  {
   "cell_type": "code",
   "execution_count": 8,
   "metadata": {},
   "outputs": [],
   "source": [
    "z←HttpCommand.Get url params"
   ]
  },
  {
   "cell_type": "code",
   "execution_count": 9,
   "metadata": {},
   "outputs": [
    {
     "data": {
      "text/html": [
       "<span style=\"white-space:pre; font-family: monospace\">#.[JSON object]             \n",
       "·   ~ offset rows total_rows\n",
       "</span>"
      ]
     },
     "execution_count": 9,
     "metadata": {},
     "output_type": "execute_result"
    }
   ],
   "source": [
    "j←⎕JSON z.Data\n",
    "]map j"
   ]
  },
  {
   "cell_type": "code",
   "execution_count": 10,
   "metadata": {},
   "outputs": [
    {
     "data": {
      "text/html": [
       "<span style=\"white-space:pre; font-family: monospace\">#.[JSON object].[JSON object].[JSON object]                                  \n",
       "·   ~ Country Latitude Location Longitude Make Model Schedule _id _rev       \n",
       "·   ~ ⍙Accident⍙32⍙Number ⍙Aircraft⍙32⍙Category ⍙Aircraft⍙32⍙Damage          \n",
       "·   ~ ⍙Airport⍙32⍙Code ⍙Airport⍙32⍙Name ⍙Air⍙32⍙Carrier ⍙Amateur⍙32⍙Built    \n",
       "·   ~ ⍙Broad⍙32⍙Phase⍙32⍙of⍙32⍙Flight ⍙Engine⍙32⍙Type ⍙Event⍙32⍙Date         \n",
       "·   ~ ⍙Event⍙32⍙Id ⍙FAR⍙32⍙Description ⍙Injury⍙32⍙Severity                   \n",
       "·   ~ ⍙Investigation⍙32⍙Type ⍙Number⍙32⍙of⍙32⍙Engines ⍙Publication⍙32⍙Date   \n",
       "·   ~ ⍙Purpose⍙32⍙of⍙32⍙Flight ⍙Registration⍙32⍙Number ⍙Report⍙32⍙Status     \n",
       "·   ~ ⍙Total⍙32⍙Fatal⍙32⍙Injuries ⍙Total⍙32⍙Minor⍙32⍙Injuries                \n",
       "·   ~ ⍙Total⍙32⍙Serious⍙32⍙Injuries ⍙Total⍙32⍙Uninjured ⍙Weather⍙32⍙Condition\n",
       "</span>"
      ]
     },
     "execution_count": 10,
     "metadata": {},
     "output_type": "execute_result"
    }
   ],
   "source": [
    "]map j.rows[0].doc"
   ]
  },
  {
   "cell_type": "code",
   "execution_count": 11,
   "metadata": {},
   "outputs": [
    {
     "data": {
      "text/html": [
       "<span style=\"white-space:pre; font-family: monospace\">10/10/1982\n",
       "</span>"
      ]
     },
     "execution_count": 11,
     "metadata": {},
     "output_type": "execute_result"
    }
   ],
   "source": [
    "j.rows[0].doc.⍙Event⍙32⍙Date"
   ]
  },
  {
   "cell_type": "code",
   "execution_count": 12,
   "metadata": {},
   "outputs": [
    {
     "data": {
      "text/html": [
       "<span style=\"white-space:pre; font-family: monospace\">┌─┬──────────────────────┬──────────────────────────────────┬─┐\n",
       "│0│                      │                                  │1│\n",
       "├─┼──────────────────────┼──────────────────────────────────┼─┤\n",
       "│1│total_rows            │68389                             │3│\n",
       "├─┼──────────────────────┼──────────────────────────────────┼─┤\n",
       "│1│offset                │0                                 │3│\n",
       "├─┼──────────────────────┼──────────────────────────────────┼─┤\n",
       "│1│rows                  │                                  │2│\n",
       "├─┼──────────────────────┼──────────────────────────────────┼─┤\n",
       "│2│                      │                                  │1│\n",
       "├─┼──────────────────────┼──────────────────────────────────┼─┤\n",
       "│3│id                    │42788bb50806d9cc7770d46953000c99  │4│\n",
       "├─┼──────────────────────┼──────────────────────────────────┼─┤\n",
       "│3│key                   │42788bb50806d9cc7770d46953000c99  │4│\n",
       "├─┼──────────────────────┼──────────────────────────────────┼─┤\n",
       "│3│value                 │                                  │1│\n",
       "├─┼──────────────────────┼──────────────────────────────────┼─┤\n",
       "│4│rev                   │1-0f7d34e40be0c3d4db805cf52c4adf42│4│\n",
       "├─┼──────────────────────┼──────────────────────────────────┼─┤\n",
       "│3│doc                   │                                  │1│\n",
       "├─┼──────────────────────┼──────────────────────────────────┼─┤\n",
       "│4│_id                   │42788bb50806d9cc7770d46953000c99  │4│\n",
       "├─┼──────────────────────┼──────────────────────────────────┼─┤\n",
       "│4│_rev                  │1-0f7d34e40be0c3d4db805cf52c4adf42│4│\n",
       "├─┼──────────────────────┼──────────────────────────────────┼─┤\n",
       "│4│Air Carrier           │                                  │4│\n",
       "├─┼──────────────────────┼──────────────────────────────────┼─┤\n",
       "│4│Aircraft Category     │Airplane                          │4│\n",
       "├─┼──────────────────────┼──────────────────────────────────┼─┤\n",
       "│4│Injury Severity       │Fatal(1)                          │4│\n",
       "├─┼──────────────────────┼──────────────────────────────────┼─┤\n",
       "│4│Event Id              │20020917X05139                    │4│\n",
       "├─┼──────────────────────┼──────────────────────────────────┼─┤\n",
       "│4│Country               │United States                     │4│\n",
       "├─┼──────────────────────┼──────────────────────────────────┼─┤\n",
       "│4│Airport Name          │                                  │4│\n",
       "├─┼──────────────────────┼──────────────────────────────────┼─┤\n",
       "│4│Total Fatal Injuries  │1                                 │4│\n",
       "├─┼──────────────────────┼──────────────────────────────────┼─┤\n",
       "│4│Total Minor Injuries  │1                                 │4│\n",
       "├─┼──────────────────────┼──────────────────────────────────┼─┤\n",
       "│4│Total Uninjured       │0                                 │4│\n",
       "├─┼──────────────────────┼──────────────────────────────────┼─┤\n",
       "│4│Latitude              │                                  │4│\n",
       "├─┼──────────────────────┼──────────────────────────────────┼─┤\n",
       "│4│Amateur Built         │No                                │4│\n",
       "├─┼──────────────────────┼──────────────────────────────────┼─┤\n",
       "│4│Event Date            │10/10/1982                        │4│\n",
       "├─┼──────────────────────┼──────────────────────────────────┼─┤\n",
       "│4│Report Status         │Probable Cause                    │4│\n",
       "├─┼──────────────────────┼──────────────────────────────────┼─┤\n",
       "│4│Airport Code          │                                  │4│\n",
       "├─┼──────────────────────┼──────────────────────────────────┼─┤\n",
       "│4│FAR Description       │Part 91: General Aviation         │4│\n",
       "├─┼──────────────────────┼──────────────────────────────────┼─┤\n",
       "│4│Schedule              │                                  │4│\n",
       "├─┼──────────────────────┼──────────────────────────────────┼─┤\n",
       "│4│Publication Date      │10/10/1983                        │4│\n",
       "├─┼──────────────────────┼──────────────────────────────────┼─┤\n",
       "│4│Longitude             │                                  │4│\n",
       "├─┼──────────────────────┼──────────────────────────────────┼─┤\n",
       "│4│Make                  │BELLANCA                          │4│\n",
       "├─┼──────────────────────┼──────────────────────────────────┼─┤\n",
       "│4│Model                 │7GCBC                             │4│\n",
       "├─┼──────────────────────┼──────────────────────────────────┼─┤\n",
       "│4│Engine Type           │Reciprocating                     │4│\n",
       "├─┼──────────────────────┼──────────────────────────────────┼─┤\n",
       "│4│Total Serious Injuries│0                                 │4│\n",
       "├─┼──────────────────────┼──────────────────────────────────┼─┤\n",
       "│4│Purpose of Flight     │Personal                          │4│\n",
       "├─┼──────────────────────┼──────────────────────────────────┼─┤\n",
       "│4│Broad Phase of Flight │CLIMB                             │4│\n",
       "├─┼──────────────────────┼──────────────────────────────────┼─┤\n",
       "│4│Weather Condition     │VMC                               │4│\n",
       "├─┼──────────────────────┼──────────────────────────────────┼─┤\n",
       "│4│Aircraft Damage       │Substantial                       │4│\n",
       "├─┼──────────────────────┼──────────────────────────────────┼─┤\n",
       "│4│Accident Number       │SEA83FYM01                        │4│\n",
       "├─┼──────────────────────┼──────────────────────────────────┼─┤\n",
       "│4│Location              │1/4NM S. OF PEO, OR               │4│\n",
       "├─┼──────────────────────┼──────────────────────────────────┼─┤\n",
       "│4│Registration Number   │N57457                            │4│\n",
       "├─┼──────────────────────┼──────────────────────────────────┼─┤\n",
       "│4│Number of Engines     │1                                 │4│\n",
       "├─┼──────────────────────┼──────────────────────────────────┼─┤\n",
       "│4│Investigation Type    │Accident                          │4│\n",
       "└─┴──────────────────────┴──────────────────────────────────┴─┘\n",
       "</span>"
      ]
     },
     "execution_count": 12,
     "metadata": {},
     "output_type": "execute_result"
    }
   ],
   "source": [
    "⎕←j←⎕JSON⍠'M' ⊢ z.Data"
   ]
  },
  {
   "cell_type": "code",
   "execution_count": 13,
   "metadata": {},
   "outputs": [
    {
     "data": {
      "text/html": [
       "<span style=\"white-space:pre; font-family: monospace\">┌─┬──────────┬────────────────────────────────┬─┐\n",
       "│0│          │                                │1│\n",
       "├─┼──────────┼────────────────────────────────┼─┤\n",
       "│1│total_rows│68387                           │3│\n",
       "├─┼──────────┼────────────────────────────────┼─┤\n",
       "│1│offset    │13905                           │3│\n",
       "├─┼──────────┼────────────────────────────────┼─┤\n",
       "│1│rows      │                                │2│\n",
       "├─┼──────────┼────────────────────────────────┼─┤\n",
       "│2│          │                                │1│\n",
       "├─┼──────────┼────────────────────────────────┼─┤\n",
       "│3│id        │5b97c6d78b17b37ceff620baf9657693│4│\n",
       "├─┼──────────┼────────────────────────────────┼─┤\n",
       "│3│key       │Cessna                          │4│\n",
       "├─┼──────────┼────────────────────────────────┼─┤\n",
       "│3│value     │1                               │3│\n",
       "└─┴──────────┴────────────────────────────────┴─┘\n",
       "</span>"
      ]
     },
     "execution_count": 13,
     "metadata": {},
     "output_type": "execute_result"
    }
   ],
   "source": [
    "url←'https://skruger.cloudant.com/airaccidents/_design/make/_view/by-make'\n",
    "(params←⎕NS'').(limit reduce key)←1 'false' '\"Cessna\"'\n",
    "z←HttpCommand.Get url params\n",
    "⎕←j←⎕JSON⍠'M' ⊢ z.Data"
   ]
  },
  {
   "cell_type": "code",
   "execution_count": 14,
   "metadata": {},
   "outputs": [
    {
     "data": {
      "text/html": [
       "<span style=\"white-space:pre; font-family: monospace\">┌─┬──────────────────────┬──────────────────────────────────┬─┐\n",
       "│0│                      │                                  │1│\n",
       "├─┼──────────────────────┼──────────────────────────────────┼─┤\n",
       "│1│_id                   │5b97c6d78b17b37ceff620baf9657693  │4│\n",
       "├─┼──────────────────────┼──────────────────────────────────┼─┤\n",
       "│1│_rev                  │1-8d2e3c5096718be0236ef51ff7e0f153│4│\n",
       "├─┼──────────────────────┼──────────────────────────────────┼─┤\n",
       "│1│Air Carrier           │                                  │4│\n",
       "├─┼──────────────────────┼──────────────────────────────────┼─┤\n",
       "│1│Aircraft Category     │                                  │4│\n",
       "├─┼──────────────────────┼──────────────────────────────────┼─┤\n",
       "│1│Injury Severity       │Non-Fatal                         │4│\n",
       "├─┼──────────────────────┼──────────────────────────────────┼─┤\n",
       "│1│Event Id              │20080611X00825                    │4│\n",
       "├─┼──────────────────────┼──────────────────────────────────┼─┤\n",
       "│1│Country               │United States                     │4│\n",
       "├─┼──────────────────────┼──────────────────────────────────┼─┤\n",
       "│1│Airport Name          │PORTLAND-TROUTDALE                │4│\n",
       "├─┼──────────────────────┼──────────────────────────────────┼─┤\n",
       "│1│Total Fatal Injuries  │                                  │4│\n",
       "├─┼──────────────────────┼──────────────────────────────────┼─┤\n",
       "│1│Total Minor Injuries  │                                  │4│\n",
       "├─┼──────────────────────┼──────────────────────────────────┼─┤\n",
       "│1│Total Uninjured       │1                                 │4│\n",
       "├─┼──────────────────────┼──────────────────────────────────┼─┤\n",
       "│1│Latitude              │45.549444                         │4│\n",
       "├─┼──────────────────────┼──────────────────────────────────┼─┤\n",
       "│1│Amateur Built         │No                                │4│\n",
       "├─┼──────────────────────┼──────────────────────────────────┼─┤\n",
       "│1│Event Date            │05/24/2008                        │4│\n",
       "├─┼──────────────────────┼──────────────────────────────────┼─┤\n",
       "│1│Report Status         │Probable Cause                    │4│\n",
       "├─┼──────────────────────┼──────────────────────────────────┼─┤\n",
       "│1│Airport Code          │TTD                               │4│\n",
       "├─┼──────────────────────┼──────────────────────────────────┼─┤\n",
       "│1│FAR Description       │                                  │4│\n",
       "├─┼──────────────────────┼──────────────────────────────────┼─┤\n",
       "│1│Schedule              │                                  │4│\n",
       "├─┼──────────────────────┼──────────────────────────────────┼─┤\n",
       "│1│Publication Date      │06/30/2008                        │4│\n",
       "├─┼──────────────────────┼──────────────────────────────────┼─┤\n",
       "│1│Longitude             │-122.401389                       │4│\n",
       "├─┼──────────────────────┼──────────────────────────────────┼─┤\n",
       "│1│Make                  │Cessna                            │4│\n",
       "├─┼──────────────────────┼──────────────────────────────────┼─┤\n",
       "│1│Model                 │172P                              │4│\n",
       "├─┼──────────────────────┼──────────────────────────────────┼─┤\n",
       "│1│Engine Type           │Reciprocating                     │4│\n",
       "├─┼──────────────────────┼──────────────────────────────────┼─┤\n",
       "│1│Total Serious Injuries│                                  │4│\n",
       "├─┼──────────────────────┼──────────────────────────────────┼─┤\n",
       "│1│Purpose of Flight     │Instructional                     │4│\n",
       "├─┼──────────────────────┼──────────────────────────────────┼─┤\n",
       "│1│Broad Phase of Flight │                                  │4│\n",
       "├─┼──────────────────────┼──────────────────────────────────┼─┤\n",
       "│1│Weather Condition     │VMC                               │4│\n",
       "├─┼──────────────────────┼──────────────────────────────────┼─┤\n",
       "│1│Aircraft Damage       │Substantial                       │4│\n",
       "├─┼──────────────────────┼──────────────────────────────────┼─┤\n",
       "│1│Accident Number       │LAX08CA156                        │4│\n",
       "├─┼──────────────────────┼──────────────────────────────────┼─┤\n",
       "│1│Location              │Troutdale, OR                     │4│\n",
       "├─┼──────────────────────┼──────────────────────────────────┼─┤\n",
       "│1│Registration Number   │N62348                            │4│\n",
       "├─┼──────────────────────┼──────────────────────────────────┼─┤\n",
       "│1│Number of Engines     │1                                 │4│\n",
       "├─┼──────────────────────┼──────────────────────────────────┼─┤\n",
       "│1│Investigation Type    │Accident                          │4│\n",
       "└─┴──────────────────────┴──────────────────────────────────┴─┘\n",
       "</span>"
      ]
     },
     "execution_count": 14,
     "metadata": {},
     "output_type": "execute_result"
    }
   ],
   "source": [
    "url←'https://skruger.cloudant.com/airaccidents/5b97c6d78b17b37ceff620baf9657693'\n",
    "z←HttpCommand.Get url\n",
    "⎕←j←⎕JSON⍠'M' ⊢ z.Data"
   ]
  },
  {
   "cell_type": "code",
   "execution_count": 15,
   "metadata": {},
   "outputs": [
    {
     "data": {
      "text/html": [
       "<span style=\"white-space:pre; font-family: monospace\">7728\n",
       "</span>"
      ]
     },
     "execution_count": 15,
     "metadata": {},
     "output_type": "execute_result"
    }
   ],
   "source": [
    "url←'https://skruger.cloudant.com/airaccidents/_design/make/_view/by-make'\n",
    "(params←⎕NS'').(reduce key)←'true' '\"Cessna\"'\n",
    "z←HttpCommand.Get url params\n",
    "j←⎕JSON z.Data\n",
    "j.rows[0].value"
   ]
  },
  {
   "cell_type": "code",
   "execution_count": null,
   "metadata": {},
   "outputs": [],
   "source": []
  }
 ],
 "metadata": {
  "kernelspec": {
   "display_name": "Dyalog APL",
   "language": "apl",
   "name": "dyalog-kernel"
  },
  "language_info": {
   "file_extension": ".apl",
   "mimetype": "text/apl",
   "name": "APL"
  }
 },
 "nbformat": 4,
 "nbformat_minor": 4
}