{
 "cells": [
  {
   "cell_type": "code",
   "execution_count": 1,
   "metadata": {
    "tags": [
     "hide-output"
    ]
   },
   "outputs": [
    {
     "data": {
      "text/html": [
       "<span style=\"white-space:pre; font-family: monospace\">Was ON\n",
       "</span>"
      ]
     },
     "execution_count": 1,
     "metadata": {},
     "output_type": "execute_result"
    },
    {
     "data": {
      "text/html": [
       "<span style=\"white-space:pre; font-family: monospace\">Was OFF\n",
       "</span>"
      ]
     },
     "execution_count": 1,
     "metadata": {},
     "output_type": "execute_result"
    }
   ],
   "source": [
    "⎕IO ← 0\n",
    "⎕PP ← 34\n",
    "]box on\n",
    "]rows on\n",
    "assert←{⍺←'assertion failure' ⋄ 0∊⍵:⍺ ⎕signal 8 ⋄ shy←0}"
   ]
  },
  {
   "cell_type": "code",
   "execution_count": 2,
   "metadata": {},
   "outputs": [
    {
     "data": {
      "text/html": [
       "<span style=\"white-space:pre; font-family: monospace\">..##.......\n",
       "#...#...#..\n",
       ".#....#..#.\n",
       "..#.#...#.#\n",
       ".#...##..#.\n",
       "..#.##.....\n",
       ".#.#.#....#\n",
       ".#........#\n",
       "#.##...#...\n",
       "#...##....#\n",
       ".#..#...#.#\n",
       "</span>"
      ]
     },
     "execution_count": 2,
     "metadata": {},
     "output_type": "execute_result"
    }
   ],
   "source": [
    "⎕←data ← 11 11⍴'..##.......#...#...#...#....#..#...#.#...#.#.#...##..#...#.##......#.#.#....#.#........##.##...#...#...##....#.#..#...#.#'"
   ]
  },
  {
   "cell_type": "code",
   "execution_count": 3,
   "metadata": {},
   "outputs": [
    {
     "data": {
      "text/html": [
       "<span style=\"white-space:pre; font-family: monospace\">..##.........##.........##.........##.......\n",
       "#...#...#..#...#...#..#...#...#..#...#...#..\n",
       ".#....#..#..#....#..#..#....#..#..#....#..#.\n",
       "..#.#...#.#..#.#...#.#..#.#...#.#..#.#...#.#\n",
       ".#...##..#..#...##..#..#...##..#..#...##..#.\n",
       "..#.##.......#.##.......#.##.......#.##.....\n",
       ".#.#.#....#.#.#.#....#.#.#.#....#.#.#.#....#\n",
       ".#........#.#........#.#........#.#........#\n",
       "#.##...#...#.##...#...#.##...#...#.##...#...\n",
       "#...##....##...##....##...##....##...##....#\n",
       ".#..#...#.#.#..#...#.#.#..#...#.#.#..#...#.#\n",
       "</span>"
      ]
     },
     "execution_count": 3,
     "metadata": {},
     "output_type": "execute_result"
    }
   ],
   "source": [
    "data,⍣3⊢data"
   ]
  },
  {
   "cell_type": "code",
   "execution_count": 4,
   "metadata": {},
   "outputs": [
    {
     "data": {
      "text/html": [
       "<span style=\"white-space:pre; font-family: monospace\">0.##.........##.........##.........##.......\n",
       "#..0#...#..#...#...#..#...#...#..#...#...#..\n",
       ".#....⎕..#..#....#..#..#....#..#..#....#..#.\n",
       "..#.#...#0#..#.#...#.#..#.#...#.#..#.#...#.#\n",
       ".#...##..#..⎕...##..#..#...##..#..#...##..#.\n",
       "..#.##.......#.⎕#.......#.##.......#.##.....\n",
       ".#.#.#....#.#.#.#.0..#.#.#.#....#.#.#.#....#\n",
       ".#........#.#........⎕.#........#.#........#\n",
       "#.##...#...#.##...#...#.⎕#...#...#.##...#...\n",
       "#...##....##...##....##...#⎕....##...##....#\n",
       ".#..#...#.#.#..#...#.#.#..#...⎕.#.#..#...#.#\n",
       "</span>"
      ]
     },
     "execution_count": 4,
     "metadata": {},
     "output_type": "execute_result"
    }
   ],
   "source": [
    "11 44⍴'0.##.........##.........##.........##.......#..0#...#..#...#...#..#...#...#..#...#...#...#....⎕..#..#....#..#..#....#..#..#....#..#...#.#...#0#..#.#...#.#..#.#...#.#..#.#...#.#.#...##..#..⎕...##..#..#...##..#..#...##..#...#.##.......#.⎕#.......#.##.......#.##......#.#.#....#.#.#.#.0..#.#.#.#....#.#.#.#....#.#........#.#........⎕.#........#.#........##.##...#...#.##...#...#.⎕#...#...#.##...#...#...##....##...##....##...#⎕....##...##....#.#..#...#.#.#..#...#.#.#..#...⎕.#.#..#...#.#'"
   ]
  },
  {
   "cell_type": "code",
   "execution_count": 5,
   "metadata": {},
   "outputs": [
    {
     "data": {
      "text/html": [
       "<span style=\"white-space:pre; font-family: monospace\">┌───┬───┬───┬───┬────┬────┬────┬────┬────┬────┬─────┐\n",
       "│0 0│1 3│2 6│3 9│4 12│5 15│6 18│7 21│8 24│9 27│10 30│\n",
       "└───┴───┴───┴───┴────┴────┴────┴────┴────┴────┴─────┘\n",
       "</span>"
      ]
     },
     "execution_count": 5,
     "metadata": {},
     "output_type": "execute_result"
    }
   ],
   "source": [
    "↓⍉↑1 3×⊂⍳11 ⍝ Remix to create y x pairs"
   ]
  },
  {
   "cell_type": "code",
   "execution_count": 6,
   "metadata": {},
   "outputs": [
    {
     "data": {
      "text/html": [
       "<span style=\"white-space:pre; font-family: monospace\">┌───┬───┬───┬───┬───┬───┬───┬────┬───┬───┬────┐\n",
       "│0 0│1 3│2 6│3 9│4 1│5 4│6 7│7 10│8 2│9 5│10 8│\n",
       "└───┴───┴───┴───┴───┴───┴───┴────┴───┴───┴────┘\n",
       "</span>"
      ]
     },
     "execution_count": 6,
     "metadata": {},
     "output_type": "execute_result"
    }
   ],
   "source": [
    "↓⍉↑11 11|1 3×⊂⍳11"
   ]
  },
  {
   "cell_type": "code",
   "execution_count": 7,
   "metadata": {},
   "outputs": [
    {
     "data": {
      "text/html": [
       "<span style=\"white-space:pre; font-family: monospace\">7\n",
       "</span>"
      ]
     },
     "execution_count": 7,
     "metadata": {},
     "output_type": "execute_result"
    }
   ],
   "source": [
    "+⌿'#'=data[↓⍉↑11 11|1 3×⊂⍳11]"
   ]
  },
  {
   "cell_type": "code",
   "execution_count": 8,
   "metadata": {},
   "outputs": [
    {
     "data": {
      "text/html": [
       "<span style=\"white-space:pre; font-family: monospace\">7\n",
       "</span>"
      ]
     },
     "execution_count": 8,
     "metadata": {},
     "output_type": "execute_result"
    }
   ],
   "source": [
    "data {+⌿'#'=⍺[↓⍉↑(⍴⍺)|⍵×⊂⍳⌈(≢⍺)÷⊃⍵]} 1 3"
   ]
  },
  {
   "cell_type": "code",
   "execution_count": 9,
   "metadata": {},
   "outputs": [],
   "source": [
    "data ← ↑⊃⎕NGET'../../AoCDyalog/data/2020/day03.txt'1"
   ]
  },
  {
   "cell_type": "code",
   "execution_count": 10,
   "metadata": {},
   "outputs": [
    {
     "data": {
      "text/html": [
       "<span style=\"white-space:pre; font-family: monospace\">323 31\n",
       "</span>"
      ]
     },
     "execution_count": 10,
     "metadata": {},
     "output_type": "execute_result"
    }
   ],
   "source": [
    "⍴data"
   ]
  },
  {
   "cell_type": "code",
   "execution_count": 11,
   "metadata": {},
   "outputs": [
    {
     "data": {
      "text/html": [
       "<span style=\"white-space:pre; font-family: monospace\">203\n",
       "</span>"
      ]
     },
     "execution_count": 11,
     "metadata": {},
     "output_type": "execute_result"
    }
   ],
   "source": [
    "⎕ ← part1 ← data {+⌿'#'=⍺[↓⍉↑(⍴⍺)|⍵×⊂⍳⌈(≢⍺)÷⊃⍵]} 1 3\n",
    "assert 203=part1"
   ]
  },
  {
   "cell_type": "code",
   "execution_count": 12,
   "metadata": {},
   "outputs": [
    {
     "data": {
      "text/html": [
       "<span style=\"white-space:pre; font-family: monospace\">3316272960\n",
       "</span>"
      ]
     },
     "execution_count": 12,
     "metadata": {},
     "output_type": "execute_result"
    }
   ],
   "source": [
    "⎕ ← part2 ← ×⌿data∘{+⌿'#'=⍺[↓⍉↑(⍴⍺)|⍵×⊂⍳⌈(≢⍺)÷⊃⍵]}¨(1 1)(1 3)(1 5)(1 7)(2 1)\n",
    "assert 3316272960=part2"
   ]
  },
  {
   "cell_type": "code",
   "execution_count": 13,
   "metadata": {},
   "outputs": [
    {
     "data": {
      "text/html": [
       "<span style=\"white-space:pre; font-family: monospace\">eedadn\n",
       "drvtee\n",
       "eandsr\n",
       "raavrd\n",
       "atevrs\n",
       "tsrnev\n",
       "sdttsa\n",
       "rasrtv\n",
       "nssdts\n",
       "ntnada\n",
       "svetve\n",
       "tesnvt\n",
       "vntsnd\n",
       "vrdear\n",
       "dvrsen\n",
       "enarar\n",
       "</span>"
      ]
     },
     "execution_count": 13,
     "metadata": {},
     "output_type": "execute_result"
    }
   ],
   "source": [
    "data ← 'eedadn' 'drvtee' 'eandsr' 'raavrd' 'atevrs' 'tsrnev' 'sdttsa' 'rasrtv' 'nssdts' 'ntnada' 'svetve' 'tesnvt' 'vntsnd' 'vrdear' 'dvrsen' 'enarar'\n",
    "↑data"
   ]
  },
  {
   "cell_type": "code",
   "execution_count": 14,
   "metadata": {},
   "outputs": [
    {
     "data": {
      "text/html": [
       "<span style=\"white-space:pre; font-family: monospace\">┌───┬───┬───┬───┬───┬───┐\n",
       "│e 3│e 2│d 2│a 2│d 2│n 2│\n",
       "│d 2│r 2│v 1│t 3│e 3│e 2│\n",
       "│r 2│a 3│n 2│d 2│s 2│r 3│\n",
       "│a 1│t 2│a 2│v 2│r 2│d 2│\n",
       "│t 2│s 2│e 2│n 2│t 2│s 2│\n",
       "│s 2│d 1│r 2│r 2│v 2│v 2│\n",
       "│n 2│v 2│t 2│s 2│n 1│a 2│\n",
       "│v 2│n 2│s 3│e 1│a 2│t 1│\n",
       "└───┴───┴───┴───┴───┴───┘\n",
       "</span>"
      ]
     },
     "execution_count": 14,
     "metadata": {},
     "output_type": "execute_result"
    }
   ],
   "source": [
    "{⍺,≢⍵}⌸¨↓⍉↑data"
   ]
  },
  {
   "cell_type": "code",
   "execution_count": 15,
   "metadata": {},
   "outputs": [
    {
     "data": {
      "text/html": [
       "<span style=\"white-space:pre; font-family: monospace\">easter\n",
       "</span>"
      ]
     },
     "execution_count": 15,
     "metadata": {},
     "output_type": "execute_result"
    }
   ],
   "source": [
    "∊{0 0⌷⍵[⍒⍵[;1];]}¨{⍺,≢⍵}⌸¨↓⍉↑data"
   ]
  },
  {
   "cell_type": "code",
   "execution_count": 16,
   "metadata": {},
   "outputs": [],
   "source": [
    "data ← ⊃⎕NGET'../../AoCDyalog/data/2016/06.txt'1"
   ]
  },
  {
   "cell_type": "code",
   "execution_count": 17,
   "metadata": {},
   "outputs": [
    {
     "data": {
      "text/html": [
       "<span style=\"white-space:pre; font-family: monospace\">qrqlznrl\n",
       "</span>"
      ]
     },
     "execution_count": 17,
     "metadata": {},
     "output_type": "execute_result"
    }
   ],
   "source": [
    "⎕ ← part1 ← ∊{0 0⌷⍵[⍒⍵[;1];]}¨{⍺,≢⍵}⌸¨↓⍉↑data\n",
    "assert 'qrqlznrl'≡part1"
   ]
  },
  {
   "cell_type": "code",
   "execution_count": 18,
   "metadata": {},
   "outputs": [
    {
     "data": {
      "text/html": [
       "<span style=\"white-space:pre; font-family: monospace\">kgzdfaon\n",
       "</span>"
      ]
     },
     "execution_count": 18,
     "metadata": {},
     "output_type": "execute_result"
    }
   ],
   "source": [
    "⎕ ← part2 ← ∊{0 0⌷⍵[⍋⍵[;1];]}¨{⍺,≢⍵}⌸¨↓⍉↑data\n",
    "assert 'kgzdfaon'≡part2"
   ]
  },
  {
   "cell_type": "code",
   "execution_count": 19,
   "metadata": {},
   "outputs": [],
   "source": [
    "_day6 ← {∊⍺⍺{0 0⌷⍵[⍺⍺⍵[;1];]}¨{⍺,≢⍵}⌸¨↓⍉↑⍵}"
   ]
  },
  {
   "cell_type": "code",
   "execution_count": 20,
   "metadata": {},
   "outputs": [
    {
     "data": {
      "text/html": [
       "<span style=\"white-space:pre; font-family: monospace\">qrqlznrl\n",
       "</span>"
      ]
     },
     "execution_count": 20,
     "metadata": {},
     "output_type": "execute_result"
    },
    {
     "data": {
      "text/html": [
       "<span style=\"white-space:pre; font-family: monospace\">kgzdfaon\n",
       "</span>"
      ]
     },
     "execution_count": 20,
     "metadata": {},
     "output_type": "execute_result"
    }
   ],
   "source": [
    "⍒_day6 data\n",
    "⍋_day6 data"
   ]
  },
  {
   "cell_type": "code",
   "execution_count": 21,
   "metadata": {},
   "outputs": [],
   "source": [
    "data ← ↑'-?\\d+'⎕S{⍎⍵.Match}¨⊃⎕NGET'../../AoCDyalog/data/2018/10.txt'1"
   ]
  },
  {
   "cell_type": "code",
   "execution_count": 22,
   "metadata": {},
   "outputs": [],
   "source": [
    "pos ← ,/data[;0 1]\n",
    "vel ← ,/data[;2 3]"
   ]
  },
  {
   "cell_type": "code",
   "execution_count": 23,
   "metadata": {},
   "outputs": [],
   "source": [
    "bbx ← {+/|-⌿2 2⍴(⌊⌿,⌈⌿)↑⍵} ⍝ Width + height of bounding box"
   ]
  },
  {
   "cell_type": "code",
   "execution_count": 24,
   "metadata": {},
   "outputs": [],
   "source": [
    "msg ← vel-⍨{vel+⍵}⍣{⍺>⍥bbx⍵}⊢pos ⍝ Add velocity until bounding box no longer decreases."
   ]
  },
  {
   "cell_type": "code",
   "execution_count": 25,
   "metadata": {},
   "outputs": [
    {
     "data": {
      "text/html": [
       "<span style=\"white-space:pre; font-family: monospace\">******  *****   *****   *****   *****   *****   ******    **  \n",
       "*       *    *  *    *  *    *  *    *  *    *       *   *  * \n",
       "*       *    *  *    *  *    *  *    *  *    *       *  *    *\n",
       "*       *    *  *    *  *    *  *    *  *    *      *   *    *\n",
       "*****   *****   *****   *****   *****   *****      *    *    *\n",
       "*       *       *  *    *    *  *  *    *  *      *     ******\n",
       "*       *       *   *   *    *  *   *   *   *    *      *    *\n",
       "*       *       *   *   *    *  *   *   *   *   *       *    *\n",
       "*       *       *    *  *    *  *    *  *    *  *       *    *\n",
       "*       *       *    *  *****   *    *  *    *  ******  *    *\n",
       "</span>"
      ]
     },
     "execution_count": 25,
     "metadata": {},
     "output_type": "execute_result"
    }
   ],
   "source": [
    "(w h) ← |-⌿2 2⍴(⌊⌿,⌈⌿)↑msg           ⍝ Width and height of bounding box\n",
    "(-h+1)(-w+1)↑'*'@(⊖¨msg)⊢143 203⍴' ' ⍝ Prune our display, and make stars"
   ]
  },
  {
   "cell_type": "code",
   "execution_count": 26,
   "metadata": {},
   "outputs": [
    {
     "data": {
      "text/html": [
       "<span style=\"white-space:pre; font-family: monospace\">1  1 1 0 ¯1 2\n",
       "1 ¯1 0 1  1 3\n",
       "1  1 0 0 ¯1 4\n",
       "1  1 0 0  1 1\n",
       "1 ¯1 5 1 ¯1 2\n",
       "1  1 3 1  1 0\n",
       "</span>"
      ]
     },
     "execution_count": 26,
     "metadata": {},
     "output_type": "execute_result"
    }
   ],
   "source": [
    "⎕ ← STATE ← 6 6⍴1 1 1 0 ¯1 2 1 ¯1 0 1 1 3 1 1 0 0 ¯1 4 1 1 0 0 1 1 1 ¯1 5 1 ¯1 2 1 1 3 1 1 0"
   ]
  },
  {
   "cell_type": "code",
   "execution_count": 27,
   "metadata": {},
   "outputs": [],
   "source": [
    "TAPE ← 12919244⍴0"
   ]
  },
  {
   "cell_type": "code",
   "execution_count": 28,
   "metadata": {},
   "outputs": [],
   "source": [
    "]dinput\n",
    "stf ← {\n",
    "    (pos state) ← ⍵\n",
    "    args ← (0 3[pos⊃TAPE])+⍳3\n",
    "    (nv m ns) ← STATE[state;args]\n",
    "    TAPE[pos] ← nv\n",
    "    (pos+m) ns\n",
    "}"
   ]
  },
  {
   "cell_type": "code",
   "execution_count": 29,
   "metadata": {},
   "outputs": [],
   "source": [
    "_ ← stf⍣12919244⊢6459622 0  ⍝ Takes ~20s"
   ]
  },
  {
   "cell_type": "code",
   "execution_count": 30,
   "metadata": {},
   "outputs": [
    {
     "data": {
      "text/html": [
       "<span style=\"white-space:pre; font-family: monospace\">4287\n",
       "</span>"
      ]
     },
     "execution_count": 30,
     "metadata": {},
     "output_type": "execute_result"
    }
   ],
   "source": [
    "assert 4287=⎕←+/TAPE"
   ]
  },
  {
   "cell_type": "code",
   "execution_count": 31,
   "metadata": {},
   "outputs": [],
   "source": [
    "data←⊃⎕NGET'/Users/stefan/work/dyalog/learnapl/loremipsum.txt'1"
   ]
  },
  {
   "cell_type": "code",
   "execution_count": 32,
   "metadata": {},
   "outputs": [
    {
     "data": {
      "text/html": [
       "<span style=\"white-space:pre; font-family: monospace\">┌───────────────────────────────────────────────────────────────────────────────────────────────────────┐\n",
       "│Lorem ipsum dolor sit amet, consectetur adipiscing elit. Nullam non finibus felis, id imperdiet purus. │\n",
       "└───────────────────────────────────────────────────────────────────────────────────────────────────────┘\n",
       "</span>"
      ]
     },
     "execution_count": 32,
     "metadata": {},
     "output_type": "execute_result"
    }
   ],
   "source": [
    "1↑data"
   ]
  },
  {
   "cell_type": "code",
   "execution_count": 33,
   "metadata": {},
   "outputs": [
    {
     "data": {
      "text/html": [
       "<span style=\"white-space:pre; font-family: monospace\">┌─────┬─────┬─────┬───┬────┬───────────┬──────────┬────┬──────┬───┬───────┬─────┬──┬─────────┬─────┬───────┬─────────┬──────┬────┬─────────┬─────────┬──────┬──────┬──────┬──────┬────────┬──────────┬────┬─────┬───┬──┬─────┬──────┬─────┬─────┬──┬───────┬─────┬──────────┬─────────┬──┬───────┬─────┬──┬────┬─────────┬──┬───────────┬──────┬──────┬───┬───────┬──────┬──┬─────────┬───────┬─────┬──┬─────────┬──────┬──┬───┬────┬─────┬──┬──────┬───────┬──────┬──┬───┬────┬─────────┬──┬────┬─────┬────┬────────┬─────────┬───┬──┬──────┬────┬─────────┬─────┬────┬───────┬────────┬──────┬────┬────┬────────┬─────────┬──────┬───┬───────┬──────┬──────┬────────────┬─┬───────┬────┬───┬────────┬─────┬─────┬───┬───────┬───┬──────┬──┬─────────┬─────────┬──┬──────┬──┬────────┬───────┬──┬──────┬───────────┬────────┬─────┬──┬─────────┬────┬─────┬──────┬──────┬────────┬──┬──────┬────────┬───┬───────┬──────┬───┬────────┬─────────┬───────┬─────┬────┬───────────┬─────────┬────┬────┬────────┬──────┬────────┬───────┬─────────┬────┬──┬────────┬─────┬────────┬────┬─────┬───┬───────┬────┬─────────┬──┬───────┬────┬────────┬────┬───────┬──┬────┬───────┬───────┬────┬─────────┬───┬────┬────┬─────────┬─────────┬──────┬──────┬────┬─────┬─────┬────────────┬─┬──────┬─────┬──┬─────────┬─────┬───┬───┬──────┬──┬────┬──────┬────────┬──┬───────┬───────┬──────┬────┬────────┬───────┬────┬──┬─────────┬───┬───┬────┬──┬─────┬───────┬──────┬───┬──────┬──────┬──────┬─┬─────────┬─────┬───┬──────┬───┬────┬────────┬─────────┬─────┬────────┬─────┬────┬───┬────┬────────┬─────┬───────┬──┬──────────┬────┬─────┬──────┬──┬────────┬────┬──────┬──┬────────┬───────┬───────┬─────┬───┬────────┬────┬──┬───────┬─────────┬───┬────────┬───────┬─────┬────┬───────┬────┬────────┬──┬───────┬────────┬────┬──┬─────────┬───────┬───────────┬───┬─────┬───────┬──┬─────────┬───┬────────────┬───┬────┬──┬───────────┬──────┬───┬──────┬────────┬───────┬───────┬─────────┬────┬───────┬──────┬─────┬──┬─────────┬────┬───────┬─────┬────────┬─────┬────────────┬───────┬────┬───┬──────┬────────┬─────┬──────┬─────────┬────┬──┬───────┬─────┬────┬──┬────┬───────┬─────────┬─────┬───┬───────────┬──────┬─────┬──────┬─────┬───┬──┬────────┬────┬──┬──────┬─────┬────┬────────┬────┬─────┬─────────┬──────┬────┬──┬────────┬───┬─────────┬───────┬───┬──┬────┬─────────┬───────┬────┬──┬────────┬─────┬─────┬────┬──────┬──────┬────┬────────┬──┬─────────┬───┬─────┬──────┬──┬────┬──────┬───────────┬─────┬─────┬──────┬──┬────────┬──┬──────┬─────┬────┬────────────┬───┬─────┬───────┬───────┬──────┬──┬───────┬─────┬─────┬────────┬─────┬────┬───┬─────────┬────┬───────┬─┬───────┬───┬───────┬─────┬─────────┬──────┬────┬────────┬──┬─────────┬────┬───┬───────┬───────┬────┬───┬────┬───────────┬─────┬───────────┬──┬────┬──────┬──────┬────────┬─────┬─────────┬───────┬──────┬──┬────┬────────┬────────┬────┬─────┬─────┬──────────┬───┬───────┬─────┬──────┬───┬────────┬────┬─┬─────────┬────────┬─────────┬──┬─────┬───┬────┬──────┬─────────┬────┬──┬──────┬──┬──┬───────────┬──────┬─────┬─────┬────────┬─────────┬─────┬──────┬──────┬────────┬──┬──────┬────────┬───┬───────┬──────┬───┬────────┬─────────┬───────┬────────┬──────┬─┬────┬──────┬───┬────────┬─────┬───────┬───────────┬────┬───────────┬─────┬─────┬───────┬───┬───┬──────┬─────────┬────┬─────┬─────────┬──────┬─┬───────┬──────┬─────┬──┬─────┬─────┬─┬─────┬─────┬────────┬───┬─────┬──┬─────┬──────┬───────┬───┬────┬────┬─────┬──────┬───────┬──┬─────┬──┬───────┬────────┬───┬────┬───────┬─────────┬─────┬───┬────┬───────┬────┬───┬──┬─────┬──┬────┬─────────┬────────────┬───┬────┬─────┬─────┬────────┬──┬───┬─────┬────────────┬──┬──────┬──────┬─────────┐\n",
       "│LOREM│IPSUM│DOLOR│SIT│AMET│CONSECTETUR│ADIPISCING│ELIT│NULLAM│NON│FINIBUS│FELIS│ID│IMPERDIET│PURUS│ALIQUAM│HENDRERIT│SAPIEN│EGET│PORTTITOR│HENDRERIT│LIGULA│TORTOR│AUCTOR│TORTOR│ACCUMSAN│VESTIBULUM│NIBH│MAGNA│VEL│MI│ETIAM│LUCTUS│NULLA│VELIT│IN│PRETIUM│PURUS│VESTIBULUM│VULPUTATE│IN│BLANDIT│PURUS│ET│ENIM│FRINGILLA│ET│ULLAMCORPER│LIGULA│MATTIS│SED│VIVERRA│TORTOR│ID│CONSEQUAT│ALIQUET│FUSCE│UT│VULPUTATE│LIBERO│UT│SIT│AMET│MAGNA│ID│TORTOR│SODALES│RUTRUM│AC│NEC│ODIO│PHASELLUS│ID│ANTE│VITAE│NISI│SAGITTIS│FRINGILLA│NON│AT│LIBERO│CRAS│TRISTIQUE│PURUS│EGET│ALIQUAM│VEHICULA│NULLAM│ELIT│ELIT│ACCUMSAN│IMPERDIET│LIBERO│NON│ALIQUAM│TEMPOR│TURPIS│PELLENTESQUE│A│SODALES│ERAT│NAM│ULTRICES│LACUS│IPSUM│NEC│FINIBUS│DUI│AUCTOR│UT│PHASELLUS│EFFICITUR│AT│TELLUS│IN│ELEIFEND│VIVAMUS│AC│LIBERO│CONSECTETUR│SAGITTIS│RISUS│AC│FERMENTUM│NISL│CLASS│APTENT│TACITI│SOCIOSQU│AD│LITORA│TORQUENT│PER│CONUBIA│NOSTRA│PER│INCEPTOS│HIMENAEOS│ALIQUAM│VITAE│NIBH│CONSECTETUR│TINCIDUNT│ERAT│EGET│ULTRICES│LIGULA│MAECENAS│MAXIMUS│DIGNISSIM│ARCU│AT│INTERDUM│FUSCE│SUSCIPIT│NISI│JUSTO│VEL│BLANDIT│ARCU│TINCIDUNT│UT│ALIQUAM│ERAT│VOLUTPAT│CRAS│COMMODO│EX│NISL│LACINIA│LACINIA│NIBH│TINCIDUNT│SIT│AMET│NUNC│CONSEQUAT│TINCIDUNT│AUCTOR│AENEAN│EGET│DOLOR│METUS│PELLENTESQUE│A│SEMPER│RISUS│ID│ULTRICIES│METUS│SED│NON│TELLUS│AC│NISI│AUCTOR│MOLESTIE│UT│FEUGIAT│VIVERRA│SEMPER│CRAS│VEHICULA│RHONCUS│ARCU│EU│TINCIDUNT│SED│NON│NISI│ET│MAGNA│SODALES│CONGUE│NAM│CONGUE│VARIUS│LECTUS│A│VENENATIS│DONEC│NON│LIBERO│SED│ANTE│SUSCIPIT│FRINGILLA│NULLA│INTERDUM│NEQUE│ODIO│SIT│AMET│BIBENDUM│IPSUM│VIVERRA│UT│VESTIBULUM│ANTE│IPSUM│PRIMIS│IN│FAUCIBUS│ORCI│LUCTUS│ET│ULTRICES│POSUERE│CUBILIA│CURAE│NAM│PHARETRA│NUNC│UT│LAOREET│TINCIDUNT│SED│SAGITTIS│DAPIBUS│AUGUE│QUIS│EGESTAS│EROS│SUSCIPIT│ID│ALIQUAM│FAUCIBUS│NISL│UT│MALESUADA│SODALES│SUSPENDISSE│SEM│NULLA│IACULIS│UT│FRINGILLA│NEC│PELLENTESQUE│NON│NISI│IN│SCELERISQUE│MAURIS│SED│LIGULA│SUSCIPIT│DAPIBUS│INTEGER│HENDRERIT│ERAT│EUISMOD│TEMPUS│NULLA│UT│PORTTITOR│NISL│INTEGER│VITAE│ELEIFEND│AUGUE│PELLENTESQUE│ALIQUAM│NISI│SED│TEMPUS│INTERDUM│MAGNA│TELLUS│VENENATIS│DIAM│ID│IACULIS│RISUS│NUNC│EU│ODIO│INTEGER│PORTTITOR│RISUS│NON│CONSECTETUR│CURSUS│PROIN│LUCTUS│VITAE│EST│EU│VOLUTPAT│NUNC│AC│ORNARE│METUS│EGET│FAUCIBUS│ODIO│FUSCE│TINCIDUNT│TELLUS│ORCI│ET│VOLUTPAT│EST│FRINGILLA│EUISMOD│SED│ID│NUNC│FRINGILLA│PRETIUM│ANTE│AT│ULTRICES│PURUS│ETIAM│ANTE│LIGULA│VARIUS│QUIS│VEHICULA│UT│ELEMENTUM│NEC│MASSA│MAURIS│UT│URNA│TELLUS│SUSPENDISSE│FELIS│RISUS│LUCTUS│AC│ELEIFEND│UT│SEMPER│VITAE│NISI│PELLENTESQUE│NEC│FELIS│SODALES│EUISMOD│TURPIS│IN│VIVERRA│AUGUE│ETIAM│VOLUTPAT│NULLA│ANTE│VEL│MALESUADA│URNA│FINIBUS│A│INTEGER│SED│EUISMOD│AUGUE│VULPUTATE│SEMPER│URNA│PRAESENT│UT│VENENATIS│ELIT│SED│COMMODO│PRETIUM│NISL│SIT│AMET│CONSECTETUR│METUS│SCELERISQUE│IN│DUIS│MAURIS│TORTOR│FAUCIBUS│VITAE│TINCIDUNT│COMMODO│TEMPOR│ET│URNA│PRAESENT│PHARETRA│ENIM│VITAE│IPSUM│VESTIBULUM│NON│FINIBUS│RISUS│MATTIS│SED│ULTRICES│ENIM│A│FRINGILLA│ELEIFEND│PHASELLUS│AT│METUS│NEC│ARCU│MOLLIS│CONSEQUAT│DUIS│IN│ORNARE│MI│IN│SCELERISQUE│LIBERO│PORTA│RISUS│ULTRICES│VULPUTATE│CLASS│APTENT│TACITI│SOCIOSQU│AD│LITORA│TORQUENT│PER│CONUBIA│NOSTRA│PER│INCEPTOS│HIMENAEOS│QUISQUE│ELEIFEND│LECTUS│A│ERAT│CONGUE│VEL│ACCUMSAN│VELIT│IACULIS│SUSPENDISSE│EGET│CONDIMENTUM│VELIT│ETIAM│PRETIUM│LEO│NEC│MATTIS│VENENATIS│NISI│VELIT│MALESUADA│TELLUS│A│DAPIBUS│SAPIEN│MASSA│ET│PURUS│PROIN│A│MAGNA│MASSA│PRAESENT│NON│VELIT│EU│VELIT│SEMPER│EGESTAS│SIT│AMET│QUIS│MASSA│MAURIS│MAXIMUS│ID│VELIT│IN│LACINIA│PRAESENT│VEL│NISL│FINIBUS│TINCIDUNT│IPSUM│SIT│AMET│ALIQUET│ANTE│SED│AT│FELIS│IN│QUAM│VULPUTATE│PELLENTESQUE│NEC│EGET│NEQUE│DONEC│VOLUTPAT│MI│NON│MASSA│PELLENTESQUE│AT│RUTRUM│TELLUS│CONSEQUAT│\n",
       "└─────┴─────┴─────┴───┴────┴───────────┴──────────┴────┴──────┴───┴───────┴─────┴──┴─────────┴─────┴───────┴─────────┴──────┴────┴─────────┴─────────┴──────┴──────┴──────┴──────┴────────┴──────────┴────┴─────┴───┴──┴─────┴──────┴─────┴─────┴──┴───────┴─────┴──────────┴─────────┴──┴───────┴─────┴──┴────┴─────────┴──┴───────────┴──────┴──────┴───┴───────┴──────┴──┴─────────┴───────┴─────┴──┴─────────┴──────┴──┴───┴────┴─────┴──┴──────┴───────┴──────┴──┴───┴────┴─────────┴──┴────┴─────┴────┴────────┴─────────┴───┴──┴──────┴────┴─────────┴─────┴────┴───────┴────────┴──────┴────┴────┴────────┴─────────┴──────┴───┴───────┴──────┴──────┴────────────┴─┴───────┴────┴───┴────────┴─────┴─────┴───┴───────┴───┴──────┴──┴─────────┴─────────┴──┴──────┴──┴────────┴───────┴──┴──────┴───────────┴────────┴─────┴──┴─────────┴────┴─────┴──────┴──────┴────────┴──┴──────┴────────┴───┴───────┴──────┴───┴────────┴─────────┴───────┴─────┴────┴───────────┴─────────┴────┴────┴────────┴──────┴────────┴───────┴─────────┴────┴──┴────────┴─────┴────────┴────┴─────┴───┴───────┴────┴─────────┴──┴───────┴────┴────────┴────┴───────┴──┴────┴───────┴───────┴────┴─────────┴───┴────┴────┴─────────┴─────────┴──────┴──────┴────┴─────┴─────┴────────────┴─┴──────┴─────┴──┴─────────┴─────┴───┴───┴──────┴──┴────┴──────┴────────┴──┴───────┴───────┴──────┴────┴────────┴───────┴────┴──┴─────────┴───┴───┴────┴──┴─────┴───────┴──────┴───┴──────┴──────┴──────┴─┴─────────┴─────┴───┴──────┴───┴────┴────────┴─────────┴─────┴────────┴─────┴────┴───┴────┴────────┴─────┴───────┴──┴──────────┴────┴─────┴──────┴──┴────────┴────┴──────┴──┴────────┴───────┴───────┴─────┴───┴────────┴────┴──┴───────┴─────────┴───┴────────┴───────┴─────┴────┴───────┴────┴────────┴──┴───────┴────────┴────┴──┴─────────┴───────┴───────────┴───┴─────┴───────┴──┴─────────┴───┴────────────┴───┴────┴──┴───────────┴──────┴───┴──────┴────────┴───────┴───────┴─────────┴────┴───────┴──────┴─────┴──┴─────────┴────┴───────┴─────┴────────┴─────┴────────────┴───────┴────┴───┴──────┴────────┴─────┴──────┴─────────┴────┴──┴───────┴─────┴────┴──┴────┴───────┴─────────┴─────┴───┴───────────┴──────┴─────┴──────┴─────┴───┴──┴────────┴────┴──┴──────┴─────┴────┴────────┴────┴─────┴─────────┴──────┴────┴──┴────────┴───┴─────────┴───────┴───┴──┴────┴─────────┴───────┴────┴──┴────────┴─────┴─────┴────┴──────┴──────┴────┴────────┴──┴─────────┴───┴─────┴──────┴──┴────┴──────┴───────────┴─────┴─────┴──────┴──┴────────┴──┴──────┴─────┴────┴────────────┴───┴─────┴───────┴───────┴──────┴──┴───────┴─────┴─────┴────────┴─────┴────┴───┴─────────┴────┴───────┴─┴───────┴───┴───────┴─────┴─────────┴──────┴────┴────────┴──┴─────────┴────┴───┴───────┴───────┴────┴───┴────┴───────────┴─────┴───────────┴──┴────┴──────┴──────┴────────┴─────┴─────────┴───────┴──────┴──┴────┴────────┴────────┴────┴─────┴─────┴──────────┴───┴───────┴─────┴──────┴───┴────────┴────┴─┴─────────┴────────┴─────────┴──┴─────┴───┴────┴──────┴─────────┴────┴──┴──────┴──┴──┴───────────┴──────┴─────┴─────┴────────┴─────────┴─────┴──────┴──────┴────────┴──┴──────┴────────┴───┴───────┴──────┴───┴────────┴─────────┴───────┴────────┴──────┴─┴────┴──────┴───┴────────┴─────┴───────┴───────────┴────┴───────────┴─────┴─────┴───────┴───┴───┴──────┴─────────┴────┴─────┴─────────┴──────┴─┴───────┴──────┴─────┴──┴─────┴─────┴─┴─────┴─────┴────────┴───┴─────┴──┴─────┴──────┴───────┴───┴────┴────┴─────┴──────┴───────┴──┴─────┴──┴───────┴────────┴───┴────┴───────┴─────────┴─────┴───┴────┴───────┴────┴───┴──┴─────┴──┴────┴─────────┴────────────┴───┴────┴─────┴─────┴────────┴──┴───┴─────┴────────────┴──┴──────┴──────┴─────────┘\n",
       "</span>"
      ]
     },
     "execution_count": 33,
     "metadata": {},
     "output_type": "execute_result"
    }
   ],
   "source": [
    "words←⎕←('\\W' '.'⎕S 3⍠'UCP'1⊆⊢)1⎕C⊃,/data"
   ]
  },
  {
   "cell_type": "code",
   "execution_count": 34,
   "metadata": {},
   "outputs": [
    {
     "data": {
      "text/html": [
       "<span style=\"white-space:pre; font-family: monospace\">┌─────┬───┬─────┬──┬──┬───┬──┬──┬─────┬──────────────┐\n",
       "│These│are│words│55│56│and│57│in│total│Number1nmiddle│\n",
       "└─────┴───┴─────┴──┴──┴───┴──┴──┴─────┴──────────────┘\n",
       "</span>"
      ]
     },
     "execution_count": 34,
     "metadata": {},
     "output_type": "execute_result"
    }
   ],
   "source": [
    "('\\W' '.'⎕S 3⍠'UCP'1⊆⊢) 'These are words 55, 56 and 57 in total. Number1nmiddle'"
   ]
  },
  {
   "cell_type": "code",
   "execution_count": 35,
   "metadata": {},
   "outputs": [
    {
     "data": {
      "text/html": [
       "<span style=\"white-space:pre; font-family: monospace\">┌─────┬───┬─────┬───┬──┬─────┬─────────────┐\n",
       "│THESE│ARE│WORDS│AND│IN│TOTAL│NUMBERNMIDDLE│\n",
       "└─────┴───┴─────┴───┴──┴─────┴─────────────┘\n",
       "</span>"
      ]
     },
     "execution_count": 35,
     "metadata": {},
     "output_type": "execute_result"
    }
   ],
   "source": [
    "('\\W' '.'⎕S 3⍠'UCP'1⊆⊢) '\\d'⎕R''⊢1⎕C'These are words 55, 56 and 57 in total. Number1nmiddle'"
   ]
  },
  {
   "cell_type": "code",
   "execution_count": 36,
   "metadata": {},
   "outputs": [],
   "source": [
    "words←('\\W' '.'⎕S 3⍠'UCP'1⊆⊢) '\\d'⎕R''⊢1⎕C⊃,/data"
   ]
  },
  {
   "cell_type": "code",
   "execution_count": 37,
   "metadata": {},
   "outputs": [
    {
     "data": {
      "text/html": [
       "<span style=\"white-space:pre; font-family: monospace\">555 42\n",
       "</span>"
      ]
     },
     "execution_count": 37,
     "metadata": {},
     "output_type": "execute_result"
    }
   ],
   "source": [
    "(≢words)(≢data)"
   ]
  },
  {
   "cell_type": "code",
   "execution_count": 38,
   "metadata": {},
   "outputs": [
    {
     "data": {
      "text/html": [
       "<span style=\"white-space:pre; font-family: monospace\">E\n",
       "</span>"
      ]
     },
     "execution_count": 38,
     "metadata": {},
     "output_type": "execute_result"
    }
   ],
   "source": [
    "letters⌷⍨⊂0~⍨⊢/0,⊢⌸letters←∊words"
   ]
  },
  {
   "cell_type": "code",
   "execution_count": 39,
   "metadata": {},
   "outputs": [
    {
     "data": {
      "text/html": [
       "<span style=\"white-space:pre; font-family: monospace\">5.531531531531532\n",
       "</span>"
      ]
     },
     "execution_count": 39,
     "metadata": {},
     "output_type": "execute_result"
    }
   ],
   "source": [
    "(+/÷≢)≢¨words"
   ]
  },
  {
   "cell_type": "code",
   "execution_count": 40,
   "metadata": {},
   "outputs": [
    {
     "data": {
      "text/html": [
       "<span style=\"white-space:pre; font-family: monospace\">5.5\n",
       "</span>"
      ]
     },
     "execution_count": 40,
     "metadata": {},
     "output_type": "execute_result"
    }
   ],
   "source": [
    "⍎1⍕(+/÷≢)≢¨words"
   ]
  },
  {
   "cell_type": "code",
   "execution_count": 41,
   "metadata": {},
   "outputs": [
    {
     "data": {
      "text/html": [
       "<span style=\"white-space:pre; font-family: monospace\">┌───┬──┬───┬─┐\n",
       "│555│42│5.5│E│\n",
       "└───┴──┴───┴─┘\n",
       "</span>"
      ]
     },
     "execution_count": 41,
     "metadata": {},
     "output_type": "execute_result"
    }
   ],
   "source": [
    "{(≢w)(≢⍵)(⍎1⍕(+/÷≢)≢¨w)(l⌷⍨⊂0~⍨⊢/0,⊢⌸l←∊w←('\\W' '.'⎕S 3⍠'UCP'1⊆⊢)'\\d'⎕R''⊢1⎕C⊃,/⍵)}data"
   ]
  },
  {
   "cell_type": "code",
   "execution_count": 42,
   "metadata": {},
   "outputs": [
    {
     "data": {
      "text/html": [
       "<span style=\"white-space:pre; font-family: monospace\">┌───┬──┬───┬─┐\n",
       "│555│42│5.5│E│\n",
       "└───┴──┴───┴─┘\n",
       "</span>"
      ]
     },
     "execution_count": 42,
     "metadata": {},
     "output_type": "execute_result"
    }
   ],
   "source": [
    "(≢w)(≢data)(⍎1⍕(+/÷≢)≢¨w)(l⌷⍨⊂0~⍨⊢/0,⊢⌸l←∊w←(∊∘⎕A⊆⊢)1⎕C⊃,/data)"
   ]
  },
  {
   "cell_type": "code",
   "execution_count": 43,
   "metadata": {},
   "outputs": [],
   "source": [
    "]dinput\n",
    "stats ← {\n",
    "    words   ← ('\\W' '.'⎕S 3⍠'UCP'1⊆⊢) '\\d'⎕R''⊢1⎕C⊃,/⍵ ⍝ Flatten, upcase, remove numbers, split on \"non-word\"\n",
    "    letters ← ∊words                                   ⍝ Join\n",
    "    common  ← letters⌷⍨⊂0~⍨⊢/0,⊢⌸letters               ⍝ Frequency table, picking the most frequent\n",
    "    lengths ← ≢¨words                                  ⍝ Vector of length of each word\n",
    "    ave     ← ⍎1⍕(+/÷≢)lengths                         ⍝ Average, and round to 1 decimal place\n",
    "    (≢words) (≢⍵) ave common\n",
    "}"
   ]
  },
  {
   "cell_type": "code",
   "execution_count": 44,
   "metadata": {},
   "outputs": [
    {
     "data": {
      "text/html": [
       "<span style=\"white-space:pre; font-family: monospace\">┌───┬──┬───┬─┐\n",
       "│555│42│5.5│E│\n",
       "└───┴──┴───┴─┘\n",
       "</span>"
      ]
     },
     "execution_count": 44,
     "metadata": {},
     "output_type": "execute_result"
    }
   ],
   "source": [
    "stats data"
   ]
  },
  {
   "cell_type": "code",
   "execution_count": null,
   "metadata": {},
   "outputs": [],
   "source": []
  }
 ],
 "metadata": {
  "kernelspec": {
   "display_name": "Dyalog APL",
   "language": "apl",
   "name": "dyalog-kernel"
  },
  "language_info": {
   "file_extension": ".apl",
   "mimetype": "text/apl",
   "name": "APL"
  }
 },
 "nbformat": 4,
 "nbformat_minor": 4
}