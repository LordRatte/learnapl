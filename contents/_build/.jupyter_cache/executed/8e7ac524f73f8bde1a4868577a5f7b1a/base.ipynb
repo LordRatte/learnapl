{
 "cells": [
  {
   "cell_type": "code",
   "execution_count": 1,
   "metadata": {},
   "outputs": [
    {
     "data": {
      "text/html": [
       "<span style=\"white-space:pre; font-family: monospace\">Rebuilding user command cache... done\n",
       "</span>"
      ]
     },
     "execution_count": 1,
     "metadata": {},
     "output_type": "execute_result"
    }
   ],
   "source": [
    "⎕IO ← 0\n",
    "{}⎕SE.UCMD'box on -s=max -t=tree -f=on'\n",
    "{}⎕SE.UCMD'rows on'\n",
    "assert←{⍺←'assertion failure' ⋄ 0∊⍵:⍺ ⎕signal 8 ⋄ shy←0}"
   ]
  },
  {
   "cell_type": "code",
   "execution_count": 2,
   "metadata": {},
   "outputs": [
    {
     "data": {
      "text/html": [
       "<span style=\"white-space:pre; font-family: monospace\">┌→──────┐\n",
       "↓9 4 2 7│\n",
       "│2 5 4 7│\n",
       "│8 6 1 2│\n",
       "└~──────┘\n",
       "</span>"
      ]
     },
     "execution_count": 2,
     "metadata": {},
     "output_type": "execute_result"
    },
    {
     "data": {
      "text/html": [
       "<span style=\"white-space:pre; font-family: monospace\">┌→────┐\n",
       "↓9 2 8│\n",
       "│4 5 6│\n",
       "│2 4 1│\n",
       "│7 7 2│\n",
       "└~────┘\n",
       "</span>"
      ]
     },
     "execution_count": 2,
     "metadata": {},
     "output_type": "execute_result"
    }
   ],
   "source": [
    "⊢B ← 3 4⍴9 4 2 7 2 5 4 7 8 6 1 2 6 8 2 9\n",
    "⍉B"
   ]
  },
  {
   "cell_type": "code",
   "execution_count": 3,
   "metadata": {},
   "outputs": [
    {
     "data": {
      "text/html": [
       "<span style=\"white-space:pre; font-family: monospace\">┌→────┐\n",
       "↓9 2 8│\n",
       "│4 5 6│\n",
       "│2 4 1│\n",
       "│7 7 2│\n",
       "└~────┘\n",
       "</span>"
      ]
     },
     "execution_count": 3,
     "metadata": {},
     "output_type": "execute_result"
    }
   ],
   "source": [
    "1 0⍉B ⍝ Same result as the monadic form: x-is-y"
   ]
  },
  {
   "cell_type": "code",
   "execution_count": 4,
   "metadata": {},
   "outputs": [],
   "source": [
    "m ← 3 3 3⍴1 1 1 1 1 1 1 1 1 2 2 2 2 2 2 2 2 2 3 3 3 3 3 3 3 3 3"
   ]
  },
  {
   "cell_type": "code",
   "execution_count": 5,
   "metadata": {},
   "outputs": [
    {
     "data": {
      "text/html": [
       "<span style=\"white-space:pre; font-family: monospace\">┌→────┐\n",
       "↓1 2 3│\n",
       "│1 2 3│\n",
       "│1 2 3│\n",
       "└~────┘\n",
       "</span>"
      ]
     },
     "execution_count": 5,
     "metadata": {},
     "output_type": "execute_result"
    }
   ],
   "source": [
    "3 3⍴1 2 3"
   ]
  },
  {
   "cell_type": "code",
   "execution_count": 6,
   "metadata": {},
   "outputs": [
    {
     "data": {
      "text/html": [
       "<span style=\"white-space:pre; font-family: monospace\">┌┌→────┐\n",
       "↓↓1 2 3│\n",
       "││1 2 3│\n",
       "││1 2 3│\n",
       "││     │\n",
       "││1 2 3│\n",
       "││1 2 3│\n",
       "││1 2 3│\n",
       "││     │\n",
       "││1 2 3│\n",
       "││1 2 3│\n",
       "││1 2 3│\n",
       "└└~────┘\n",
       "</span>"
      ]
     },
     "execution_count": 6,
     "metadata": {},
     "output_type": "execute_result"
    }
   ],
   "source": [
    "2 1 0⍉m"
   ]
  },
  {
   "cell_type": "code",
   "execution_count": 7,
   "metadata": {},
   "outputs": [
    {
     "data": {
      "text/html": [
       "<span style=\"white-space:pre; font-family: monospace\">┌→────────────────────────────────────────────────────┐\n",
       "│1 2 3 1 2 3 1 2 3 1 2 3 1 2 3 1 2 3 1 2 3 1 2 3 1 2 3│\n",
       "└~────────────────────────────────────────────────────┘\n",
       "</span>"
      ]
     },
     "execution_count": 7,
     "metadata": {},
     "output_type": "execute_result"
    }
   ],
   "source": [
    "⊢data ← ∊9/⊂1 2 3\n",
    "mat ← 3 3 3⍴0             ⍝ Empty matrix"
   ]
  },
  {
   "cell_type": "code",
   "execution_count": 8,
   "metadata": {},
   "outputs": [
    {
     "data": {
      "text/html": [
       "<span style=\"white-space:pre; font-family: monospace\">┌┌→────┐\n",
       "↓↓1 1 1│\n",
       "││1 1 1│\n",
       "││1 1 1│\n",
       "││     │\n",
       "││2 2 2│\n",
       "││2 2 2│\n",
       "││2 2 2│\n",
       "││     │\n",
       "││3 3 3│\n",
       "││3 3 3│\n",
       "││3 3 3│\n",
       "└└~────┘\n",
       "</span>"
      ]
     },
     "execution_count": 8,
     "metadata": {},
     "output_type": "execute_result"
    }
   ],
   "source": [
    "(2 1 0⍉mat) ← 3 3 3⍴data  \n",
    "mat"
   ]
  },
  {
   "cell_type": "code",
   "execution_count": 9,
   "metadata": {},
   "outputs": [
    {
     "data": {
      "text/html": [
       "<span style=\"white-space:pre; font-family: monospace\">┌→────────────────┐\n",
       "↓ 0  1  2  3  4  5│\n",
       "│ 6  7  8  9 10 11│\n",
       "│12 13 14 15 16 17│\n",
       "│18 19 20 21 22 23│\n",
       "│24 25 26 27 28 29│\n",
       "│30 31 32 33 34 35│\n",
       "└~────────────────┘\n",
       "</span>"
      ]
     },
     "execution_count": 9,
     "metadata": {},
     "output_type": "execute_result"
    }
   ],
   "source": [
    "⊢mat ← 6 6⍴⍳36"
   ]
  },
  {
   "cell_type": "code",
   "execution_count": 10,
   "metadata": {},
   "outputs": [
    {
     "data": {
      "text/html": [
       "<span style=\"white-space:pre; font-family: monospace\">┌┌┌→───────┐\n",
       "↓↓↓ 0  1  2│\n",
       "│││ 3  4  5│\n",
       "│││        │\n",
       "│││ 6  7  8│\n",
       "│││ 9 10 11│\n",
       "│││        │\n",
       "│││12 13 14│\n",
       "│││15 16 17│\n",
       "│││        │\n",
       "│││        │\n",
       "│││18 19 20│\n",
       "│││21 22 23│\n",
       "│││        │\n",
       "│││24 25 26│\n",
       "│││27 28 29│\n",
       "│││        │\n",
       "│││30 31 32│\n",
       "│││33 34 35│\n",
       "└└└~───────┘\n",
       "</span>"
      ]
     },
     "execution_count": 10,
     "metadata": {},
     "output_type": "execute_result"
    }
   ],
   "source": [
    "⊢r4 ← 2 3 2 3⍴mat"
   ]
  },
  {
   "cell_type": "code",
   "execution_count": 11,
   "metadata": {},
   "outputs": [
    {
     "data": {
      "text/html": [
       "<span style=\"white-space:pre; font-family: monospace\">┌┌→───────┐\n",
       "↓↓ 0  1  2│\n",
       "││ 3  4  5│\n",
       "││        │\n",
       "││ 6  7  8│\n",
       "││ 9 10 11│\n",
       "││        │\n",
       "││12 13 14│\n",
       "││15 16 17│\n",
       "└└~───────┘\n",
       "</span>"
      ]
     },
     "execution_count": 11,
     "metadata": {},
     "output_type": "execute_result"
    }
   ],
   "source": [
    "0⌷r4"
   ]
  },
  {
   "cell_type": "code",
   "execution_count": 12,
   "metadata": {},
   "outputs": [
    {
     "data": {
      "text/html": [
       "<span style=\"white-space:pre; font-family: monospace\">┌┌┌→───────┐\n",
       "↓↓↓ 0  1  2│\n",
       "│││ 6  7  8│\n",
       "│││12 13 14│\n",
       "│││        │\n",
       "│││ 3  4  5│\n",
       "│││ 9 10 11│\n",
       "│││15 16 17│\n",
       "│││        │\n",
       "│││        │\n",
       "│││18 19 20│\n",
       "│││24 25 26│\n",
       "│││30 31 32│\n",
       "│││        │\n",
       "│││21 22 23│\n",
       "│││27 28 29│\n",
       "│││33 34 35│\n",
       "└└└~───────┘\n",
       "</span>"
      ]
     },
     "execution_count": 12,
     "metadata": {},
     "output_type": "execute_result"
    }
   ],
   "source": [
    "⊢reorder ← 0 2 1 3⍉r4"
   ]
  },
  {
   "cell_type": "code",
   "execution_count": 13,
   "metadata": {},
   "outputs": [
    {
     "data": {
      "text/html": [
       "<span style=\"white-space:pre; font-family: monospace\">┌→──────────────────────┐\n",
       "↓ ┌→───────┐ ┌→───────┐ │\n",
       "│ ↓ 0  1  2│ ↓ 3  4  5│ │\n",
       "│ │ 6  7  8│ │ 9 10 11│ │\n",
       "│ │12 13 14│ │15 16 17│ │\n",
       "│ └~───────┘ └~───────┘ │\n",
       "│ ┌→───────┐ ┌→───────┐ │\n",
       "│ ↓18 19 20│ ↓21 22 23│ │\n",
       "│ │24 25 26│ │27 28 29│ │\n",
       "│ │30 31 32│ │33 34 35│ │\n",
       "│ └~───────┘ └~───────┘ │\n",
       "└∊──────────────────────┘\n",
       "</span>"
      ]
     },
     "execution_count": 13,
     "metadata": {},
     "output_type": "execute_result"
    }
   ],
   "source": [
    "⊂⍤2⊢reorder"
   ]
  },
  {
   "cell_type": "code",
   "execution_count": null,
   "metadata": {},
   "outputs": [],
   "source": []
  }
 ],
 "metadata": {
  "kernelspec": {
   "display_name": "Dyalog APL",
   "language": "apl",
   "name": "dyalog-kernel"
  },
  "language_info": {
   "file_extension": ".apl",
   "mimetype": "text/apl",
   "name": "APL"
  }
 },
 "nbformat": 4,
 "nbformat_minor": 4
}