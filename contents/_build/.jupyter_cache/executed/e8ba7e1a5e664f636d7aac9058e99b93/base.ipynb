{
 "cells": [
  {
   "cell_type": "code",
   "execution_count": 1,
   "metadata": {
    "tags": [
     "hide-output"
    ]
   },
   "outputs": [
    {
     "data": {
      "text/html": [
       "<span style=\"white-space:pre; font-family: monospace\">Was ON -style=min\n",
       "</span>"
      ]
     },
     "execution_count": 1,
     "metadata": {},
     "output_type": "execute_result"
    },
    {
     "data": {
      "text/html": [
       "<span style=\"white-space:pre; font-family: monospace\">Was OFF\n",
       "</span>"
      ]
     },
     "execution_count": 1,
     "metadata": {},
     "output_type": "execute_result"
    }
   ],
   "source": [
    "⎕IO ← 0\n",
    "]box on -s=min\n",
    "]rows on\n",
    "assert←{⍺←'assertion failure' ⋄ 0∊⍵:⍺ ⎕signal 8 ⋄ shy←0}"
   ]
  },
  {
   "cell_type": "code",
   "execution_count": 2,
   "metadata": {},
   "outputs": [
    {
     "data": {
      "text/html": [
       "<span style=\"white-space:pre; font-family: monospace\">1 3 5 7 9 11 13 15 17 19\n",
       "</span>"
      ]
     },
     "execution_count": 2,
     "metadata": {},
     "output_type": "execute_result"
    }
   ],
   "source": [
    "where ← 2|data ← ⍳20 ⍝ mod-2 for the whole array at once\n",
    "where/data"
   ]
  },
  {
   "cell_type": "code",
   "execution_count": 3,
   "metadata": {},
   "outputs": [
    {
     "data": {
      "text/html": [
       "<span style=\"white-space:pre; font-family: monospace\">iouaoeoai\n",
       "</span>"
      ]
     },
     "execution_count": 3,
     "metadata": {},
     "output_type": "execute_result"
    }
   ],
   "source": [
    "'aeiou' {(⍵∊⍺)/⍵} 'pick out all vowels from a string'"
   ]
  },
  {
   "cell_type": "code",
   "execution_count": 4,
   "metadata": {},
   "outputs": [
    {
     "data": {
      "text/html": [
       "<span style=\"white-space:pre; font-family: monospace\">7 9 9 2 7 3 9 8 7 1\n",
       "</span>"
      ]
     },
     "execution_count": 4,
     "metadata": {},
     "output_type": "execute_result"
    },
    {
     "data": {
      "text/html": [
       "<span style=\"white-space:pre; font-family: monospace\">3\n",
       "</span>"
      ]
     },
     "execution_count": 4,
     "metadata": {},
     "output_type": "execute_result"
    }
   ],
   "source": [
    "card ← 7 9 9 2 7 3 9 8 7 1 3\n",
    "\n",
    "⎕ ← body ← (count←¯1+≢card)↑card\n",
    "⎕ ← check ← ⊢/card"
   ]
  },
  {
   "cell_type": "code",
   "execution_count": 5,
   "metadata": {},
   "outputs": [
    {
     "data": {
      "text/html": [
       "<span style=\"white-space:pre; font-family: monospace\">1 2 1 2 1 2 1 2 1 2\n",
       "</span>"
      ]
     },
     "execution_count": 5,
     "metadata": {},
     "output_type": "execute_result"
    },
    {
     "data": {
      "text/html": [
       "<span style=\"white-space:pre; font-family: monospace\">7 18 9 4 7 6 9 16 7 2\n",
       "</span>"
      ]
     },
     "execution_count": 5,
     "metadata": {},
     "output_type": "execute_result"
    }
   ],
   "source": [
    "⎕ ← weights ← count⍴(2|count)⌽1 2\n",
    "⎕ ← products ← body×weights"
   ]
  },
  {
   "cell_type": "code",
   "execution_count": 6,
   "metadata": {},
   "outputs": [
    {
     "data": {
      "text/html": [
       "<span style=\"white-space:pre; font-family: monospace\">0 1 0 0 0 0 0 1 0 0\n",
       "7 8 9 4 7 6 9 6 7 2\n",
       "</span>"
      ]
     },
     "execution_count": 6,
     "metadata": {},
     "output_type": "execute_result"
    },
    {
     "data": {
      "text/html": [
       "<span style=\"white-space:pre; font-family: monospace\">67\n",
       "</span>"
      ]
     },
     "execution_count": 6,
     "metadata": {},
     "output_type": "execute_result"
    }
   ],
   "source": [
    "⎕ ← digits ← 0 10⊤products ⍝ We can think of `0 10⊤` as divmod\n",
    "⎕ ← sum ← +⌿,digits        ⍝ By raveling, we save doing sum the sum of cols"
   ]
  },
  {
   "cell_type": "code",
   "execution_count": 7,
   "metadata": {},
   "outputs": [
    {
     "data": {
      "text/html": [
       "<span style=\"white-space:pre; font-family: monospace\">3\n",
       "</span>"
      ]
     },
     "execution_count": 7,
     "metadata": {},
     "output_type": "execute_result"
    }
   ],
   "source": [
    "10|-sum ⍝ Magic"
   ]
  },
  {
   "cell_type": "code",
   "execution_count": 8,
   "metadata": {},
   "outputs": [],
   "source": [
    "]dinput\n",
    "luhn ← {\n",
    "    check ← ⊢/⍵\n",
    "    body ← (count←¯1+≢⍵)↑⍵\n",
    "    weights ← count⍴(2|count)⌽1 2\n",
    "    digits ← 0 10⊤body×weights\n",
    "    check=10|-+/,digits\n",
    "}"
   ]
  },
  {
   "cell_type": "code",
   "execution_count": 9,
   "metadata": {},
   "outputs": [],
   "source": [
    "assert luhn 7 9 9 2 7 3 9 8 7 1 3"
   ]
  },
  {
   "cell_type": "code",
   "execution_count": 10,
   "metadata": {},
   "outputs": [
    {
     "data": {
      "text/html": [
       "<span style=\"white-space:pre; font-family: monospace\">1048575\n",
       "</span>"
      ]
     },
     "execution_count": 10,
     "metadata": {},
     "output_type": "execute_result"
    }
   ],
   "source": [
    "¯1+2*20"
   ]
  },
  {
   "cell_type": "code",
   "execution_count": 11,
   "metadata": {},
   "outputs": [
    {
     "data": {
      "text/html": [
       "<span style=\"white-space:pre; font-family: monospace\">2097151 4194303 8388607 16777215 33554431 67108863 134217727 268435455 536870911\n",
       "</span>"
      ]
     },
     "execution_count": 11,
     "metadata": {},
     "output_type": "execute_result"
    }
   ],
   "source": [
    "e←¯1+2∘*⋄e¨21+⍳9"
   ]
  },
  {
   "cell_type": "code",
   "execution_count": 12,
   "metadata": {},
   "outputs": [
    {
     "data": {
      "text/html": [
       "<span style=\"white-space:pre; font-family: monospace\">0 0 0\n",
       "0 0 1\n",
       "0 1 0\n",
       "0 1 1\n",
       "1 0 0\n",
       "1 0 1\n",
       "1 1 0\n",
       "1 1 1\n",
       "</span>"
      ]
     },
     "execution_count": 12,
     "metadata": {},
     "output_type": "execute_result"
    }
   ],
   "source": [
    "⍉2∘⊥⍣¯1⍳2*3"
   ]
  },
  {
   "cell_type": "code",
   "execution_count": 13,
   "metadata": {},
   "outputs": [
    {
     "data": {
      "text/html": [
       "<span style=\"white-space:pre; font-family: monospace\">┌───┬─┐\n",
       "│1 1│2│\n",
       "└───┴─┘\n",
       "</span>"
      ]
     },
     "execution_count": 13,
     "metadata": {},
     "output_type": "execute_result"
    },
    {
     "data": {
      "text/html": [
       "<span style=\"white-space:pre; font-family: monospace\">┌─┬───┐\n",
       "│2│1 1│\n",
       "└─┴───┘\n",
       "</span>"
      ]
     },
     "execution_count": 13,
     "metadata": {},
     "output_type": "execute_result"
    }
   ],
   "source": [
    "1 1 0 {(⍺/⍵)(⍵/⍨~⍺)} 1 1 2 ⍝ compress and compress ~\n",
    "1 1 0 {(⍵~v)(v←⍺/⍵)} 1 1 2 ⍝ compress and set difference"
   ]
  },
  {
   "cell_type": "code",
   "execution_count": 14,
   "metadata": {},
   "outputs": [
    {
     "data": {
      "text/html": [
       "<span style=\"white-space:pre; font-family: monospace\">2\n",
       "</span>"
      ]
     },
     "execution_count": 14,
     "metadata": {},
     "output_type": "execute_result"
    }
   ],
   "source": [
    "+/1 1 0×1 1 2"
   ]
  },
  {
   "cell_type": "code",
   "execution_count": 15,
   "metadata": {},
   "outputs": [
    {
     "data": {
      "text/html": [
       "<span style=\"white-space:pre; font-family: monospace\">2\n",
       "</span>"
      ]
     },
     "execution_count": 15,
     "metadata": {},
     "output_type": "execute_result"
    }
   ],
   "source": [
    "1 1 0 +.× 1 1 2"
   ]
  },
  {
   "cell_type": "code",
   "execution_count": 16,
   "metadata": {},
   "outputs": [
    {
     "data": {
      "text/html": [
       "<span style=\"white-space:pre; font-family: monospace\">0 2 1 3 1 3 2 4\n",
       "</span>"
      ]
     },
     "execution_count": 16,
     "metadata": {},
     "output_type": "execute_result"
    }
   ],
   "source": [
    "patterns ← ⍉2∘⊥⍣¯1⍳2*3\n",
    "patterns +.× 1 1 2"
   ]
  },
  {
   "cell_type": "code",
   "execution_count": 17,
   "metadata": {},
   "outputs": [],
   "source": [
    "]dinput\n",
    "Balance ← {\n",
    "    total ← +/⍵\n",
    "    2|total: ⍬             ⍝ Sum must be divisible by 2\n",
    "    psum ← total÷2         ⍝ Our target partition sum\n",
    "    bitp ← ⍉2∘⊥⍣¯1⍳2*≢⍵    ⍝ All possible bit patterns up to ≢⍵\n",
    "    idx ← ⍸<\\psum=bitp+.×⍵ ⍝ First index of partition sum = target\n",
    "    ⍬≡idx: ⍬               ⍝ If we have no 1s, there is no solution\n",
    "    part ← idx⌷bitp        ⍝ Partition corresponding to solution index\n",
    "    (part/⍵)(⍵/⍨~part)     ⍝ Compress input by solution pattern and inverse\n",
    "}"
   ]
  },
  {
   "cell_type": "code",
   "execution_count": 18,
   "metadata": {},
   "outputs": [
    {
     "data": {
      "text/html": [
       "<span style=\"white-space:pre; font-family: monospace\">┌─┬───┐\n",
       "│2│1 1│\n",
       "└─┴───┘\n",
       "</span>"
      ]
     },
     "execution_count": 18,
     "metadata": {},
     "output_type": "execute_result"
    }
   ],
   "source": [
    "Balance 1 1 2"
   ]
  },
  {
   "cell_type": "code",
   "execution_count": 19,
   "metadata": {},
   "outputs": [
    {
     "data": {
      "text/html": [
       "<span style=\"white-space:pre; font-family: monospace\">┌────────────────────┬────────────────────────────────────┐\n",
       "│99 84 87 76 85 41 93│10 81 98 27 28 5 1 46 63 25 39 78 64│\n",
       "└────────────────────┴────────────────────────────────────┘\n",
       "</span>"
      ]
     },
     "execution_count": 19,
     "metadata": {},
     "output_type": "execute_result"
    }
   ],
   "source": [
    "Balance 10 81 98 27 28 5 1 46 63 99 25 39 84 87 76 85 78 64 41 93"
   ]
  },
  {
   "cell_type": "code",
   "execution_count": 20,
   "metadata": {},
   "outputs": [
    {
     "data": {
      "text/html": [
       "<span style=\"white-space:pre; font-family: monospace\">\n",
       "* Benchmarking \"Balance 10 81 98 27 28 5 1 46 63 99 25 39 84 87 76 85 78 64 41 93\"\n",
       "┌──────────┬────┐\n",
       "│          │(ms)│\n",
       "├──────────┼────┤\n",
       "│CPU (avg):│31  │\n",
       "├──────────┼────┤\n",
       "│Elapsed:  │32  │\n",
       "└──────────┴────┘\n",
       "</span>"
      ]
     },
     "execution_count": 20,
     "metadata": {},
     "output_type": "execute_result"
    }
   ],
   "source": [
    "]runtime \"Balance 10 81 98 27 28 5 1 46 63 99 25 39 84 87 76 85 78 64 41 93\""
   ]
  },
  {
   "cell_type": "code",
   "execution_count": 21,
   "metadata": {},
   "outputs": [],
   "source": [
    "]dinput\n",
    "BalanceScalar ← {⎕IO←0     \n",
    "    total ← +/⍵\n",
    "    2|total: ⍬             ⍝ Sum must be divisible by 2\n",
    "    psum ← total÷2         ⍝ Our target partition sum\n",
    "    data ← ⍵\n",
    "    bitp ← ↓⍉2∘⊥⍣¯1⍳2*≢⍵   ⍝ Pre-compute the bit patterns\n",
    "    {                      ⍝ Try one sum after the other, halt on first solution\n",
    "        0=⍵: ⍬\n",
    "        patt ← ⍵⊃bitp\n",
    "        psum=patt+.×data: (patt/data)(data/⍨~patt) ⍝ Exit on first solution found\n",
    "        ∇¯1+⍵\n",
    "    } ¯1+≢bitp\n",
    "}"
   ]
  },
  {
   "cell_type": "code",
   "execution_count": 22,
   "metadata": {},
   "outputs": [
    {
     "data": {
      "text/html": [
       "<span style=\"white-space:pre; font-family: monospace\">┌───┬─┐\n",
       "│1 1│2│\n",
       "└───┴─┘\n",
       "</span>"
      ]
     },
     "execution_count": 22,
     "metadata": {},
     "output_type": "execute_result"
    }
   ],
   "source": [
    "BalanceScalar 1 1 2"
   ]
  },
  {
   "cell_type": "code",
   "execution_count": 23,
   "metadata": {},
   "outputs": [],
   "source": [
    "'cmpx'⎕CY'dfns'"
   ]
  },
  {
   "cell_type": "code",
   "execution_count": 24,
   "metadata": {},
   "outputs": [
    {
     "data": {
      "text/html": [
       "<span style=\"white-space:pre; font-family: monospace\">  Balance d       → 2.7E¯2 |   0% ⎕⎕⎕⎕⎕⎕⎕⎕⎕⎕⎕⎕⎕⎕⎕⎕⎕⎕⎕⎕⎕⎕⎕⎕⎕⎕⎕⎕⎕           \n",
       "* BalanceScalar d → 3.7E¯2 | +37% ⎕⎕⎕⎕⎕⎕⎕⎕⎕⎕⎕⎕⎕⎕⎕⎕⎕⎕⎕⎕⎕⎕⎕⎕⎕⎕⎕⎕⎕⎕⎕⎕⎕⎕⎕⎕⎕⎕⎕⎕\n",
       "</span>"
      ]
     },
     "execution_count": 24,
     "metadata": {},
     "output_type": "execute_result"
    }
   ],
   "source": [
    "d←10 81 98 27 28 5 1 46 63 99 25 39 84 87 76 85 78 64 41 93\n",
    "cmpx 'Balance d' 'BalanceScalar d'"
   ]
  },
  {
   "cell_type": "code",
   "execution_count": 25,
   "metadata": {},
   "outputs": [],
   "source": [
    "]dinput\n",
    "KarmarkarKarp ← {\n",
    "    sort ← {⍵[;⍋⍵[0;]]}\n",
    "    (pairs last) ← ⍬ {\n",
    "        2>≢⍉⍵:⍺ (1 0⌷⍵)\n",
    "        (i x)(j y) ← ↓⍉⍵[;0 1]\n",
    "        (⍺,⊂x y)∇sort (2↓⍤1⊢⍵),(i-j) x\n",
    "    } sort ↑(-⍵)(⍵)\n",
    "        \n",
    "    last ⍬ {\n",
    "        (a b) ← ⍺\n",
    "        0=≢⍵: ⍺\n",
    "        pair ← ⊃¯1↑⍵\n",
    "        a∊⍨⊃pair: (a (b,1⊃pair))∇¯1↓⍵\n",
    "        ((a,1⊃pair) b)∇¯1↓⍵\n",
    "    } pairs\n",
    "}"
   ]
  },
  {
   "cell_type": "code",
   "execution_count": 26,
   "metadata": {},
   "outputs": [
    {
     "data": {
      "text/html": [
       "<span style=\"white-space:pre; font-family: monospace\">┌────────────────────────────┬────────────────────────────┐\n",
       "│41 85 99 5 93 10 63 27 64 78│1 25 28 76 81 39 46 84 87 98│\n",
       "└────────────────────────────┴────────────────────────────┘\n",
       "</span>"
      ]
     },
     "execution_count": 26,
     "metadata": {},
     "output_type": "execute_result"
    }
   ],
   "source": [
    "KarmarkarKarp 10 81 98 27 28 5 1 46 63 99 25 39 84 87 76 85 78 64 41 93"
   ]
  },
  {
   "cell_type": "code",
   "execution_count": 27,
   "metadata": {},
   "outputs": [
    {
     "data": {
      "text/html": [
       "<span style=\"white-space:pre; font-family: monospace\">  Balance d       → 2.6E¯2 |    0% ⎕⎕⎕⎕⎕⎕⎕⎕⎕⎕⎕⎕⎕⎕⎕⎕⎕⎕⎕⎕⎕⎕⎕⎕⎕⎕⎕⎕⎕⎕⎕⎕⎕⎕⎕⎕⎕⎕⎕⎕\n",
       "* KarmarkarKarp d → 1.1E¯4 | -100%                                         \n",
       "</span>"
      ]
     },
     "execution_count": 27,
     "metadata": {},
     "output_type": "execute_result"
    }
   ],
   "source": [
    "cmpx 'Balance d' 'KarmarkarKarp d'"
   ]
  },
  {
   "cell_type": "code",
   "execution_count": 28,
   "metadata": {},
   "outputs": [
    {
     "data": {
      "text/html": [
       "<span style=\"white-space:pre; font-family: monospace\">┌───┬─────┐\n",
       "│7 8│4 5 6│\n",
       "└───┴─────┘\n",
       "</span>"
      ]
     },
     "execution_count": 28,
     "metadata": {},
     "output_type": "execute_result"
    },
    {
     "data": {
      "text/html": [
       "<span style=\"white-space:pre; font-family: monospace\">┌─────┬───┐\n",
       "│4 5 7│6 8│\n",
       "└─────┴───┘\n",
       "</span>"
      ]
     },
     "execution_count": 28,
     "metadata": {},
     "output_type": "execute_result"
    }
   ],
   "source": [
    "Balance 4 5 6 7 8\n",
    "KarmarkarKarp 4 5 6 7 8"
   ]
  },
  {
   "cell_type": "code",
   "execution_count": 29,
   "metadata": {},
   "outputs": [
    {
     "data": {
      "text/html": [
       "<span style=\"white-space:pre; font-family: monospace\">@salutation@ @firstname@ @lastname@;\n",
       "Congratulations!  You have won a @prize@ worth over £@value@!\n",
       "@firstname@, please come to our office to pick up your @prize@.\n",
       "Please feel free to contact us at info@@contest.com.\n",
       "Your email address in our domain is @firstname@@@contest.com\n",
       "\n",
       "</span>"
      ]
     },
     "execution_count": 29,
     "metadata": {},
     "output_type": "execute_result"
    }
   ],
   "source": [
    "template ← '/Users/stefan/template.txt'\n",
    "⊃⎕NGET template"
   ]
  },
  {
   "cell_type": "code",
   "execution_count": 30,
   "metadata": {},
   "outputs": [
    {
     "data": {
      "text/html": [
       "<span style=\"white-space:pre; font-family: monospace\">{\n",
       "    \"firstname\":\"Drake\",\n",
       "    \"lastname\":\"Mallard\",\n",
       "    \"prize\":\"yoyo\",\n",
       "    \"value\":100\n",
       "}\n",
       "\n",
       "</span>"
      ]
     },
     "execution_count": 30,
     "metadata": {},
     "output_type": "execute_result"
    }
   ],
   "source": [
    "merge ← '/Users/stefan/merge1.json'\n",
    "⊃⎕NGET merge"
   ]
  },
  {
   "cell_type": "code",
   "execution_count": 31,
   "metadata": {},
   "outputs": [
    {
     "data": {
      "text/html": [
       "<span style=\"white-space:pre; font-family: monospace\">┌─────────┬────────┬─────┬─────┐\n",
       "│firstname│lastname│prize│value│\n",
       "├─────────┼────────┼─────┼─────┤\n",
       "│Drake    │Mallard │yoyo │100  │\n",
       "└─────────┴────────┴─────┴─────┘\n",
       "</span>"
      ]
     },
     "execution_count": 31,
     "metadata": {},
     "output_type": "execute_result"
    }
   ],
   "source": [
    "mrg←⎕JSON⊃⎕NGET merge\n",
    "keys←mrg.⎕NL¯2\n",
    "vals←mrg.(⍎¨#.keys)\n",
    "↑keys vals"
   ]
  },
  {
   "cell_type": "code",
   "execution_count": 32,
   "metadata": {},
   "outputs": [
    {
     "data": {
      "text/html": [
       "<span style=\"white-space:pre; font-family: monospace\">┌───────────┬──────────┬───────┬───────┬──┬───────┐\n",
       "│@firstname@│@lastname@│@prize@│@value@│@@│@[^@]+@│\n",
       "├───────────┼──────────┼───────┼───────┼──┼───────┤\n",
       "│Drake      │Mallard   │yoyo   │100    │@ │???    │\n",
       "└───────────┴──────────┴───────┴───────┴──┴───────┘\n",
       "</span>"
      ]
     },
     "execution_count": 32,
     "metadata": {},
     "output_type": "execute_result"
    }
   ],
   "source": [
    "↑(({'@',(⍕⍵),'@'}¨keys), (⊂'@@'), ⊂'@[^@]+@') ((⍕¨vals), (⊂,'@'), ⊂'???')"
   ]
  },
  {
   "cell_type": "code",
   "execution_count": 33,
   "metadata": {},
   "outputs": [],
   "source": [
    "]dinput\n",
    "Merge ← {\n",
    "    mrg←⎕JSON⊃⎕NGET ⍺\n",
    "    keys←mrg.⎕NL¯2\n",
    "    vals←mrg.(⍎¨#.keys)\n",
    "    \n",
    "    (({'@',(⍕⍵),'@'}¨keys), (⊂'@@'), ⊂'@[^@]+@')⎕R((⍕¨vals), (⊂,'@'), ⊂'???')⊢⊃⎕NGET ⍵\n",
    "}"
   ]
  },
  {
   "cell_type": "code",
   "execution_count": 34,
   "metadata": {},
   "outputs": [
    {
     "data": {
      "text/html": [
       "<span style=\"white-space:pre; font-family: monospace\">??? Drake Mallard;\n",
       "Congratulations!  You have won a yoyo worth over £100!\n",
       "Drake, please come to our office to pick up your yoyo.\n",
       "Please feel free to contact us at info@contest.com.\n",
       "Your email address in our domain is Drake@contest.com\n",
       "\n",
       "</span>"
      ]
     },
     "execution_count": 34,
     "metadata": {},
     "output_type": "execute_result"
    }
   ],
   "source": [
    "merge Merge template"
   ]
  },
  {
   "cell_type": "code",
   "execution_count": 35,
   "metadata": {},
   "outputs": [
    {
     "data": {
      "text/html": [
       "<span style=\"white-space:pre; font-family: monospace\">┌────┬──────┬─┬──┬────┬─┐\n",
       "│@bbb│@ ccc │@│@ │@ddd│@│\n",
       "└────┴──────┴─┴──┴────┴─┘\n",
       "</span>"
      ]
     },
     "execution_count": 35,
     "metadata": {},
     "output_type": "execute_result"
    }
   ],
   "source": [
    "'@' (=⊂⊢) 'aaaa @bbb@ ccc @@ @ddd@' ⍝ Partitions starting at @"
   ]
  },
  {
   "cell_type": "code",
   "execution_count": 36,
   "metadata": {},
   "outputs": [
    {
     "data": {
      "text/html": [
       "<span style=\"white-space:pre; font-family: monospace\">┌───┬─────┬┬─┬───┬┐\n",
       "│bbb│ ccc ││ │ddd││\n",
       "└───┴─────┴┴─┴───┴┘\n",
       "</span>"
      ]
     },
     "execution_count": 36,
     "metadata": {},
     "output_type": "execute_result"
    }
   ],
   "source": [
    "⎕ ← tmpls←'@'(1↓¨=⊂⊢)'aaaa @bbb@ ccc @@ @ddd@' "
   ]
  },
  {
   "cell_type": "code",
   "execution_count": 37,
   "metadata": {},
   "outputs": [],
   "source": [
    "(mrg←⎕NS⍬).(bbb ccc ddd) ← 'bees' 'cees' 'dees'"
   ]
  },
  {
   "cell_type": "code",
   "execution_count": 38,
   "metadata": {},
   "outputs": [],
   "source": [
    "]dinput\n",
    "val ← {\n",
    "    0=≢⍵: ,'@'\n",
    "    ~(⊂⍵)∊mrg.⎕NL¯2: '???'\n",
    "    ⍕mrg⍎⍵\n",
    "} "
   ]
  },
  {
   "cell_type": "code",
   "execution_count": 39,
   "metadata": {},
   "outputs": [
    {
     "data": {
      "text/html": [
       "<span style=\"white-space:pre; font-family: monospace\">┌────┬────┬────┬─┬───┐\n",
       "│bees│dees│cees│@│???│\n",
       "└────┴────┴────┴─┴───┘\n",
       "</span>"
      ]
     },
     "execution_count": 39,
     "metadata": {},
     "output_type": "execute_result"
    }
   ],
   "source": [
    "val¨'bbb' 'ddd' 'ccc' '' 'hubba'"
   ]
  },
  {
   "cell_type": "code",
   "execution_count": 40,
   "metadata": {},
   "outputs": [
    {
     "data": {
      "text/html": [
       "<span style=\"white-space:pre; font-family: monospace\">┌────┬─────┬─┬─┬────┬┐\n",
       "│bees│ ccc │@│ │dees││\n",
       "└────┴─────┴─┴─┴────┴┘\n",
       "</span>"
      ]
     },
     "execution_count": 40,
     "metadata": {},
     "output_type": "execute_result"
    }
   ],
   "source": [
    "val¨@{1 0 1 0 1 0}⊢tmpls"
   ]
  },
  {
   "cell_type": "code",
   "execution_count": 41,
   "metadata": {},
   "outputs": [],
   "source": [
    "]dinput\n",
    "Merge ← {\n",
    "    mrg ← ⎕JSON⊃⎕NGET ⍺\n",
    "    templ ← ⊃⎕NGET ⍵\n",
    "    first ← templ⍳'@'\n",
    "    first>≢templ: templ    ⍝ No templates at all\n",
    "    prefix ← first↑templ\n",
    "    val ← {\n",
    "        0=≢⍵: ,'@'\n",
    "        ~(⊂⍵)∊mrg.⎕NL¯2: '???'\n",
    "        ⍕mrg⍎⍵\n",
    "    }\n",
    "    ∊prefix,val¨@{1 0⍴⍨≢⍵}'@'(1↓¨=⊂⊢)templ\n",
    "}"
   ]
  },
  {
   "cell_type": "code",
   "execution_count": 42,
   "metadata": {},
   "outputs": [
    {
     "data": {
      "text/html": [
       "<span style=\"white-space:pre; font-family: monospace\">??? Drake Mallard;\n",
       "Congratulations!  You have won a yoyo worth over £100!\n",
       "Drake, please come to our office to pick up your yoyo.\n",
       "Please feel free to contact us at info@contest.com.\n",
       "Your email address in our domain is Drake@contest.com\n",
       "\n",
       "</span>"
      ]
     },
     "execution_count": 42,
     "metadata": {},
     "output_type": "execute_result"
    }
   ],
   "source": [
    "merge Merge template"
   ]
  },
  {
   "cell_type": "code",
   "execution_count": null,
   "metadata": {},
   "outputs": [],
   "source": []
  },
  {
   "cell_type": "code",
   "execution_count": 43,
   "metadata": {},
   "outputs": [
    {
     "data": {
      "text/html": [
       "<span style=\"white-space:pre; font-family: monospace\">     ⍒\n",
       "</span>"
      ]
     },
     "execution_count": 43,
     "metadata": {},
     "output_type": "execute_result"
    },
    {
     "data": {
      "text/html": [
       "<span style=\"white-space:pre; font-family: monospace\">    Parade\n",
       "</span>"
      ]
     },
     "execution_count": 43,
     "metadata": {},
     "output_type": "execute_result"
    },
    {
     "data": {
      "text/html": [
       "<span style=\"white-space:pre; font-family: monospace\">Longer P\n",
       "     APL\n",
       "  Parade\n",
       "</span>"
      ]
     },
     "execution_count": 43,
     "metadata": {},
     "output_type": "execute_result"
    }
   ],
   "source": [
    "⍝ 6 Align '⍒'\n",
    "'     ⍒'\n",
    "\n",
    "⍝ 10 Align 'Parade'\n",
    "'    Parade'\n",
    "\n",
    "⍝ 8 Align 'Longer Phrase' 'APL' 'Parade'\n",
    "3 8⍴'Longer P     APL  Parade'"
   ]
  },
  {
   "cell_type": "code",
   "execution_count": 44,
   "metadata": {},
   "outputs": [
    {
     "data": {
      "text/html": [
       "<span style=\"white-space:pre; font-family: monospace\">6\n",
       "</span>"
      ]
     },
     "execution_count": 44,
     "metadata": {},
     "output_type": "execute_result"
    },
    {
     "data": {
      "text/html": [
       "<span style=\"white-space:pre; font-family: monospace\">10\n",
       "</span>"
      ]
     },
     "execution_count": 44,
     "metadata": {},
     "output_type": "execute_result"
    },
    {
     "data": {
      "text/html": [
       "<span style=\"white-space:pre; font-family: monospace\">3 8\n",
       "</span>"
      ]
     },
     "execution_count": 44,
     "metadata": {},
     "output_type": "execute_result"
    }
   ],
   "source": [
    "6 {⍺,⍨(2=≡,⍵)/≢,⍵} '⍋'\n",
    "10 {⍺,⍨(2=≡,⍵)/≢,⍵} 'Parade'\n",
    "8 {⍺,⍨(2=≡,⍵)/≢,⍵} 'Longer Phrase' 'APL' 'Parade'"
   ]
  },
  {
   "cell_type": "code",
   "execution_count": 45,
   "metadata": {},
   "outputs": [
    {
     "data": {
      "text/html": [
       "<span style=\"white-space:pre; font-family: monospace\">10\n",
       "</span>"
      ]
     },
     "execution_count": 45,
     "metadata": {},
     "output_type": "execute_result"
    },
    {
     "data": {
      "text/html": [
       "<span style=\"white-space:pre; font-family: monospace\">Parade\n",
       "</span>"
      ]
     },
     "execution_count": 45,
     "metadata": {},
     "output_type": "execute_result"
    },
    {
     "data": {
      "text/html": [
       "<span style=\"white-space:pre; font-family: monospace\">Parade    \n",
       "</span>"
      ]
     },
     "execution_count": 45,
     "metadata": {},
     "output_type": "execute_result"
    }
   ],
   "source": [
    "data ← 'Parade'\n",
    "⊢sh ← 10 {⍺,⍨(2=≡,⍵)/≢,⍵} data ⍝ Shape\n",
    "↑,data                         ⍝ Mix ravel (no change for a char vector)\n",
    "10↑⍤1⊢↑,data                   ⍝ (over)take, rank-1"
   ]
  },
  {
   "cell_type": "code",
   "execution_count": 46,
   "metadata": {},
   "outputs": [
    {
     "data": {
      "text/html": [
       "<span style=\"white-space:pre; font-family: monospace\">3 8\n",
       "</span>"
      ]
     },
     "execution_count": 46,
     "metadata": {},
     "output_type": "execute_result"
    },
    {
     "data": {
      "text/html": [
       "<span style=\"white-space:pre; font-family: monospace\">Longer Phrase\n",
       "APL          \n",
       "Parade       \n",
       "</span>"
      ]
     },
     "execution_count": 46,
     "metadata": {},
     "output_type": "execute_result"
    },
    {
     "data": {
      "text/html": [
       "<span style=\"white-space:pre; font-family: monospace\">Longer P\n",
       "APL     \n",
       "Parade  \n",
       "</span>"
      ]
     },
     "execution_count": 46,
     "metadata": {},
     "output_type": "execute_result"
    }
   ],
   "source": [
    "data ← 'Longer Phrase' 'APL' 'Parade'\n",
    "⎕ ← sh ← 8 {⍺,⍨(2=≡,⍵)/≢,⍵} data ⍝ Shape\n",
    "↑,data                        ⍝ Mix ravel\n",
    "⎕ ← mat ← 8↑⍤1⊢↑,data            ⍝ (over)take, rank 1"
   ]
  },
  {
   "cell_type": "code",
   "execution_count": 47,
   "metadata": {},
   "outputs": [
    {
     "data": {
      "text/html": [
       "<span style=\"white-space:pre; font-family: monospace\">0 0 0 0 0 0 1 0\n",
       "0 0 0 1 1 1 1 1\n",
       "0 0 0 0 0 0 1 1\n",
       "</span>"
      ]
     },
     "execution_count": 47,
     "metadata": {},
     "output_type": "execute_result"
    }
   ],
   "source": [
    "' '=mat"
   ]
  },
  {
   "cell_type": "code",
   "execution_count": 48,
   "metadata": {},
   "outputs": [
    {
     "data": {
      "text/html": [
       "<span style=\"white-space:pre; font-family: monospace\">1 1 1 0 0 0 0 0 0 0\n",
       "</span>"
      ]
     },
     "execution_count": 48,
     "metadata": {},
     "output_type": "execute_result"
    }
   ],
   "source": [
    "∧\\1 1 1 0 0 0 1 0 1 0"
   ]
  },
  {
   "cell_type": "code",
   "execution_count": 49,
   "metadata": {},
   "outputs": [
    {
     "data": {
      "text/html": [
       "<span style=\"white-space:pre; font-family: monospace\">0 0 0 0 0 0 0 0\n",
       "0 0 0 1 1 1 1 1\n",
       "0 0 0 0 0 0 1 1\n",
       "</span>"
      ]
     },
     "execution_count": 49,
     "metadata": {},
     "output_type": "execute_result"
    }
   ],
   "source": [
    "⌽∧\\⌽' '=mat   ⍝ We're keeping on arraying"
   ]
  },
  {
   "cell_type": "code",
   "execution_count": 50,
   "metadata": {},
   "outputs": [
    {
     "data": {
      "text/html": [
       "<span style=\"white-space:pre; font-family: monospace\"> ABCDEFGHIK\n",
       "</span>"
      ]
     },
     "execution_count": 50,
     "metadata": {},
     "output_type": "execute_result"
    },
    {
     "data": {
      "text/html": [
       "<span style=\"white-space:pre; font-family: monospace\">5 1 1 1 1 1 1 1 1 1 1\n",
       "</span>"
      ]
     },
     "execution_count": 50,
     "metadata": {},
     "output_type": "execute_result"
    },
    {
     "data": {
      "text/html": [
       "<span style=\"white-space:pre; font-family: monospace\">     ABCDEFGHIK\n",
       "</span>"
      ]
     },
     "execution_count": 50,
     "metadata": {},
     "output_type": "execute_result"
    }
   ],
   "source": [
    "⎕ ← data ← ' ABCDEFGHIK'         ⍝ Note: leading space\n",
    "⎕ ← repl ← 5 1 1 1 1 1 1 1 1 1 1 ⍝ Five spaces, one of everything else\n",
    "repl/data"
   ]
  },
  {
   "cell_type": "code",
   "execution_count": 51,
   "metadata": {},
   "outputs": [
    {
     "data": {
      "text/html": [
       "<span style=\"white-space:pre; font-family: monospace\"> Longer P\n",
       " APL     \n",
       " Parade  \n",
       "</span>"
      ]
     },
     "execution_count": 51,
     "metadata": {},
     "output_type": "execute_result"
    },
    {
     "data": {
      "text/html": [
       "<span style=\"white-space:pre; font-family: monospace\">1 1 1 1 1 1 1 1\n",
       "1 1 1 0 0 0 0 0\n",
       "1 1 1 1 1 1 0 0\n",
       "</span>"
      ]
     },
     "execution_count": 51,
     "metadata": {},
     "output_type": "execute_result"
    },
    {
     "data": {
      "text/html": [
       "<span style=\"white-space:pre; font-family: monospace\">0 5 2\n",
       "</span>"
      ]
     },
     "execution_count": 51,
     "metadata": {},
     "output_type": "execute_result"
    },
    {
     "data": {
      "text/html": [
       "<span style=\"white-space:pre; font-family: monospace\">0 1 1 1 1 1 1 1 1\n",
       "5 1 1 1 0 0 0 0 0\n",
       "2 1 1 1 1 1 1 0 0\n",
       "</span>"
      ]
     },
     "execution_count": 51,
     "metadata": {},
     "output_type": "execute_result"
    }
   ],
   "source": [
    "trailling ← ⌽∧\\⌽' '=mat ⍝ Find trailling spaces, as per above\n",
    "⎕ ← spaced ← ' ',mat       ⍝ Add a space as the first char of each row\n",
    "⎕ ← keepers ← ~trailling   ⍝ Everything not a trailling space\n",
    "⎕ ← padding ← +/trailling  ⍝ Amount of leading padding to be inserted per row\n",
    "⎕ ← repl ← padding,keepers ⍝ Number of replications per character"
   ]
  },
  {
   "cell_type": "code",
   "execution_count": 52,
   "metadata": {},
   "outputs": [
    {
     "data": {
      "text/html": [
       "<span style=\"white-space:pre; font-family: monospace\">Longer P\n",
       "     APL\n",
       "  Parade\n",
       "</span>"
      ]
     },
     "execution_count": 52,
     "metadata": {},
     "output_type": "execute_result"
    }
   ],
   "source": [
    "repl/⍤1⊢spaced ⍝ Replicate along vectors"
   ]
  },
  {
   "cell_type": "code",
   "execution_count": 53,
   "metadata": {},
   "outputs": [],
   "source": [
    "]dinput\n",
    "Align ← {\n",
    "    shape ← ⍺,⍨(2=≡,⍵)/≢,⍵  ⍝ Shape, as specified\n",
    "    mat ← ⍺↑⍤1⊢↑,⍵          ⍝ Truncate rank 1\n",
    "    trailling ← ⌽∧\\⌽' '=mat ⍝ Find trailling spaces\n",
    "    spaced ← ' ',mat        ⍝ Add a space as the first char of each row\n",
    "    keepers ← ~trailling    ⍝ Everything not a trailling space\n",
    "    padding ← +/trailling   ⍝ Amount of leading padding to be inserted per row\n",
    "    repl ← padding,keepers  ⍝ Number of replications per character\n",
    "    repl/⍤1⊢spaced          ⍝ Replicate rank 1\n",
    "}"
   ]
  },
  {
   "cell_type": "code",
   "execution_count": 54,
   "metadata": {},
   "outputs": [
    {
     "data": {
      "text/html": [
       "<span style=\"white-space:pre; font-family: monospace\">     ⍋\n",
       "</span>"
      ]
     },
     "execution_count": 54,
     "metadata": {},
     "output_type": "execute_result"
    },
    {
     "data": {
      "text/html": [
       "<span style=\"white-space:pre; font-family: monospace\">    Parade\n",
       "</span>"
      ]
     },
     "execution_count": 54,
     "metadata": {},
     "output_type": "execute_result"
    },
    {
     "data": {
      "text/html": [
       "<span style=\"white-space:pre; font-family: monospace\">Longer P\n",
       "     APL\n",
       "  Parade\n",
       "</span>"
      ]
     },
     "execution_count": 54,
     "metadata": {},
     "output_type": "execute_result"
    },
    {
     "data": {
      "text/html": [
       "<span style=\"white-space:pre; font-family: monospace\">       K\n",
       "       E\n",
       " Iverson\n",
       "</span>"
      ]
     },
     "execution_count": 54,
     "metadata": {},
     "output_type": "execute_result"
    }
   ],
   "source": [
    "6 Align '⍋'\n",
    "10 Align 'Parade'\n",
    "8 Align 'Longer Phrase' 'APL' 'Parade'\n",
    "8 Align 'K' 'E' 'Iverson'"
   ]
  },
  {
   "cell_type": "code",
   "execution_count": 55,
   "metadata": {},
   "outputs": [
    {
     "data": {
      "text/html": [
       "<span style=\"white-space:pre; font-family: monospace\">┌─┬─┬────┬─┬────┬────┬─┬─┬────┬────┬──┬────┬──┬──┬────────┬──┐\n",
       "│1│2│Fizz│4│Buzz│Fizz│7│8│Fizz│Buzz│11│Fizz│13│14│FizzBuzz│16│\n",
       "└─┴─┴────┴─┴────┴────┴─┴─┴────┴────┴──┴────┴──┴──┴────────┴──┘\n",
       "</span>"
      ]
     },
     "execution_count": 55,
     "metadata": {},
     "output_type": "execute_result"
    }
   ],
   "source": [
    "{∊(3↑(0=3 5|⍵)∪1)/'Fizz' 'Buzz'⍵}¨1+⍳16"
   ]
  },
  {
   "cell_type": "code",
   "execution_count": 56,
   "metadata": {},
   "outputs": [
    {
     "data": {
      "text/html": [
       "<span style=\"white-space:pre; font-family: monospace\">0 0 1 0 0 1 0 0 1 0 0 1 0 0 1 0\n",
       "0 0 0 0 1 0 0 0 0 1 0 0 0 0 1 0\n",
       "</span>"
      ]
     },
     "execution_count": 56,
     "metadata": {},
     "output_type": "execute_result"
    }
   ],
   "source": [
    "data ← 1+⍳16\n",
    "⎕ ← fizzbuzz ← 0=3 5∘.|data"
   ]
  },
  {
   "cell_type": "code",
   "execution_count": 57,
   "metadata": {},
   "outputs": [
    {
     "data": {
      "text/html": [
       "<span style=\"white-space:pre; font-family: monospace\">1 1 0 1 0 0 1 1 0 0 1 0 1 1 0 1\n",
       "0 0 1 0 0 1 0 0 1 0 0 1 0 0 1 0\n",
       "0 0 0 0 1 0 0 0 0 1 0 0 0 0 1 0\n",
       "</span>"
      ]
     },
     "execution_count": 57,
     "metadata": {},
     "output_type": "execute_result"
    }
   ],
   "source": [
    "⎕ ← mat ← (⍱⌿⍪⊢)fizzbuzz  ⍝ Tacit for {(⍱⌿⍵)⍪⍵} -- column-wise logical NOR as the new first row"
   ]
  },
  {
   "cell_type": "code",
   "execution_count": 58,
   "metadata": {},
   "outputs": [
    {
     "data": {
      "text/html": [
       "<span style=\"white-space:pre; font-family: monospace\">1 2 0 4 0 0 7 8 0 0 11 0 13 14 0 16\n",
       "0 0 1 0 0 1 0 0 1 0  0 1  0  0 1  0\n",
       "0 0 0 0 1 0 0 0 0 1  0 0  0  0 1  0\n",
       "</span>"
      ]
     },
     "execution_count": 58,
     "metadata": {},
     "output_type": "execute_result"
    }
   ],
   "source": [
    "mat×@0⍨←data ⍝ Check that out! Modified assignment\n",
    "mat"
   ]
  },
  {
   "cell_type": "code",
   "execution_count": 59,
   "metadata": {},
   "outputs": [
    {
     "data": {
      "text/html": [
       "<span style=\"white-space:pre; font-family: monospace\">┌─┬─┬────┬─┬────┬────┬─┬─┬────┬────┬──┬────┬──┬──┬────┬──┐\n",
       "│1│2│0   │4│0   │0   │7│8│0   │0   │11│0   │13│14│0   │16│\n",
       "├─┼─┼────┼─┼────┼────┼─┼─┼────┼────┼──┼────┼──┼──┼────┼──┤\n",
       "│0│0│fizz│0│0   │fizz│0│0│fizz│0   │0 │fizz│0 │0 │fizz│0 │\n",
       "├─┼─┼────┼─┼────┼────┼─┼─┼────┼────┼──┼────┼──┼──┼────┼──┤\n",
       "│0│0│0   │0│buzz│0   │0│0│0   │buzz│0 │0   │0 │0 │buzz│0 │\n",
       "└─┴─┴────┴─┴────┴────┴─┴─┴────┴────┴──┴────┴──┴──┴────┴──┘\n",
       "</span>"
      ]
     },
     "execution_count": 59,
     "metadata": {},
     "output_type": "execute_result"
    }
   ],
   "source": [
    "mat[↓1,⍤0 0⊢⍸1⌷mat]←⊂'fizz'\n",
    "mat[↓2,⍤0 0⊢⍸2⌷mat]←⊂'buzz'\n",
    "mat"
   ]
  },
  {
   "cell_type": "code",
   "execution_count": 60,
   "metadata": {},
   "outputs": [
    {
     "data": {
      "text/html": [
       "<span style=\"white-space:pre; font-family: monospace\">┌─┬─┬────┬─┬────┬────┬─┬─┬────┬────┬──┬────┬──┬──┬────────┬──┐\n",
       "│1│2│fizz│4│buzz│fizz│7│8│fizz│buzz│11│fizz│13│14│fizzbuzz│16│\n",
       "└─┴─┴────┴─┴────┴────┴─┴─┴────┴────┴──┴────┴──┴──┴────────┴──┘\n",
       "</span>"
      ]
     },
     "execution_count": 60,
     "metadata": {},
     "output_type": "execute_result"
    }
   ],
   "source": [
    "0~⍨¨,⌿mat"
   ]
  },
  {
   "cell_type": "code",
   "execution_count": null,
   "metadata": {},
   "outputs": [],
   "source": []
  }
 ],
 "metadata": {
  "kernelspec": {
   "display_name": "Dyalog APL",
   "language": "apl",
   "name": "dyalog-kernel"
  },
  "language_info": {
   "file_extension": ".apl",
   "mimetype": "text/apl",
   "name": "APL"
  }
 },
 "nbformat": 4,
 "nbformat_minor": 4
}