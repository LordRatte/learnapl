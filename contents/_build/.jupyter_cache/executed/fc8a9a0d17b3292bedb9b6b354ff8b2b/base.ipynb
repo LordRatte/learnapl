{
 "cells": [
  {
   "cell_type": "code",
   "execution_count": 1,
   "metadata": {},
   "outputs": [
    {
     "data": {
      "text/html": [
       "<span style=\"white-space:pre; font-family: monospace\">done\n",
       "\n",
       "Rebuilding user command cache... done\n",
       "</span>"
      ]
     },
     "execution_count": 1,
     "metadata": {},
     "output_type": "execute_result"
    },
    {
     "name": "stderr",
     "output_type": "stream",
     "text": [
      "INDEX ERROR\n",
      "      50⊃vec      ⍝ INDEX ERROR\n",
      "        ∧\n"
     ]
    }
   ],
   "source": [
    "vec ← ⍳10\n",
    "50⊃vec      ⍝ INDEX ERROR"
   ]
  },
  {
   "cell_type": "code",
   "execution_count": 2,
   "metadata": {},
   "outputs": [],
   "source": [
    "]dinput\n",
    "pick50 ← {\n",
    "    3::'out of range' ⍝ Error guard, catching INDEX ERROR\n",
    "    50⊃⍵\n",
    "}"
   ]
  },
  {
   "cell_type": "code",
   "execution_count": 3,
   "metadata": {},
   "outputs": [
    {
     "data": {
      "text/html": [
       "<span style=\"white-space:pre; font-family: monospace\">out of range\n",
       "</span>"
      ]
     },
     "execution_count": 3,
     "metadata": {},
     "output_type": "execute_result"
    }
   ],
   "source": [
    "pick50 ⍳10"
   ]
  },
  {
   "cell_type": "code",
   "execution_count": 4,
   "metadata": {},
   "outputs": [],
   "source": [
    "]dinput\n",
    "f←{\n",
    "    nums←1 ⍺\n",
    "    0=⍵:nums\n",
    "    nums×÷⍵\n",
    "}"
   ]
  },
  {
   "cell_type": "code",
   "execution_count": 5,
   "metadata": {},
   "outputs": [
    {
     "data": {
      "text/html": [
       "<span style=\"white-space:pre; font-family: monospace\">1 4\n",
       "</span>"
      ]
     },
     "execution_count": 5,
     "metadata": {},
     "output_type": "execute_result"
    },
    {
     "data": {
      "text/html": [
       "<span style=\"white-space:pre; font-family: monospace\">0.5 2\n",
       "</span>"
      ]
     },
     "execution_count": 5,
     "metadata": {},
     "output_type": "execute_result"
    }
   ],
   "source": [
    "4 f 0\n",
    "4 f 2"
   ]
  },
  {
   "cell_type": "code",
   "execution_count": 6,
   "metadata": {},
   "outputs": [],
   "source": [
    "]dinput\n",
    "fbug←{ ⍝ Can you spot the bug?\n",
    "    11::nums\n",
    "    nums←1 ⍺\n",
    "    nums×÷⍵\n",
    "}"
   ]
  },
  {
   "cell_type": "code",
   "execution_count": 7,
   "metadata": {
    "tags": [
     "hide-output"
    ]
   },
   "outputs": [
    {
     "name": "stderr",
     "output_type": "stream",
     "text": [
      "VALUE ERROR: Undefined name: nums\n",
      "fbug[1] 11::nums\n",
      "            ∧\n"
     ]
    }
   ],
   "source": [
    "4 fbug 0"
   ]
  },
  {
   "cell_type": "code",
   "execution_count": 8,
   "metadata": {},
   "outputs": [],
   "source": [
    "]dinput\n",
    "fnew←{ ⍝ Now correct\n",
    "    nums←1 ⍺\n",
    "    11::nums\n",
    "    nums×÷⍵\n",
    "}"
   ]
  },
  {
   "cell_type": "code",
   "execution_count": 9,
   "metadata": {},
   "outputs": [
    {
     "data": {
      "text/html": [
       "<span style=\"white-space:pre; font-family: monospace\">1 4\n",
       "</span>"
      ]
     },
     "execution_count": 9,
     "metadata": {},
     "output_type": "execute_result"
    }
   ],
   "source": [
    "4 fnew 0"
   ]
  },
  {
   "cell_type": "code",
   "execution_count": 10,
   "metadata": {},
   "outputs": [],
   "source": [
    "]dinput\n",
    "g←{ \n",
    "    3::'out of range' ⍝ Error guard, catching INDEX ERROR\n",
    "    h ⍺⊃⍵ ⍝ No longer a tail call, due to precense of error guard\n",
    "}"
   ]
  },
  {
   "cell_type": "code",
   "execution_count": 11,
   "metadata": {},
   "outputs": [],
   "source": [
    "]dinput\n",
    "g←{ \n",
    "    val ← ⍺ {3::'out of range' ⋄ ⍺⊃⍵} ⍵\n",
    "    h val ⍝ Tail call\n",
    "}"
   ]
  },
  {
   "cell_type": "code",
   "execution_count": 12,
   "metadata": {},
   "outputs": [
    {
     "data": {
      "text/html": [
       "<span style=\"white-space:pre; font-family: monospace\">┌───────┬────────────┬───────────┬──────────┬────────────┬───────────┬─────────\n",
       "│WS FULL│SYNTAX ERROR│INDEX ERROR│RANK ERROR│LENGTH ERROR│VALUE ERROR│FORMAT ER\n",
       "└───────┴────────────┴───────────┴──────────┴────────────┴───────────┴─────────\n",
       "\n",
       "      ───┬───────┬───────┬───────────┬────────────┬──────────┬────────────┬────\n",
       "      ROR│ERROR 8│ERROR 9│LIMIT ERROR│DOMAIN ERROR│HOLD ERROR│OPTION ERROR│ERRO\n",
       "      ───┴───────┴───────┴───────────┴────────────┴──────────┴────────────┴────\n",
       "\n",
       "      ────┬────────┬───────────┬────────────┬──────────────┬─────────────────┬─\n",
       "      R 14│LST FULL│NONCE ERROR│ACCESS ERROR│FILE TIE ERROR│FILE ACCESS ERROR│F\n",
       "      ────┴────────┴───────────┴────────────┴──────────────┴─────────────────┴─\n",
       "\n",
       "      ───────────────┬─────────┬───────────────┬────────────┬─────────┬────────\n",
       "      ILE INDEX ERROR│FILE FULL│FILE NAME ERROR│FILE DAMAGED│FILE TIED│FILE TIE\n",
       "      ───────────────┴─────────┴───────────────┴────────────┴─────────┴────────\n",
       "\n",
       "      ──────────┬─────────────────┬────────┬─────────────────────────┬────────┬\n",
       "      D REMOTELY│FILE SYSTEM ERROR│ERROR 27│FILE SYSTEM NOT AVAILABLE│ERROR 29│\n",
       "      ──────────┴─────────────────┴────────┴─────────────────────────┴────────┴\n",
       "\n",
       "      ────────────────────────┬──────────────────────┬───────────────────────┬─\n",
       "      FILE SYSTEM TIES USED UP│FILE TIE QUOTA USED UP│FILE NAME QUOTA USED UP│E\n",
       "      ────────────────────────┴──────────────────────┴───────────────────────┴─\n",
       "\n",
       "      ───────┬────────────────────┬───────────────────────────────────┬────────\n",
       "      RROR 33│FILE SYSTEM NO SPACE│FILE ACCESS ERROR - CONVERTING FILE│INCOMPAT\n",
       "      ───────┴────────────────────┴───────────────────────────────────┴────────\n",
       "\n",
       "      ──────────┬────────┬──────────────────────┬────────┬────────┬────────┬───\n",
       "      IBLE ARRAY│ERROR 37│FILE COMPONENT DAMAGED│ERROR 39│ERROR 40│ERROR 41│ERR\n",
       "      ──────────┴────────┴──────────────────────┴────────┴────────┴────────┴───\n",
       "\n",
       "      ─────┬────────┬────────┬────────┬────────┬────────┬────────┬────────┬────\n",
       "      OR 42│ERROR 43│ERROR 44│ERROR 45│ERROR 46│ERROR 47│ERROR 48│ERROR 49│ERRO\n",
       "      ─────┴────────┴────────┴────────┴────────┴────────┴────────┴────────┴────\n",
       "\n",
       "      ────┬────────┬─────────────────────────┬───────────────────────────────┬─\n",
       "      R 50│ERROR 51│FIELD CONTENTS RANK ERROR│FIELD CONTENTS TOO MANY COLUMNS│F\n",
       "      ────┴────────┴─────────────────────────┴───────────────────────────────┴─\n",
       "\n",
       "      ───────────────────┬────────────────┬────────────────────────────┬───────\n",
       "      IELD POSITION ERROR│FIELD SIZE ERROR│FIELD CONTENTS/TYPE MISMATCH│FIELD T\n",
       "      ───────────────────┴────────────────┴────────────────────────────┴───────\n",
       "\n",
       "      ──────────────────────────┬───────────────────────────┬──────────────────\n",
       "      YPE/BEHAVIOUR UNRECOGNISED│FIELD ATTRIBUTES RANK ERROR│FIELD ATTRIBUTES L\n",
       "      ──────────────────────────┴───────────────────────────┴──────────────────\n",
       "\n",
       "      ───────────┬─────────────────┬─────────────────────┬───────────────────┬─\n",
       "      ENGTH ERROR│FULL-SCREEN ERROR│KEY CODE UNRECOGNISED│KEY CODE RANK ERROR│K\n",
       "      ───────────┴─────────────────┴─────────────────────┴───────────────────┴─\n",
       "\n",
       "      ──────────────────┬────────┬────────┬────────┬────────┬────────┬────────┬\n",
       "      EY CODE TYPE ERROR│ERROR 64│ERROR 65│ERROR 66│ERROR 67│ERROR 68│ERROR 69│\n",
       "      ──────────────────┴────────┴────────┴────────┴────────┴────────┴────────┴\n",
       "\n",
       "      ────────────────────────┬─────────────────┬────────┬──────────┬────────┬─\n",
       "      FORMAT FILE ACCESS ERROR│FORMAT FILE ERROR│NO PIPES│LOST SLAVE│ERROR 74│E\n",
       "      ────────────────────────┴─────────────────┴────────┴──────────┴────────┴─\n",
       "\n",
       "      ───────┬──────────────────────┬────────┬────────┬────────┬────────┬──────\n",
       "      RROR 75│UNABLE TO FORK PROCESS│ERROR 77│ERROR 78│ERROR 79│ERROR 80│ERROR \n",
       "      ───────┴──────────────────────┴────────┴────────┴────────┴────────┴──────\n",
       "\n",
       "      ──┬────────┬────────┬──────────┬────────┬────────────┬────────┬────────┬─\n",
       "      81│ERROR 82│ERROR 83│TRAP ERROR│ERROR 85│FUTURE ERROR│ERROR 87│ERROR 88│E\n",
       "      ──┴────────┴────────┴──────────┴────────┴────────────┴────────┴────────┴─\n",
       "\n",
       "      ───────┬─────────┬──────────────────────┬─────────────────┬──────────────\n",
       "      RROR 89│EXCEPTION│EXTERNAL DLL EXCEPTION│TRANSLATION ERROR│UNACCEPTABLE C\n",
       "      ───────┴─────────┴──────────────────────┴─────────────────┴──────────────\n",
       "\n",
       "      ────────┬──────────────────────────────────────┬────────┬────────┬───────\n",
       "      HARACTER│CHARACTER NOT REPRESENTABLE IN CLASSIC│ERROR 95│ERROR 96│ERROR 9\n",
       "      ────────┴──────────────────────────────────────┴────────┴────────┴───────\n",
       "\n",
       "      ─┬────────────┬──────────────┐\n",
       "      7│AFFIRM ERROR│INTERNAL ERROR│\n",
       "      ─┴────────────┴──────────────┘\n",
       "</span>"
      ]
     },
     "execution_count": 12,
     "metadata": {},
     "output_type": "execute_result"
    }
   ],
   "source": [
    "⎕EM⍳99"
   ]
  },
  {
   "cell_type": "code",
   "execution_count": 13,
   "metadata": {},
   "outputs": [],
   "source": [
    "]dinput\n",
    "g←{ \n",
    "    3::'handle index error'\n",
    "    4::'handle rank error'\n",
    "    11::'handle domain error'\n",
    "    ⍝ error-prone function body here\n",
    "}"
   ]
  },
  {
   "cell_type": "code",
   "execution_count": 14,
   "metadata": {},
   "outputs": [],
   "source": [
    "]dinput\n",
    "g←{ \n",
    "    3 4 11::'it all went pear-shaped in some way'\n",
    "    ⍝ error-prone function body here\n",
    "}"
   ]
  },
  {
   "cell_type": "code",
   "execution_count": 15,
   "metadata": {},
   "outputs": [],
   "source": [
    "assert←{⍺←'assertion failure' ⋄ 0∊⍵:⍺ ⎕SIGNAL 8 ⋄ shy←0}"
   ]
  },
  {
   "cell_type": "code",
   "execution_count": 16,
   "metadata": {},
   "outputs": [
    {
     "name": "stderr",
     "output_type": "stream",
     "text": [
      "assertion failure\n",
      "      assert 0=1\n",
      "      ∧\n"
     ]
    }
   ],
   "source": [
    "assert 0=1"
   ]
  },
  {
   "cell_type": "code",
   "execution_count": 17,
   "metadata": {},
   "outputs": [
    {
     "name": "stderr",
     "output_type": "stream",
     "text": [
      "WS FULL\n",
      "      ⎕SIGNAL 1\n",
      "      ∧\n"
     ]
    }
   ],
   "source": [
    "⎕SIGNAL 1"
   ]
  },
  {
   "cell_type": "code",
   "execution_count": 18,
   "metadata": {},
   "outputs": [
    {
     "name": "stderr",
     "output_type": "stream",
     "text": [
      "ERROR 8\n",
      "      ⎕SIGNAL 8\n",
      "      ∧\n"
     ]
    }
   ],
   "source": [
    "⎕SIGNAL 8"
   ]
  },
  {
   "cell_type": "code",
   "execution_count": null,
   "metadata": {},
   "outputs": [],
   "source": []
  }
 ],
 "metadata": {
  "celltoolbar": "Tags",
  "kernelspec": {
   "display_name": "Dyalog APL",
   "language": "apl",
   "name": "dyalog-kernel"
  },
  "language_info": {
   "file_extension": ".apl",
   "mimetype": "text/apl",
   "name": "APL"
  }
 },
 "nbformat": 4,
 "nbformat_minor": 4
}