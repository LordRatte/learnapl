{
 "cells": [
  {
   "cell_type": "code",
   "execution_count": 1,
   "metadata": {},
   "outputs": [
    {
     "data": {
      "text/html": [
       "<span style=\"white-space:pre; font-family: monospace\">\n",
       "Rebuilding user command cache... done\n",
       "</span>"
      ]
     },
     "execution_count": 1,
     "metadata": {},
     "output_type": "execute_result"
    }
   ],
   "source": [
    "⎕IO ← 0\n",
    "{}⎕SE.UCMD'box on -s=max -t=tree -f=on'\n",
    "{}⎕SE.UCMD'rows on'"
   ]
  },
  {
   "cell_type": "code",
   "execution_count": 2,
   "metadata": {},
   "outputs": [
    {
     "data": {
      "text/html": [
       "<span style=\"white-space:pre; font-family: monospace\">┌→────────────────────────────────────────────────────────────────────────┐\n",
       "│ ┌→──────────────┐ ┌→──────────────┐ ┌→──────────────┐ ┌→──────────────┐ │\n",
       "│ │1 8 6 9 5 9 5 9│ │6 3 4 2 8 1 8 2│ │8 0 7 5 5 1 2 3│ │6 5 2 9 8 2 6 1│ │\n",
       "│ └───────────────┘ └───────────────┘ └───────────────┘ └───────────────┘ │\n",
       "└∊────────────────────────────────────────────────────────────────────────┘\n",
       "</span>"
      ]
     },
     "execution_count": 2,
     "metadata": {},
     "output_type": "execute_result"
    }
   ],
   "source": [
    "⊃⎕NGET'/Users/stefan/work/dyalog/file.txt'1"
   ]
  },
  {
   "cell_type": "code",
   "execution_count": 3,
   "metadata": {},
   "outputs": [
    {
     "data": {
      "text/html": [
       "<span style=\"white-space:pre; font-family: monospace\">┌→───────────────────────────────────────────────────────────────────────────────────────────────┐\n",
       "│ ┌→────────────────────────────────────────────────────────────────────────┐ ┌→──────────┐ ┌→─┐ │\n",
       "│ │ ┌→──────────────┐ ┌→──────────────┐ ┌→──────────────┐ ┌→──────────────┐ │ │UTF-8-NOBOM│ │10│ │\n",
       "│ │ │1 8 6 9 5 9 5 9│ │6 3 4 2 8 1 8 2│ │8 0 7 5 5 1 2 3│ │6 5 2 9 8 2 6 1│ │ └───────────┘ └~─┘ │\n",
       "│ │ └───────────────┘ └───────────────┘ └───────────────┘ └───────────────┘ │                    │\n",
       "│ └∊────────────────────────────────────────────────────────────────────────┘                    │\n",
       "└∊───────────────────────────────────────────────────────────────────────────────────────────────┘\n",
       "</span>"
      ]
     },
     "execution_count": 3,
     "metadata": {},
     "output_type": "execute_result"
    }
   ],
   "source": [
    "⎕NGET'/Users/stefan/work/dyalog/file.txt'1"
   ]
  },
  {
   "cell_type": "code",
   "execution_count": 4,
   "metadata": {},
   "outputs": [
    {
     "data": {
      "text/html": [
       "<span style=\"white-space:pre; font-family: monospace\">┌→──────────────────────────────────────────────────────────────────────────────────┐\n",
       "│ ┌→───────────────────────────────────────────────────────────┐ ┌→──────────┐ ┌→─┐ │\n",
       "│ │1 8 6 9 5 9 5 9                                             │ │UTF-8-NOBOM│ │10│ │\n",
       "│ │               6 3 4 2 8 1 8 2                              │ └───────────┘ └~─┘ │\n",
       "│ │                              8 0 7 5 5 1 2 3               │                    │\n",
       "│ │                                             6 5 2 9 8 2 6 1│                    │\n",
       "│ │                                                            │                    │\n",
       "│ └────────────────────────────────────────────────────────────┘                    │\n",
       "└∊──────────────────────────────────────────────────────────────────────────────────┘\n",
       "</span>"
      ]
     },
     "execution_count": 4,
     "metadata": {},
     "output_type": "execute_result"
    }
   ],
   "source": [
    "⎕NGET'/Users/stefan/work/dyalog/file.txt'"
   ]
  },
  {
   "cell_type": "code",
   "execution_count": 5,
   "metadata": {},
   "outputs": [
    {
     "data": {
      "text/html": [
       "<span style=\"white-space:pre; font-family: monospace\">┌→─┐\n",
       "│64│\n",
       "└~─┘\n",
       "</span>"
      ]
     },
     "execution_count": 5,
     "metadata": {},
     "output_type": "execute_result"
    }
   ],
   "source": [
    "⍴⊃⎕NGET'/Users/stefan/work/dyalog/file.txt'"
   ]
  },
  {
   "cell_type": "code",
   "execution_count": 6,
   "metadata": {},
   "outputs": [
    {
     "data": {
      "text/html": [
       "<span style=\"white-space:pre; font-family: monospace\">┌→──────────────┐\n",
       "↓1 8 6 9 5 9 5 9│\n",
       "│6 3 4 2 8 1 8 2│\n",
       "│8 0 7 5 5 1 2 3│\n",
       "│6 5 2 9 8 2 6 1│\n",
       "└~──────────────┘\n",
       "</span>"
      ]
     },
     "execution_count": 6,
     "metadata": {},
     "output_type": "execute_result"
    }
   ],
   "source": [
    "⍎⍤1⊢↑⊃⎕NGET'/Users/stefan/work/dyalog/file.txt'1 ⍝ Note health warning below!"
   ]
  },
  {
   "cell_type": "code",
   "execution_count": 7,
   "metadata": {},
   "outputs": [
    {
     "data": {
      "text/html": [
       "<span style=\"white-space:pre; font-family: monospace\">┌→──────────────┐\n",
       "│1 8 6 7 5 9 5 9│\n",
       "└~──────────────┘\n",
       "</span>"
      ]
     },
     "execution_count": 7,
     "metadata": {},
     "output_type": "execute_result"
    }
   ],
   "source": [
    "⍎ '1 8 6 7 5 9 5 9'"
   ]
  },
  {
   "cell_type": "code",
   "execution_count": 8,
   "metadata": {},
   "outputs": [
    {
     "data": {
      "text/html": [
       "<span style=\"white-space:pre; font-family: monospace\">┌→──────────────────────────────────────────────────────────────────────────────────────────────────────────────────────────────────┐\n",
       "│ ┌→──────────────┐ ┌→───────────────────────────┐ ┌→─────────────────────┐ ┌→────────────────────┐ ┌→────────────┐ ┌→────────────┐ │\n",
       "│ │3-6 s: ssdsssss│ │17-19 f: cnffsfffzhfnsffttms│ │8-11 c: tzvtwncnwvwttp│ │8-10 r: rwrrtrvttrrrr│ │1-2 p: zhpjph│ │4-6 l: pldnxv│ │\n",
       "│ └───────────────┘ └────────────────────────────┘ └──────────────────────┘ └─────────────────────┘ └─────────────┘ └─────────────┘ │\n",
       "└∊──────────────────────────────────────────────────────────────────────────────────────────────────────────────────────────────────┘\n",
       "</span>"
      ]
     },
     "execution_count": 8,
     "metadata": {},
     "output_type": "execute_result"
    }
   ],
   "source": [
    "⊢data←'3-6 s: ssdsssss' '17-19 f: cnffsfffzhfnsffttms' '8-11 c: tzvtwncnwvwttp' '8-10 r: rwrrtrvttrrrr' '1-2 p: zhpjph' '4-6 l: pldnxv'"
   ]
  },
  {
   "cell_type": "code",
   "execution_count": 9,
   "metadata": {},
   "outputs": [
    {
     "data": {
      "text/html": [
       "<span style=\"white-space:pre; font-family: monospace\">┌→────────────────────────────────┐\n",
       "↓       ┌→┐ ┌→───────┐            │\n",
       "│ 3  6  │s│ │ssdsssss│            │\n",
       "│       └─┘ └────────┘            │\n",
       "│       ┌→┐ ┌→──────────────────┐ │\n",
       "│ 17 19 │f│ │cnffsfffzhfnsffttms│ │\n",
       "│       └─┘ └───────────────────┘ │\n",
       "│       ┌→┐ ┌→─────────────┐      │\n",
       "│ 8  11 │c│ │tzvtwncnwvwttp│      │\n",
       "│       └─┘ └──────────────┘      │\n",
       "│       ┌→┐ ┌→────────────┐       │\n",
       "│ 8  10 │r│ │rwrrtrvttrrrr│       │\n",
       "│       └─┘ └─────────────┘       │\n",
       "│       ┌→┐ ┌→─────┐              │\n",
       "│ 1  2  │p│ │zhpjph│              │\n",
       "│       └─┘ └──────┘              │\n",
       "│       ┌→┐ ┌→─────┐              │\n",
       "│ 4  6  │l│ │pldnxv│              │\n",
       "│       └─┘ └──────┘              │\n",
       "└∊────────────────────────────────┘\n",
       "</span>"
      ]
     },
     "execution_count": 9,
     "metadata": {},
     "output_type": "execute_result"
    }
   ],
   "source": [
    "⎕CSV('\\W+'⎕R','⊢data)''4"
   ]
  },
  {
   "cell_type": "code",
   "execution_count": 10,
   "metadata": {},
   "outputs": [
    {
     "data": {
      "text/html": [
       "<span style=\"white-space:pre; font-family: monospace\">┌→─────────────────────────────────────────────────────────────────────────────────────────────┐\n",
       "│{\"key\": 1, \"list\": [1, 2, 3, {\"colour\": \"red\", \"shape\": \"oblong\", \"number\": 5}, [98, 43, 77]]}│\n",
       "└──────────────────────────────────────────────────────────────────────────────────────────────┘\n",
       "</span>"
      ]
     },
     "execution_count": 10,
     "metadata": {},
     "output_type": "execute_result"
    }
   ],
   "source": [
    "⊢json ← '{\"key\": 1, \"list\": [1, 2, 3, {\"colour\": \"red\", \"shape\": \"oblong\", \"number\": 5}, [98, 43, 77]]}'"
   ]
  },
  {
   "cell_type": "code",
   "execution_count": 11,
   "metadata": {},
   "outputs": [
    {
     "data": {
      "text/html": [
       "<span style=\"white-space:pre; font-family: monospace\">               \n",
       "#.[JSON object]\n",
       "               \n",
       "</span>"
      ]
     },
     "execution_count": 11,
     "metadata": {},
     "output_type": "execute_result"
    }
   ],
   "source": [
    "⊢data ← ⎕JSON json"
   ]
  },
  {
   "cell_type": "code",
   "execution_count": 12,
   "metadata": {},
   "outputs": [
    {
     "data": {
      "text/html": [
       "<span style=\"white-space:pre; font-family: monospace\"> \n",
       "1\n",
       " \n",
       "</span>"
      ]
     },
     "execution_count": 12,
     "metadata": {},
     "output_type": "execute_result"
    },
    {
     "data": {
      "text/html": [
       "<span style=\"white-space:pre; font-family: monospace\">┌→───────────────────────────────────────────────┐\n",
       "│                                     ┌→───────┐ │\n",
       "│ 1 2 3 #.[JSON object].[JSON object] │98 43 77│ │\n",
       "│                                     └~───────┘ │\n",
       "└∊───────────────────────────────────────────────┘\n",
       "</span>"
      ]
     },
     "execution_count": 12,
     "metadata": {},
     "output_type": "execute_result"
    },
    {
     "data": {
      "text/html": [
       "<span style=\"white-space:pre; font-family: monospace\">┌→─────┐\n",
       "│oblong│\n",
       "└──────┘\n",
       "</span>"
      ]
     },
     "execution_count": 12,
     "metadata": {},
     "output_type": "execute_result"
    }
   ],
   "source": [
    "data.key\n",
    "data.list\n",
    "data.list[3].shape"
   ]
  },
  {
   "cell_type": "code",
   "execution_count": 13,
   "metadata": {},
   "outputs": [
    {
     "data": {
      "text/html": [
       "<span style=\"white-space:pre; font-family: monospace\">┌→─────────────┐\n",
       "│ ┌→──┐ ┌→───┐ │\n",
       "│ │key│ │list│ │\n",
       "│ └───┘ └────┘ │\n",
       "└∊─────────────┘\n",
       "</span>"
      ]
     },
     "execution_count": 13,
     "metadata": {},
     "output_type": "execute_result"
    }
   ],
   "source": [
    "data.⎕NL¯2"
   ]
  },
  {
   "cell_type": "code",
   "execution_count": 14,
   "metadata": {},
   "outputs": [
    {
     "data": {
      "text/html": [
       "<span style=\"white-space:pre; font-family: monospace\">┌→─────────────────────────────────────────────────────┐\n",
       "│   ┌→───────────────────────────────────────────────┐ │\n",
       "│ 1 │                                     ┌→───────┐ │ │\n",
       "│   │ 1 2 3 #.[JSON object].[JSON object] │98 43 77│ │ │\n",
       "│   │                                     └~───────┘ │ │\n",
       "│   └∊───────────────────────────────────────────────┘ │\n",
       "└∊─────────────────────────────────────────────────────┘\n",
       "</span>"
      ]
     },
     "execution_count": 14,
     "metadata": {},
     "output_type": "execute_result"
    }
   ],
   "source": [
    "data.(⍎¨⎕NL¯2)"
   ]
  },
  {
   "cell_type": "code",
   "execution_count": 15,
   "metadata": {},
   "outputs": [],
   "source": [
    "]dinput\n",
    "Values←{\n",
    "    keys ← ⍵.⎕NL¯2\n",
    "    values ← keys {0=≢⍺:⍬⋄⍵.(⍎¨⍺)} ⍵ \n",
    "    0=≢⍵.⎕NL¯9:values       ⍝ No nested namespaces: done\n",
    "    values,∊∇¨⍵.(⍎¨⎕NL¯9)   ⍝ Also expand any namespaces we found as values\n",
    "}"
   ]
  },
  {
   "cell_type": "code",
   "execution_count": 16,
   "metadata": {},
   "outputs": [],
   "source": [
    "]dinput\n",
    "JSONSum ← {\n",
    "    {(1=2|⎕DR)⍵}⍵:⍵                    ⍝ Are we a number?\n",
    "    (⍕≡⊢)⍵:0                           ⍝ Are we a string?\n",
    "    {(326=⎕DR⍵)∧(0=≡)⍵} ⍵:+/∇Values ⍵  ⍝ Are we an object?\n",
    "    +/∊∇¨⍵                             ⍝ We're a list\n",
    "}"
   ]
  },
  {
   "cell_type": "code",
   "execution_count": 17,
   "metadata": {},
   "outputs": [
    {
     "data": {
      "text/html": [
       "<span style=\"white-space:pre; font-family: monospace\">   \n",
       "230\n",
       "   \n",
       "</span>"
      ]
     },
     "execution_count": 17,
     "metadata": {},
     "output_type": "execute_result"
    }
   ],
   "source": [
    "JSONSum data"
   ]
  },
  {
   "cell_type": "code",
   "execution_count": null,
   "metadata": {},
   "outputs": [],
   "source": []
  }
 ],
 "metadata": {
  "kernelspec": {
   "display_name": "Dyalog APL",
   "language": "apl",
   "name": "dyalog-kernel"
  },
  "language_info": {
   "file_extension": ".apl",
   "mimetype": "text/apl",
   "name": "APL"
  }
 },
 "nbformat": 4,
 "nbformat_minor": 4
}