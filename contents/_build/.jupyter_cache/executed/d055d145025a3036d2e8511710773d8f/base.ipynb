{
 "cells": [
  {
   "cell_type": "code",
   "execution_count": 1,
   "metadata": {},
   "outputs": [
    {
     "data": {
      "text/html": [
       "<span style=\"white-space:pre; font-family: monospace\">done\n",
       "\n",
       "Rebuilding user command cache... done\n",
       "</span>"
      ]
     },
     "execution_count": 1,
     "metadata": {},
     "output_type": "execute_result"
    }
   ],
   "source": [
    "⎕IO ← 0\n",
    "{}⎕SE.UCMD'box on -s=min -t=tree -f=on'\n",
    "{}⎕SE.UCMD'rows on'"
   ]
  },
  {
   "cell_type": "code",
   "execution_count": 2,
   "metadata": {},
   "outputs": [
    {
     "data": {
      "text/html": [
       "<span style=\"white-space:pre; font-family: monospace\">┌──────┬─────┐\n",
       "│┌────┐│0 2 4│\n",
       "││bill││     │\n",
       "│└────┘│     │\n",
       "├──────┼─────┤\n",
       "│┌───┐ │1 5  │\n",
       "││bob│ │     │\n",
       "│└───┘ │     │\n",
       "├──────┼─────┤\n",
       "│┌────┐│3 6  │\n",
       "││eric││     │\n",
       "│└────┘│     │\n",
       "├──────┼─────┤\n",
       "│┌───┐ │7    │\n",
       "││sue│ │     │\n",
       "│└───┘ │     │\n",
       "└──────┴─────┘\n",
       "</span>"
      ]
     },
     "execution_count": 2,
     "metadata": {},
     "output_type": "execute_result"
    }
   ],
   "source": [
    "{⍺⍵}⌸'bill' 'bob' 'bill' 'eric' 'bill' 'bob' 'eric' 'sue'"
   ]
  },
  {
   "cell_type": "code",
   "execution_count": 3,
   "metadata": {},
   "outputs": [
    {
     "data": {
      "text/html": [
       "<span style=\"white-space:pre; font-family: monospace\">┌──────┬─┐\n",
       "│┌────┐│3│\n",
       "││bill││ │\n",
       "│└────┘│ │\n",
       "├──────┼─┤\n",
       "│┌───┐ │2│\n",
       "││bob│ │ │\n",
       "│└───┘ │ │\n",
       "├──────┼─┤\n",
       "│┌────┐│2│\n",
       "││eric││ │\n",
       "│└────┘│ │\n",
       "├──────┼─┤\n",
       "│┌───┐ │1│\n",
       "││sue│ │ │\n",
       "│└───┘ │ │\n",
       "└──────┴─┘\n",
       "</span>"
      ]
     },
     "execution_count": 3,
     "metadata": {},
     "output_type": "execute_result"
    }
   ],
   "source": [
    "{⍺ (≢⍵)}⌸'bill' 'bob' 'bill' 'eric' 'bill' 'bob' 'eric' 'sue'"
   ]
  },
  {
   "cell_type": "code",
   "execution_count": 4,
   "metadata": {},
   "outputs": [
    {
     "data": {
      "text/html": [
       "<span style=\"white-space:pre; font-family: monospace\">┌──────┬─────┐\n",
       "│┌────┐│0 2 4│\n",
       "││bill││     │\n",
       "│└────┘│     │\n",
       "├──────┼─────┤\n",
       "│┌───┐ │1 5  │\n",
       "││bob│ │     │\n",
       "│└───┘ │     │\n",
       "├──────┼─────┤\n",
       "│┌────┐│3 6  │\n",
       "││eric││     │\n",
       "│└────┘│     │\n",
       "├──────┼─────┤\n",
       "│┌───┐ │7    │\n",
       "││sue│ │     │\n",
       "│└───┘ │     │\n",
       "└──────┴─────┘\n",
       "</span>"
      ]
     },
     "execution_count": 4,
     "metadata": {},
     "output_type": "execute_result"
    },
    {
     "data": {
      "text/html": [
       "<span style=\"white-space:pre; font-family: monospace\">┌──────┬─────┐\n",
       "│┌────┐│0 2 4│\n",
       "││bill││     │\n",
       "│└────┘│     │\n",
       "├──────┼─────┤\n",
       "│┌───┐ │1 5  │\n",
       "││bob│ │     │\n",
       "│└───┘ │     │\n",
       "├──────┼─────┤\n",
       "│┌────┐│3 6  │\n",
       "││eric││     │\n",
       "│└────┘│     │\n",
       "├──────┼─────┤\n",
       "│┌───┐ │7    │\n",
       "││sue│ │     │\n",
       "│└───┘ │     │\n",
       "└──────┴─────┘\n",
       "</span>"
      ]
     },
     "execution_count": 4,
     "metadata": {},
     "output_type": "execute_result"
    }
   ],
   "source": [
    "names ← 'bill' 'bob' 'bill' 'eric' 'bill' 'bob' 'eric' 'sue'\n",
    "{⍺⍵}⌸names\n",
    "names{⍺⍵}⌸⍳≢names"
   ]
  },
  {
   "cell_type": "code",
   "execution_count": 5,
   "metadata": {},
   "outputs": [],
   "source": [
    "scores←'London Irish,31-22' 'Wasps,17-49' 'Gloucester,26-31' 'Worcester Warriors,17-21' 'Bristol,48-3' 'Leicester Tigers,15-25' 'Harlequins,27-27' 'Newcastle Falcons,22-10' 'Exeter Chiefs,7-20' 'Northampton Saints,0-0' 'Bath,44-52' 'Sale,20-13' 'London Irish,0-0' 'Leicester Tigers,36-31' 'Wasps,34-5' 'Gloucester,19-22' 'Bristol,29-17' 'Worcester Warriors,0-0'"
   ]
  },
  {
   "cell_type": "code",
   "execution_count": 6,
   "metadata": {},
   "outputs": [],
   "source": [
    "table←⎕CSV ('-'⎕R','⊢scores)''4\n",
    "teams←⊣/table\n",
    "scores←table[;1 2]"
   ]
  },
  {
   "cell_type": "code",
   "execution_count": 7,
   "metadata": {},
   "outputs": [
    {
     "data": {
      "text/html": [
       "<span style=\"white-space:pre; font-family: monospace\">┌────────────────────┬─────┐\n",
       "│┌────────────┐      │31 22│\n",
       "││London Irish│      │ 0  0│\n",
       "│└────────────┘      │     │\n",
       "├────────────────────┼─────┤\n",
       "│┌─────┐             │17 49│\n",
       "││Wasps│             │34  5│\n",
       "│└─────┘             │     │\n",
       "├────────────────────┼─────┤\n",
       "│┌──────────┐        │26 31│\n",
       "││Gloucester│        │19 22│\n",
       "│└──────────┘        │     │\n",
       "├────────────────────┼─────┤\n",
       "│┌──────────────────┐│17 21│\n",
       "││Worcester Warriors││ 0  0│\n",
       "│└──────────────────┘│     │\n",
       "├────────────────────┼─────┤\n",
       "│┌───────┐           │48  3│\n",
       "││Bristol│           │29 17│\n",
       "│└───────┘           │     │\n",
       "├────────────────────┼─────┤\n",
       "│┌────────────────┐  │15 25│\n",
       "││Leicester Tigers│  │36 31│\n",
       "│└────────────────┘  │     │\n",
       "├────────────────────┼─────┤\n",
       "│┌──────────┐        │27 27│\n",
       "││Harlequins│        │     │\n",
       "│└──────────┘        │     │\n",
       "├────────────────────┼─────┤\n",
       "│┌─────────────────┐ │22 10│\n",
       "││Newcastle Falcons│ │     │\n",
       "│└─────────────────┘ │     │\n",
       "├────────────────────┼─────┤\n",
       "│┌─────────────┐     │7 20 │\n",
       "││Exeter Chiefs│     │     │\n",
       "│└─────────────┘     │     │\n",
       "├────────────────────┼─────┤\n",
       "│┌──────────────────┐│0 0  │\n",
       "││Northampton Saints││     │\n",
       "│└──────────────────┘│     │\n",
       "├────────────────────┼─────┤\n",
       "│┌────┐              │44 52│\n",
       "││Bath│              │     │\n",
       "│└────┘              │     │\n",
       "├────────────────────┼─────┤\n",
       "│┌────┐              │20 13│\n",
       "││Sale│              │     │\n",
       "│└────┘              │     │\n",
       "└────────────────────┴─────┘\n",
       "</span>"
      ]
     },
     "execution_count": 7,
     "metadata": {},
     "output_type": "execute_result"
    }
   ],
   "source": [
    "teams{⍺⍵}⌸scores"
   ]
  },
  {
   "cell_type": "code",
   "execution_count": 8,
   "metadata": {},
   "outputs": [
    {
     "data": {
      "text/html": [
       "<span style=\"white-space:pre; font-family: monospace\">is\n",
       "</span>"
      ]
     },
     "execution_count": 8,
     "metadata": {},
     "output_type": "execute_result"
    }
   ],
   "source": [
    "{(⊣/m)/⍨f=f⊃⍨⊃⍒f←⊢/m←,∘≢⌸⍵} 'Mississippi' ⍝ Most frequent"
   ]
  },
  {
   "cell_type": "code",
   "execution_count": 9,
   "metadata": {},
   "outputs": [
    {
     "data": {
      "text/html": [
       "<span style=\"white-space:pre; font-family: monospace\">M 1\n",
       "i 4\n",
       "s 4\n",
       "p 2\n",
       "</span>"
      ]
     },
     "execution_count": 9,
     "metadata": {},
     "output_type": "execute_result"
    }
   ],
   "source": [
    ",∘≢⌸ 'Mississippi'"
   ]
  },
  {
   "cell_type": "code",
   "execution_count": 10,
   "metadata": {},
   "outputs": [
    {
     "data": {
      "text/html": [
       "<span style=\"white-space:pre; font-family: monospace\">M 1\n",
       "i 4\n",
       "s 4\n",
       "p 2\n",
       "</span>"
      ]
     },
     "execution_count": 10,
     "metadata": {},
     "output_type": "execute_result"
    }
   ],
   "source": [
    "{⍺,≢⍵}⌸ 'Mississippi'"
   ]
  },
  {
   "cell_type": "code",
   "execution_count": 11,
   "metadata": {},
   "outputs": [
    {
     "data": {
      "text/html": [
       "<span style=\"white-space:pre; font-family: monospace\">1 4 4 2\n",
       "</span>"
      ]
     },
     "execution_count": 11,
     "metadata": {},
     "output_type": "execute_result"
    }
   ],
   "source": [
    "⊢/,∘≢⌸ 'Mississippi'"
   ]
  },
  {
   "cell_type": "code",
   "execution_count": 12,
   "metadata": {},
   "outputs": [
    {
     "data": {
      "text/html": [
       "<span style=\"white-space:pre; font-family: monospace\">1\n",
       "</span>"
      ]
     },
     "execution_count": 12,
     "metadata": {},
     "output_type": "execute_result"
    }
   ],
   "source": [
    "⊃⍒⊢/,∘≢⌸ 'Mississippi'"
   ]
  },
  {
   "cell_type": "code",
   "execution_count": 13,
   "metadata": {},
   "outputs": [
    {
     "data": {
      "text/html": [
       "<span style=\"white-space:pre; font-family: monospace\">4\n",
       "</span>"
      ]
     },
     "execution_count": 13,
     "metadata": {},
     "output_type": "execute_result"
    }
   ],
   "source": [
    "f⊃⍨⊃⍒f←⊢/,∘≢⌸ 'Mississippi'"
   ]
  },
  {
   "cell_type": "code",
   "execution_count": 14,
   "metadata": {},
   "outputs": [
    {
     "data": {
      "text/html": [
       "<span style=\"white-space:pre; font-family: monospace\">0 1 1 0\n",
       "</span>"
      ]
     },
     "execution_count": 14,
     "metadata": {},
     "output_type": "execute_result"
    }
   ],
   "source": [
    "f=f⊃⍨⊃⍒f←⊢/,∘≢⌸ 'Mississippi'"
   ]
  },
  {
   "cell_type": "code",
   "execution_count": 15,
   "metadata": {},
   "outputs": [
    {
     "data": {
      "text/html": [
       "<span style=\"white-space:pre; font-family: monospace\">is\n",
       "</span>"
      ]
     },
     "execution_count": 15,
     "metadata": {},
     "output_type": "execute_result"
    }
   ],
   "source": [
    "(⊣/m)/⍨f=f⊃⍨⊃⍒f←⊢/m←,∘≢⌸ 'Mississippi'"
   ]
  },
  {
   "cell_type": "code",
   "execution_count": 16,
   "metadata": {},
   "outputs": [],
   "source": [
    "]dinput\n",
    "MostFrequent ← {\n",
    "    hist ← {⍺,≢⍵}⌸⍵\n",
    "    vals ← ⊢/hist\n",
    "    high ← (⊃⍒vals)⊃vals\n",
    "    (high=vals)/⊣/hist\n",
    "}"
   ]
  },
  {
   "cell_type": "code",
   "execution_count": 17,
   "metadata": {},
   "outputs": [
    {
     "data": {
      "text/html": [
       "<span style=\"white-space:pre; font-family: monospace\">is\n",
       "</span>"
      ]
     },
     "execution_count": 17,
     "metadata": {},
     "output_type": "execute_result"
    }
   ],
   "source": [
    "MostFrequent 'Mississippi'"
   ]
  },
  {
   "cell_type": "code",
   "execution_count": 18,
   "metadata": {
    "tags": [
     "hide-output"
    ]
   },
   "outputs": [
    {
     "data": {
      "text/html": [
       "<span style=\"white-space:pre; font-family: monospace\">┌─┬───────────────────┐\n",
       "│S│0                  │\n",
       "├─┼───────────────────┤\n",
       "│u│1 32               │\n",
       "├─┼───────────────────┤\n",
       "│p│2 22               │\n",
       "├─┼───────────────────┤\n",
       "│e│3 20               │\n",
       "├─┼───────────────────┤\n",
       "│r│4 10               │\n",
       "├─┼───────────────────┤\n",
       "│c│5 19 29            │\n",
       "├─┼───────────────────┤\n",
       "│a│6 11 24            │\n",
       "├─┼───────────────────┤\n",
       "│l│7 14 25            │\n",
       "├─┼───────────────────┤\n",
       "│i│8 13 15 18 23 26 30│\n",
       "├─┼───────────────────┤\n",
       "│f│9                  │\n",
       "├─┼───────────────────┤\n",
       "│g│12                 │\n",
       "├─┼───────────────────┤\n",
       "│s│16 33              │\n",
       "├─┼───────────────────┤\n",
       "│t│17                 │\n",
       "├─┼───────────────────┤\n",
       "│x│21                 │\n",
       "├─┼───────────────────┤\n",
       "│d│27                 │\n",
       "├─┼───────────────────┤\n",
       "│o│28 31              │\n",
       "└─┴───────────────────┘\n",
       "</span>"
      ]
     },
     "execution_count": 18,
     "metadata": {},
     "output_type": "execute_result"
    },
    {
     "data": {
      "text/html": [
       "<span style=\"white-space:pre; font-family: monospace\">S 1\n",
       "u 2\n",
       "p 2\n",
       "e 2\n",
       "r 2\n",
       "c 3\n",
       "a 3\n",
       "l 3\n",
       "i 7\n",
       "f 1\n",
       "g 1\n",
       "s 2\n",
       "t 1\n",
       "x 1\n",
       "d 1\n",
       "o 2\n",
       "</span>"
      ]
     },
     "execution_count": 18,
     "metadata": {},
     "output_type": "execute_result"
    },
    {
     "data": {
      "text/html": [
       "<span style=\"white-space:pre; font-family: monospace\">1 2 2 2 2 3 3 3 7 1 1 2 1 1 1 2\n",
       "</span>"
      ]
     },
     "execution_count": 18,
     "metadata": {},
     "output_type": "execute_result"
    },
    {
     "data": {
      "text/html": [
       "<span style=\"white-space:pre; font-family: monospace\">Supercalifgstxdo\n",
       "</span>"
      ]
     },
     "execution_count": 18,
     "metadata": {},
     "output_type": "execute_result"
    }
   ],
   "source": [
    "x←'Supercalifragilisticexpialidocious'\n",
    "\n",
    "{⍺⍵}⌸x\n",
    "{⍺ (≢⍵)}⌸x\n",
    "{≢⍵}⌸x\n",
    "{⍺}⌸x"
   ]
  },
  {
   "cell_type": "code",
   "execution_count": 19,
   "metadata": {
    "tags": [
     "hide-output"
    ]
   },
   "outputs": [
    {
     "data": {
      "text/html": [
       "<span style=\"white-space:pre; font-family: monospace\">┌─┬─────┐\n",
       "│a│10 11│\n",
       "├─┼─────┤\n",
       "│b│12 13│\n",
       "├─┼─────┤\n",
       "│c│14 15│\n",
       "├─┼─────┤\n",
       "│d│16 17│\n",
       "├─┼─────┤\n",
       "│e│18 19│\n",
       "├─┼─────┤\n",
       "│f│20 21│\n",
       "├─┼─────┤\n",
       "│g│22 23│\n",
       "├─┼─────┤\n",
       "│h│24 25│\n",
       "├─┼─────┤\n",
       "│i│26 27│\n",
       "├─┼─────┤\n",
       "│j│28 29│\n",
       "├─┼─────┤\n",
       "│k│30 31│\n",
       "└─┴─────┘\n",
       "</span>"
      ]
     },
     "execution_count": 19,
     "metadata": {},
     "output_type": "execute_result"
    },
    {
     "data": {
      "text/html": [
       "<span style=\"white-space:pre; font-family: monospace\">a 1\n",
       "b 1\n",
       "c 1\n",
       "d 1\n",
       "e 1\n",
       "f 1\n",
       "g 1\n",
       "h 1\n",
       "i 1\n",
       "j 1\n",
       "k 1\n",
       "</span>"
      ]
     },
     "execution_count": 19,
     "metadata": {},
     "output_type": "execute_result"
    },
    {
     "data": {
      "text/html": [
       "<span style=\"white-space:pre; font-family: monospace\">1 1 1 1 1 1 1 1 1 1 1\n",
       "</span>"
      ]
     },
     "execution_count": 19,
     "metadata": {},
     "output_type": "execute_result"
    },
    {
     "data": {
      "text/html": [
       "<span style=\"white-space:pre; font-family: monospace\">abcdefghijk\n",
       "</span>"
      ]
     },
     "execution_count": 19,
     "metadata": {},
     "output_type": "execute_result"
    },
    {
     "data": {
      "text/html": [
       "<span style=\"white-space:pre; font-family: monospace\">a 21\n",
       "b 25\n",
       "c 29\n",
       "d 33\n",
       "e 37\n",
       "f 41\n",
       "g 45\n",
       "h 49\n",
       "i 53\n",
       "j 57\n",
       "k 61\n",
       "</span>"
      ]
     },
     "execution_count": 19,
     "metadata": {},
     "output_type": "execute_result"
    },
    {
     "data": {
      "text/html": [
       "<span style=\"white-space:pre; font-family: monospace\">a 11\n",
       "b 13\n",
       "c 15\n",
       "d 17\n",
       "e 19\n",
       "f 21\n",
       "g 23\n",
       "h 25\n",
       "i 27\n",
       "j 29\n",
       "k 31\n",
       "</span>"
      ]
     },
     "execution_count": 19,
     "metadata": {},
     "output_type": "execute_result"
    },
    {
     "data": {
      "text/html": [
       "<span style=\"white-space:pre; font-family: monospace\">a 10\n",
       "b 12\n",
       "c 14\n",
       "d 16\n",
       "e 18\n",
       "f 20\n",
       "g 22\n",
       "h 24\n",
       "i 26\n",
       "j 28\n",
       "k 30\n",
       "</span>"
      ]
     },
     "execution_count": 19,
     "metadata": {},
     "output_type": "execute_result"
    }
   ],
   "source": [
    "x←'abcdefghijk'\n",
    "y←10+11 2⍴⍳22\n",
    "\n",
    "x{⍺⍵}⌸y\n",
    "x{⍺ (≢⍵)}⌸y\n",
    "x{≢⍵}⌸y\n",
    "x{⍺}⌸y\n",
    "x{⍺(+/,⍵)}⌸y\n",
    "x{⍺(⌈/,⍵)}⌸y\n",
    "x{⍺(⌊/,⍵)}⌸y"
   ]
  },
  {
   "cell_type": "code",
   "execution_count": 20,
   "metadata": {},
   "outputs": [
    {
     "data": {
      "text/html": [
       "<span style=\"white-space:pre; font-family: monospace\">10 11\n",
       "12 13\n",
       "14 15\n",
       "16 17\n",
       "18 19\n",
       "20 21\n",
       "22 23\n",
       "24 25\n",
       "26 27\n",
       "28 29\n",
       "30 31\n",
       "</span>"
      ]
     },
     "execution_count": 20,
     "metadata": {},
     "output_type": "execute_result"
    }
   ],
   "source": [
    "y"
   ]
  },
  {
   "cell_type": "code",
   "execution_count": null,
   "metadata": {},
   "outputs": [],
   "source": []
  }
 ],
 "metadata": {
  "celltoolbar": "Tags",
  "kernelspec": {
   "display_name": "Dyalog APL",
   "language": "apl",
   "name": "dyalog-kernel"
  },
  "language_info": {
   "file_extension": ".apl",
   "mimetype": "text/apl",
   "name": "APL"
  }
 },
 "nbformat": 4,
 "nbformat_minor": 4
}