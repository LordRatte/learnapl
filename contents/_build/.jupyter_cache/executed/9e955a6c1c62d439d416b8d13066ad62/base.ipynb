{
 "cells": [
  {
   "cell_type": "code",
   "execution_count": 1,
   "metadata": {
    "tags": [
     "hide-output"
    ]
   },
   "outputs": [
    {
     "data": {
      "text/html": [
       "<span style=\"white-space:pre; font-family: monospace\">\n",
       "Rebuilding user command cache... done\n",
       "\n",
       "Rebuilding user command cache... done\n",
       "</span>"
      ]
     },
     "execution_count": 1,
     "metadata": {},
     "output_type": "execute_result"
    },
    {
     "data": {
      "text/html": [
       "<span style=\"white-space:pre; font-family: monospace\">┌→─────────────────────────────────────┐\n",
       "│Was ON -style=min -trains=tree -fns=on│\n",
       "└──────────────────────────────────────┘\n",
       "</span>"
      ]
     },
     "execution_count": 1,
     "metadata": {},
     "output_type": "execute_result"
    },
    {
     "data": {
      "text/html": [
       "<span style=\"white-space:pre; font-family: monospace\">┌→──────┐\n",
       "│Was OFF│\n",
       "└───────┘\n",
       "</span>"
      ]
     },
     "execution_count": 1,
     "metadata": {},
     "output_type": "execute_result"
    }
   ],
   "source": [
    "⎕IO ← 0\n",
    "]box on -s=max -t=tree -f=on\n",
    "]rows on\n",
    "assert←{⍺←'assertion failure' ⋄ 0∊⍵:⍺ ⎕signal 8 ⋄ shy←0}"
   ]
  },
  {
   "cell_type": "code",
   "execution_count": 2,
   "metadata": {},
   "outputs": [
    {
     "data": {
      "text/html": [
       "<span style=\"white-space:pre; font-family: monospace\">┌→──────┐\n",
       "↓9 4 2 7│\n",
       "│2 5 4 7│\n",
       "│8 6 1 2│\n",
       "└~──────┘\n",
       "</span>"
      ]
     },
     "execution_count": 2,
     "metadata": {},
     "output_type": "execute_result"
    },
    {
     "data": {
      "text/html": [
       "<span style=\"white-space:pre; font-family: monospace\">┌→────┐\n",
       "↓9 2 8│\n",
       "│4 5 6│\n",
       "│2 4 1│\n",
       "│7 7 2│\n",
       "└~────┘\n",
       "</span>"
      ]
     },
     "execution_count": 2,
     "metadata": {},
     "output_type": "execute_result"
    }
   ],
   "source": [
    "⊢B ← 3 4⍴9 4 2 7 2 5 4 7 8 6 1 2 6 8 2 9\n",
    "⍉B"
   ]
  },
  {
   "cell_type": "code",
   "execution_count": 3,
   "metadata": {},
   "outputs": [
    {
     "data": {
      "text/html": [
       "<span style=\"white-space:pre; font-family: monospace\">┌→────┐\n",
       "↓9 2 8│\n",
       "│4 5 6│\n",
       "│2 4 1│\n",
       "│7 7 2│\n",
       "└~────┘\n",
       "</span>"
      ]
     },
     "execution_count": 3,
     "metadata": {},
     "output_type": "execute_result"
    }
   ],
   "source": [
    "1 0⍉B ⍝ Same result as the monadic form: x-is-y"
   ]
  },
  {
   "cell_type": "code",
   "execution_count": 4,
   "metadata": {},
   "outputs": [],
   "source": [
    "m ← 3 3 3⍴1 1 1 1 1 1 1 1 1 2 2 2 2 2 2 2 2 2 3 3 3 3 3 3 3 3 3"
   ]
  },
  {
   "cell_type": "code",
   "execution_count": 5,
   "metadata": {},
   "outputs": [
    {
     "data": {
      "text/html": [
       "<span style=\"white-space:pre; font-family: monospace\">┌→────┐\n",
       "↓1 2 3│\n",
       "│1 2 3│\n",
       "│1 2 3│\n",
       "└~────┘\n",
       "</span>"
      ]
     },
     "execution_count": 5,
     "metadata": {},
     "output_type": "execute_result"
    }
   ],
   "source": [
    "3 3⍴1 2 3"
   ]
  },
  {
   "cell_type": "code",
   "execution_count": 6,
   "metadata": {},
   "outputs": [
    {
     "data": {
      "text/html": [
       "<span style=\"white-space:pre; font-family: monospace\">┌┌→────┐\n",
       "↓↓1 2 3│\n",
       "││1 2 3│\n",
       "││1 2 3│\n",
       "││     │\n",
       "││1 2 3│\n",
       "││1 2 3│\n",
       "││1 2 3│\n",
       "││     │\n",
       "││1 2 3│\n",
       "││1 2 3│\n",
       "││1 2 3│\n",
       "└└~────┘\n",
       "</span>"
      ]
     },
     "execution_count": 6,
     "metadata": {},
     "output_type": "execute_result"
    }
   ],
   "source": [
    "2 1 0⍉m"
   ]
  },
  {
   "cell_type": "code",
   "execution_count": 7,
   "metadata": {},
   "outputs": [
    {
     "data": {
      "text/html": [
       "<span style=\"white-space:pre; font-family: monospace\">┌→────────────────────────────────────────────────────┐\n",
       "│1 2 3 1 2 3 1 2 3 1 2 3 1 2 3 1 2 3 1 2 3 1 2 3 1 2 3│\n",
       "└~────────────────────────────────────────────────────┘\n",
       "</span>"
      ]
     },
     "execution_count": 7,
     "metadata": {},
     "output_type": "execute_result"
    }
   ],
   "source": [
    "⊢data ← ∊9/⊂1 2 3\n",
    "mat ← 3 3 3⍴0             ⍝ Empty matrix"
   ]
  },
  {
   "cell_type": "code",
   "execution_count": 8,
   "metadata": {},
   "outputs": [
    {
     "data": {
      "text/html": [
       "<span style=\"white-space:pre; font-family: monospace\">┌┌→────┐\n",
       "↓↓1 1 1│\n",
       "││1 1 1│\n",
       "││1 1 1│\n",
       "││     │\n",
       "││2 2 2│\n",
       "││2 2 2│\n",
       "││2 2 2│\n",
       "││     │\n",
       "││3 3 3│\n",
       "││3 3 3│\n",
       "││3 3 3│\n",
       "└└~────┘\n",
       "</span>"
      ]
     },
     "execution_count": 8,
     "metadata": {},
     "output_type": "execute_result"
    }
   ],
   "source": [
    "(2 1 0⍉mat) ← 3 3 3⍴data  \n",
    "mat"
   ]
  },
  {
   "cell_type": "code",
   "execution_count": 9,
   "metadata": {},
   "outputs": [
    {
     "data": {
      "text/html": [
       "<span style=\"white-space:pre; font-family: monospace\">┌→────────────────┐\n",
       "↓ 0  1  2  3  4  5│\n",
       "│ 6  7  8  9 10 11│\n",
       "│12 13 14 15 16 17│\n",
       "│18 19 20 21 22 23│\n",
       "│24 25 26 27 28 29│\n",
       "│30 31 32 33 34 35│\n",
       "└~────────────────┘\n",
       "</span>"
      ]
     },
     "execution_count": 9,
     "metadata": {},
     "output_type": "execute_result"
    }
   ],
   "source": [
    "⊢mat ← 6 6⍴⍳36"
   ]
  },
  {
   "cell_type": "code",
   "execution_count": 10,
   "metadata": {},
   "outputs": [
    {
     "data": {
      "text/html": [
       "<span style=\"white-space:pre; font-family: monospace\">┌┌┌→───────┐\n",
       "↓↓↓ 0  1  2│\n",
       "│││ 3  4  5│\n",
       "│││        │\n",
       "│││ 6  7  8│\n",
       "│││ 9 10 11│\n",
       "│││        │\n",
       "│││12 13 14│\n",
       "│││15 16 17│\n",
       "│││        │\n",
       "│││        │\n",
       "│││18 19 20│\n",
       "│││21 22 23│\n",
       "│││        │\n",
       "│││24 25 26│\n",
       "│││27 28 29│\n",
       "│││        │\n",
       "│││30 31 32│\n",
       "│││33 34 35│\n",
       "└└└~───────┘\n",
       "</span>"
      ]
     },
     "execution_count": 10,
     "metadata": {},
     "output_type": "execute_result"
    }
   ],
   "source": [
    "⊢r4 ← 2 3 2 3⍴mat"
   ]
  },
  {
   "cell_type": "code",
   "execution_count": 11,
   "metadata": {},
   "outputs": [
    {
     "data": {
      "text/html": [
       "<span style=\"white-space:pre; font-family: monospace\">┌┌→───────┐\n",
       "↓↓ 0  1  2│\n",
       "││ 3  4  5│\n",
       "││        │\n",
       "││ 6  7  8│\n",
       "││ 9 10 11│\n",
       "││        │\n",
       "││12 13 14│\n",
       "││15 16 17│\n",
       "└└~───────┘\n",
       "</span>"
      ]
     },
     "execution_count": 11,
     "metadata": {},
     "output_type": "execute_result"
    }
   ],
   "source": [
    "0⌷r4"
   ]
  },
  {
   "cell_type": "code",
   "execution_count": 12,
   "metadata": {},
   "outputs": [
    {
     "data": {
      "text/html": [
       "<span style=\"white-space:pre; font-family: monospace\">┌┌┌→───────┐\n",
       "↓↓↓ 0  1  2│\n",
       "│││ 6  7  8│\n",
       "│││12 13 14│\n",
       "│││        │\n",
       "│││ 3  4  5│\n",
       "│││ 9 10 11│\n",
       "│││15 16 17│\n",
       "│││        │\n",
       "│││        │\n",
       "│││18 19 20│\n",
       "│││24 25 26│\n",
       "│││30 31 32│\n",
       "│││        │\n",
       "│││21 22 23│\n",
       "│││27 28 29│\n",
       "│││33 34 35│\n",
       "└└└~───────┘\n",
       "</span>"
      ]
     },
     "execution_count": 12,
     "metadata": {},
     "output_type": "execute_result"
    }
   ],
   "source": [
    "⊢reorder ← 0 2 1 3⍉r4"
   ]
  },
  {
   "cell_type": "code",
   "execution_count": 13,
   "metadata": {},
   "outputs": [
    {
     "data": {
      "text/html": [
       "<span style=\"white-space:pre; font-family: monospace\">┌→──────────────────────┐\n",
       "↓ ┌→───────┐ ┌→───────┐ │\n",
       "│ ↓ 0  1  2│ ↓ 3  4  5│ │\n",
       "│ │ 6  7  8│ │ 9 10 11│ │\n",
       "│ │12 13 14│ │15 16 17│ │\n",
       "│ └~───────┘ └~───────┘ │\n",
       "│ ┌→───────┐ ┌→───────┐ │\n",
       "│ ↓18 19 20│ ↓21 22 23│ │\n",
       "│ │24 25 26│ │27 28 29│ │\n",
       "│ │30 31 32│ │33 34 35│ │\n",
       "│ └~───────┘ └~───────┘ │\n",
       "└∊──────────────────────┘\n",
       "</span>"
      ]
     },
     "execution_count": 13,
     "metadata": {},
     "output_type": "execute_result"
    }
   ],
   "source": [
    "⊂⍤2⊢reorder"
   ]
  },
  {
   "cell_type": "code",
   "execution_count": 14,
   "metadata": {},
   "outputs": [
    {
     "data": {
      "text/html": [
       "<span style=\"white-space:pre; font-family: monospace\">┌┌→───┐\n",
       "↓↓FLIV│\n",
       "││FLIV│\n",
       "││LLIV│\n",
       "││LLMV│\n",
       "││    │\n",
       "││SPTA│\n",
       "││SPTA│\n",
       "││SPTA│\n",
       "││SPTA│\n",
       "││    │\n",
       "││YHND│\n",
       "││YHND│\n",
       "││.QKE│\n",
       "││.QKE│\n",
       "││    │\n",
       "││CRSG│\n",
       "││CRSG│\n",
       "││.RRG│\n",
       "││WRRG│\n",
       "└└────┘\n",
       "</span>"
      ]
     },
     "execution_count": 14,
     "metadata": {},
     "output_type": "execute_result"
    }
   ],
   "source": [
    "4 4 4⍴'FLIVFLIVLLIVLLMVSPTASPTASPTASPTAYHNDYHND.QKE.QKECRSGCRSG.RRGWRRG'"
   ]
  },
  {
   "cell_type": "code",
   "execution_count": 15,
   "metadata": {},
   "outputs": [
    {
     "data": {
      "text/html": [
       "<span style=\"white-space:pre; font-family: monospace\">┌┌→───┐\n",
       "↓↓FFLL│\n",
       "││LLLL│\n",
       "││IIIM│\n",
       "││VVVV│\n",
       "││    │\n",
       "││SSSS│\n",
       "││PPPP│\n",
       "││TTTT│\n",
       "││AAAA│\n",
       "││    │\n",
       "││YY..│\n",
       "││HHQQ│\n",
       "││NNKK│\n",
       "││DDEE│\n",
       "││    │\n",
       "││CC.W│\n",
       "││RRRR│\n",
       "││SSRR│\n",
       "││GGGG│\n",
       "└└────┘\n",
       "</span>"
      ]
     },
     "execution_count": 15,
     "metadata": {},
     "output_type": "execute_result"
    }
   ],
   "source": [
    "0 2 1⍉4 4 4⍴'FLIVFLIVLLIVLLMVSPTASPTASPTASPTAYHNDYHND.QKE.QKECRSGCRSG.RRGWRRG'"
   ]
  },
  {
   "cell_type": "code",
   "execution_count": 16,
   "metadata": {},
   "outputs": [
    {
     "data": {
      "text/html": [
       "<span style=\"white-space:pre; font-family: monospace\">┌┌→───┐\n",
       "↓↓FFLL│\n",
       "││SSSS│\n",
       "││YY..│\n",
       "││CC.W│\n",
       "││    │\n",
       "││LLLL│\n",
       "││PPPP│\n",
       "││HHQQ│\n",
       "││RRRR│\n",
       "││    │\n",
       "││IIIM│\n",
       "││TTTT│\n",
       "││NNKK│\n",
       "││SSRR│\n",
       "││    │\n",
       "││VVVV│\n",
       "││AAAA│\n",
       "││DDEE│\n",
       "││GGGG│\n",
       "└└────┘\n",
       "</span>"
      ]
     },
     "execution_count": 16,
     "metadata": {},
     "output_type": "execute_result"
    }
   ],
   "source": [
    "0 2 1⍉⍉4 4 4⍴'FLIVFLIVLLIVLLMVSPTASPTASPTASPTAYHNDYHND.QKE.QKECRSGCRSG.RRGWRRG'"
   ]
  },
  {
   "cell_type": "code",
   "execution_count": 17,
   "metadata": {},
   "outputs": [],
   "source": [
    "codon←0 2 1⍉⍉4 4 4⍴'FLIVFLIVLLIVLLMVSPTASPTASPTASPTAYHNDYHND.QKE.QKECRSGCRSG.RRGWRRG'"
   ]
  },
  {
   "cell_type": "code",
   "execution_count": 18,
   "metadata": {},
   "outputs": [],
   "source": [
    "]dinput\n",
    "prot ← {\n",
    "    enc ← 0 1 2 3['UCAG'⍳⍵]        ⍝ Convert RNA string from UCAG to 0123\n",
    "    ¯1↓codon[⊂⍤1⊢(3÷⍨≢enc) 3⍴enc]  ⍝ Group into triplets and index into codon table, and drop Stop.\n",
    "}"
   ]
  },
  {
   "cell_type": "code",
   "execution_count": 19,
   "metadata": {},
   "outputs": [
    {
     "data": {
      "text/html": [
       "<span style=\"white-space:pre; font-family: monospace\">┌→───────────────┐\n",
       "│MAMAPRTEINSTRING│\n",
       "└────────────────┘\n",
       "</span>"
      ]
     },
     "execution_count": 19,
     "metadata": {},
     "output_type": "execute_result"
    }
   ],
   "source": [
    "test ← 'AUGGCCAUGGCGCCCAGAACUGAGAUCAAUAGUACCCGUAUUAACGGGUGA'\n",
    "⊢r ← prot test\n",
    "assert 'MAMAPRTEINSTRING'≡r"
   ]
  },
  {
   "cell_type": "code",
   "execution_count": null,
   "metadata": {},
   "outputs": [],
   "source": []
  }
 ],
 "metadata": {
  "kernelspec": {
   "display_name": "Dyalog APL",
   "language": "apl",
   "name": "dyalog-kernel"
  },
  "language_info": {
   "file_extension": ".apl",
   "mimetype": "text/apl",
   "name": "APL"
  }
 },
 "nbformat": 4,
 "nbformat_minor": 4
}