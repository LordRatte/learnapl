{
 "cells": [
  {
   "cell_type": "code",
   "execution_count": 1,
   "metadata": {},
   "outputs": [
    {
     "data": {
      "text/html": [
       "<span style=\"white-space:pre; font-family: monospace\">Rebuilding user command cache... done\n",
       "</span>"
      ]
     },
     "execution_count": 1,
     "metadata": {},
     "output_type": "execute_result"
    }
   ],
   "source": [
    "⎕IO ← 0\n",
    "{}⎕SE.UCMD'box on -s=min -t=tree -f=on'\n",
    "{}⎕SE.UCMD'rows on'"
   ]
  },
  {
   "cell_type": "code",
   "execution_count": 2,
   "metadata": {},
   "outputs": [
    {
     "data": {
      "text/html": [
       "<span style=\"white-space:pre; font-family: monospace\">┌──────┬─────┐\n",
       "│┌────┐│0 2 4│\n",
       "││bill││     │\n",
       "│└────┘│     │\n",
       "├──────┼─────┤\n",
       "│┌───┐ │1 5  │\n",
       "││bob│ │     │\n",
       "│└───┘ │     │\n",
       "├──────┼─────┤\n",
       "│┌────┐│3 6  │\n",
       "││eric││     │\n",
       "│└────┘│     │\n",
       "├──────┼─────┤\n",
       "│┌───┐ │7    │\n",
       "││sue│ │     │\n",
       "│└───┘ │     │\n",
       "└──────┴─────┘\n",
       "</span>"
      ]
     },
     "execution_count": 2,
     "metadata": {},
     "output_type": "execute_result"
    }
   ],
   "source": [
    "{⍺⍵}⌸'bill' 'bob' 'bill' 'eric' 'bill' 'bob' 'eric' 'sue'"
   ]
  },
  {
   "cell_type": "code",
   "execution_count": 3,
   "metadata": {},
   "outputs": [
    {
     "data": {
      "text/html": [
       "<span style=\"white-space:pre; font-family: monospace\">┌──────┬─┐\n",
       "│┌────┐│3│\n",
       "││bill││ │\n",
       "│└────┘│ │\n",
       "├──────┼─┤\n",
       "│┌───┐ │2│\n",
       "││bob│ │ │\n",
       "│└───┘ │ │\n",
       "├──────┼─┤\n",
       "│┌────┐│2│\n",
       "││eric││ │\n",
       "│└────┘│ │\n",
       "├──────┼─┤\n",
       "│┌───┐ │1│\n",
       "││sue│ │ │\n",
       "│└───┘ │ │\n",
       "└──────┴─┘\n",
       "</span>"
      ]
     },
     "execution_count": 3,
     "metadata": {},
     "output_type": "execute_result"
    }
   ],
   "source": [
    "{⍺ (≢⍵)}⌸'bill' 'bob' 'bill' 'eric' 'bill' 'bob' 'eric' 'sue'"
   ]
  },
  {
   "cell_type": "code",
   "execution_count": 4,
   "metadata": {},
   "outputs": [
    {
     "data": {
      "text/html": [
       "<span style=\"white-space:pre; font-family: monospace\">┌──────┬─────┐\n",
       "│┌────┐│0 2 4│\n",
       "││bill││     │\n",
       "│└────┘│     │\n",
       "├──────┼─────┤\n",
       "│┌───┐ │1 5  │\n",
       "││bob│ │     │\n",
       "│└───┘ │     │\n",
       "├──────┼─────┤\n",
       "│┌────┐│3 6  │\n",
       "││eric││     │\n",
       "│└────┘│     │\n",
       "├──────┼─────┤\n",
       "│┌───┐ │7    │\n",
       "││sue│ │     │\n",
       "│└───┘ │     │\n",
       "└──────┴─────┘\n",
       "</span>"
      ]
     },
     "execution_count": 4,
     "metadata": {},
     "output_type": "execute_result"
    },
    {
     "data": {
      "text/html": [
       "<span style=\"white-space:pre; font-family: monospace\">┌──────┬─────┐\n",
       "│┌────┐│0 2 4│\n",
       "││bill││     │\n",
       "│└────┘│     │\n",
       "├──────┼─────┤\n",
       "│┌───┐ │1 5  │\n",
       "││bob│ │     │\n",
       "│└───┘ │     │\n",
       "├──────┼─────┤\n",
       "│┌────┐│3 6  │\n",
       "││eric││     │\n",
       "│└────┘│     │\n",
       "├──────┼─────┤\n",
       "│┌───┐ │7    │\n",
       "││sue│ │     │\n",
       "│└───┘ │     │\n",
       "└──────┴─────┘\n",
       "</span>"
      ]
     },
     "execution_count": 4,
     "metadata": {},
     "output_type": "execute_result"
    }
   ],
   "source": [
    "names ← 'bill' 'bob' 'bill' 'eric' 'bill' 'bob' 'eric' 'sue'\n",
    "{⍺⍵}⌸names\n",
    "names{⍺⍵}⌸⍳≢names"
   ]
  },
  {
   "cell_type": "code",
   "execution_count": 5,
   "metadata": {},
   "outputs": [],
   "source": [
    "scores←'London Irish,31-22' 'Wasps,17-49' 'Gloucester,26-31' 'Worcester Warriors,17-21' 'Bristol,48-3' 'Leicester Tigers,15-25' 'Harlequins,27-27' 'Newcastle Falcons,22-10' 'Exeter Chiefs,7-20' 'Northampton Saints,0-0' 'Bath,44-52' 'Sale,20-13' 'London Irish,0-0' 'Leicester Tigers,36-31' 'Wasps,34-5' 'Gloucester,19-22' 'Bristol,29-17' 'Worcester Warriors,0-0'"
   ]
  },
  {
   "cell_type": "code",
   "execution_count": 6,
   "metadata": {},
   "outputs": [],
   "source": [
    "table←⎕CSV ('-'⎕R','⊢scores)''4\n",
    "teams←⊣/table\n",
    "scores←table[;1 2]"
   ]
  },
  {
   "cell_type": "code",
   "execution_count": 7,
   "metadata": {},
   "outputs": [
    {
     "data": {
      "text/html": [
       "<span style=\"white-space:pre; font-family: monospace\">┌────────────────────┬─────┐\n",
       "│┌────────────┐      │31 22│\n",
       "││London Irish│      │ 0  0│\n",
       "│└────────────┘      │     │\n",
       "├────────────────────┼─────┤\n",
       "│┌─────┐             │17 49│\n",
       "││Wasps│             │34  5│\n",
       "│└─────┘             │     │\n",
       "├────────────────────┼─────┤\n",
       "│┌──────────┐        │26 31│\n",
       "││Gloucester│        │19 22│\n",
       "│└──────────┘        │     │\n",
       "├────────────────────┼─────┤\n",
       "│┌──────────────────┐│17 21│\n",
       "││Worcester Warriors││ 0  0│\n",
       "│└──────────────────┘│     │\n",
       "├────────────────────┼─────┤\n",
       "│┌───────┐           │48  3│\n",
       "││Bristol│           │29 17│\n",
       "│└───────┘           │     │\n",
       "├────────────────────┼─────┤\n",
       "│┌────────────────┐  │15 25│\n",
       "││Leicester Tigers│  │36 31│\n",
       "│└────────────────┘  │     │\n",
       "├────────────────────┼─────┤\n",
       "│┌──────────┐        │27 27│\n",
       "││Harlequins│        │     │\n",
       "│└──────────┘        │     │\n",
       "├────────────────────┼─────┤\n",
       "│┌─────────────────┐ │22 10│\n",
       "││Newcastle Falcons│ │     │\n",
       "│└─────────────────┘ │     │\n",
       "├────────────────────┼─────┤\n",
       "│┌─────────────┐     │7 20 │\n",
       "││Exeter Chiefs│     │     │\n",
       "│└─────────────┘     │     │\n",
       "├────────────────────┼─────┤\n",
       "│┌──────────────────┐│0 0  │\n",
       "││Northampton Saints││     │\n",
       "│└──────────────────┘│     │\n",
       "├────────────────────┼─────┤\n",
       "│┌────┐              │44 52│\n",
       "││Bath│              │     │\n",
       "│└────┘              │     │\n",
       "├────────────────────┼─────┤\n",
       "│┌────┐              │20 13│\n",
       "││Sale│              │     │\n",
       "│└────┘              │     │\n",
       "└────────────────────┴─────┘\n",
       "</span>"
      ]
     },
     "execution_count": 7,
     "metadata": {},
     "output_type": "execute_result"
    }
   ],
   "source": [
    "teams{⍺⍵}⌸scores"
   ]
  },
  {
   "cell_type": "code",
   "execution_count": 8,
   "metadata": {},
   "outputs": [
    {
     "data": {
      "text/html": [
       "<span style=\"white-space:pre; font-family: monospace\">is\n",
       "</span>"
      ]
     },
     "execution_count": 8,
     "metadata": {},
     "output_type": "execute_result"
    }
   ],
   "source": [
    "{(⊣/m)/⍨f=f⊃⍨⊃⍒f←⊢/m←,∘≢⌸⍵} 'Mississippi' ⍝ Most frequent"
   ]
  },
  {
   "cell_type": "code",
   "execution_count": 9,
   "metadata": {},
   "outputs": [
    {
     "data": {
      "text/html": [
       "<span style=\"white-space:pre; font-family: monospace\">M 1\n",
       "i 4\n",
       "s 4\n",
       "p 2\n",
       "</span>"
      ]
     },
     "execution_count": 9,
     "metadata": {},
     "output_type": "execute_result"
    }
   ],
   "source": [
    ",∘≢⌸ 'Mississippi'"
   ]
  },
  {
   "cell_type": "code",
   "execution_count": 10,
   "metadata": {},
   "outputs": [
    {
     "data": {
      "text/html": [
       "<span style=\"white-space:pre; font-family: monospace\">M 1\n",
       "i 4\n",
       "s 4\n",
       "p 2\n",
       "</span>"
      ]
     },
     "execution_count": 10,
     "metadata": {},
     "output_type": "execute_result"
    }
   ],
   "source": [
    "{⍺,≢⍵}⌸ 'Mississippi'"
   ]
  },
  {
   "cell_type": "code",
   "execution_count": 11,
   "metadata": {},
   "outputs": [
    {
     "data": {
      "text/html": [
       "<span style=\"white-space:pre; font-family: monospace\">1 4 4 2\n",
       "</span>"
      ]
     },
     "execution_count": 11,
     "metadata": {},
     "output_type": "execute_result"
    }
   ],
   "source": [
    "⊢/,∘≢⌸ 'Mississippi'"
   ]
  },
  {
   "cell_type": "code",
   "execution_count": 12,
   "metadata": {},
   "outputs": [
    {
     "data": {
      "text/html": [
       "<span style=\"white-space:pre; font-family: monospace\">1\n",
       "</span>"
      ]
     },
     "execution_count": 12,
     "metadata": {},
     "output_type": "execute_result"
    }
   ],
   "source": [
    "⊃⍒⊢/,∘≢⌸ 'Mississippi'"
   ]
  },
  {
   "cell_type": "code",
   "execution_count": 13,
   "metadata": {},
   "outputs": [
    {
     "data": {
      "text/html": [
       "<span style=\"white-space:pre; font-family: monospace\">4\n",
       "</span>"
      ]
     },
     "execution_count": 13,
     "metadata": {},
     "output_type": "execute_result"
    }
   ],
   "source": [
    "f⊃⍨⊃⍒f←⊢/,∘≢⌸ 'Mississippi'"
   ]
  },
  {
   "cell_type": "code",
   "execution_count": 14,
   "metadata": {},
   "outputs": [
    {
     "data": {
      "text/html": [
       "<span style=\"white-space:pre; font-family: monospace\">0 1 1 0\n",
       "</span>"
      ]
     },
     "execution_count": 14,
     "metadata": {},
     "output_type": "execute_result"
    }
   ],
   "source": [
    "f=f⊃⍨⊃⍒f←⊢/,∘≢⌸ 'Mississippi'"
   ]
  },
  {
   "cell_type": "code",
   "execution_count": 15,
   "metadata": {},
   "outputs": [
    {
     "data": {
      "text/html": [
       "<span style=\"white-space:pre; font-family: monospace\">is\n",
       "</span>"
      ]
     },
     "execution_count": 15,
     "metadata": {},
     "output_type": "execute_result"
    }
   ],
   "source": [
    "(⊣/m)/⍨f=f⊃⍨⊃⍒f←⊢/m←,∘≢⌸ 'Mississippi'"
   ]
  },
  {
   "cell_type": "code",
   "execution_count": 16,
   "metadata": {},
   "outputs": [],
   "source": [
    "]dinput\n",
    "MostFrequent ← {\n",
    "    hist ← {⍺,≢⍵}⌸⍵\n",
    "    vals ← ⊢/hist\n",
    "    high ← (⊃⍒vals)⊃vals\n",
    "    (high=vals)/⊣/hist\n",
    "}"
   ]
  },
  {
   "cell_type": "code",
   "execution_count": 17,
   "metadata": {},
   "outputs": [
    {
     "data": {
      "text/html": [
       "<span style=\"white-space:pre; font-family: monospace\">is\n",
       "</span>"
      ]
     },
     "execution_count": 17,
     "metadata": {},
     "output_type": "execute_result"
    }
   ],
   "source": [
    "MostFrequent 'Mississippi'"
   ]
  },
  {
   "cell_type": "code",
   "execution_count": null,
   "metadata": {},
   "outputs": [],
   "source": []
  }
 ],
 "metadata": {
  "kernelspec": {
   "display_name": "Dyalog APL",
   "language": "apl",
   "name": "dyalog-kernel"
  },
  "language_info": {
   "file_extension": ".apl",
   "mimetype": "text/apl",
   "name": "APL"
  }
 },
 "nbformat": 4,
 "nbformat_minor": 4
}