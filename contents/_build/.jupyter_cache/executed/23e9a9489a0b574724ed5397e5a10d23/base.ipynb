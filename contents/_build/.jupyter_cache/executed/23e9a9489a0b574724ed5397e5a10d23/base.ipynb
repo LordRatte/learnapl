{
 "cells": [
  {
   "cell_type": "code",
   "execution_count": 1,
   "metadata": {
    "tags": [
     "hide-output"
    ]
   },
   "outputs": [
    {
     "data": {
      "text/html": [
       "<span style=\"white-space:pre; font-family: monospace\">Was ON\n",
       "</span>"
      ]
     },
     "execution_count": 1,
     "metadata": {},
     "output_type": "execute_result"
    },
    {
     "data": {
      "text/html": [
       "<span style=\"white-space:pre; font-family: monospace\">Was OFF\n",
       "</span>"
      ]
     },
     "execution_count": 1,
     "metadata": {},
     "output_type": "execute_result"
    }
   ],
   "source": [
    "⎕IO ← 0\n",
    "]box on\n",
    "]rows on"
   ]
  },
  {
   "cell_type": "code",
   "execution_count": 2,
   "metadata": {},
   "outputs": [],
   "source": [
    "gol←{≢⍸⍵}⌺3 3∊¨3+0,¨⊢ ⍝ Generate the next generation"
   ]
  },
  {
   "cell_type": "code",
   "execution_count": 3,
   "metadata": {},
   "outputs": [
    {
     "data": {
      "text/html": [
       "<span style=\"white-space:pre; font-family: monospace\">0 0 0 0 0 0 0 0\n",
       "0 0 0 0 0 0 0 0\n",
       "0 0 0 0 0 0 0 0\n",
       "0 0 0 0 0 1 0 0\n",
       "0 0 0 1 0 1 0 0\n",
       "0 0 0 0 1 1 0 0\n",
       "0 0 0 0 0 0 0 0\n",
       "0 0 0 0 0 0 0 0\n",
       "</span>"
      ]
     },
     "execution_count": 3,
     "metadata": {},
     "output_type": "execute_result"
    }
   ],
   "source": [
    "glider ← 3 3⍴0 0 1 1 0 1 0 1 1\n",
    "dish ← 8 8⍴0\n",
    "dish[(⊂3 3)+⍸glider]←1\n",
    "dish"
   ]
  },
  {
   "cell_type": "code",
   "execution_count": 4,
   "metadata": {},
   "outputs": [
    {
     "data": {
      "text/html": [
       "<span style=\"white-space:pre; font-family: monospace\">┌───────────────┬───────────────┬───────────────┬───────────────┐\n",
       "│0 0 0 0 0 0 0 0│0 0 0 0 0 0 0 0│0 0 0 0 0 0 0 0│0 0 0 0 0 0 0 0│\n",
       "│0 0 0 0 0 0 0 0│0 0 0 0 0 0 0 0│0 0 0 0 0 0 0 0│0 0 0 0 0 0 0 0│\n",
       "│0 0 0 0 0 0 0 0│0 0 0 0 0 0 0 0│0 0 0 0 0 0 0 0│0 0 0 0 0 0 0 0│\n",
       "│0 0 0 0 1 0 0 0│0 0 0 0 0 1 0 0│0 0 0 0 0 0 0 0│0 0 0 0 0 0 0 0│\n",
       "│0 0 0 0 0 1 1 0│0 0 0 0 0 0 1 0│0 0 0 0 1 0 1 0│0 0 0 0 0 0 1 0│\n",
       "│0 0 0 0 1 1 0 0│0 0 0 0 1 1 1 0│0 0 0 0 0 1 1 0│0 0 0 0 1 0 1 0│\n",
       "│0 0 0 0 0 0 0 0│0 0 0 0 0 0 0 0│0 0 0 0 0 1 0 0│0 0 0 0 0 1 1 0│\n",
       "│0 0 0 0 0 0 0 0│0 0 0 0 0 0 0 0│0 0 0 0 0 0 0 0│0 0 0 0 0 0 0 0│\n",
       "└───────────────┴───────────────┴───────────────┴───────────────┘\n",
       "</span>"
      ]
     },
     "execution_count": 4,
     "metadata": {},
     "output_type": "execute_result"
    }
   ],
   "source": [
    "1 4⍴(gol⍣1⊢dish)(gol⍣2⊢dish)(gol⍣3⊢dish)(gol⍣4⊢dish)"
   ]
  },
  {
   "cell_type": "code",
   "execution_count": 5,
   "metadata": {},
   "outputs": [
    {
     "data": {
      "text/html": [
       "<span style=\"white-space:pre; font-family: monospace\">5\n",
       "</span>"
      ]
     },
     "execution_count": 5,
     "metadata": {},
     "output_type": "execute_result"
    }
   ],
   "source": [
    "{≢⍸⍵} glider"
   ]
  },
  {
   "cell_type": "code",
   "execution_count": 6,
   "metadata": {},
   "outputs": [
    {
     "data": {
      "text/html": [
       "<span style=\"white-space:pre; font-family: monospace\">┌───┬───┬───┬───┬───┬───┬───┬───┬───┐\n",
       "│0 1│1 2│2 3│3 4│4 5│5 6│6 7│7 8│8 9│\n",
       "└───┴───┴───┴───┴───┴───┴───┴───┴───┘\n",
       "</span>"
      ]
     },
     "execution_count": 6,
     "metadata": {},
     "output_type": "execute_result"
    }
   ],
   "source": [
    "{⊂⍵}⌺2⊢⍳10"
   ]
  },
  {
   "cell_type": "code",
   "execution_count": 7,
   "metadata": {},
   "outputs": [
    {
     "data": {
      "text/html": [
       "<span style=\"white-space:pre; font-family: monospace\">┌─────┬─────┬─────┬─────┬─────┬─────┬─────┬─────┬─────┬─────┐\n",
       "│0 0 1│0 1 2│1 2 3│2 3 4│3 4 5│4 5 6│5 6 7│6 7 8│7 8 9│8 9 0│\n",
       "└─────┴─────┴─────┴─────┴─────┴─────┴─────┴─────┴─────┴─────┘\n",
       "</span>"
      ]
     },
     "execution_count": 7,
     "metadata": {},
     "output_type": "execute_result"
    }
   ],
   "source": [
    "{⊂⍵}⌺3⊢⍳10"
   ]
  },
  {
   "cell_type": "code",
   "execution_count": 8,
   "metadata": {},
   "outputs": [
    {
     "data": {
      "text/html": [
       "<span style=\"white-space:pre; font-family: monospace\">┌─────┬─────┬─────┬─────┐\n",
       "│0 0 1│2 3 4│5 6 7│8 9 0│\n",
       "└─────┴─────┴─────┴─────┘\n",
       "</span>"
      ]
     },
     "execution_count": 8,
     "metadata": {},
     "output_type": "execute_result"
    }
   ],
   "source": [
    "{⊂⍵}⌺(2 1⍴3 3)⊢⍳10"
   ]
  },
  {
   "cell_type": "code",
   "execution_count": 9,
   "metadata": {},
   "outputs": [
    {
     "data": {
      "text/html": [
       "<span style=\"white-space:pre; font-family: monospace\">┌───┬───┬───┬───┬───┐\n",
       "│0 1│2 3│4 5│6 7│8 9│\n",
       "└───┴───┴───┴───┴───┘\n",
       "</span>"
      ]
     },
     "execution_count": 9,
     "metadata": {},
     "output_type": "execute_result"
    }
   ],
   "source": [
    "{⊂⍵}⌺(2 1⍴2 2)⊢⍳10"
   ]
  },
  {
   "cell_type": "code",
   "execution_count": 10,
   "metadata": {},
   "outputs": [
    {
     "data": {
      "text/html": [
       "<span style=\"white-space:pre; font-family: monospace\">┌──────────┬──────────┬──────────┬──────────┬───────────┐\n",
       "│┌───┬───┐ │┌───┬───┐ │┌───┬───┐ │┌───┬───┐ │┌────┬───┐ │\n",
       "││1 1│   │ ││1 0│   │ ││1 0│   │ ││1 0│   │ ││1 ¯1│   │ │\n",
       "││   │ AB│ ││   │ABC│ ││   │BCD│ ││   │CDE│ ││    │DE │ │\n",
       "││   │ FG│ ││   │FGH│ ││   │GHI│ ││   │HIJ│ ││    │IJ │ │\n",
       "│└───┴───┘ │└───┴───┘ │└───┴───┘ │└───┴───┘ │└────┴───┘ │\n",
       "├──────────┼──────────┼──────────┼──────────┼───────────┤\n",
       "│┌───┬───┐ │┌───┬───┐ │┌───┬───┐ │┌───┬───┐ │┌────┬───┐ │\n",
       "││0 1│ AB│ ││0 0│ABC│ ││0 0│BCD│ ││0 0│CDE│ ││0 ¯1│DE │ │\n",
       "││   │ FG│ ││   │FGH│ ││   │GHI│ ││   │HIJ│ ││    │IJ │ │\n",
       "││   │ KL│ ││   │KLM│ ││   │LMN│ ││   │MNO│ ││    │NO │ │\n",
       "│└───┴───┘ │└───┴───┘ │└───┴───┘ │└───┴───┘ │└────┴───┘ │\n",
       "├──────────┼──────────┼──────────┼──────────┼───────────┤\n",
       "│┌────┬───┐│┌────┬───┐│┌────┬───┐│┌────┬───┐│┌─────┬───┐│\n",
       "││¯1 1│ FG│││¯1 0│FGH│││¯1 0│GHI│││¯1 0│HIJ│││¯1 ¯1│IJ ││\n",
       "││    │ KL│││    │KLM│││    │LMN│││    │MNO│││     │NO ││\n",
       "││    │   │││    │   │││    │   │││    │   │││     │   ││\n",
       "│└────┴───┘│└────┴───┘│└────┴───┘│└────┴───┘│└─────┴───┘│\n",
       "└──────────┴──────────┴──────────┴──────────┴───────────┘\n",
       "</span>"
      ]
     },
     "execution_count": 10,
     "metadata": {},
     "output_type": "execute_result"
    }
   ],
   "source": [
    "{⊂⍺ ⍵}⌺3 3⊢3 5⍴⎕A ⍝ Show the left argument vector"
   ]
  },
  {
   "cell_type": "code",
   "execution_count": 11,
   "metadata": {},
   "outputs": [
    {
     "data": {
      "text/html": [
       "<span style=\"white-space:pre; font-family: monospace\">┌──┬───┬───┬───┬──┐\n",
       "│AB│ABC│BCD│CDE│DE│\n",
       "│FG│FGH│GHI│HIJ│IJ│\n",
       "├──┼───┼───┼───┼──┤\n",
       "│AB│ABC│BCD│CDE│DE│\n",
       "│FG│FGH│GHI│HIJ│IJ│\n",
       "│KL│KLM│LMN│MNO│NO│\n",
       "├──┼───┼───┼───┼──┤\n",
       "│FG│FGH│GHI│HIJ│IJ│\n",
       "│KL│KLM│LMN│MNO│NO│\n",
       "└──┴───┴───┴───┴──┘\n",
       "</span>"
      ]
     },
     "execution_count": 11,
     "metadata": {},
     "output_type": "execute_result"
    }
   ],
   "source": [
    "{⊂⍺↓⍵}⌺3 3⊢3 5⍴⎕A ⍝ Drop all fillers"
   ]
  },
  {
   "cell_type": "code",
   "execution_count": null,
   "metadata": {},
   "outputs": [],
   "source": []
  }
 ],
 "metadata": {
  "kernelspec": {
   "display_name": "Dyalog APL",
   "language": "apl",
   "name": "dyalog-kernel"
  },
  "language_info": {
   "file_extension": ".apl",
   "mimetype": "text/apl",
   "name": "APL"
  }
 },
 "nbformat": 4,
 "nbformat_minor": 4
}