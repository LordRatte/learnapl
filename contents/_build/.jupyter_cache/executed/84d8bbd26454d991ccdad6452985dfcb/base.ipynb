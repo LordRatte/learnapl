{
 "cells": [
  {
   "cell_type": "code",
   "execution_count": 1,
   "metadata": {},
   "outputs": [
    {
     "data": {
      "text/html": [
       "<span style=\"white-space:pre; font-family: monospace\">done\n",
       "\n",
       "Rebuilding user command cache... done\n",
       "</span>"
      ]
     },
     "execution_count": 1,
     "metadata": {},
     "output_type": "execute_result"
    }
   ],
   "source": [
    "⎕IO ← 0\n",
    "{}⎕SE.UCMD'box on -s=max -t=tree -f=on'\n",
    "{}⎕SE.UCMD'rows on'\n",
    "assert←{⍺←'assertion failure' ⋄ 0∊⍵:⍺ ⎕signal 8 ⋄ shy←0}"
   ]
  },
  {
   "cell_type": "code",
   "execution_count": 2,
   "metadata": {},
   "outputs": [
    {
     "data": {
      "text/html": [
       "<span style=\"white-space:pre; font-family: monospace\">┌→───────────────────────┐\n",
       "│1 3 5 7 9 11 13 15 17 19│\n",
       "└~───────────────────────┘\n",
       "</span>"
      ]
     },
     "execution_count": 2,
     "metadata": {},
     "output_type": "execute_result"
    }
   ],
   "source": [
    "where ← 2|data ← ⍳20 ⍝ mod-2 for the whole array at once\n",
    "where/data"
   ]
  },
  {
   "cell_type": "code",
   "execution_count": 3,
   "metadata": {},
   "outputs": [
    {
     "data": {
      "text/html": [
       "<span style=\"white-space:pre; font-family: monospace\">┌→────────┐\n",
       "│iouaoeoai│\n",
       "└─────────┘\n",
       "</span>"
      ]
     },
     "execution_count": 3,
     "metadata": {},
     "output_type": "execute_result"
    }
   ],
   "source": [
    "'aeiou' {(⍵∊⍺)/⍵} 'pick out all vowels from a string'"
   ]
  },
  {
   "cell_type": "code",
   "execution_count": 4,
   "metadata": {},
   "outputs": [
    {
     "data": {
      "text/html": [
       "<span style=\"white-space:pre; font-family: monospace\">┌→──────────────────┐\n",
       "│7 9 9 2 7 3 9 8 7 1│\n",
       "└~──────────────────┘\n",
       "</span>"
      ]
     },
     "execution_count": 4,
     "metadata": {},
     "output_type": "execute_result"
    },
    {
     "data": {
      "text/html": [
       "<span style=\"white-space:pre; font-family: monospace\"> \n",
       "3\n",
       " \n",
       "</span>"
      ]
     },
     "execution_count": 4,
     "metadata": {},
     "output_type": "execute_result"
    }
   ],
   "source": [
    "card ← 7 9 9 2 7 3 9 8 7 1 3\n",
    "\n",
    "⊢body ← (count←¯1+≢card)↑card\n",
    "⊢check ← ⊢/card"
   ]
  },
  {
   "cell_type": "code",
   "execution_count": 5,
   "metadata": {},
   "outputs": [
    {
     "data": {
      "text/html": [
       "<span style=\"white-space:pre; font-family: monospace\">┌→──────────────────┐\n",
       "│1 2 1 2 1 2 1 2 1 2│\n",
       "└~──────────────────┘\n",
       "</span>"
      ]
     },
     "execution_count": 5,
     "metadata": {},
     "output_type": "execute_result"
    },
    {
     "data": {
      "text/html": [
       "<span style=\"white-space:pre; font-family: monospace\">┌→────────────────────┐\n",
       "│7 18 9 4 7 6 9 16 7 2│\n",
       "└~────────────────────┘\n",
       "</span>"
      ]
     },
     "execution_count": 5,
     "metadata": {},
     "output_type": "execute_result"
    }
   ],
   "source": [
    "⊢weights ← count⍴(2|count)⌽1 2\n",
    "⊢products ← body×weights"
   ]
  },
  {
   "cell_type": "code",
   "execution_count": 6,
   "metadata": {},
   "outputs": [
    {
     "data": {
      "text/html": [
       "<span style=\"white-space:pre; font-family: monospace\">┌→──────────────────┐\n",
       "↓0 1 0 0 0 0 0 1 0 0│\n",
       "│7 8 9 4 7 6 9 6 7 2│\n",
       "└~──────────────────┘\n",
       "</span>"
      ]
     },
     "execution_count": 6,
     "metadata": {},
     "output_type": "execute_result"
    },
    {
     "data": {
      "text/html": [
       "<span style=\"white-space:pre; font-family: monospace\">  \n",
       "67\n",
       "  \n",
       "</span>"
      ]
     },
     "execution_count": 6,
     "metadata": {},
     "output_type": "execute_result"
    }
   ],
   "source": [
    "⊢digits ← 0 10⊤products ⍝ We can think of `0 10⊤` as divmod\n",
    "⊢sum ← +⌿,digits        ⍝ By raveling, we save doing sum the sum of cols"
   ]
  },
  {
   "cell_type": "code",
   "execution_count": 7,
   "metadata": {},
   "outputs": [
    {
     "data": {
      "text/html": [
       "<span style=\"white-space:pre; font-family: monospace\"> \n",
       "3\n",
       " \n",
       "</span>"
      ]
     },
     "execution_count": 7,
     "metadata": {},
     "output_type": "execute_result"
    }
   ],
   "source": [
    "10|-sum ⍝ Magic"
   ]
  },
  {
   "cell_type": "code",
   "execution_count": 8,
   "metadata": {},
   "outputs": [],
   "source": [
    "]dinput\n",
    "luhn ← {\n",
    "    check ← ⊢/⍵\n",
    "    body ← (count←¯1+≢⍵)↑⍵\n",
    "    weights ← count⍴(2|count)⌽1 2\n",
    "    digits ← 0 10⊤body×weights\n",
    "    check=10|-+/,digits\n",
    "}"
   ]
  },
  {
   "cell_type": "code",
   "execution_count": 9,
   "metadata": {},
   "outputs": [],
   "source": [
    "assert luhn 7 9 9 2 7 3 9 8 7 1 3"
   ]
  },
  {
   "cell_type": "code",
   "execution_count": 10,
   "metadata": {},
   "outputs": [
    {
     "data": {
      "text/html": [
       "<span style=\"white-space:pre; font-family: monospace\">┌→─────┐\n",
       "│     ⍒│\n",
       "└──────┘\n",
       "</span>"
      ]
     },
     "execution_count": 10,
     "metadata": {},
     "output_type": "execute_result"
    },
    {
     "data": {
      "text/html": [
       "<span style=\"white-space:pre; font-family: monospace\">┌→─────────┐\n",
       "│    Parade│\n",
       "└──────────┘\n",
       "</span>"
      ]
     },
     "execution_count": 10,
     "metadata": {},
     "output_type": "execute_result"
    },
    {
     "data": {
      "text/html": [
       "<span style=\"white-space:pre; font-family: monospace\">┌→───────┐\n",
       "↓Longer P│\n",
       "│     APL│\n",
       "│  Parade│\n",
       "└────────┘\n",
       "</span>"
      ]
     },
     "execution_count": 10,
     "metadata": {},
     "output_type": "execute_result"
    }
   ],
   "source": [
    "⍝ 6 Align '⍒'\n",
    "'     ⍒'\n",
    "\n",
    "⍝ 10 Align 'Parade'\n",
    "'    Parade'\n",
    "\n",
    "⍝ 8 Align 'Longer Phrase' 'APL' 'Parade'\n",
    "3 8⍴'Longer P     APL  Parade'"
   ]
  },
  {
   "cell_type": "code",
   "execution_count": 11,
   "metadata": {},
   "outputs": [
    {
     "data": {
      "text/html": [
       "<span style=\"white-space:pre; font-family: monospace\">┌→┐\n",
       "│6│\n",
       "└~┘\n",
       "</span>"
      ]
     },
     "execution_count": 11,
     "metadata": {},
     "output_type": "execute_result"
    },
    {
     "data": {
      "text/html": [
       "<span style=\"white-space:pre; font-family: monospace\">┌→─┐\n",
       "│10│\n",
       "└~─┘\n",
       "</span>"
      ]
     },
     "execution_count": 11,
     "metadata": {},
     "output_type": "execute_result"
    },
    {
     "data": {
      "text/html": [
       "<span style=\"white-space:pre; font-family: monospace\">┌→──┐\n",
       "│3 8│\n",
       "└~──┘\n",
       "</span>"
      ]
     },
     "execution_count": 11,
     "metadata": {},
     "output_type": "execute_result"
    }
   ],
   "source": [
    "6 {⍺,⍨(2=≡,⍵)/≢,⍵} '⍋'\n",
    "10 {⍺,⍨(2=≡,⍵)/≢,⍵} 'Parade'\n",
    "8 {⍺,⍨(2=≡,⍵)/≢,⍵} 'Longer Phrase' 'APL' 'Parade'"
   ]
  },
  {
   "cell_type": "code",
   "execution_count": 12,
   "metadata": {},
   "outputs": [
    {
     "data": {
      "text/html": [
       "<span style=\"white-space:pre; font-family: monospace\">┌→─┐\n",
       "│10│\n",
       "└~─┘\n",
       "</span>"
      ]
     },
     "execution_count": 12,
     "metadata": {},
     "output_type": "execute_result"
    },
    {
     "data": {
      "text/html": [
       "<span style=\"white-space:pre; font-family: monospace\">┌→─────┐\n",
       "│Parade│\n",
       "└──────┘\n",
       "</span>"
      ]
     },
     "execution_count": 12,
     "metadata": {},
     "output_type": "execute_result"
    },
    {
     "data": {
      "text/html": [
       "<span style=\"white-space:pre; font-family: monospace\">┌→─────────┐\n",
       "│Parade    │\n",
       "└──────────┘\n",
       "</span>"
      ]
     },
     "execution_count": 12,
     "metadata": {},
     "output_type": "execute_result"
    }
   ],
   "source": [
    "data ← 'Parade'\n",
    "⊢sh ← 10 {⍺,⍨(2=≡,⍵)/≢,⍵} data ⍝ Shape\n",
    "↑,data                         ⍝ Mix ravel (no change for a char vector)\n",
    "10↑⍤1⊢↑,data                   ⍝ (over)take, rank-1"
   ]
  },
  {
   "cell_type": "code",
   "execution_count": 13,
   "metadata": {},
   "outputs": [
    {
     "data": {
      "text/html": [
       "<span style=\"white-space:pre; font-family: monospace\">┌→──┐\n",
       "│3 8│\n",
       "└~──┘\n",
       "</span>"
      ]
     },
     "execution_count": 13,
     "metadata": {},
     "output_type": "execute_result"
    },
    {
     "data": {
      "text/html": [
       "<span style=\"white-space:pre; font-family: monospace\">┌→────────────┐\n",
       "↓Longer Phrase│\n",
       "│APL          │\n",
       "│Parade       │\n",
       "└─────────────┘\n",
       "</span>"
      ]
     },
     "execution_count": 13,
     "metadata": {},
     "output_type": "execute_result"
    },
    {
     "data": {
      "text/html": [
       "<span style=\"white-space:pre; font-family: monospace\">┌→───────┐\n",
       "↓Longer P│\n",
       "│APL     │\n",
       "│Parade  │\n",
       "└────────┘\n",
       "</span>"
      ]
     },
     "execution_count": 13,
     "metadata": {},
     "output_type": "execute_result"
    }
   ],
   "source": [
    "data ← 'Longer Phrase' 'APL' 'Parade'\n",
    "⊢sh ← 8 {⍺,⍨(2=≡,⍵)/≢,⍵} data ⍝ Shape\n",
    "↑,data                        ⍝ Mix ravel\n",
    "⊢mat ← 8↑⍤1⊢↑,data            ⍝ (over)take, rank 1"
   ]
  },
  {
   "cell_type": "code",
   "execution_count": 14,
   "metadata": {},
   "outputs": [
    {
     "data": {
      "text/html": [
       "<span style=\"white-space:pre; font-family: monospace\">┌→──────────────┐\n",
       "↓0 0 0 0 0 0 1 0│\n",
       "│0 0 0 1 1 1 1 1│\n",
       "│0 0 0 0 0 0 1 1│\n",
       "└~──────────────┘\n",
       "</span>"
      ]
     },
     "execution_count": 14,
     "metadata": {},
     "output_type": "execute_result"
    }
   ],
   "source": [
    "' '=mat"
   ]
  },
  {
   "cell_type": "code",
   "execution_count": 15,
   "metadata": {},
   "outputs": [
    {
     "data": {
      "text/html": [
       "<span style=\"white-space:pre; font-family: monospace\">┌→──────────────────┐\n",
       "│1 1 1 0 0 0 0 0 0 0│\n",
       "└~──────────────────┘\n",
       "</span>"
      ]
     },
     "execution_count": 15,
     "metadata": {},
     "output_type": "execute_result"
    }
   ],
   "source": [
    "∧\\1 1 1 0 0 0 1 0 1 0"
   ]
  },
  {
   "cell_type": "code",
   "execution_count": 16,
   "metadata": {},
   "outputs": [
    {
     "data": {
      "text/html": [
       "<span style=\"white-space:pre; font-family: monospace\">┌→──────────────┐\n",
       "↓0 0 0 0 0 0 0 0│\n",
       "│0 0 0 1 1 1 1 1│\n",
       "│0 0 0 0 0 0 1 1│\n",
       "└~──────────────┘\n",
       "</span>"
      ]
     },
     "execution_count": 16,
     "metadata": {},
     "output_type": "execute_result"
    }
   ],
   "source": [
    "⌽∧\\⌽' '=mat   ⍝ We're keeping on arraying"
   ]
  },
  {
   "cell_type": "code",
   "execution_count": 17,
   "metadata": {},
   "outputs": [
    {
     "data": {
      "text/html": [
       "<span style=\"white-space:pre; font-family: monospace\">┌→──────────┐\n",
       "│ ABCDEFGHIK│\n",
       "└───────────┘\n",
       "</span>"
      ]
     },
     "execution_count": 17,
     "metadata": {},
     "output_type": "execute_result"
    },
    {
     "data": {
      "text/html": [
       "<span style=\"white-space:pre; font-family: monospace\">┌→────────────────────┐\n",
       "│5 1 1 1 1 1 1 1 1 1 1│\n",
       "└~────────────────────┘\n",
       "</span>"
      ]
     },
     "execution_count": 17,
     "metadata": {},
     "output_type": "execute_result"
    },
    {
     "data": {
      "text/html": [
       "<span style=\"white-space:pre; font-family: monospace\">┌→──────────────┐\n",
       "│     ABCDEFGHIK│\n",
       "└───────────────┘\n",
       "</span>"
      ]
     },
     "execution_count": 17,
     "metadata": {},
     "output_type": "execute_result"
    }
   ],
   "source": [
    "⊢data ← ' ABCDEFGHIK'         ⍝ Note: leading space\n",
    "⊢repl ← 5 1 1 1 1 1 1 1 1 1 1 ⍝ Five spaces, one of everything else\n",
    "repl/data"
   ]
  },
  {
   "cell_type": "code",
   "execution_count": 18,
   "metadata": {},
   "outputs": [
    {
     "data": {
      "text/html": [
       "<span style=\"white-space:pre; font-family: monospace\">┌→────────┐\n",
       "↓ Longer P│\n",
       "│ APL     │\n",
       "│ Parade  │\n",
       "└─────────┘\n",
       "</span>"
      ]
     },
     "execution_count": 18,
     "metadata": {},
     "output_type": "execute_result"
    },
    {
     "data": {
      "text/html": [
       "<span style=\"white-space:pre; font-family: monospace\">┌→──────────────┐\n",
       "↓1 1 1 1 1 1 1 1│\n",
       "│1 1 1 0 0 0 0 0│\n",
       "│1 1 1 1 1 1 0 0│\n",
       "└~──────────────┘\n",
       "</span>"
      ]
     },
     "execution_count": 18,
     "metadata": {},
     "output_type": "execute_result"
    },
    {
     "data": {
      "text/html": [
       "<span style=\"white-space:pre; font-family: monospace\">┌→────┐\n",
       "│0 5 2│\n",
       "└~────┘\n",
       "</span>"
      ]
     },
     "execution_count": 18,
     "metadata": {},
     "output_type": "execute_result"
    },
    {
     "data": {
      "text/html": [
       "<span style=\"white-space:pre; font-family: monospace\">┌→────────────────┐\n",
       "↓0 1 1 1 1 1 1 1 1│\n",
       "│5 1 1 1 0 0 0 0 0│\n",
       "│2 1 1 1 1 1 1 0 0│\n",
       "└~────────────────┘\n",
       "</span>"
      ]
     },
     "execution_count": 18,
     "metadata": {},
     "output_type": "execute_result"
    }
   ],
   "source": [
    "trailling ← ⌽∧\\⌽' '=mat ⍝ Find trailling spaces, as per above\n",
    "⊢spaced ← ' ',mat       ⍝ Add a space as the first char of each row\n",
    "⊢keepers ← ~trailling   ⍝ Everything not a trailling space\n",
    "⊢padding ← +/trailling  ⍝ Amount of leading padding to be inserted per row\n",
    "⊢repl ← padding,keepers ⍝ Number of replications per character"
   ]
  },
  {
   "cell_type": "code",
   "execution_count": 19,
   "metadata": {},
   "outputs": [
    {
     "data": {
      "text/html": [
       "<span style=\"white-space:pre; font-family: monospace\">┌→───────┐\n",
       "↓Longer P│\n",
       "│     APL│\n",
       "│  Parade│\n",
       "└────────┘\n",
       "</span>"
      ]
     },
     "execution_count": 19,
     "metadata": {},
     "output_type": "execute_result"
    }
   ],
   "source": [
    "repl/⍤1⊢spaced ⍝ Replicate along vectors"
   ]
  },
  {
   "cell_type": "code",
   "execution_count": 20,
   "metadata": {},
   "outputs": [],
   "source": [
    "]dinput\n",
    "Align ← {\n",
    "    shape ← ⍺,⍨(2=≡,⍵)/≢,⍵  ⍝ Shape, as specified\n",
    "    mat ← ⍺↑⍤1⊢↑,⍵          ⍝ Truncate rank 1\n",
    "    trailling ← ⌽∧\\⌽' '=mat ⍝ Find trailling spaces\n",
    "    spaced ← ' ',mat        ⍝ Add a space as the first char of each row\n",
    "    keepers ← ~trailling    ⍝ Everything not a trailling space\n",
    "    padding ← +/trailling   ⍝ Amount of leading padding to be inserted per row\n",
    "    repl ← padding,keepers  ⍝ Number of replications per character\n",
    "    repl/⍤1⊢spaced          ⍝ Replicate rank 1\n",
    "}"
   ]
  },
  {
   "cell_type": "code",
   "execution_count": 21,
   "metadata": {},
   "outputs": [
    {
     "data": {
      "text/html": [
       "<span style=\"white-space:pre; font-family: monospace\">┌→─────┐\n",
       "│     ⍋│\n",
       "└──────┘\n",
       "</span>"
      ]
     },
     "execution_count": 21,
     "metadata": {},
     "output_type": "execute_result"
    },
    {
     "data": {
      "text/html": [
       "<span style=\"white-space:pre; font-family: monospace\">┌→─────────┐\n",
       "│    Parade│\n",
       "└──────────┘\n",
       "</span>"
      ]
     },
     "execution_count": 21,
     "metadata": {},
     "output_type": "execute_result"
    },
    {
     "data": {
      "text/html": [
       "<span style=\"white-space:pre; font-family: monospace\">┌→───────┐\n",
       "↓Longer P│\n",
       "│     APL│\n",
       "│  Parade│\n",
       "└────────┘\n",
       "</span>"
      ]
     },
     "execution_count": 21,
     "metadata": {},
     "output_type": "execute_result"
    }
   ],
   "source": [
    "6 Align '⍋'\n",
    "10 Align 'Parade'\n",
    "8 Align 'Longer Phrase' 'APL' 'Parade'"
   ]
  },
  {
   "cell_type": "code",
   "execution_count": 22,
   "metadata": {},
   "outputs": [
    {
     "data": {
      "text/html": [
       "<span style=\"white-space:pre; font-family: monospace\">┌→───────────────────────────────────────────────────────────────────────────┐\n",
       "│     ┌→───┐   ┌→───┐ ┌→───┐     ┌→───┐ ┌→───┐    ┌→───┐       ┌→───────┐    │\n",
       "│ 1 2 │Fizz│ 4 │Buzz│ │Fizz│ 7 8 │Fizz│ │Buzz│ 11 │Fizz│ 13 14 │FizzBuzz│ 16 │\n",
       "│     └────┘   └────┘ └────┘     └────┘ └────┘    └────┘       └────────┘    │\n",
       "└∊───────────────────────────────────────────────────────────────────────────┘\n",
       "</span>"
      ]
     },
     "execution_count": 22,
     "metadata": {},
     "output_type": "execute_result"
    }
   ],
   "source": [
    "{⊃⍵ 'Fizz' 'Buzz' 'FizzBuzz'[+/1 2×0=3 5|⍵]}¨1+⍳16 ⍝ Requires ⎕IO←0"
   ]
  },
  {
   "cell_type": "code",
   "execution_count": 23,
   "metadata": {},
   "outputs": [
    {
     "data": {
      "text/html": [
       "<span style=\"white-space:pre; font-family: monospace\">┌→──────────────────────────────┐\n",
       "↓0 0 1 0 0 1 0 0 1 0 0 1 0 0 1 0│\n",
       "│0 0 0 0 1 0 0 0 0 1 0 0 0 0 1 0│\n",
       "└~──────────────────────────────┘\n",
       "</span>"
      ]
     },
     "execution_count": 23,
     "metadata": {},
     "output_type": "execute_result"
    }
   ],
   "source": [
    "data ← 1+⍳16\n",
    "⊢fizzbuzz ← 0=3 5∘.|data"
   ]
  },
  {
   "cell_type": "code",
   "execution_count": 24,
   "metadata": {},
   "outputs": [
    {
     "data": {
      "text/html": [
       "<span style=\"white-space:pre; font-family: monospace\">┌→──────────────────────────────┐\n",
       "↓1 1 0 1 0 0 1 1 0 0 1 0 1 1 0 1│\n",
       "│0 0 1 0 0 1 0 0 1 0 0 1 0 0 1 0│\n",
       "│0 0 0 0 1 0 0 0 0 1 0 0 0 0 1 0│\n",
       "└~──────────────────────────────┘\n",
       "</span>"
      ]
     },
     "execution_count": 24,
     "metadata": {},
     "output_type": "execute_result"
    }
   ],
   "source": [
    "⊢mat ← (⍱⌿⍪⊢)fizzbuzz  ⍝ Tacit for {(⍱⌿⍵)⍪⍵} -- column-wise logical NOR as the new first row"
   ]
  },
  {
   "cell_type": "code",
   "execution_count": 25,
   "metadata": {},
   "outputs": [
    {
     "data": {
      "text/html": [
       "<span style=\"white-space:pre; font-family: monospace\">┌→──────────────────────────────────┐\n",
       "↓1 2 0 4 0 0 7 8 0 0 11 0 13 14 0 16│\n",
       "│0 0 1 0 0 1 0 0 1 0  0 1  0  0 1  0│\n",
       "│0 0 0 0 1 0 0 0 0 1  0 0  0  0 1  0│\n",
       "└~──────────────────────────────────┘\n",
       "</span>"
      ]
     },
     "execution_count": 25,
     "metadata": {},
     "output_type": "execute_result"
    }
   ],
   "source": [
    "mat×@0⍨←data ⍝ Check that out! Modified assignment\n",
    "mat"
   ]
  },
  {
   "cell_type": "code",
   "execution_count": 26,
   "metadata": {},
   "outputs": [
    {
     "data": {
      "text/html": [
       "<span style=\"white-space:pre; font-family: monospace\">┌→───────────────────────────────────────────────────────────────────────┐\n",
       "↓                                                                        │\n",
       "│ 1 2 0      4 0      0      7 8 0      0      11 0      13 14 0      16 │\n",
       "│                                                                        │\n",
       "│     ┌→───┐          ┌→───┐     ┌→───┐           ┌→───┐       ┌→───┐    │\n",
       "│ 0 0 │fizz│ 0 0      │fizz│ 0 0 │fizz│ 0      0  │fizz│ 0  0  │fizz│ 0  │\n",
       "│     └────┘          └────┘     └────┘           └────┘       └────┘    │\n",
       "│              ┌→───┐                   ┌→───┐                 ┌→───┐    │\n",
       "│ 0 0 0      0 │buzz│ 0      0 0 0      │buzz│ 0  0      0  0  │buzz│ 0  │\n",
       "│              └────┘                   └────┘                 └────┘    │\n",
       "└∊───────────────────────────────────────────────────────────────────────┘\n",
       "</span>"
      ]
     },
     "execution_count": 26,
     "metadata": {},
     "output_type": "execute_result"
    }
   ],
   "source": [
    "mat[↓1,⍤0 0⊢⍸1⌷mat]←⊂'fizz'\n",
    "mat[↓2,⍤0 0⊢⍸2⌷mat]←⊂'buzz'\n",
    "mat"
   ]
  },
  {
   "cell_type": "code",
   "execution_count": 27,
   "metadata": {},
   "outputs": [
    {
     "data": {
      "text/html": [
       "<span style=\"white-space:pre; font-family: monospace\">┌→─────────────────────────────────────────────────────────────────────────────────────────────┐\n",
       "│ ┌→┐ ┌→┐ ┌→───┐ ┌→┐ ┌→───┐ ┌→───┐ ┌→┐ ┌→┐ ┌→───┐ ┌→───┐ ┌→─┐ ┌→───┐ ┌→─┐ ┌→─┐ ┌→───────┐ ┌→─┐ │\n",
       "│ │1│ │2│ │fizz│ │4│ │buzz│ │fizz│ │7│ │8│ │fizz│ │buzz│ │11│ │fizz│ │13│ │14│ │fizzbuzz│ │16│ │\n",
       "│ └~┘ └~┘ └────┘ └~┘ └────┘ └────┘ └~┘ └~┘ └────┘ └────┘ └~─┘ └────┘ └~─┘ └~─┘ └────────┘ └~─┘ │\n",
       "└∊─────────────────────────────────────────────────────────────────────────────────────────────┘\n",
       "</span>"
      ]
     },
     "execution_count": 27,
     "metadata": {},
     "output_type": "execute_result"
    }
   ],
   "source": [
    "0~⍨¨,⌿mat"
   ]
  },
  {
   "cell_type": "code",
   "execution_count": null,
   "metadata": {},
   "outputs": [],
   "source": []
  }
 ],
 "metadata": {
  "kernelspec": {
   "display_name": "Dyalog APL",
   "language": "apl",
   "name": "dyalog-kernel"
  },
  "language_info": {
   "file_extension": ".apl",
   "mimetype": "text/apl",
   "name": "APL"
  }
 },
 "nbformat": 4,
 "nbformat_minor": 4
}