{
 "cells": [
  {
   "cell_type": "code",
   "execution_count": 1,
   "metadata": {},
   "outputs": [
    {
     "data": {
      "text/html": [
       "<span style=\"white-space:pre; font-family: monospace\">\n",
       "Rebuilding user command cache... done\n",
       "\n",
       "Rebuilding user command cache... done\n",
       "</span>"
      ]
     },
     "execution_count": 1,
     "metadata": {},
     "output_type": "execute_result"
    }
   ],
   "source": [
    "⎕IO ← 0\n",
    "{}⎕SE.UCMD'box on -s=max -t=tree -f=on'\n",
    "{}⎕SE.UCMD'rows on'\n",
    "assert←{⍺←'assertion failure' ⋄ 0∊⍵:⍺ ⎕signal 8 ⋄ shy←0}"
   ]
  },
  {
   "cell_type": "code",
   "execution_count": 2,
   "metadata": {},
   "outputs": [
    {
     "data": {
      "text/html": [
       "<span style=\"white-space:pre; font-family: monospace\">┌→────────────┐\n",
       "│1 0 0 0 1 1 1│\n",
       "└~────────────┘\n",
       "</span>"
      ]
     },
     "execution_count": 2,
     "metadata": {},
     "output_type": "execute_result"
    }
   ],
   "source": [
    "0@1 2 3⊢1 1 1 1 1 1 1"
   ]
  },
  {
   "cell_type": "code",
   "execution_count": 3,
   "metadata": {},
   "outputs": [
    {
     "data": {
      "text/html": [
       "<span style=\"white-space:pre; font-family: monospace\">┌→────────────┐\n",
       "│1 0 0 0 1 1 1│\n",
       "└~────────────┘\n",
       "</span>"
      ]
     },
     "execution_count": 3,
     "metadata": {},
     "output_type": "execute_result"
    }
   ],
   "source": [
    "(0@1 2 3) 1 1 1 1 1 1 1"
   ]
  },
  {
   "cell_type": "code",
   "execution_count": 4,
   "metadata": {},
   "outputs": [
    {
     "data": {
      "text/html": [
       "<span style=\"white-space:pre; font-family: monospace\">┌→──────────┐\n",
       "│H***o world│\n",
       "└───────────┘\n",
       "</span>"
      ]
     },
     "execution_count": 4,
     "metadata": {},
     "output_type": "execute_result"
    }
   ],
   "source": [
    "'*'@{0 1 1 1 0 0 0 0 0 0 0} 'Hello world' ⍝ Right operand: function returning boolean array"
   ]
  },
  {
   "cell_type": "code",
   "execution_count": 5,
   "metadata": {},
   "outputs": [
    {
     "data": {
      "text/html": [
       "<span style=\"white-space:pre; font-family: monospace\">┌→──────────────────────────┐\n",
       "│5 1 7 3 9 5 11 7 13 9 15 11│\n",
       "└~──────────────────────────┘\n",
       "</span>"
      ]
     },
     "execution_count": 5,
     "metadata": {},
     "output_type": "execute_result"
    }
   ],
   "source": [
    "{5+⍵}@{0=2|⍵} ⍳12"
   ]
  },
  {
   "cell_type": "code",
   "execution_count": 6,
   "metadata": {},
   "outputs": [
    {
     "data": {
      "text/html": [
       "<span style=\"white-space:pre; font-family: monospace\">┌→──────────────────────┐\n",
       "│1 0 1 0 1 0 1 0 1 0 1 0│\n",
       "└~──────────────────────┘\n",
       "</span>"
      ]
     },
     "execution_count": 6,
     "metadata": {},
     "output_type": "execute_result"
    }
   ],
   "source": [
    "{0=2|⍵} ⍳12 ⍝ Return boolean mask indicating the even numbers"
   ]
  },
  {
   "cell_type": "code",
   "execution_count": 7,
   "metadata": {},
   "outputs": [
    {
     "data": {
      "text/html": [
       "<span style=\"white-space:pre; font-family: monospace\">┌→───────────┐\n",
       "│0 2 4 6 8 10│\n",
       "└~───────────┘\n",
       "</span>"
      ]
     },
     "execution_count": 7,
     "metadata": {},
     "output_type": "execute_result"
    }
   ],
   "source": [
    "({0=2|⍵} ⍳12)/⍳12 ⍝ Compress"
   ]
  },
  {
   "cell_type": "code",
   "execution_count": 8,
   "metadata": {},
   "outputs": [
    {
     "data": {
      "text/html": [
       "<span style=\"white-space:pre; font-family: monospace\">┌→─────────────┐\n",
       "│5 7 9 11 13 15│\n",
       "└~─────────────┘\n",
       "</span>"
      ]
     },
     "execution_count": 8,
     "metadata": {},
     "output_type": "execute_result"
    }
   ],
   "source": [
    "{5+⍵} 0 2 4 6 8 10 ⍝ Left operand applied to elements selected by right operand"
   ]
  },
  {
   "cell_type": "code",
   "execution_count": 9,
   "metadata": {},
   "outputs": [],
   "source": [
    "]dinput\n",
    "_At_←{ ⍝ Partial @ - left and right operands must be functions, and the right arg a vector\n",
    "    mutator ← ⍺⍺                   ⍝ Left operand -- function only\n",
    "    selector ← ⍵⍵                  ⍝ Right operand -- function only\n",
    "    data ← ⍵                       ⍝ Derived function right argument -- vector only. Note: copy\n",
    "    mask ← selector data\n",
    "    selection ← mask/data          ⍝ Compress the data according to boolean mask\n",
    "    newvals ← mutator selection    ⍝ Mutate our selectopm\n",
    "    (mask/data) ← newvals          ⍝ Replace with the mutated values in copy\n",
    "    data                           ⍝ Return result\n",
    "}"
   ]
  },
  {
   "cell_type": "code",
   "execution_count": 10,
   "metadata": {},
   "outputs": [
    {
     "data": {
      "text/html": [
       "<span style=\"white-space:pre; font-family: monospace\">┌→──────────────────────────┐\n",
       "│5 1 7 3 9 5 11 7 13 9 15 11│\n",
       "└~──────────────────────────┘\n",
       "</span>"
      ]
     },
     "execution_count": 10,
     "metadata": {},
     "output_type": "execute_result"
    }
   ],
   "source": [
    "{5+⍵}_At_{0=2|⍵} ⍳12"
   ]
  },
  {
   "cell_type": "code",
   "execution_count": 11,
   "metadata": {},
   "outputs": [],
   "source": [
    "]dinput\n",
    "_At_←{ ⍝ Partial @ - left and right operands must be functions, and the right arg a vector\n",
    "    data ← ⍵\n",
    "    (mask/data) ← ⍺⍺ (mask←⍵⍵ ⍵)/⍵\n",
    "    data\n",
    "}"
   ]
  },
  {
   "cell_type": "code",
   "execution_count": 12,
   "metadata": {},
   "outputs": [
    {
     "data": {
      "text/html": [
       "<span style=\"white-space:pre; font-family: monospace\">┌→──────────────────────────┐\n",
       "│5 1 7 3 9 5 11 7 13 9 15 11│\n",
       "└~──────────────────────────┘\n",
       "</span>"
      ]
     },
     "execution_count": 12,
     "metadata": {},
     "output_type": "execute_result"
    }
   ],
   "source": [
    "{5+⍵}_At_{0=2|⍵} ⍳12"
   ]
  },
  {
   "cell_type": "code",
   "execution_count": 13,
   "metadata": {},
   "outputs": [
    {
     "data": {
      "text/html": [
       "<span style=\"white-space:pre; font-family: monospace\">┌→───────┐\n",
       "↓¯1 ¯2 ¯3│\n",
       "│ 4  5  6│\n",
       "│¯7 ¯8 ¯9│\n",
       "└~───────┘\n",
       "</span>"
      ]
     },
     "execution_count": 13,
     "metadata": {},
     "output_type": "execute_result"
    }
   ],
   "source": [
    "-@0 2 ⊢ 3 3⍴1 2 3 4 5 6 7 8 9 ⍝ Negate rows 0 and 2: major cells"
   ]
  },
  {
   "cell_type": "code",
   "execution_count": 14,
   "metadata": {},
   "outputs": [
    {
     "data": {
      "text/html": [
       "<span style=\"white-space:pre; font-family: monospace\">┌→──────┐\n",
       "↓¯1 2  3│\n",
       "│ 4 5  6│\n",
       "│ 7 8 ¯9│\n",
       "└~──────┘\n",
       "</span>"
      ]
     },
     "execution_count": 14,
     "metadata": {},
     "output_type": "execute_result"
    }
   ],
   "source": [
    "-@(0 0)(2 2) ⊢ 3 3⍴1 2 3 4 5 6 7 8 9 ⍝ Negate corners of main diagonal by choose indexing"
   ]
  },
  {
   "cell_type": "code",
   "execution_count": 15,
   "metadata": {},
   "outputs": [
    {
     "data": {
      "text/html": [
       "<span style=\"white-space:pre; font-family: monospace\">┌→────────────────────────────────────────┐\n",
       "↓ ┌→─────────┐  ┌→────────┐ ┌→─────────┐  │\n",
       "│ │ ┌→───┐   │  │ ┌→──┐   │ │ ┌→───┐   │  │\n",
       "│ │ │Adam│ 1 │  │ │Bob│ 2 │ │ │Carl│ 3 │  │\n",
       "│ │ └────┘   │  │ └───┘   │ │ └────┘   │  │\n",
       "│ └∊─────────┘  └∊────────┘ └∊─────────┘  │\n",
       "│ ┌→──────────┐ ┌→────────┐ ┌→──────────┐ │\n",
       "│ │ ┌→────┐   │ │ ┌→──┐   │ │ ┌→────┐   │ │\n",
       "│ │ │Danni│ 4 │ │ │Eve│ 5 │ │ │Frank│ 6 │ │\n",
       "│ │ └─────┘   │ │ └───┘   │ │ └─────┘   │ │\n",
       "│ └∊──────────┘ └∊────────┘ └∊──────────┘ │\n",
       "└∊────────────────────────────────────────┘\n",
       "</span>"
      ]
     },
     "execution_count": 15,
     "metadata": {},
     "output_type": "execute_result"
    },
    {
     "data": {
      "text/html": [
       "<span style=\"white-space:pre; font-family: monospace\">┌→───────────────────────────────────────────┐\n",
       "↓ ┌→────────┐   ┌→────────┐ ┌→─────────┐     │\n",
       "│ │ ┌→──┐   │   │ ┌→──┐   │ │ ┌→───┐   │     │\n",
       "│ │ │***│ 1 │   │ │Bob│ 2 │ │ │Carl│ 3 │     │\n",
       "│ │ └───┘   │   │ └───┘   │ │ └────┘   │     │\n",
       "│ └∊────────┘   └∊────────┘ └∊─────────┘     │\n",
       "│ ┌→──────────┐ ┌→────────┐ ┌→─────────────┐ │\n",
       "│ │ ┌→────┐   │ │ ┌→──┐   │ │ ┌→────┐      │ │\n",
       "│ │ │Danni│ 4 │ │ │Eve│ 5 │ │ │Frank│ ¯999 │ │\n",
       "│ │ └─────┘   │ │ └───┘   │ │ └─────┘      │ │\n",
       "│ └∊──────────┘ └∊────────┘ └∊─────────────┘ │\n",
       "└∊───────────────────────────────────────────┘\n",
       "</span>"
      ]
     },
     "execution_count": 15,
     "metadata": {},
     "output_type": "execute_result"
    }
   ],
   "source": [
    "⊢G←2 3⍴('Adam' 1)('Bob' 2)('Carl' 3)('Danni' 4)('Eve' 5)('Frank' 6)\n",
    "'***' ¯999@((0 0)0)((1 2)1) ⊢ G"
   ]
  },
  {
   "cell_type": "code",
   "execution_count": 16,
   "metadata": {},
   "outputs": [
    {
     "data": {
      "text/html": [
       "<span style=\"white-space:pre; font-family: monospace\">┌→──────────────────┐\n",
       "│Hello World One Two│\n",
       "└───────────────────┘\n",
       "</span>"
      ]
     },
     "execution_count": 16,
     "metadata": {},
     "output_type": "execute_result"
    }
   ],
   "source": [
    "' '@(=∘'-')⊢'Hello-World-One-Two' ⍝ Replace dashes with spaces"
   ]
  },
  {
   "cell_type": "code",
   "execution_count": 17,
   "metadata": {},
   "outputs": [
    {
     "data": {
      "text/html": [
       "<span style=\"white-space:pre; font-family: monospace\">┌→──────┐\n",
       "↓0 0 0 0│\n",
       "│0 1 1 0│\n",
       "│0 1 1 0│\n",
       "│0 0 0 0│\n",
       "└~──────┘\n",
       "</span>"
      ]
     },
     "execution_count": 17,
     "metadata": {},
     "output_type": "execute_result"
    }
   ],
   "source": [
    "{⍵@(1+⍳⍴⍵)⊢0⍴⍨2+⍴⍵} 2 2⍴1 1 1 1 ⍝ Pad an array with zeros"
   ]
  },
  {
   "cell_type": "code",
   "execution_count": null,
   "metadata": {},
   "outputs": [],
   "source": []
  }
 ],
 "metadata": {
  "kernelspec": {
   "display_name": "Dyalog APL",
   "language": "apl",
   "name": "dyalog-kernel"
  },
  "language_info": {
   "file_extension": ".apl",
   "mimetype": "text/apl",
   "name": "APL"
  }
 },
 "nbformat": 4,
 "nbformat_minor": 4
}