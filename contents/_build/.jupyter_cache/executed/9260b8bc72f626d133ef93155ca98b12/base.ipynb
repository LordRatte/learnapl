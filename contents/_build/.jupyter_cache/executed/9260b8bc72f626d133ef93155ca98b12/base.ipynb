{
 "cells": [
  {
   "cell_type": "code",
   "execution_count": 1,
   "metadata": {},
   "outputs": [
    {
     "data": {
      "text/html": [
       "<span style=\"white-space:pre; font-family: monospace\">done\n",
       "\n",
       "Rebuilding user command cache... done\n",
       "</span>"
      ]
     },
     "execution_count": 1,
     "metadata": {},
     "output_type": "execute_result"
    }
   ],
   "source": [
    "⎕IO ← 0\n",
    "{}⎕SE.UCMD'box on -s=min -t=tree -f=on'\n",
    "{}⎕SE.UCMD'rows on'\n",
    "'span' 'stpath'⎕CY'dfns'"
   ]
  },
  {
   "cell_type": "code",
   "execution_count": 2,
   "metadata": {},
   "outputs": [],
   "source": [
    ":Namespace graph\n",
    "    ⎕io←0\n",
    "    ⍝ https://www.dcode.fr/maze-generator\n",
    "    N←{(⍸⍺)∩(⊂⍵)(+,-)(0 1)(1 0)}\n",
    "\n",
    "    _solve←{\n",
    "        (n g)←{f({{f⍳⊂⍵}¨⍵}¨m∘N¨f←⍸m←~'#'=⍵)}⍺⍺\n",
    "        n[(g ##.span ⍺) ##.stpath ⍵]\n",
    "    }\n",
    "\n",
    "    showpath←{\n",
    "        '⎕'@⍺⊢⍵\n",
    "    }\n",
    "\n",
    ":EndNamespace"
   ]
  },
  {
   "cell_type": "code",
   "execution_count": 3,
   "metadata": {},
   "outputs": [],
   "source": [
    "maze←↑⊃⎕NGET'/Users/stefan/work/dyalog/learnapl/maze-big.txt'1"
   ]
  },
  {
   "cell_type": "code",
   "execution_count": 4,
   "metadata": {},
   "outputs": [],
   "source": [
    "p ← 0 (maze graph._solve) 5004"
   ]
  },
  {
   "cell_type": "code",
   "execution_count": 5,
   "metadata": {},
   "outputs": [],
   "source": [
    "⍝p graph.showpath maze"
   ]
  },
  {
   "cell_type": "code",
   "execution_count": 6,
   "metadata": {},
   "outputs": [],
   "source": [
    "moves←{{⌽@zero ⍵⊢state}¨(,⍳⍴state)∩(0 1)(1 0)(0 ¯1)(¯1 0)+⊂zero←⊃⍸0=state←⍵}"
   ]
  },
  {
   "cell_type": "code",
   "execution_count": 7,
   "metadata": {},
   "outputs": [
    {
     "data": {
      "text/html": [
       "<span style=\"white-space:pre; font-family: monospace\">3  0  5 12\n",
       "4  9  8  6\n",
       "2 10 11 15\n",
       "7 13  1 14\n",
       "</span>"
      ]
     },
     "execution_count": 7,
     "metadata": {},
     "output_type": "execute_result"
    },
    {
     "data": {
      "text/html": [
       "<span style=\"white-space:pre; font-family: monospace\">┌──────────┬──────────┬──────────┐\n",
       "│0  3  5 12│3  5  0 12│3  9  5 12│\n",
       "│4  9  8  6│4  9  8  6│4  0  8  6│\n",
       "│2 10 11 15│2 10 11 15│2 10 11 15│\n",
       "│7 13  1 14│7 13  1 14│7 13  1 14│\n",
       "└──────────┴──────────┴──────────┘\n",
       "</span>"
      ]
     },
     "execution_count": 7,
     "metadata": {},
     "output_type": "execute_result"
    }
   ],
   "source": [
    "⊢state←4 4⍴?⍨16 ⍝ A random puzzle state. Note: not all states have solutions!\n",
    "moves state"
   ]
  },
  {
   "cell_type": "code",
   "execution_count": 8,
   "metadata": {},
   "outputs": [
    {
     "data": {
      "text/html": [
       "<span style=\"white-space:pre; font-family: monospace\">0 1 2 3 4 5 6 7\n",
       "0 1 2 3 6 5 4 7\n",
       "</span>"
      ]
     },
     "execution_count": 8,
     "metadata": {},
     "output_type": "execute_result"
    }
   ],
   "source": [
    "⌽@4 6⊢⎕←⍳8   ⍝ Swap positions 4 and 6"
   ]
  }
 ],
 "metadata": {
  "kernelspec": {
   "display_name": "Dyalog APL",
   "language": "apl",
   "name": "dyalog-kernel"
  },
  "language_info": {
   "file_extension": ".apl",
   "mimetype": "text/apl",
   "name": "APL"
  }
 },
 "nbformat": 4,
 "nbformat_minor": 4
}