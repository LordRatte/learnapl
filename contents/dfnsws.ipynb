{
 "cells": [
  {
   "cell_type": "markdown",
   "metadata": {},
   "source": [
    "# The dfns workspace\n",
    "\n",
    "> Computers are like Old Testament gods; lots of rules and no mercy.  --_Joseph Campbell_"
   ]
  },
  {
   "cell_type": "markdown",
   "metadata": {},
   "source": [
    "Dyalog ships with a workspace called [dfns](http://dfns.dyalog.com/sindx.htm). It's perhaps best viewed as a set of diverse examples of ... stuff. Hard to explain -- maybe think of it as [John Scholes'](https://en.wikipedia.org/wiki/John_M._Scholes) scrap book, interesting snippets of APL code that may or may not be useful to other APLers. No other language I'm aware of has something like this -- a folklore snapshot. The oral tradition of the language, written down.\n",
    "\n",
    "As a \"standard library\" it's hopelessly badly organized - so let's not call it that, and it's not the intention anyway. Yet it contains some real gems, and it's really comprehensively documented, most entries accompanied by substantial essays. It contains interpreters for several languages, including Lisp, tons of utility routines, a pretty complete set of functions for manipulating graphs, various non-trivial data structures etc etc. \n",
    "\n",
    "For the learner, perhaps the most productive use of the dfns ws is as inspiration: browsing through it, learning from its examples and well-documented implementations. I thought I'd highlight some of the things I've discovered in there and found useful."
   ]
  },
  {
   "cell_type": "markdown",
   "metadata": {},
   "source": [
    "## iotag\n",
    "\n",
    "A very useful little function is [iotag](http://dfns.dyalog.com/n_iotag.htm), for `iota-generalized`, although I can't help but read it `io-tag`. It fleshes out the built-in `iota`, `⍳`, both in its monadic and dyadic forms. Let's look at a few examples:"
   ]
  },
  {
   "cell_type": "code",
   "execution_count": 1,
   "metadata": {},
   "outputs": [
    {
     "data": {
      "text/html": [
       "<span style=\"white-space:pre; font-family: monospace\">done\n",
       "\n",
       "Rebuilding user command cache... done\n",
       "</span>"
      ]
     },
     "execution_count": 1,
     "metadata": {},
     "output_type": "execute_result"
    }
   ],
   "source": [
    "'iotag' ⎕CY 'dfns' ⍝ Load the iotag function"
   ]
  },
  {
   "cell_type": "markdown",
   "metadata": {},
   "source": [
    "Inclusive range `start` to `end`:"
   ]
  },
  {
   "cell_type": "code",
   "execution_count": 4,
   "metadata": {},
   "outputs": [
    {
     "data": {
      "text/html": [
       "<span style=\"white-space:pre; font-family: monospace\">10 11 12 13 14 15 16 17 18 19 20\n",
       "</span>"
      ]
     },
     "execution_count": 4,
     "metadata": {},
     "output_type": "execute_result"
    }
   ],
   "source": [
    "10 iotag 20 ⍝ ⍺ to ⍵ inclusive range"
   ]
  },
  {
   "cell_type": "markdown",
   "metadata": {},
   "source": [
    "...and which can also count down:"
   ]
  },
  {
   "cell_type": "code",
   "execution_count": 5,
   "metadata": {},
   "outputs": [
    {
     "data": {
      "text/html": [
       "<span style=\"white-space:pre; font-family: monospace\">20 19 18 17 16 15 14 13 12 11 10\n",
       "</span>"
      ]
     },
     "execution_count": 5,
     "metadata": {},
     "output_type": "execute_result"
    }
   ],
   "source": [
    "20 iotag 10"
   ]
  },
  {
   "cell_type": "markdown",
   "metadata": {},
   "source": [
    "and is fine with negative numbers, too:"
   ]
  },
  {
   "cell_type": "code",
   "execution_count": 6,
   "metadata": {},
   "outputs": [
    {
     "data": {
      "text/html": [
       "<span style=\"white-space:pre; font-family: monospace\">¯10 ¯11 ¯12 ¯13 ¯14 ¯15 ¯16 ¯17 ¯18 ¯19 ¯20\n",
       "</span>"
      ]
     },
     "execution_count": 6,
     "metadata": {},
     "output_type": "execute_result"
    },
    {
     "data": {
      "text/html": [
       "<span style=\"white-space:pre; font-family: monospace\">¯20 ¯19 ¯18 ¯17 ¯16 ¯15 ¯14 ¯13 ¯12 ¯11 ¯10\n",
       "</span>"
      ]
     },
     "execution_count": 6,
     "metadata": {},
     "output_type": "execute_result"
    }
   ],
   "source": [
    "¯10 iotag ¯20\n",
    "¯20 iotag ¯10"
   ]
  },
  {
   "cell_type": "markdown",
   "metadata": {},
   "source": [
    "We can also specify a step-size:"
   ]
  },
  {
   "cell_type": "code",
   "execution_count": 8,
   "metadata": {},
   "outputs": [
    {
     "data": {
      "text/html": [
       "<span style=\"white-space:pre; font-family: monospace\">10 12 14 16 18 20\n",
       "</span>"
      ]
     },
     "execution_count": 8,
     "metadata": {},
     "output_type": "execute_result"
    }
   ],
   "source": [
    "10 iotag 21 2"
   ]
  },
  {
   "cell_type": "markdown",
   "metadata": {},
   "source": [
    "which doesn't even have to be integer"
   ]
  },
  {
   "cell_type": "code",
   "execution_count": 9,
   "metadata": {},
   "outputs": [
    {
     "data": {
      "text/html": [
       "<span style=\"white-space:pre; font-family: monospace\">10 10.53 11.06 11.59 12.12 12.65 13.18 13.71 14.24 14.77 15.3 15.83 16.36 16.89\n",
       "\n",
       "       17.42 17.95 18.48 19.01 19.54 20.07 20.6\n",
       "</span>"
      ]
     },
     "execution_count": 9,
     "metadata": {},
     "output_type": "execute_result"
    }
   ],
   "source": [
    "10 iotag 21 0.53"
   ]
  },
  {
   "cell_type": "markdown",
   "metadata": {},
   "source": [
    "It also understands letters:"
   ]
  },
  {
   "cell_type": "code",
   "execution_count": 11,
   "metadata": {},
   "outputs": [
    {
     "data": {
      "text/html": [
       "<span style=\"white-space:pre; font-family: monospace\">QPONMLKJIH\n",
       "</span>"
      ]
     },
     "execution_count": 11,
     "metadata": {},
     "output_type": "execute_result"
    }
   ],
   "source": [
    "'Q' iotag 'H'"
   ]
  },
  {
   "cell_type": "markdown",
   "metadata": {},
   "source": [
    "It can do many, many more things, also generalizing the `index-of` aspect of _iota_."
   ]
  },
  {
   "cell_type": "markdown",
   "metadata": {},
   "source": [
    "## segs"
   ]
  },
  {
   "cell_type": "markdown",
   "metadata": {},
   "source": [
    "The [segs](http://dfns.dyalog.com/n_segs.htm) function splits a character vector on a set of separator chars. Whilst the implementation is simple enough to memorize -- and easy enough to derive -- it's a handy tool to have access to."
   ]
  },
  {
   "cell_type": "code",
   "execution_count": 12,
   "metadata": {},
   "outputs": [],
   "source": [
    "'segs' ⎕CY 'dfns'"
   ]
  },
  {
   "cell_type": "code",
   "execution_count": 14,
   "metadata": {},
   "outputs": [
    {
     "data": {
      "text/html": [
       "<span style=\"white-space:pre; font-family: monospace\">┌───┬───┬─────┬────┬────┬───┐\n",
       "│one│two│three│four│five│six│\n",
       "└───┴───┴─────┴────┴────┴───┘\n",
       "</span>"
      ]
     },
     "execution_count": 14,
     "metadata": {},
     "output_type": "execute_result"
    }
   ],
   "source": [
    "',;: ' segs 'one,two;three four,;:five,six,'"
   ]
  },
  {
   "cell_type": "markdown",
   "metadata": {},
   "source": [
    "There isn't much to this:"
   ]
  },
  {
   "cell_type": "code",
   "execution_count": 15,
   "metadata": {},
   "outputs": [
    {
     "data": {
      "text/html": [
       "<span style=\"white-space:pre; font-family: monospace\">┌───┬───┬─────┬────┬────┬───┐\n",
       "│one│two│three│four│five│six│\n",
       "└───┴───┴─────┴────┴────┴───┘\n",
       "</span>"
      ]
     },
     "execution_count": 15,
     "metadata": {},
     "output_type": "execute_result"
    }
   ],
   "source": [
    "',;: ' {(~⍵∊⍺)⊆⍵} 'one,two;three four,;:five,six,'"
   ]
  },
  {
   "cell_type": "markdown",
   "metadata": {},
   "source": [
    "## cmat and pmat\n",
    "\n",
    "[cmat](http://dfns.dyalog.com/n_cmat.htm) and [pmat](http://dfns.dyalog.com/n_pmat.htm) generates combinations and permutations respectively. "
   ]
  },
  {
   "cell_type": "code",
   "execution_count": 16,
   "metadata": {},
   "outputs": [],
   "source": [
    "'cmat' 'pmat' ⎕CY 'dfns'"
   ]
  },
  {
   "cell_type": "markdown",
   "metadata": {},
   "source": [
    "Starting with `cmat`, what unique ways can we combine three numbers out of 1, 2, 3, 4 and 5?"
   ]
  },
  {
   "cell_type": "code",
   "execution_count": 18,
   "metadata": {},
   "outputs": [
    {
     "data": {
      "text/html": [
       "<span style=\"white-space:pre; font-family: monospace\">1 2 3\n",
       "1 2 4\n",
       "1 2 5\n",
       "1 3 4\n",
       "1 3 5\n",
       "1 4 5\n",
       "2 3 4\n",
       "2 3 5\n",
       "2 4 5\n",
       "3 4 5\n",
       "</span>"
      ]
     },
     "execution_count": 18,
     "metadata": {},
     "output_type": "execute_result"
    }
   ],
   "source": [
    "3 cmat 5"
   ]
  },
  {
   "cell_type": "markdown",
   "metadata": {},
   "source": [
    "Or 3 out of 5 letters?"
   ]
  },
  {
   "cell_type": "code",
   "execution_count": 26,
   "metadata": {},
   "outputs": [
    {
     "data": {
      "text/html": [
       "<span style=\"white-space:pre; font-family: monospace\">┌───┬───┬───┬───┬───┬───┬───┬───┬───┬───┐\n",
       "│abc│abd│abe│acd│ace│ade│bcd│bce│bde│cde│\n",
       "└───┴───┴───┴───┴───┴───┴───┴───┴───┴───┘\n",
       "</span>"
      ]
     },
     "execution_count": 26,
     "metadata": {},
     "output_type": "execute_result"
    }
   ],
   "source": [
    "↓3{⍵[⍺ cmat⍴⍵]}'abcde'"
   ]
  },
  {
   "cell_type": "markdown",
   "metadata": {},
   "source": [
    "Note that `cmat` produces results that are lexicographically ordered.\n",
    "\n",
    "Moving on to `pmat` we generate _permutations_ instead -- given an integer right argument, produce all the different ways that many items can be ordered."
   ]
  },
  {
   "cell_type": "code",
   "execution_count": 27,
   "metadata": {},
   "outputs": [
    {
     "data": {
      "text/html": [
       "<span style=\"white-space:pre; font-family: monospace\">1 2 3 4\n",
       "1 2 4 3\n",
       "1 3 2 4\n",
       "1 3 4 2\n",
       "1 4 2 3\n",
       "1 4 3 2\n",
       "2 1 3 4\n",
       "2 1 4 3\n",
       "2 3 1 4\n",
       "2 3 4 1\n",
       "2 4 1 3\n",
       "2 4 3 1\n",
       "3 1 2 4\n",
       "3 1 4 2\n",
       "3 2 1 4\n",
       "3 2 4 1\n",
       "3 4 1 2\n",
       "3 4 2 1\n",
       "4 1 2 3\n",
       "4 1 3 2\n",
       "4 2 1 3\n",
       "4 2 3 1\n",
       "4 3 1 2\n",
       "4 3 2 1\n",
       "</span>"
      ]
     },
     "execution_count": 27,
     "metadata": {},
     "output_type": "execute_result"
    }
   ],
   "source": [
    "pmat 4"
   ]
  },
  {
   "cell_type": "markdown",
   "metadata": {},
   "source": [
    "## span and stpath\n",
    "\n",
    "There is also an excellent set of routines for graph manipulation, path finding and searching. Whilst a full intro to those is beyond the scope I had in mind for this, we can show some simple examples that perhaps can serve as a jump-off point. The documentation is comprehensive and excellent.\n",
    "\n",
    "When we deal with graphs, we want to separate the graph _structure_ from the content. The graph routines in the dfns ws only deal with graph structure, so it's up to you to relate that back to content. We'll look at how this is done. \n",
    "\n",
    "So a graph consists of a set of vertices, connected by edges that have a direction. We represent the connectivity as a vector of vectors, where the position is the \"vertex id\" and the content a list of other vertices reachable from here. So, for example, the graph `g`"
   ]
  },
  {
   "cell_type": "code",
   "execution_count": 43,
   "metadata": {},
   "outputs": [
    {
     "data": {
      "text/html": [
       "<span style=\"white-space:pre; font-family: monospace\">┌───┬─┬───┬───┬┐\n",
       "│1 2│2│1 3│0 4││\n",
       "└───┴─┴───┴───┴┘\n",
       "</span>"
      ]
     },
     "execution_count": 43,
     "metadata": {},
     "output_type": "execute_result"
    }
   ],
   "source": [
    "⎕IO←0\n",
    "g ← ⎕ ← (1 2)(,2)(1 3)(0 4)(,⍬)"
   ]
  },
  {
   "cell_type": "markdown",
   "metadata": {},
   "source": [
    "could be visualized like so:\n",
    "\n",
    "![graph1](./IMG/graph1.png)"
   ]
  },
  {
   "cell_type": "markdown",
   "metadata": {},
   "source": [
    "We can easily create a separate vector that holds each vertex's contents if we wanted to, say"
   ]
  },
  {
   "cell_type": "code",
   "execution_count": 44,
   "metadata": {},
   "outputs": [],
   "source": [
    "vertices ← 'adam' 'bob' 'charlotte' 'damian' 'erica'"
   ]
  },
  {
   "cell_type": "markdown",
   "metadata": {},
   "source": [
    "Let's load up a few of the graph functions:"
   ]
  },
  {
   "cell_type": "code",
   "execution_count": 45,
   "metadata": {},
   "outputs": [],
   "source": [
    "'span' 'stpath' ⎕CY 'dfns'"
   ]
  },
  {
   "cell_type": "markdown",
   "metadata": {},
   "source": [
    "...and a little helper function to show graph structure:"
   ]
  },
  {
   "cell_type": "code",
   "execution_count": 46,
   "metadata": {},
   "outputs": [],
   "source": [
    "show←{↑⍕¨(⍳⍴⍵),¨'→',¨⍵}"
   ]
  },
  {
   "cell_type": "code",
   "execution_count": 47,
   "metadata": {},
   "outputs": [
    {
     "data": {
      "text/html": [
       "<span style=\"white-space:pre; font-family: monospace\">0 → 1 2\n",
       "1 → 2  \n",
       "2 → 1 3\n",
       "3 → 0 4\n",
       "4 →    \n",
       "</span>"
      ]
     },
     "execution_count": 47,
     "metadata": {},
     "output_type": "execute_result"
    }
   ],
   "source": [
    "show g"
   ]
  },
  {
   "cell_type": "markdown",
   "metadata": {},
   "source": [
    "The function `span` finds the [spanning tree](https://en.wikipedia.org/wiki/Spanning_tree) of a graph, which is basically removing any cycles whilst not making any previously reachable vertices unreachable. So let's find the (actually, one of potentially several) spanning tree for our graph `g`, rooted at vertex 0, using the function called `span`:"
   ]
  },
  {
   "cell_type": "code",
   "execution_count": 48,
   "metadata": {},
   "outputs": [],
   "source": [
    "st ← g span 0"
   ]
  },
  {
   "cell_type": "markdown",
   "metadata": {},
   "source": [
    "Now that we have a spanning tree, we can find shortest paths in the graph. For example, what's the shortest path from `adam` (vertex 0) to `erica` (vertex 4)? For this we apply the function `stpath`, _spanning tree path_:"
   ]
  },
  {
   "cell_type": "code",
   "execution_count": 52,
   "metadata": {},
   "outputs": [
    {
     "data": {
      "text/html": [
       "<span style=\"white-space:pre; font-family: monospace\">┌────┬─────────┬──────┬─────┐\n",
       "│adam│charlotte│damian│erica│\n",
       "└────┴─────────┴──────┴─────┘\n",
       "</span>"
      ]
     },
     "execution_count": 52,
     "metadata": {},
     "output_type": "execute_result"
    }
   ],
   "source": [
    "vertices[st stpath 4]"
   ]
  },
  {
   "cell_type": "markdown",
   "metadata": {},
   "source": [
    "The implementations for `span` and `stpath` are worth studying. Note, however, that for many path-finding applications in graphs, as the graph gets bigger there are other algorithms worth considering, like Dijkstra's shortest path, or its heuristic cousin, A*, that would cut the search space. We'll look at implementing Dijkstra's later on.\n",
    "\n",
    "In the dfns ws there are also graph algorithms operating on weighted graphs -- where each edge has a cost that can differ from 1."
   ]
  },
  {
   "cell_type": "code",
   "execution_count": null,
   "metadata": {},
   "outputs": [],
   "source": []
  }
 ],
 "metadata": {
  "kernelspec": {
   "display_name": "Dyalog APL",
   "language": "apl",
   "name": "dyalog-kernel"
  },
  "language_info": {
   "file_extension": ".apl",
   "mimetype": "text/apl",
   "name": "APL"
  }
 },
 "nbformat": 4,
 "nbformat_minor": 4
}
