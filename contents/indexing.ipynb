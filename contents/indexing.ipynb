{
 "cells": [
  {
   "cell_type": "markdown",
   "metadata": {},
   "source": [
    "![indexing](./IMG/indexing.jpg)\n",
    "<span>Photo by <a href=\"https://unsplash.com/@jbsinger1970?utm_source=unsplash&amp;utm_medium=referral&amp;utm_content=creditCopyText\">Jonathan Singer</a> on <a href=\"https://unsplash.com/s/photos/bookshelf?utm_source=unsplash&amp;utm_medium=referral&amp;utm_content=creditCopyText\">Unsplash</a></span>\n",
    "\n",
    "# Indexing\n",
    "\n",
    "> Elegance is not a dispensable luxury but a factor that decides between success and failure. --_Edsger Dijkstra_\n",
    "\n",
    "There are several ways of indexing into arrays and vectors. Some might even say \"too many\". A good start point is to read up on [indexing](https://help.dyalog.com/latest/#Language/Primitive%20Functions/Indexing.htm) in Dyalog's documentation. \n",
    "\n",
    "Crucially, elements of vectors and matrices are always scalars, but a scalar can be a boxed-up vector or matrix.\n",
    "Indexing with [] or ⌷ returns the box, not the element, although if the element is a simple scalar, it's the same thing."
   ]
  },
  {
   "cell_type": "code",
   "execution_count": 1,
   "metadata": {
    "tags": [
     "hide-output"
    ]
   },
   "outputs": [
    {
     "data": {
      "text/html": [
       "<span style=\"white-space:pre; font-family: monospace\">done\n",
       "\n",
       "Rebuilding user command cache... done\n",
       "</span>"
      ]
     },
     "execution_count": 1,
     "metadata": {},
     "output_type": "execute_result"
    }
   ],
   "source": [
    "⎕IO ← 0\n",
    "]box on -s=min -t=tree -f=on\n",
    "]rows on\n",
    "assert←{⍺←'assertion failure' ⋄ 0∊⍵:⍺ ⎕signal 8 ⋄ shy←0}"
   ]
  },
  {
   "cell_type": "markdown",
   "metadata": {},
   "source": [
    "## Bracket indexing `[ ]`\n",
    "\n",
    "Bracket indexing is similar to how c-like languages index into arrays, except that the indexing expression itself can be a vector or array:"
   ]
  },
  {
   "cell_type": "code",
   "execution_count": 6,
   "metadata": {},
   "outputs": [
    {
     "data": {
      "text/html": [
       "<span style=\"white-space:pre; font-family: monospace\">┌→──────────────────┐\n",
       "│9 1 7 4 3 6 2 5 8 0│\n",
       "└~──────────────────┘\n",
       "</span>"
      ]
     },
     "execution_count": 6,
     "metadata": {},
     "output_type": "execute_result"
    },
    {
     "data": {
      "text/html": [
       "<span style=\"white-space:pre; font-family: monospace\"> \n",
       "6\n",
       " \n",
       "</span>"
      ]
     },
     "execution_count": 6,
     "metadata": {},
     "output_type": "execute_result"
    },
    {
     "data": {
      "text/html": [
       "<span style=\"white-space:pre; font-family: monospace\">┌→──┐\n",
       "│6 7│\n",
       "└~──┘\n",
       "</span>"
      ]
     },
     "execution_count": 6,
     "metadata": {},
     "output_type": "execute_result"
    }
   ],
   "source": [
    "⊢v ← 10?10 ⍝ Numbers 0-9 in random order\n",
    "v[5]    \n",
    "v[5 2]  "
   ]
  },
  {
   "cell_type": "markdown",
   "metadata": {},
   "source": [
    "We can mutate the vector or array via a bracket index, too:"
   ]
  },
  {
   "cell_type": "code",
   "execution_count": 7,
   "metadata": {},
   "outputs": [
    {
     "data": {
      "text/html": [
       "<span style=\"white-space:pre; font-family: monospace\">┌→───────────────────┐\n",
       "│9 1 7 ¯1 3 6 2 5 8 0│\n",
       "└~───────────────────┘\n",
       "</span>"
      ]
     },
     "execution_count": 7,
     "metadata": {},
     "output_type": "execute_result"
    }
   ],
   "source": [
    "v[3] ← ¯1\n",
    "v"
   ]
  },
  {
   "cell_type": "markdown",
   "metadata": {},
   "source": [
    "Of course, this being APL, this idea extends to any shape of array, either by separating the axes by semi-colon:"
   ]
  },
  {
   "cell_type": "code",
   "execution_count": 1,
   "metadata": {},
   "outputs": [
    {
     "data": {
      "text/html": [
       "<span style=\"white-space:pre; font-family: monospace\">done\n",
       "\n",
       "Rebuilding user command cache... done\n",
       "</span>"
      ]
     },
     "execution_count": 1,
     "metadata": {},
     "output_type": "execute_result"
    },
    {
     "data": {
      "text/html": [
       "<span style=\"white-space:pre; font-family: monospace\">┌→────┐\n",
       "↓4 1 6│\n",
       "│5 2 9│\n",
       "│7 8 3│\n",
       "└~────┘\n",
       "</span>"
      ]
     },
     "execution_count": 1,
     "metadata": {},
     "output_type": "execute_result"
    },
    {
     "data": {
      "text/html": [
       "<span style=\"white-space:pre; font-family: monospace\">4\n",
       "</span>"
      ]
     },
     "execution_count": 1,
     "metadata": {},
     "output_type": "execute_result"
    },
    {
     "data": {
      "text/html": [
       "<span style=\"white-space:pre; font-family: monospace\">4 1 6\n",
       "</span>"
      ]
     },
     "execution_count": 1,
     "metadata": {},
     "output_type": "execute_result"
    },
    {
     "data": {
      "text/html": [
       "<span style=\"white-space:pre; font-family: monospace\">4 5 7\n",
       "</span>"
      ]
     },
     "execution_count": 1,
     "metadata": {},
     "output_type": "execute_result"
    }
   ],
   "source": [
    "]DISPLAY m ← 3 3⍴9?9 ⍝ a 3×3 matrix of numbers 0-9 in random order\n",
    "m[1;1]  ⍝ Row 1, col 1\n",
    "m[1;]   ⍝ Row 1\n",
    "m[;1]   ⍝ Col 1"
   ]
  },
  {
   "cell_type": "markdown",
   "metadata": {},
   "source": [
    "or by supplying one or more enclosed vectors each with shape equal to the rank of the array:"
   ]
  },
  {
   "cell_type": "code",
   "execution_count": 9,
   "metadata": {},
   "outputs": [
    {
     "data": {
      "text/html": [
       "<span style=\"white-space:pre; font-family: monospace\"> \n",
       "2\n",
       " \n",
       "</span>"
      ]
     },
     "execution_count": 9,
     "metadata": {},
     "output_type": "execute_result"
    },
    {
     "data": {
      "text/html": [
       "<span style=\"white-space:pre; font-family: monospace\">┌→────┐\n",
       "│0 2 7│\n",
       "└~────┘\n",
       "</span>"
      ]
     },
     "execution_count": 9,
     "metadata": {},
     "output_type": "execute_result"
    }
   ],
   "source": [
    "m[⊂1 1]            ⍝ Centre\n",
    "m[(0 0)(1 1)(2 2)] ⍝ Three points along the main diagonal"
   ]
  },
  {
   "cell_type": "markdown",
   "metadata": {},
   "source": [
    "As mentioned above, bracket indexing references cells, not values enclosed in the cells. For numeric or character scalars, there is no difference, but it's clear for a nested array:"
   ]
  },
  {
   "cell_type": "code",
   "execution_count": 10,
   "metadata": {},
   "outputs": [
    {
     "data": {
      "text/html": [
       "<span style=\"white-space:pre; font-family: monospace\">┌→────────────────────────┐\n",
       "↓ ┌→────┐ ┌→────┐ ┌→────┐ │\n",
       "│ │1 2 3│ │3 2 1│ │4 5 6│ │\n",
       "│ └~────┘ └~────┘ └~────┘ │\n",
       "│ ┌→────┐ ┌→────┐ ┌→────┐ │\n",
       "│ │5 3 1│ │5 6 8│ │7 1 2│ │\n",
       "│ └~────┘ └~────┘ └~────┘ │\n",
       "│ ┌→────┐ ┌→────┐ ┌→────┐ │\n",
       "│ │4 3 9│ │3 7 6│ │4 5 1│ │\n",
       "│ └~────┘ └~────┘ └~────┘ │\n",
       "└∊────────────────────────┘\n",
       "</span>"
      ]
     },
     "execution_count": 10,
     "metadata": {},
     "output_type": "execute_result"
    }
   ],
   "source": [
    "⊢m ← 3 3⍴(1 2 3)(3 2 1)(4 5 6)(5 3 1)(5 6 8)(7 1 2)(4 3 9)(3 7 6)(4 5 1)"
   ]
  },
  {
   "cell_type": "code",
   "execution_count": 11,
   "metadata": {},
   "outputs": [
    {
     "data": {
      "text/html": [
       "<span style=\"white-space:pre; font-family: monospace\">┌─────────┐\n",
       "│ ┌→────┐ │\n",
       "│ │5 6 8│ │\n",
       "│ └~────┘ │\n",
       "└∊────────┘\n",
       "</span>"
      ]
     },
     "execution_count": 11,
     "metadata": {},
     "output_type": "execute_result"
    }
   ],
   "source": [
    "]DISPLAY m[1;1] ⍝ Note the returned enclosure."
   ]
  },
  {
   "cell_type": "markdown",
   "metadata": {},
   "source": [
    "## Squad-indexing, a.k.a functional indexing `⌷`"
   ]
  },
  {
   "cell_type": "markdown",
   "metadata": {},
   "source": [
    "Whilst bracket-style indexing feels immediately familiar for those of us coming from a different programming language tradition, it is somewhat frowned upon amongst APLers. One reason for this is that it binds differently; not strictly right-to-left.\n",
    "\n",
    "There is an alternative native indexing method: [squad-indexing](https://aplwiki.com/wiki/Index_(function)). Squad, \"squashed quad\", is the glyph `⌷`. It can be seen mnemonically as two square brackets pushed together. Squad fixes some of the issues surrounding the bracket indexing method above (but introduces some new ones, too). The binding is now APL-sensible:"
   ]
  },
  {
   "cell_type": "code",
   "execution_count": 12,
   "metadata": {},
   "outputs": [
    {
     "data": {
      "text/html": [
       "<span style=\"white-space:pre; font-family: monospace\">┌→────────────────────────┐\n",
       "↓ ┌→────┐ ┌→────┐ ┌→────┐ │\n",
       "│ │1 2 3│ │3 2 1│ │4 5 6│ │\n",
       "│ └~────┘ └~────┘ └~────┘ │\n",
       "│ ┌→────┐ ┌→────┐ ┌→────┐ │\n",
       "│ │5 3 1│ │5 6 8│ │7 1 2│ │\n",
       "│ └~────┘ └~────┘ └~────┘ │\n",
       "│ ┌→────┐ ┌→────┐ ┌→────┐ │\n",
       "│ │4 3 9│ │3 7 6│ │4 5 1│ │\n",
       "│ └~────┘ └~────┘ └~────┘ │\n",
       "└∊────────────────────────┘\n",
       "</span>"
      ]
     },
     "execution_count": 12,
     "metadata": {},
     "output_type": "execute_result"
    },
    {
     "data": {
      "text/html": [
       "<span style=\"white-space:pre; font-family: monospace\">┌→────────────────────────┐\n",
       "│ ┌→────┐ ┌→────┐ ┌→────┐ │\n",
       "│ │5 3 1│ │5 6 8│ │7 1 2│ │\n",
       "│ └~────┘ └~────┘ └~────┘ │\n",
       "└∊────────────────────────┘\n",
       "</span>"
      ]
     },
     "execution_count": 12,
     "metadata": {},
     "output_type": "execute_result"
    },
    {
     "data": {
      "text/html": [
       "<span style=\"white-space:pre; font-family: monospace\">┌─────────┐\n",
       "│ ┌→────┐ │\n",
       "│ │5 6 8│ │\n",
       "│ └~────┘ │\n",
       "└∊────────┘\n",
       "</span>"
      ]
     },
     "execution_count": 12,
     "metadata": {},
     "output_type": "execute_result"
    },
    {
     "data": {
      "text/html": [
       "<span style=\"white-space:pre; font-family: monospace\">┌→────────────────────────┐\n",
       "↓ ┌→────┐ ┌→────┐ ┌→────┐ │\n",
       "│ │5 3 1│ │5 6 8│ │7 1 2│ │\n",
       "│ └~────┘ └~────┘ └~────┘ │\n",
       "│ ┌→────┐ ┌→────┐ ┌→────┐ │\n",
       "│ │4 3 9│ │3 7 6│ │4 5 1│ │\n",
       "│ └~────┘ └~────┘ └~────┘ │\n",
       "└∊────────────────────────┘\n",
       "</span>"
      ]
     },
     "execution_count": 12,
     "metadata": {},
     "output_type": "execute_result"
    }
   ],
   "source": [
    "⊢m ← 3 3⍴(1 2 3)(3 2 1)(4 5 6)(5 3 1)(5 6 8)(7 1 2)(4 3 9)(3 7 6)(4 5 1)\n",
    "1⌷m       ⍝ Row 1\n",
    "1 1⌷m     ⍝ Cell 1 1\n",
    "(⊂1 2)⌷m  ⍝ Rows 1 and 2"
   ]
  },
  {
   "cell_type": "markdown",
   "metadata": {},
   "source": [
    "Picking cells from other axes than the first requires you to specify the subset explicitly with square brackets, which arguably looks a bit clumsy. Note that this isn't a bracket index, even though it looks like one. Pick a cell from axis 1, i.e column 1 in our case: "
   ]
  },
  {
   "cell_type": "code",
   "execution_count": 13,
   "metadata": {},
   "outputs": [
    {
     "data": {
      "text/html": [
       "<span style=\"white-space:pre; font-family: monospace\">┌→────────────────────────┐\n",
       "│ ┌→────┐ ┌→────┐ ┌→────┐ │\n",
       "│ │3 2 1│ │5 6 8│ │3 7 6│ │\n",
       "│ └~────┘ └~────┘ └~────┘ │\n",
       "└∊────────────────────────┘\n",
       "</span>"
      ]
     },
     "execution_count": 13,
     "metadata": {},
     "output_type": "execute_result"
    }
   ],
   "source": [
    "1⌷[1]m"
   ]
  },
  {
   "cell_type": "markdown",
   "metadata": {},
   "source": [
    "or we could avoid the bracketed axis specification by picking the row from the matrix's _transpose_, `⍉`:"
   ]
  },
  {
   "cell_type": "code",
   "execution_count": 14,
   "metadata": {},
   "outputs": [
    {
     "data": {
      "text/html": [
       "<span style=\"white-space:pre; font-family: monospace\">┌→────────────────────────┐\n",
       "│ ┌→────┐ ┌→────┐ ┌→────┐ │\n",
       "│ │3 2 1│ │5 6 8│ │3 7 6│ │\n",
       "│ └~────┘ └~────┘ └~────┘ │\n",
       "└∊────────────────────────┘\n",
       "</span>"
      ]
     },
     "execution_count": 14,
     "metadata": {},
     "output_type": "execute_result"
    }
   ],
   "source": [
    "1⌷⍉m"
   ]
  },
  {
   "cell_type": "markdown",
   "metadata": {},
   "source": [
    "Squad-index does not let you mutate the array."
   ]
  },
  {
   "cell_type": "markdown",
   "metadata": {},
   "source": [
    "## Boolean indexing: compress"
   ]
  },
  {
   "cell_type": "markdown",
   "metadata": {},
   "source": [
    "But wait! There's more to APL indexing. In fact, much of APL's expressive power comes from its central application of bit-boolean arrays, and it's typically highly optimised. It's a concept you don't often see in non-array languages, but you may have been exposed to limited forms of it from bolt-on array libraries such as Python's [NumPy](https://numpy.org/). Similar functionality can be achieved using a [filter](https://docs.python.org/3/library/functions.html#filter) function taking a predicate in other languages.\n",
    "\n",
    "The core idea is actually quite simple: select cells from an array by using a boolean array as the indexing method, where a 1 means \"yes, this one\" and a 0 means \"nope, not this one\". We use [compress](https://aplwiki.com/wiki/Replicate) to do this in APL, one of the several things represented by a forward slash `/`."
   ]
  },
  {
   "cell_type": "code",
   "execution_count": 15,
   "metadata": {},
   "outputs": [
    {
     "data": {
      "text/html": [
       "<span style=\"white-space:pre; font-family: monospace\">┌→────────┐\n",
       "│2 4 5 7 8│\n",
       "└~────────┘\n",
       "</span>"
      ]
     },
     "execution_count": 15,
     "metadata": {},
     "output_type": "execute_result"
    }
   ],
   "source": [
    "select ← 0 0 1 0 1 1 0 1 1 0 ⍝ Select elements 2, 4, 5, 7 and 8\n",
    "data   ← ⍳10\n",
    "select/data"
   ]
  },
  {
   "cell_type": "markdown",
   "metadata": {},
   "source": [
    "Compress is a special case of the `replicate` function, where the left argument is a Boolean vector. However, we can view the left argument more generally as a specification of how many times we should pick each element. In the compression case, that's either 1 or 0. But in the more general case we need not constain ourselves to binary -- we can pick _any_ number:"
   ]
  },
  {
   "cell_type": "code",
   "execution_count": 16,
   "metadata": {},
   "outputs": [
    {
     "data": {
      "text/html": [
       "<span style=\"white-space:pre; font-family: monospace\">┌→────────────────────────────────┐\n",
       "│0 1 1 1 4 4 4 4 4 6 6 6 6 6 6 6 9│\n",
       "└~────────────────────────────────┘\n",
       "</span>"
      ]
     },
     "execution_count": 16,
     "metadata": {},
     "output_type": "execute_result"
    }
   ],
   "source": [
    "select ← 1 3 0 0 5 0 7 0 0 1\n",
    "select/data"
   ]
  },
  {
   "cell_type": "markdown",
   "metadata": {},
   "source": [
    "Replicate and compress apply along the given axis in higher-rank arrays, either via `⌿` or `/[axis]`:"
   ]
  },
  {
   "cell_type": "code",
   "execution_count": 17,
   "metadata": {},
   "outputs": [
    {
     "data": {
      "text/html": [
       "<span style=\"white-space:pre; font-family: monospace\">┌→────┐\n",
       "↓1 6 7│\n",
       "│8 0 2│\n",
       "│5 3 4│\n",
       "└~────┘\n",
       "</span>"
      ]
     },
     "execution_count": 17,
     "metadata": {},
     "output_type": "execute_result"
    },
    {
     "data": {
      "text/html": [
       "<span style=\"white-space:pre; font-family: monospace\">┌→────┐\n",
       "↓8 0 2│\n",
       "└~────┘\n",
       "</span>"
      ]
     },
     "execution_count": 17,
     "metadata": {},
     "output_type": "execute_result"
    },
    {
     "data": {
      "text/html": [
       "<span style=\"white-space:pre; font-family: monospace\">┌→┐\n",
       "↓6│\n",
       "│0│\n",
       "│3│\n",
       "└~┘\n",
       "</span>"
      ]
     },
     "execution_count": 17,
     "metadata": {},
     "output_type": "execute_result"
    }
   ],
   "source": [
    "m ← 3 3⍴9?9\n",
    "]DISPLAY m\n",
    "select ← 0 1 0\n",
    "select⌿m ⍝ Replicate-first\n",
    "select/m ⍝ Replicate"
   ]
  },
  {
   "cell_type": "markdown",
   "metadata": {},
   "source": [
    "## Pick"
   ]
  },
  {
   "cell_type": "markdown",
   "metadata": {},
   "source": [
    "Yet another way to index into arrays is to use [pick](https://aplwiki.com/wiki/Pick). Pick eh... picks _elements_, not boxes, which often comes in handy. A monadic pick means pick first element."
   ]
  },
  {
   "cell_type": "code",
   "execution_count": 18,
   "metadata": {},
   "outputs": [
    {
     "data": {
      "text/html": [
       "<span style=\"white-space:pre; font-family: monospace\">┌→────────────────────────┐\n",
       "↓ ┌→────┐ ┌→────┐ ┌→────┐ │\n",
       "│ │1 2 3│ │3 2 1│ │4 5 6│ │\n",
       "│ └~────┘ └~────┘ └~────┘ │\n",
       "│ ┌→────┐ ┌→────┐ ┌→────┐ │\n",
       "│ │5 3 1│ │5 6 8│ │7 1 2│ │\n",
       "│ └~────┘ └~────┘ └~────┘ │\n",
       "│ ┌→────┐ ┌→────┐ ┌→────┐ │\n",
       "│ │4 3 9│ │3 7 6│ │4 5 1│ │\n",
       "│ └~────┘ └~────┘ └~────┘ │\n",
       "└∊────────────────────────┘\n",
       "</span>"
      ]
     },
     "execution_count": 18,
     "metadata": {},
     "output_type": "execute_result"
    },
    {
     "data": {
      "text/html": [
       "<span style=\"white-space:pre; font-family: monospace\">┌→────┐\n",
       "│5 6 8│\n",
       "└~────┘\n",
       "</span>"
      ]
     },
     "execution_count": 18,
     "metadata": {},
     "output_type": "execute_result"
    },
    {
     "data": {
      "text/html": [
       "<span style=\"white-space:pre; font-family: monospace\">┌→────┐\n",
       "│1 2 3│\n",
       "└~────┘\n",
       "</span>"
      ]
     },
     "execution_count": 18,
     "metadata": {},
     "output_type": "execute_result"
    }
   ],
   "source": [
    "⊢m ← 3 3⍴(1 2 3)(3 2 1)(4 5 6)(5 3 1)(5 6 8)(7 1 2)(4 3 9)(3 7 6)(4 5 1)\n",
    "\n",
    "(⊂1 1)⊃m ⍝ Element at 1;1 - note, no box\n",
    "⊃m       ⍝ First element - note, no box"
   ]
  },
  {
   "cell_type": "markdown",
   "metadata": {},
   "source": [
    "## Reach Indexing\n",
    "\n",
    "_Reach indexing_ is how you access elements of nested arrays. Note that nested arrays carry with them performance penalties and are best avoided if at all possible."
   ]
  },
  {
   "cell_type": "code",
   "execution_count": 28,
   "metadata": {},
   "outputs": [
    {
     "data": {
      "text/html": [
       "<span style=\"white-space:pre; font-family: monospace\">┌→────────────────────────────────────────┐\n",
       "↓ ┌→─────────┐  ┌→────────┐ ┌→─────────┐  │\n",
       "│ │ ┌→───┐   │  │ ┌→──┐   │ │ ┌→───┐   │  │\n",
       "│ │ │Adam│ 1 │  │ │Bob│ 2 │ │ │Carl│ 3 │  │\n",
       "│ │ └────┘   │  │ └───┘   │ │ └────┘   │  │\n",
       "│ └∊─────────┘  └∊────────┘ └∊─────────┘  │\n",
       "│ ┌→──────────┐ ┌→────────┐ ┌→──────────┐ │\n",
       "│ │ ┌→────┐   │ │ ┌→──┐   │ │ ┌→────┐   │ │\n",
       "│ │ │Danni│ 4 │ │ │Eve│ 5 │ │ │Frank│ 6 │ │\n",
       "│ │ └─────┘   │ │ └───┘   │ │ └─────┘   │ │\n",
       "│ └∊──────────┘ └∊────────┘ └∊──────────┘ │\n",
       "└∊────────────────────────────────────────┘\n",
       "</span>"
      ]
     },
     "execution_count": 28,
     "metadata": {},
     "output_type": "execute_result"
    },
    {
     "data": {
      "text/html": [
       "<span style=\"white-space:pre; font-family: monospace\">┌───────┐\n",
       "│ ┌→──┐ │\n",
       "│ │Bob│ │\n",
       "│ └───┘ │\n",
       "└∊──────┘\n",
       "</span>"
      ]
     },
     "execution_count": 28,
     "metadata": {},
     "output_type": "execute_result"
    },
    {
     "data": {
      "text/html": [
       "<span style=\"white-space:pre; font-family: monospace\">┌→─────────┐\n",
       "│ ┌→───┐   │\n",
       "│ │Adam│ 6 │\n",
       "│ └────┘   │\n",
       "└∊─────────┘\n",
       "</span>"
      ]
     },
     "execution_count": 28,
     "metadata": {},
     "output_type": "execute_result"
    }
   ],
   "source": [
    "⊢G←2 3⍴('Adam' 1)('Bob' 2)('Carl' 3)('Danni' 4)('Eve' 5)('Frank' 6)\n",
    "G[⊂(0 1)0] ⍝ First element of the vector nested at ⊂0 1 of G\n",
    "G[((0 0)0)((1 2)1)]"
   ]
  },
  {
   "cell_type": "code",
   "execution_count": null,
   "metadata": {},
   "outputs": [],
   "source": []
  },
  {
   "cell_type": "markdown",
   "metadata": {},
   "source": [
    "## Assignable indexing expressions"
   ]
  },
  {
   "cell_type": "markdown",
   "metadata": {},
   "source": [
    "As we saw above, bracket indexing is _assignable_, meaning that we can mutate the array. It is not the only assignable indexing expression in APL. The full list of _selective assignment functions_ is available from the Dyalog [documentation](http://help.dyalog.com/18.0/index.htm#Language/Primitive%20Functions/Assignment%20Selective.htm#SelectiveAssignment). It's worth studying this manual page, as it unlocks quite a few crafty ways of getting data into arrays.\n",
    "\n",
    "For example, we can change the diagonal of a matrix by assigning directly to a dyadic transpose by noting that `0 0⍉m` is the main diagonal of the matrix m:"
   ]
  },
  {
   "cell_type": "code",
   "execution_count": 19,
   "metadata": {},
   "outputs": [
    {
     "data": {
      "text/html": [
       "<span style=\"white-space:pre; font-family: monospace\">┌→────┐\n",
       "↓5 7 8│\n",
       "│4 3 6│\n",
       "│1 0 2│\n",
       "└~────┘\n",
       "</span>"
      ]
     },
     "execution_count": 19,
     "metadata": {},
     "output_type": "execute_result"
    },
    {
     "data": {
      "text/html": [
       "<span style=\"white-space:pre; font-family: monospace\">┌→───────┐\n",
       "↓¯1  7  8│\n",
       "│ 4 ¯1  6│\n",
       "│ 1  0 ¯1│\n",
       "└~───────┘\n",
       "</span>"
      ]
     },
     "execution_count": 19,
     "metadata": {},
     "output_type": "execute_result"
    }
   ],
   "source": [
    "]DISPLAY m ← 3 3⍴9?9\n",
    "(0 0⍉m) ← ¯1 ¯1 ¯1 ⍝ 0 0⍉m is the main diagonal.\n",
    "]DISPLAY m"
   ]
  },
  {
   "cell_type": "markdown",
   "metadata": {},
   "source": [
    "Indeed, we can even assign via Boolean indexing expressions, which might not be immediately obvious:"
   ]
  },
  {
   "cell_type": "code",
   "execution_count": 20,
   "metadata": {},
   "outputs": [
    {
     "data": {
      "text/html": [
       "<span style=\"white-space:pre; font-family: monospace\">┌→───────────────────────┐\n",
       "│0 1 ¯1 3 ¯1 ¯1 6 ¯1 ¯1 9│\n",
       "└~───────────────────────┘\n",
       "</span>"
      ]
     },
     "execution_count": 20,
     "metadata": {},
     "output_type": "execute_result"
    }
   ],
   "source": [
    "select ← 0 0 1 0 1 1 0 1 1 0\n",
    "data   ← ⍳10\n",
    "(select/data) ← ¯1 ¯1 ¯1 ¯1 ¯1\n",
    "data"
   ]
  },
  {
   "cell_type": "markdown",
   "metadata": {},
   "source": [
    "Perhaps even less obvious is assigning to `take`:"
   ]
  },
  {
   "cell_type": "code",
   "execution_count": 21,
   "metadata": {},
   "outputs": [
    {
     "data": {
      "text/html": [
       "<span style=\"white-space:pre; font-family: monospace\">┌→───────────────┐\n",
       "│This is a string│\n",
       "└────────────────┘\n",
       "</span>"
      ]
     },
     "execution_count": 21,
     "metadata": {},
     "output_type": "execute_result"
    },
    {
     "data": {
      "text/html": [
       "<span style=\"white-space:pre; font-family: monospace\">┌→───────────────┐\n",
       "│**is is a string│\n",
       "└────────────────┘\n",
       "</span>"
      ]
     },
     "execution_count": 21,
     "metadata": {},
     "output_type": "execute_result"
    }
   ],
   "source": [
    "⊢s ← 'This is a string'\n",
    "(2↑s) ← '**'\n",
    "s"
   ]
  },
  {
   "cell_type": "markdown",
   "metadata": {},
   "source": [
    "...or even compress-each:"
   ]
  },
  {
   "cell_type": "code",
   "execution_count": 22,
   "metadata": {},
   "outputs": [
    {
     "data": {
      "text/html": [
       "<span style=\"white-space:pre; font-family: monospace\">┌→─────────────────────────────────────────┐\n",
       "│ ┌→───┐ ┌→─┐ ┌→┐ ┌→─────┐ ┌→──────┐ ┌→──┐ │\n",
       "│ │Th*s│ │*s│ │a│ │str*ng│ │w*thout│ │*s.│ │\n",
       "│ └────┘ └──┘ └─┘ └──────┘ └───────┘ └───┘ │\n",
       "└∊─────────────────────────────────────────┘\n",
       "</span>"
      ]
     },
     "execution_count": 22,
     "metadata": {},
     "output_type": "execute_result"
    }
   ],
   "source": [
    "s←'This' 'is' (,'a') 'string' 'without' 'is.'\n",
    "((s='i')/¨s)←'*'\n",
    "s"
   ]
  },
  {
   "cell_type": "markdown",
   "metadata": {},
   "source": [
    "## Sane indexing"
   ]
  },
  {
   "cell_type": "markdown",
   "metadata": {},
   "source": [
    "Some APLers are unhappy with the squad-index semantics, and have proposed yet another mechanism, called _sane indexing_ or [select](https://aplwiki.com/wiki/Select). It can be defined as:"
   ]
  },
  {
   "cell_type": "code",
   "execution_count": 23,
   "metadata": {},
   "outputs": [],
   "source": [
    "I←⌷⍨∘⊃⍨⍤0 99 ⍝ Sane indexing"
   ]
  },
  {
   "cell_type": "markdown",
   "metadata": {},
   "source": [
    "For the purposes of this explanation, it matters less how that incantation hangs together (we'll return to how this works in the section on the _rank_ operator, `⍤`, later), but it does have a set of nice properties for the user.\n",
    "\n",
    "Compare and contrast squad and sane indexing:"
   ]
  },
  {
   "cell_type": "code",
   "execution_count": 24,
   "metadata": {},
   "outputs": [
    {
     "data": {
      "text/html": [
       "<span style=\"white-space:pre; font-family: monospace\">┌→────────────────────────┐\n",
       "↓ ┌→────┐ ┌→────┐ ┌→────┐ │\n",
       "│ │1 2 3│ │3 2 1│ │4 5 6│ │\n",
       "│ └~────┘ └~────┘ └~────┘ │\n",
       "│ ┌→────┐ ┌→────┐ ┌→────┐ │\n",
       "│ │5 3 1│ │5 6 8│ │7 1 2│ │\n",
       "│ └~────┘ └~────┘ └~────┘ │\n",
       "│ ┌→────┐ ┌→────┐ ┌→────┐ │\n",
       "│ │4 3 9│ │3 7 6│ │4 5 1│ │\n",
       "│ └~────┘ └~────┘ └~────┘ │\n",
       "└∊────────────────────────┘\n",
       "</span>"
      ]
     },
     "execution_count": 24,
     "metadata": {},
     "output_type": "execute_result"
    },
    {
     "data": {
      "text/html": [
       "<span style=\"white-space:pre; font-family: monospace\">┌→────────────────────────┐\n",
       "↓ ┌→────┐ ┌→────┐ ┌→────┐ │\n",
       "│ │5 3 1│ │5 6 8│ │7 1 2│ │\n",
       "│ └~────┘ └~────┘ └~────┘ │\n",
       "│ ┌→────┐ ┌→────┐ ┌→────┐ │\n",
       "│ │4 3 9│ │3 7 6│ │4 5 1│ │\n",
       "│ └~────┘ └~────┘ └~────┘ │\n",
       "└∊────────────────────────┘\n",
       "</span>"
      ]
     },
     "execution_count": 24,
     "metadata": {},
     "output_type": "execute_result"
    },
    {
     "data": {
      "text/html": [
       "<span style=\"white-space:pre; font-family: monospace\">┌─────────┐\n",
       "│ ┌→────┐ │\n",
       "│ │7 1 2│ │\n",
       "│ └~────┘ │\n",
       "└∊────────┘\n",
       "</span>"
      ]
     },
     "execution_count": 24,
     "metadata": {},
     "output_type": "execute_result"
    },
    {
     "data": {
      "text/html": [
       "<span style=\"white-space:pre; font-family: monospace\">┌─────────┐\n",
       "│ ┌→────┐ │\n",
       "│ │7 1 2│ │\n",
       "│ └~────┘ │\n",
       "└∊────────┘\n",
       "</span>"
      ]
     },
     "execution_count": 24,
     "metadata": {},
     "output_type": "execute_result"
    },
    {
     "data": {
      "text/html": [
       "<span style=\"white-space:pre; font-family: monospace\">┌→────────────────────────┐\n",
       "↓ ┌→────┐ ┌→────┐ ┌→────┐ │\n",
       "│ │5 3 1│ │5 6 8│ │7 1 2│ │\n",
       "│ └~────┘ └~────┘ └~────┘ │\n",
       "│ ┌→────┐ ┌→────┐ ┌→────┐ │\n",
       "│ │4 3 9│ │3 7 6│ │4 5 1│ │\n",
       "│ └~────┘ └~────┘ └~────┘ │\n",
       "└∊────────────────────────┘\n",
       "</span>"
      ]
     },
     "execution_count": 24,
     "metadata": {},
     "output_type": "execute_result"
    }
   ],
   "source": [
    "⊢m ← 3 3⍴(1 2 3)(3 2 1)(4 5 6)(5 3 1)(5 6 8)(7 1 2)(4 3 9)(3 7 6)(4 5 1)\n",
    "\n",
    "1 2I m   ⍝ Sane: select leading axis cells 1 and 2, or m[1 2;]\n",
    "1 2⌷ m   ⍝ Squad: select m[⊂1 2]\n",
    "\n",
    "(⊂1 2)I m  ⍝ Sane: select m[⊂1 2]\n",
    "(⊂1 2)⌷ m  ⍝ Squad: select m[1 2;]"
   ]
  },
  {
   "cell_type": "markdown",
   "metadata": {},
   "source": [
    "So you can think of sane indexing as squad, but closer to the behaviour of the bracket indexing expression:"
   ]
  },
  {
   "cell_type": "code",
   "execution_count": 25,
   "metadata": {},
   "outputs": [
    {
     "data": {
      "text/html": [
       "<span style=\"white-space:pre; font-family: monospace\">┌→────────────────────────┐\n",
       "│ ┌→────┐ ┌→────┐ ┌→────┐ │\n",
       "│ │1 2 3│ │7 1 2│ │4 5 1│ │\n",
       "│ └~────┘ └~────┘ └~────┘ │\n",
       "└∊────────────────────────┘\n",
       "</span>"
      ]
     },
     "execution_count": 25,
     "metadata": {},
     "output_type": "execute_result"
    }
   ],
   "source": [
    "(0 0)(1 2)(2 2)I m ⍝ Multiple cells by index, like m[(0 0)(1 2)(2 2)]"
   ]
  },
  {
   "cell_type": "code",
   "execution_count": null,
   "metadata": {},
   "outputs": [],
   "source": []
  }
 ],
 "metadata": {
  "celltoolbar": "Tags",
  "kernelspec": {
   "display_name": "Dyalog APL",
   "language": "apl",
   "name": "dyalog-kernel"
  },
  "language_info": {
   "file_extension": ".apl",
   "mimetype": "text/apl",
   "name": "APL"
  }
 },
 "nbformat": 4,
 "nbformat_minor": 4
}
